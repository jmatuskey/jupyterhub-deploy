{
 "cells": [
  {
   "cell_type": "markdown",
   "metadata": {},
   "source": [
    "# Priority 3 Packages for MAST TIKE\n",
    "These didn't install in my normal environment. bokeh seemed to be one problem and theano was another. But I did get them all to install together along with lightkurve and astropy.\n",
    "- keras\n",
    "- tensorflow\n",
    "- pytorch\n",
    "- exoplanet (theano is giving me problems)\n",
    "- jax\n",
    "- starry 1.0.0  (theano problems)\n",
    "\n",
    "These are the last two that look interesting, but I could get them to install to write a test. They are not tested here.\n",
    "- astrobase #could not get this to install.\n",
    "- allesfitter #Requirements are high and I couldn't get it to work. See https://allesfitter.readthedocs.io/en/latest/"
   ]
  },
  {
   "cell_type": "code",
   "execution_count": 15,
   "metadata": {},
   "outputs": [],
   "source": [
    "import keras\n",
    "import tensorflow\n",
    "import torch\n",
    "import exoplanet\n",
    "import jax\n",
    "import starry\n"
   ]
  },
  {
   "cell_type": "code",
   "execution_count": 16,
   "metadata": {},
   "outputs": [
    {
     "name": "stdout",
     "output_type": "stream",
     "text": [
      "x_train shape: (60000, 28, 28, 1)\n",
      "60000 train samples\n",
      "10000 test samples\n"
     ]
    }
   ],
   "source": [
    "#keras and tensorflow\n",
    "import numpy as np\n",
    "from tensorflow import keras\n",
    "from tensorflow.keras import layers\n",
    "\n",
    "# Model / data parameters\n",
    "num_classes = 10\n",
    "input_shape = (28, 28, 1)\n",
    "\n",
    "# the data, split between train and test sets\n",
    "(x_train, y_train), (x_test, y_test) = keras.datasets.mnist.load_data()\n",
    "\n",
    "# Scale images to the [0, 1] range\n",
    "x_train = x_train.astype(\"float32\") / 255\n",
    "x_test = x_test.astype(\"float32\") / 255\n",
    "# Make sure images have shape (28, 28, 1)\n",
    "x_train = np.expand_dims(x_train, -1)\n",
    "x_test = np.expand_dims(x_test, -1)\n",
    "print(\"x_train shape:\", x_train.shape)\n",
    "print(x_train.shape[0], \"train samples\")\n",
    "print(x_test.shape[0], \"test samples\")\n",
    "\n",
    "\n",
    "# convert class vectors to binary class matrices\n",
    "y_train = keras.utils.to_categorical(y_train, num_classes)\n",
    "y_test = keras.utils.to_categorical(y_test, num_classes)"
   ]
  },
  {
   "cell_type": "code",
   "execution_count": 17,
   "metadata": {},
   "outputs": [
    {
     "name": "stdout",
     "output_type": "stream",
     "text": [
      "Model: \"sequential_2\"\n",
      "_________________________________________________________________\n",
      "Layer (type)                 Output Shape              Param #   \n",
      "=================================================================\n",
      "conv2d_2 (Conv2D)            (None, 26, 26, 32)        320       \n",
      "_________________________________________________________________\n",
      "max_pooling2d_2 (MaxPooling2 (None, 13, 13, 32)        0         \n",
      "_________________________________________________________________\n",
      "conv2d_3 (Conv2D)            (None, 11, 11, 64)        18496     \n",
      "_________________________________________________________________\n",
      "max_pooling2d_3 (MaxPooling2 (None, 5, 5, 64)          0         \n",
      "_________________________________________________________________\n",
      "flatten_2 (Flatten)          (None, 1600)              0         \n",
      "_________________________________________________________________\n",
      "dropout_2 (Dropout)          (None, 1600)              0         \n",
      "_________________________________________________________________\n",
      "dense_3 (Dense)              (None, 10)                16010     \n",
      "=================================================================\n",
      "Total params: 34,826\n",
      "Trainable params: 34,826\n",
      "Non-trainable params: 0\n",
      "_________________________________________________________________\n"
     ]
    }
   ],
   "source": [
    "model = keras.Sequential(\n",
    "    [\n",
    "        keras.Input(shape=input_shape),\n",
    "        layers.Conv2D(32, kernel_size=(3, 3), activation=\"relu\"),\n",
    "        layers.MaxPooling2D(pool_size=(2, 2)),\n",
    "        layers.Conv2D(64, kernel_size=(3, 3), activation=\"relu\"),\n",
    "        layers.MaxPooling2D(pool_size=(2, 2)),\n",
    "        layers.Flatten(),\n",
    "        layers.Dropout(0.5),\n",
    "        layers.Dense(num_classes, activation=\"softmax\"),\n",
    "    ]\n",
    ")\n",
    "\n",
    "model.summary()"
   ]
  },
  {
   "cell_type": "code",
   "execution_count": 4,
   "metadata": {},
   "outputs": [
    {
     "name": "stdout",
     "output_type": "stream",
     "text": [
      "tensor([[0.8008, 0.3957, 0.5495],\n",
      "        [0.7274, 0.6376, 0.6555],\n",
      "        [0.2748, 0.0114, 0.3980],\n",
      "        [0.2580, 0.5531, 0.2416],\n",
      "        [0.2203, 0.7748, 0.4015]])\n"
     ]
    }
   ],
   "source": [
    "#pytorch\n",
    "from __future__ import print_function\n",
    "import torch\n",
    "x = torch.rand(5, 3)\n",
    "print(x)"
   ]
  },
  {
   "cell_type": "code",
   "execution_count": 18,
   "metadata": {},
   "outputs": [],
   "source": [
    "#tensor flow\n",
    "import tensorflow as tf\n",
    "mnist = tf.keras.datasets.mnist\n",
    "\n",
    "(x_train, y_train), (x_test, y_test) = mnist.load_data()\n",
    "x_train, x_test = x_train / 255.0, x_test / 255.0\n",
    "\n",
    "model = tf.keras.models.Sequential([\n",
    "  tf.keras.layers.Flatten(input_shape=(28, 28)),\n",
    "  tf.keras.layers.Dense(128, activation='relu'),\n",
    "  tf.keras.layers.Dropout(0.2),\n",
    "  tf.keras.layers.Dense(10)\n",
    "])"
   ]
  },
  {
   "cell_type": "code",
   "execution_count": 19,
   "metadata": {},
   "outputs": [
    {
     "name": "stderr",
     "output_type": "stream",
     "text": [
      "INFO (theano.gof.compilelock): Refreshing lock /Users/smullally/.theano/compiledir_Darwin-18.7.0-x86_64-i386-64bit-i386-3.7.7-64/lock_dir/lock\n",
      "ERROR (theano.gof.opt): Optimization failure due to: constant_folding\n",
      "ERROR (theano.gof.opt): node: Elemwise{add,no_inplace}(TensorConstant{(1, 1) of 0.01}, TensorConstant{(1, 1) of ..2375883907})\n",
      "ERROR (theano.gof.opt): TRACEBACK:\n",
      "ERROR (theano.gof.opt): Traceback (most recent call last):\n",
      "  File \"/Users/smullally/anaconda/envs/tike38/lib/python3.7/site-packages/theano/gof/opt.py\", line 2034, in process_node\n",
      "    replacements = lopt.transform(node)\n",
      "  File \"/Users/smullally/anaconda/envs/tike38/lib/python3.7/site-packages/theano/tensor/opt.py\", line 6516, in constant_folding\n",
      "    no_recycling=[], impl=impl)\n",
      "  File \"/Users/smullally/anaconda/envs/tike38/lib/python3.7/site-packages/theano/gof/op.py\", line 955, in make_thunk\n",
      "    no_recycling)\n",
      "  File \"/Users/smullally/anaconda/envs/tike38/lib/python3.7/site-packages/theano/gof/op.py\", line 858, in make_c_thunk\n",
      "    output_storage=node_output_storage)\n",
      "  File \"/Users/smullally/anaconda/envs/tike38/lib/python3.7/site-packages/theano/gof/cc.py\", line 1217, in make_thunk\n",
      "    keep_lock=keep_lock)\n",
      "  File \"/Users/smullally/anaconda/envs/tike38/lib/python3.7/site-packages/theano/gof/cc.py\", line 1157, in __compile__\n",
      "    keep_lock=keep_lock)\n",
      "  File \"/Users/smullally/anaconda/envs/tike38/lib/python3.7/site-packages/theano/gof/cc.py\", line 1624, in cthunk_factory\n",
      "    key=key, lnk=self, keep_lock=keep_lock)\n",
      "  File \"/Users/smullally/anaconda/envs/tike38/lib/python3.7/site-packages/theano/gof/cmodule.py\", line 1189, in module_from_key\n",
      "    module = lnk.compile_cmodule(location)\n",
      "  File \"/Users/smullally/anaconda/envs/tike38/lib/python3.7/site-packages/theano/gof/cc.py\", line 1527, in compile_cmodule\n",
      "    preargs=preargs)\n",
      "  File \"/Users/smullally/anaconda/envs/tike38/lib/python3.7/site-packages/theano/gof/cmodule.py\", line 2399, in compile_str\n",
      "    (status, compile_stderr.replace('\\n', '. ')))\n",
      "Exception: (\"Compilation failed (return status=1): /Users/smullally/.theano/compiledir_Darwin-18.7.0-x86_64-i386-64bit-i386-3.7.7-64/tmpq2zq4v3h/mod.cpp:506:27: error: non-constant-expression cannot be narrowed from type 'npy_intp' (aka 'long') to 'int' in initializer list [-Wc++11-narrowing].     int init_totals[2] = {V1_n0, V5_n1};.                           ^~~~~. /Users/smullally/.theano/compiledir_Darwin-18.7.0-x86_64-i386-64bit-i386-3.7.7-64/tmpq2zq4v3h/mod.cpp:506:27: note: insert an explicit cast to silence this issue.     int init_totals[2] = {V1_n0, V5_n1};.                           ^~~~~.                           static_cast<int>( ). /Users/smullally/.theano/compiledir_Darwin-18.7.0-x86_64-i386-64bit-i386-3.7.7-64/tmpq2zq4v3h/mod.cpp:506:34: error: non-constant-expression cannot be narrowed from type 'npy_intp' (aka 'long') to 'int' in initializer list [-Wc++11-narrowing].     int init_totals[2] = {V1_n0, V5_n1};.                                  ^~~~~. /Users/smullally/.theano/compiledir_Darwin-18.7.0-x86_64-i386-64bit-i386-3.7.7-64/tmpq2zq4v3h/mod.cpp:506:34: note: insert an explicit cast to silence this issue.     int init_totals[2] = {V1_n0, V5_n1};.                                  ^~~~~.                                  static_cast<int>( ). /Users/smullally/.theano/compiledir_Darwin-18.7.0-x86_64-i386-64bit-i386-3.7.7-64/tmpq2zq4v3h/mod.cpp:519:4: error: non-constant-expression cannot be narrowed from type 'ssize_t' (aka 'long') to 'int' in initializer list [-Wc++11-narrowing]. 0, V5_stride1, .    ^~~~~~~~~~. /Users/smullally/.theano/compiledir_Darwin-18.7.0-x86_64-i386-64bit-i386-3.7.7-64/tmpq2zq4v3h/mod.cpp:519:4: note: insert an explicit cast to silence this issue. 0, V5_stride1, .    ^~~~~~~~~~.    static_cast<int>( ). /Users/smullally/.theano/compiledir_Darwin-18.7.0-x86_64-i386-64bit-i386-3.7.7-64/tmpq2zq4v3h/mod.cpp:520:1: error: non-constant-expression cannot be narrowed from type 'ssize_t' (aka 'long') to 'int' in initializer list [-Wc++11-narrowing]. V1_stride0, V1_stride1. ^~~~~~~~~~. /Users/smullally/.theano/compiledir_Darwin-18.7.0-x86_64-i386-64bit-i386-3.7.7-64/tmpq2zq4v3h/mod.cpp:520:1: note: insert an explicit cast to silence this issue. V1_stride0, V1_stride1. ^~~~~~~~~~. static_cast<int>( ). /Users/smullally/.theano/compiledir_Darwin-18.7.0-x86_64-i386-64bit-i386-3.7.7-64/tmpq2zq4v3h/mod.cpp:520:13: error: non-constant-expression cannot be narrowed from type 'ssize_t' (aka 'long') to 'int' in initializer list [-Wc++11-narrowing]. V1_stride0, V1_stride1.             ^~~~~~~~~~. /Users/smullally/.theano/compiledir_Darwin-18.7.0-x86_64-i386-64bit-i386-3.7.7-64/tmpq2zq4v3h/mod.cpp:520:13: note: insert an explicit cast to silence this issue. V1_stride0, V1_stride1.             ^~~~~~~~~~.             static_cast<int>( ). 5 errors generated.. \", '[Elemwise{add,no_inplace}(TensorConstant{(1, 1) of 0.01}, TensorConstant{(1, 1) of ..2375883907})]')\n",
      "\n"
     ]
    },
    {
     "name": "stdout",
     "output_type": "stream",
     "text": [
      "\n",
      "You can find the C code in this temporary file: /var/folders/zx/326t4zzx4_l01j7_ng3c507c0001p0/T/theano_compilation_error_drgiob4h\n"
     ]
    },
    {
     "name": "stderr",
     "output_type": "stream",
     "text": [
      "ERROR (theano.gof.opt): Optimization failure due to: constant_folding\n",
      "ERROR (theano.gof.opt): node: Elemwise{add,no_inplace}(TensorConstant{[[-0.1    ..1       ]]}, TensorConstant{(1, 1) of 1.728})\n",
      "ERROR (theano.gof.opt): TRACEBACK:\n",
      "ERROR (theano.gof.opt): Traceback (most recent call last):\n",
      "  File \"/Users/smullally/anaconda/envs/tike38/lib/python3.7/site-packages/theano/gof/opt.py\", line 2034, in process_node\n",
      "    replacements = lopt.transform(node)\n",
      "  File \"/Users/smullally/anaconda/envs/tike38/lib/python3.7/site-packages/theano/tensor/opt.py\", line 6516, in constant_folding\n",
      "    no_recycling=[], impl=impl)\n",
      "  File \"/Users/smullally/anaconda/envs/tike38/lib/python3.7/site-packages/theano/gof/op.py\", line 955, in make_thunk\n",
      "    no_recycling)\n",
      "  File \"/Users/smullally/anaconda/envs/tike38/lib/python3.7/site-packages/theano/gof/op.py\", line 858, in make_c_thunk\n",
      "    output_storage=node_output_storage)\n",
      "  File \"/Users/smullally/anaconda/envs/tike38/lib/python3.7/site-packages/theano/gof/cc.py\", line 1217, in make_thunk\n",
      "    keep_lock=keep_lock)\n",
      "  File \"/Users/smullally/anaconda/envs/tike38/lib/python3.7/site-packages/theano/gof/cc.py\", line 1157, in __compile__\n",
      "    keep_lock=keep_lock)\n",
      "  File \"/Users/smullally/anaconda/envs/tike38/lib/python3.7/site-packages/theano/gof/cc.py\", line 1624, in cthunk_factory\n",
      "    key=key, lnk=self, keep_lock=keep_lock)\n",
      "  File \"/Users/smullally/anaconda/envs/tike38/lib/python3.7/site-packages/theano/gof/cmodule.py\", line 1189, in module_from_key\n",
      "    module = lnk.compile_cmodule(location)\n",
      "  File \"/Users/smullally/anaconda/envs/tike38/lib/python3.7/site-packages/theano/gof/cc.py\", line 1527, in compile_cmodule\n",
      "    preargs=preargs)\n",
      "  File \"/Users/smullally/anaconda/envs/tike38/lib/python3.7/site-packages/theano/gof/cmodule.py\", line 2399, in compile_str\n",
      "    (status, compile_stderr.replace('\\n', '. ')))\n",
      "Exception: (\"Compilation failed (return status=1): /Users/smullally/.theano/compiledir_Darwin-18.7.0-x86_64-i386-64bit-i386-3.7.7-64/tmpx6hbjmxn/mod.cpp:506:27: error: non-constant-expression cannot be narrowed from type 'npy_intp' (aka 'long') to 'int' in initializer list [-Wc++11-narrowing].     int init_totals[2] = {V3_n0, V1_n1};.                           ^~~~~. /Users/smullally/.theano/compiledir_Darwin-18.7.0-x86_64-i386-64bit-i386-3.7.7-64/tmpx6hbjmxn/mod.cpp:506:27: note: insert an explicit cast to silence this issue.     int init_totals[2] = {V3_n0, V1_n1};.                           ^~~~~.                           static_cast<int>( ). /Users/smullally/.theano/compiledir_Darwin-18.7.0-x86_64-i386-64bit-i386-3.7.7-64/tmpx6hbjmxn/mod.cpp:506:34: error: non-constant-expression cannot be narrowed from type 'npy_intp' (aka 'long') to 'int' in initializer list [-Wc++11-narrowing].     int init_totals[2] = {V3_n0, V1_n1};.                                  ^~~~~. /Users/smullally/.theano/compiledir_Darwin-18.7.0-x86_64-i386-64bit-i386-3.7.7-64/tmpx6hbjmxn/mod.cpp:506:34: note: insert an explicit cast to silence this issue.     int init_totals[2] = {V3_n0, V1_n1};.                                  ^~~~~.                                  static_cast<int>( ). /Users/smullally/.theano/compiledir_Darwin-18.7.0-x86_64-i386-64bit-i386-3.7.7-64/tmpx6hbjmxn/mod.cpp:518:9: error: non-constant-expression cannot be narrowed from type 'ssize_t' (aka 'long') to 'int' in initializer list [-Wc++11-narrowing].         V3_stride0, 0, .         ^~~~~~~~~~. /Users/smullally/.theano/compiledir_Darwin-18.7.0-x86_64-i386-64bit-i386-3.7.7-64/tmpx6hbjmxn/mod.cpp:518:9: note: insert an explicit cast to silence this issue.         V3_stride0, 0, .         ^~~~~~~~~~.         static_cast<int>( ). /Users/smullally/.theano/compiledir_Darwin-18.7.0-x86_64-i386-64bit-i386-3.7.7-64/tmpx6hbjmxn/mod.cpp:520:1: error: non-constant-expression cannot be narrowed from type 'ssize_t' (aka 'long') to 'int' in initializer list [-Wc++11-narrowing]. V1_stride0, V1_stride1. ^~~~~~~~~~. /Users/smullally/.theano/compiledir_Darwin-18.7.0-x86_64-i386-64bit-i386-3.7.7-64/tmpx6hbjmxn/mod.cpp:520:1: note: insert an explicit cast to silence this issue. V1_stride0, V1_stride1. ^~~~~~~~~~. static_cast<int>( ). /Users/smullally/.theano/compiledir_Darwin-18.7.0-x86_64-i386-64bit-i386-3.7.7-64/tmpx6hbjmxn/mod.cpp:520:13: error: non-constant-expression cannot be narrowed from type 'ssize_t' (aka 'long') to 'int' in initializer list [-Wc++11-narrowing]. V1_stride0, V1_stride1.             ^~~~~~~~~~. /Users/smullally/.theano/compiledir_Darwin-18.7.0-x86_64-i386-64bit-i386-3.7.7-64/tmpx6hbjmxn/mod.cpp:520:13: note: insert an explicit cast to silence this issue. V1_stride0, V1_stride1.             ^~~~~~~~~~.             static_cast<int>( ). 5 errors generated.. \", '[Elemwise{add,no_inplace}(TensorConstant{[[-0.1    ..1       ]]}, TensorConstant{(1, 1) of 1.728})]')\n",
      "\n"
     ]
    },
    {
     "name": "stdout",
     "output_type": "stream",
     "text": [
      "\n",
      "You can find the C code in this temporary file: /var/folders/zx/326t4zzx4_l01j7_ng3c507c0001p0/T/theano_compilation_error__9swa_ev\n"
     ]
    },
    {
     "name": "stderr",
     "output_type": "stream",
     "text": [
      "ERROR (theano.gof.opt): Optimization failure due to: constant_folding\n",
      "ERROR (theano.gof.opt): node: Elemwise{sub,no_inplace}(TensorConstant{(1, 1) of -0.01}, TensorConstant{(1, 1) of ..2375883907})\n",
      "ERROR (theano.gof.opt): TRACEBACK:\n",
      "ERROR (theano.gof.opt): Traceback (most recent call last):\n",
      "  File \"/Users/smullally/anaconda/envs/tike38/lib/python3.7/site-packages/theano/gof/opt.py\", line 2034, in process_node\n",
      "    replacements = lopt.transform(node)\n",
      "  File \"/Users/smullally/anaconda/envs/tike38/lib/python3.7/site-packages/theano/tensor/opt.py\", line 6516, in constant_folding\n",
      "    no_recycling=[], impl=impl)\n",
      "  File \"/Users/smullally/anaconda/envs/tike38/lib/python3.7/site-packages/theano/gof/op.py\", line 955, in make_thunk\n",
      "    no_recycling)\n",
      "  File \"/Users/smullally/anaconda/envs/tike38/lib/python3.7/site-packages/theano/gof/op.py\", line 858, in make_c_thunk\n",
      "    output_storage=node_output_storage)\n",
      "  File \"/Users/smullally/anaconda/envs/tike38/lib/python3.7/site-packages/theano/gof/cc.py\", line 1217, in make_thunk\n",
      "    keep_lock=keep_lock)\n",
      "  File \"/Users/smullally/anaconda/envs/tike38/lib/python3.7/site-packages/theano/gof/cc.py\", line 1157, in __compile__\n",
      "    keep_lock=keep_lock)\n",
      "  File \"/Users/smullally/anaconda/envs/tike38/lib/python3.7/site-packages/theano/gof/cc.py\", line 1624, in cthunk_factory\n",
      "    key=key, lnk=self, keep_lock=keep_lock)\n",
      "  File \"/Users/smullally/anaconda/envs/tike38/lib/python3.7/site-packages/theano/gof/cmodule.py\", line 1189, in module_from_key\n",
      "    module = lnk.compile_cmodule(location)\n",
      "  File \"/Users/smullally/anaconda/envs/tike38/lib/python3.7/site-packages/theano/gof/cc.py\", line 1527, in compile_cmodule\n",
      "    preargs=preargs)\n",
      "  File \"/Users/smullally/anaconda/envs/tike38/lib/python3.7/site-packages/theano/gof/cmodule.py\", line 2399, in compile_str\n",
      "    (status, compile_stderr.replace('\\n', '. ')))\n",
      "Exception: (\"Compilation failed (return status=1): /Users/smullally/.theano/compiledir_Darwin-18.7.0-x86_64-i386-64bit-i386-3.7.7-64/tmpp7i4c_hr/mod.cpp:506:27: error: non-constant-expression cannot be narrowed from type 'npy_intp' (aka 'long') to 'int' in initializer list [-Wc++11-narrowing].     int init_totals[2] = {V1_n0, V5_n1};.                           ^~~~~. /Users/smullally/.theano/compiledir_Darwin-18.7.0-x86_64-i386-64bit-i386-3.7.7-64/tmpp7i4c_hr/mod.cpp:506:27: note: insert an explicit cast to silence this issue.     int init_totals[2] = {V1_n0, V5_n1};.                           ^~~~~.                           static_cast<int>( ). /Users/smullally/.theano/compiledir_Darwin-18.7.0-x86_64-i386-64bit-i386-3.7.7-64/tmpp7i4c_hr/mod.cpp:506:34: error: non-constant-expression cannot be narrowed from type 'npy_intp' (aka 'long') to 'int' in initializer list [-Wc++11-narrowing].     int init_totals[2] = {V1_n0, V5_n1};.                                  ^~~~~. /Users/smullally/.theano/compiledir_Darwin-18.7.0-x86_64-i386-64bit-i386-3.7.7-64/tmpp7i4c_hr/mod.cpp:506:34: note: insert an explicit cast to silence this issue.     int init_totals[2] = {V1_n0, V5_n1};.                                  ^~~~~.                                  static_cast<int>( ). /Users/smullally/.theano/compiledir_Darwin-18.7.0-x86_64-i386-64bit-i386-3.7.7-64/tmpp7i4c_hr/mod.cpp:519:4: error: non-constant-expression cannot be narrowed from type 'ssize_t' (aka 'long') to 'int' in initializer list [-Wc++11-narrowing]. 0, V5_stride1, .    ^~~~~~~~~~. /Users/smullally/.theano/compiledir_Darwin-18.7.0-x86_64-i386-64bit-i386-3.7.7-64/tmpp7i4c_hr/mod.cpp:519:4: note: insert an explicit cast to silence this issue. 0, V5_stride1, .    ^~~~~~~~~~.    static_cast<int>( ). /Users/smullally/.theano/compiledir_Darwin-18.7.0-x86_64-i386-64bit-i386-3.7.7-64/tmpp7i4c_hr/mod.cpp:520:1: error: non-constant-expression cannot be narrowed from type 'ssize_t' (aka 'long') to 'int' in initializer list [-Wc++11-narrowing]. V1_stride0, V1_stride1. ^~~~~~~~~~. /Users/smullally/.theano/compiledir_Darwin-18.7.0-x86_64-i386-64bit-i386-3.7.7-64/tmpp7i4c_hr/mod.cpp:520:1: note: insert an explicit cast to silence this issue. V1_stride0, V1_stride1. ^~~~~~~~~~. static_cast<int>( ). /Users/smullally/.theano/compiledir_Darwin-18.7.0-x86_64-i386-64bit-i386-3.7.7-64/tmpp7i4c_hr/mod.cpp:520:13: error: non-constant-expression cannot be narrowed from type 'ssize_t' (aka 'long') to 'int' in initializer list [-Wc++11-narrowing]. V1_stride0, V1_stride1.             ^~~~~~~~~~. /Users/smullally/.theano/compiledir_Darwin-18.7.0-x86_64-i386-64bit-i386-3.7.7-64/tmpp7i4c_hr/mod.cpp:520:13: note: insert an explicit cast to silence this issue. V1_stride0, V1_stride1.             ^~~~~~~~~~.             static_cast<int>( ). 5 errors generated.. \", '[Elemwise{sub,no_inplace}(TensorConstant{(1, 1) of -0.01}, TensorConstant{(1, 1) of ..2375883907})]')\n",
      "\n"
     ]
    },
    {
     "name": "stdout",
     "output_type": "stream",
     "text": [
      "\n",
      "You can find the C code in this temporary file: /var/folders/zx/326t4zzx4_l01j7_ng3c507c0001p0/T/theano_compilation_error_60h626_j\n"
     ]
    },
    {
     "name": "stderr",
     "output_type": "stream",
     "text": [
      "ERROR (theano.gof.opt): Optimization failure due to: constant_folding\n",
      "ERROR (theano.gof.opt): node: Elemwise{mul,no_inplace}(TensorConstant{(1, 1, 1) ..4833255903}, TensorConstant{(1, 1, 1) ..3267948966})\n",
      "ERROR (theano.gof.opt): TRACEBACK:\n",
      "ERROR (theano.gof.opt): Traceback (most recent call last):\n",
      "  File \"/Users/smullally/anaconda/envs/tike38/lib/python3.7/site-packages/theano/gof/opt.py\", line 2034, in process_node\n",
      "    replacements = lopt.transform(node)\n",
      "  File \"/Users/smullally/anaconda/envs/tike38/lib/python3.7/site-packages/theano/tensor/opt.py\", line 6516, in constant_folding\n",
      "    no_recycling=[], impl=impl)\n",
      "  File \"/Users/smullally/anaconda/envs/tike38/lib/python3.7/site-packages/theano/gof/op.py\", line 955, in make_thunk\n",
      "    no_recycling)\n",
      "  File \"/Users/smullally/anaconda/envs/tike38/lib/python3.7/site-packages/theano/gof/op.py\", line 858, in make_c_thunk\n",
      "    output_storage=node_output_storage)\n",
      "  File \"/Users/smullally/anaconda/envs/tike38/lib/python3.7/site-packages/theano/gof/cc.py\", line 1217, in make_thunk\n",
      "    keep_lock=keep_lock)\n",
      "  File \"/Users/smullally/anaconda/envs/tike38/lib/python3.7/site-packages/theano/gof/cc.py\", line 1157, in __compile__\n",
      "    keep_lock=keep_lock)\n",
      "  File \"/Users/smullally/anaconda/envs/tike38/lib/python3.7/site-packages/theano/gof/cc.py\", line 1624, in cthunk_factory\n",
      "    key=key, lnk=self, keep_lock=keep_lock)\n",
      "  File \"/Users/smullally/anaconda/envs/tike38/lib/python3.7/site-packages/theano/gof/cmodule.py\", line 1189, in module_from_key\n",
      "    module = lnk.compile_cmodule(location)\n",
      "  File \"/Users/smullally/anaconda/envs/tike38/lib/python3.7/site-packages/theano/gof/cc.py\", line 1527, in compile_cmodule\n",
      "    preargs=preargs)\n",
      "  File \"/Users/smullally/anaconda/envs/tike38/lib/python3.7/site-packages/theano/gof/cmodule.py\", line 2399, in compile_str\n",
      "    (status, compile_stderr.replace('\\n', '. ')))\n",
      "Exception: (\"Compilation failed (return status=1): /Users/smullally/.theano/compiledir_Darwin-18.7.0-x86_64-i386-64bit-i386-3.7.7-64/tmpdnpkg9bx/mod.cpp:490:27: error: non-constant-expression cannot be narrowed from type 'npy_intp' (aka 'long') to 'int' in initializer list [-Wc++11-narrowing].     int init_totals[3] = {V1_n0, V1_n1, V1_n2};.                           ^~~~~. /Users/smullally/.theano/compiledir_Darwin-18.7.0-x86_64-i386-64bit-i386-3.7.7-64/tmpdnpkg9bx/mod.cpp:490:27: note: insert an explicit cast to silence this issue.     int init_totals[3] = {V1_n0, V1_n1, V1_n2};.                           ^~~~~.                           static_cast<int>( ). /Users/smullally/.theano/compiledir_Darwin-18.7.0-x86_64-i386-64bit-i386-3.7.7-64/tmpdnpkg9bx/mod.cpp:490:34: error: non-constant-expression cannot be narrowed from type 'npy_intp' (aka 'long') to 'int' in initializer list [-Wc++11-narrowing].     int init_totals[3] = {V1_n0, V1_n1, V1_n2};.                                  ^~~~~. /Users/smullally/.theano/compiledir_Darwin-18.7.0-x86_64-i386-64bit-i386-3.7.7-64/tmpdnpkg9bx/mod.cpp:490:34: note: insert an explicit cast to silence this issue.     int init_totals[3] = {V1_n0, V1_n1, V1_n2};.                                  ^~~~~.                                  static_cast<int>( ). /Users/smullally/.theano/compiledir_Darwin-18.7.0-x86_64-i386-64bit-i386-3.7.7-64/tmpdnpkg9bx/mod.cpp:490:41: error: non-constant-expression cannot be narrowed from type 'npy_intp' (aka 'long') to 'int' in initializer list [-Wc++11-narrowing].     int init_totals[3] = {V1_n0, V1_n1, V1_n2};.                                         ^~~~~. /Users/smullally/.theano/compiledir_Darwin-18.7.0-x86_64-i386-64bit-i386-3.7.7-64/tmpdnpkg9bx/mod.cpp:490:41: note: insert an explicit cast to silence this issue.     int init_totals[3] = {V1_n0, V1_n1, V1_n2};.                                         ^~~~~.                                         static_cast<int>( ). /Users/smullally/.theano/compiledir_Darwin-18.7.0-x86_64-i386-64bit-i386-3.7.7-64/tmpdnpkg9bx/mod.cpp:507:1: error: non-constant-expression cannot be narrowed from type 'ssize_t' (aka 'long') to 'int' in initializer list [-Wc++11-narrowing]. V1_stride0, V1_stride1, V1_stride2. ^~~~~~~~~~. /Users/smullally/.theano/compiledir_Darwin-18.7.0-x86_64-i386-64bit-i386-3.7.7-64/tmpdnpkg9bx/mod.cpp:507:1: note: insert an explicit cast to silence this issue. V1_stride0, V1_stride1, V1_stride2. ^~~~~~~~~~. static_cast<int>( ). /Users/smullally/.theano/compiledir_Darwin-18.7.0-x86_64-i386-64bit-i386-3.7.7-64/tmpdnpkg9bx/mod.cpp:507:13: error: non-constant-expression cannot be narrowed from type 'ssize_t' (aka 'long') to 'int' in initializer list [-Wc++11-narrowing]. V1_stride0, V1_stride1, V1_stride2.             ^~~~~~~~~~. /Users/smullally/.theano/compiledir_Darwin-18.7.0-x86_64-i386-64bit-i386-3.7.7-64/tmpdnpkg9bx/mod.cpp:507:13: note: insert an explicit cast to silence this issue. V1_stride0, V1_stride1, V1_stride2.             ^~~~~~~~~~.             static_cast<int>( ). /Users/smullally/.theano/compiledir_Darwin-18.7.0-x86_64-i386-64bit-i386-3.7.7-64/tmpdnpkg9bx/mod.cpp:507:25: error: non-constant-expression cannot be narrowed from type 'ssize_t' (aka 'long') to 'int' in initializer list [-Wc++11-narrowing]. V1_stride0, V1_stride1, V1_stride2.                         ^~~~~~~~~~. /Users/smullally/.theano/compiledir_Darwin-18.7.0-x86_64-i386-64bit-i386-3.7.7-64/tmpdnpkg9bx/mod.cpp:507:25: note: insert an explicit cast to silence this issue. V1_stride0, V1_stride1, V1_stride2.                         ^~~~~~~~~~.                         static_cast<int>( ). 6 errors generated.. \", '[Elemwise{mul,no_inplace}(TensorConstant{(1, 1, 1) ..4833255903}, TensorConstant{(1, 1, 1) ..3267948966})]')\n",
      "\n"
     ]
    },
    {
     "name": "stdout",
     "output_type": "stream",
     "text": [
      "\n",
      "You can find the C code in this temporary file: /var/folders/zx/326t4zzx4_l01j7_ng3c507c0001p0/T/theano_compilation_error_bes5o1hs\n"
     ]
    },
    {
     "name": "stderr",
     "output_type": "stream",
     "text": [
      "ERROR (theano.gof.opt): Optimization failure due to: constant_folding\n",
      "ERROR (theano.gof.opt): node: Elemwise{mul,no_inplace}(TensorConstant{(1, 1) of 0.02}, TensorConstant{[[-0.42857..42857143]]})\n",
      "ERROR (theano.gof.opt): TRACEBACK:\n",
      "ERROR (theano.gof.opt): Traceback (most recent call last):\n",
      "  File \"/Users/smullally/anaconda/envs/tike38/lib/python3.7/site-packages/theano/gof/opt.py\", line 2034, in process_node\n",
      "    replacements = lopt.transform(node)\n",
      "  File \"/Users/smullally/anaconda/envs/tike38/lib/python3.7/site-packages/theano/tensor/opt.py\", line 6516, in constant_folding\n",
      "    no_recycling=[], impl=impl)\n",
      "  File \"/Users/smullally/anaconda/envs/tike38/lib/python3.7/site-packages/theano/gof/op.py\", line 955, in make_thunk\n",
      "    no_recycling)\n",
      "  File \"/Users/smullally/anaconda/envs/tike38/lib/python3.7/site-packages/theano/gof/op.py\", line 858, in make_c_thunk\n",
      "    output_storage=node_output_storage)\n",
      "  File \"/Users/smullally/anaconda/envs/tike38/lib/python3.7/site-packages/theano/gof/cc.py\", line 1217, in make_thunk\n",
      "    keep_lock=keep_lock)\n",
      "  File \"/Users/smullally/anaconda/envs/tike38/lib/python3.7/site-packages/theano/gof/cc.py\", line 1157, in __compile__\n",
      "    keep_lock=keep_lock)\n",
      "  File \"/Users/smullally/anaconda/envs/tike38/lib/python3.7/site-packages/theano/gof/cc.py\", line 1624, in cthunk_factory\n",
      "    key=key, lnk=self, keep_lock=keep_lock)\n",
      "  File \"/Users/smullally/anaconda/envs/tike38/lib/python3.7/site-packages/theano/gof/cmodule.py\", line 1189, in module_from_key\n",
      "    module = lnk.compile_cmodule(location)\n",
      "  File \"/Users/smullally/anaconda/envs/tike38/lib/python3.7/site-packages/theano/gof/cc.py\", line 1527, in compile_cmodule\n",
      "    preargs=preargs)\n",
      "  File \"/Users/smullally/anaconda/envs/tike38/lib/python3.7/site-packages/theano/gof/cmodule.py\", line 2399, in compile_str\n",
      "    (status, compile_stderr.replace('\\n', '. ')))\n",
      "Exception: (\"Compilation failed (return status=1): /Users/smullally/.theano/compiledir_Darwin-18.7.0-x86_64-i386-64bit-i386-3.7.7-64/tmpe9kbue2n/mod.cpp:506:27: error: non-constant-expression cannot be narrowed from type 'npy_intp' (aka 'long') to 'int' in initializer list [-Wc++11-narrowing].     int init_totals[2] = {V1_n0, V5_n1};.                           ^~~~~. /Users/smullally/.theano/compiledir_Darwin-18.7.0-x86_64-i386-64bit-i386-3.7.7-64/tmpe9kbue2n/mod.cpp:506:27: note: insert an explicit cast to silence this issue.     int init_totals[2] = {V1_n0, V5_n1};.                           ^~~~~.                           static_cast<int>( ). /Users/smullally/.theano/compiledir_Darwin-18.7.0-x86_64-i386-64bit-i386-3.7.7-64/tmpe9kbue2n/mod.cpp:506:34: error: non-constant-expression cannot be narrowed from type 'npy_intp' (aka 'long') to 'int' in initializer list [-Wc++11-narrowing].     int init_totals[2] = {V1_n0, V5_n1};.                                  ^~~~~. /Users/smullally/.theano/compiledir_Darwin-18.7.0-x86_64-i386-64bit-i386-3.7.7-64/tmpe9kbue2n/mod.cpp:506:34: note: insert an explicit cast to silence this issue.     int init_totals[2] = {V1_n0, V5_n1};.                                  ^~~~~.                                  static_cast<int>( ). /Users/smullally/.theano/compiledir_Darwin-18.7.0-x86_64-i386-64bit-i386-3.7.7-64/tmpe9kbue2n/mod.cpp:519:4: error: non-constant-expression cannot be narrowed from type 'ssize_t' (aka 'long') to 'int' in initializer list [-Wc++11-narrowing]. 0, V5_stride1, .    ^~~~~~~~~~. /Users/smullally/.theano/compiledir_Darwin-18.7.0-x86_64-i386-64bit-i386-3.7.7-64/tmpe9kbue2n/mod.cpp:519:4: note: insert an explicit cast to silence this issue. 0, V5_stride1, .    ^~~~~~~~~~.    static_cast<int>( ). /Users/smullally/.theano/compiledir_Darwin-18.7.0-x86_64-i386-64bit-i386-3.7.7-64/tmpe9kbue2n/mod.cpp:520:1: error: non-constant-expression cannot be narrowed from type 'ssize_t' (aka 'long') to 'int' in initializer list [-Wc++11-narrowing]. V1_stride0, V1_stride1. ^~~~~~~~~~. /Users/smullally/.theano/compiledir_Darwin-18.7.0-x86_64-i386-64bit-i386-3.7.7-64/tmpe9kbue2n/mod.cpp:520:1: note: insert an explicit cast to silence this issue. V1_stride0, V1_stride1. ^~~~~~~~~~. static_cast<int>( ). /Users/smullally/.theano/compiledir_Darwin-18.7.0-x86_64-i386-64bit-i386-3.7.7-64/tmpe9kbue2n/mod.cpp:520:13: error: non-constant-expression cannot be narrowed from type 'ssize_t' (aka 'long') to 'int' in initializer list [-Wc++11-narrowing]. V1_stride0, V1_stride1.             ^~~~~~~~~~. /Users/smullally/.theano/compiledir_Darwin-18.7.0-x86_64-i386-64bit-i386-3.7.7-64/tmpe9kbue2n/mod.cpp:520:13: note: insert an explicit cast to silence this issue. V1_stride0, V1_stride1.             ^~~~~~~~~~.             static_cast<int>( ). 5 errors generated.. \", '[Elemwise{mul,no_inplace}(TensorConstant{(1, 1) of 0.02}, TensorConstant{[[-0.42857..42857143]]})]')\n",
      "\n"
     ]
    },
    {
     "name": "stdout",
     "output_type": "stream",
     "text": [
      "\n",
      "You can find the C code in this temporary file: /var/folders/zx/326t4zzx4_l01j7_ng3c507c0001p0/T/theano_compilation_error_nylx94ru\n"
     ]
    },
    {
     "name": "stderr",
     "output_type": "stream",
     "text": [
      "ERROR (theano.gof.opt): Optimization failure due to: constant_folding\n",
      "ERROR (theano.gof.opt): node: Elemwise{mul,no_inplace}(TensorConstant{(1, 1, 1) of -1.0}, TensorConstant{(1, 1, 1) ..4681328683})\n",
      "ERROR (theano.gof.opt): TRACEBACK:\n",
      "ERROR (theano.gof.opt): Traceback (most recent call last):\n",
      "  File \"/Users/smullally/anaconda/envs/tike38/lib/python3.7/site-packages/theano/gof/opt.py\", line 2034, in process_node\n",
      "    replacements = lopt.transform(node)\n",
      "  File \"/Users/smullally/anaconda/envs/tike38/lib/python3.7/site-packages/theano/tensor/opt.py\", line 6516, in constant_folding\n",
      "    no_recycling=[], impl=impl)\n",
      "  File \"/Users/smullally/anaconda/envs/tike38/lib/python3.7/site-packages/theano/gof/op.py\", line 955, in make_thunk\n",
      "    no_recycling)\n",
      "  File \"/Users/smullally/anaconda/envs/tike38/lib/python3.7/site-packages/theano/gof/op.py\", line 858, in make_c_thunk\n",
      "    output_storage=node_output_storage)\n",
      "  File \"/Users/smullally/anaconda/envs/tike38/lib/python3.7/site-packages/theano/gof/cc.py\", line 1217, in make_thunk\n",
      "    keep_lock=keep_lock)\n",
      "  File \"/Users/smullally/anaconda/envs/tike38/lib/python3.7/site-packages/theano/gof/cc.py\", line 1157, in __compile__\n",
      "    keep_lock=keep_lock)\n",
      "  File \"/Users/smullally/anaconda/envs/tike38/lib/python3.7/site-packages/theano/gof/cc.py\", line 1624, in cthunk_factory\n",
      "    key=key, lnk=self, keep_lock=keep_lock)\n",
      "  File \"/Users/smullally/anaconda/envs/tike38/lib/python3.7/site-packages/theano/gof/cmodule.py\", line 1189, in module_from_key\n",
      "    module = lnk.compile_cmodule(location)\n",
      "  File \"/Users/smullally/anaconda/envs/tike38/lib/python3.7/site-packages/theano/gof/cc.py\", line 1527, in compile_cmodule\n",
      "    preargs=preargs)\n",
      "  File \"/Users/smullally/anaconda/envs/tike38/lib/python3.7/site-packages/theano/gof/cmodule.py\", line 2399, in compile_str\n",
      "    (status, compile_stderr.replace('\\n', '. ')))\n",
      "Exception: (\"Compilation failed (return status=1): /Users/smullally/.theano/compiledir_Darwin-18.7.0-x86_64-i386-64bit-i386-3.7.7-64/tmp_1cmwh1j/mod.cpp:490:27: error: non-constant-expression cannot be narrowed from type 'npy_intp' (aka 'long') to 'int' in initializer list [-Wc++11-narrowing].     int init_totals[3] = {V1_n0, V1_n1, V1_n2};.                           ^~~~~. /Users/smullally/.theano/compiledir_Darwin-18.7.0-x86_64-i386-64bit-i386-3.7.7-64/tmp_1cmwh1j/mod.cpp:490:27: note: insert an explicit cast to silence this issue.     int init_totals[3] = {V1_n0, V1_n1, V1_n2};.                           ^~~~~.                           static_cast<int>( ). /Users/smullally/.theano/compiledir_Darwin-18.7.0-x86_64-i386-64bit-i386-3.7.7-64/tmp_1cmwh1j/mod.cpp:490:34: error: non-constant-expression cannot be narrowed from type 'npy_intp' (aka 'long') to 'int' in initializer list [-Wc++11-narrowing].     int init_totals[3] = {V1_n0, V1_n1, V1_n2};.                                  ^~~~~. /Users/smullally/.theano/compiledir_Darwin-18.7.0-x86_64-i386-64bit-i386-3.7.7-64/tmp_1cmwh1j/mod.cpp:490:34: note: insert an explicit cast to silence this issue.     int init_totals[3] = {V1_n0, V1_n1, V1_n2};.                                  ^~~~~.                                  static_cast<int>( ). /Users/smullally/.theano/compiledir_Darwin-18.7.0-x86_64-i386-64bit-i386-3.7.7-64/tmp_1cmwh1j/mod.cpp:490:41: error: non-constant-expression cannot be narrowed from type 'npy_intp' (aka 'long') to 'int' in initializer list [-Wc++11-narrowing].     int init_totals[3] = {V1_n0, V1_n1, V1_n2};.                                         ^~~~~. /Users/smullally/.theano/compiledir_Darwin-18.7.0-x86_64-i386-64bit-i386-3.7.7-64/tmp_1cmwh1j/mod.cpp:490:41: note: insert an explicit cast to silence this issue.     int init_totals[3] = {V1_n0, V1_n1, V1_n2};.                                         ^~~~~.                                         static_cast<int>( ). /Users/smullally/.theano/compiledir_Darwin-18.7.0-x86_64-i386-64bit-i386-3.7.7-64/tmp_1cmwh1j/mod.cpp:507:1: error: non-constant-expression cannot be narrowed from type 'ssize_t' (aka 'long') to 'int' in initializer list [-Wc++11-narrowing]. V1_stride0, V1_stride1, V1_stride2. ^~~~~~~~~~. /Users/smullally/.theano/compiledir_Darwin-18.7.0-x86_64-i386-64bit-i386-3.7.7-64/tmp_1cmwh1j/mod.cpp:507:1: note: insert an explicit cast to silence this issue. V1_stride0, V1_stride1, V1_stride2. ^~~~~~~~~~. static_cast<int>( ). /Users/smullally/.theano/compiledir_Darwin-18.7.0-x86_64-i386-64bit-i386-3.7.7-64/tmp_1cmwh1j/mod.cpp:507:13: error: non-constant-expression cannot be narrowed from type 'ssize_t' (aka 'long') to 'int' in initializer list [-Wc++11-narrowing]. V1_stride0, V1_stride1, V1_stride2.             ^~~~~~~~~~. /Users/smullally/.theano/compiledir_Darwin-18.7.0-x86_64-i386-64bit-i386-3.7.7-64/tmp_1cmwh1j/mod.cpp:507:13: note: insert an explicit cast to silence this issue. V1_stride0, V1_stride1, V1_stride2.             ^~~~~~~~~~.             static_cast<int>( ). /Users/smullally/.theano/compiledir_Darwin-18.7.0-x86_64-i386-64bit-i386-3.7.7-64/tmp_1cmwh1j/mod.cpp:507:25: error: non-constant-expression cannot be narrowed from type 'ssize_t' (aka 'long') to 'int' in initializer list [-Wc++11-narrowing]. V1_stride0, V1_stride1, V1_stride2.                         ^~~~~~~~~~. /Users/smullally/.theano/compiledir_Darwin-18.7.0-x86_64-i386-64bit-i386-3.7.7-64/tmp_1cmwh1j/mod.cpp:507:25: note: insert an explicit cast to silence this issue. V1_stride0, V1_stride1, V1_stride2.                         ^~~~~~~~~~.                         static_cast<int>( ). 6 errors generated.. \", '[Elemwise{mul,no_inplace}(TensorConstant{(1, 1, 1) of -1.0}, TensorConstant{(1, 1, 1) ..4681328683})]')\n",
      "\n"
     ]
    },
    {
     "name": "stdout",
     "output_type": "stream",
     "text": [
      "\n",
      "You can find the C code in this temporary file: /var/folders/zx/326t4zzx4_l01j7_ng3c507c0001p0/T/theano_compilation_error_ecr3wnhl\n"
     ]
    },
    {
     "name": "stderr",
     "output_type": "stream",
     "text": [
      "ERROR (theano.gof.opt): Optimization failure due to: constant_folding\n",
      "ERROR (theano.gof.opt): node: Elemwise{mul,no_inplace}(TensorConstant{(1, 1, 1) of -1.0}, TensorConstant{(1, 1, 1) of 1.0})\n",
      "ERROR (theano.gof.opt): TRACEBACK:\n",
      "ERROR (theano.gof.opt): Traceback (most recent call last):\n",
      "  File \"/Users/smullally/anaconda/envs/tike38/lib/python3.7/site-packages/theano/gof/opt.py\", line 2034, in process_node\n",
      "    replacements = lopt.transform(node)\n",
      "  File \"/Users/smullally/anaconda/envs/tike38/lib/python3.7/site-packages/theano/tensor/opt.py\", line 6516, in constant_folding\n",
      "    no_recycling=[], impl=impl)\n",
      "  File \"/Users/smullally/anaconda/envs/tike38/lib/python3.7/site-packages/theano/gof/op.py\", line 955, in make_thunk\n",
      "    no_recycling)\n",
      "  File \"/Users/smullally/anaconda/envs/tike38/lib/python3.7/site-packages/theano/gof/op.py\", line 858, in make_c_thunk\n",
      "    output_storage=node_output_storage)\n",
      "  File \"/Users/smullally/anaconda/envs/tike38/lib/python3.7/site-packages/theano/gof/cc.py\", line 1217, in make_thunk\n",
      "    keep_lock=keep_lock)\n",
      "  File \"/Users/smullally/anaconda/envs/tike38/lib/python3.7/site-packages/theano/gof/cc.py\", line 1157, in __compile__\n",
      "    keep_lock=keep_lock)\n",
      "  File \"/Users/smullally/anaconda/envs/tike38/lib/python3.7/site-packages/theano/gof/cc.py\", line 1624, in cthunk_factory\n",
      "    key=key, lnk=self, keep_lock=keep_lock)\n",
      "  File \"/Users/smullally/anaconda/envs/tike38/lib/python3.7/site-packages/theano/gof/cmodule.py\", line 1189, in module_from_key\n",
      "    module = lnk.compile_cmodule(location)\n",
      "  File \"/Users/smullally/anaconda/envs/tike38/lib/python3.7/site-packages/theano/gof/cc.py\", line 1527, in compile_cmodule\n",
      "    preargs=preargs)\n",
      "  File \"/Users/smullally/anaconda/envs/tike38/lib/python3.7/site-packages/theano/gof/cmodule.py\", line 2399, in compile_str\n",
      "    (status, compile_stderr.replace('\\n', '. ')))\n",
      "Exception: (\"Compilation failed (return status=1): /Users/smullally/.theano/compiledir_Darwin-18.7.0-x86_64-i386-64bit-i386-3.7.7-64/tmp9iar3yg9/mod.cpp:490:27: error: non-constant-expression cannot be narrowed from type 'npy_intp' (aka 'long') to 'int' in initializer list [-Wc++11-narrowing].     int init_totals[3] = {V1_n0, V1_n1, V1_n2};.                           ^~~~~. /Users/smullally/.theano/compiledir_Darwin-18.7.0-x86_64-i386-64bit-i386-3.7.7-64/tmp9iar3yg9/mod.cpp:490:27: note: insert an explicit cast to silence this issue.     int init_totals[3] = {V1_n0, V1_n1, V1_n2};.                           ^~~~~.                           static_cast<int>( ). /Users/smullally/.theano/compiledir_Darwin-18.7.0-x86_64-i386-64bit-i386-3.7.7-64/tmp9iar3yg9/mod.cpp:490:34: error: non-constant-expression cannot be narrowed from type 'npy_intp' (aka 'long') to 'int' in initializer list [-Wc++11-narrowing].     int init_totals[3] = {V1_n0, V1_n1, V1_n2};.                                  ^~~~~. /Users/smullally/.theano/compiledir_Darwin-18.7.0-x86_64-i386-64bit-i386-3.7.7-64/tmp9iar3yg9/mod.cpp:490:34: note: insert an explicit cast to silence this issue.     int init_totals[3] = {V1_n0, V1_n1, V1_n2};.                                  ^~~~~.                                  static_cast<int>( ). /Users/smullally/.theano/compiledir_Darwin-18.7.0-x86_64-i386-64bit-i386-3.7.7-64/tmp9iar3yg9/mod.cpp:490:41: error: non-constant-expression cannot be narrowed from type 'npy_intp' (aka 'long') to 'int' in initializer list [-Wc++11-narrowing].     int init_totals[3] = {V1_n0, V1_n1, V1_n2};.                                         ^~~~~. /Users/smullally/.theano/compiledir_Darwin-18.7.0-x86_64-i386-64bit-i386-3.7.7-64/tmp9iar3yg9/mod.cpp:490:41: note: insert an explicit cast to silence this issue.     int init_totals[3] = {V1_n0, V1_n1, V1_n2};.                                         ^~~~~.                                         static_cast<int>( ). /Users/smullally/.theano/compiledir_Darwin-18.7.0-x86_64-i386-64bit-i386-3.7.7-64/tmp9iar3yg9/mod.cpp:507:1: error: non-constant-expression cannot be narrowed from type 'ssize_t' (aka 'long') to 'int' in initializer list [-Wc++11-narrowing]. V1_stride0, V1_stride1, V1_stride2. ^~~~~~~~~~. /Users/smullally/.theano/compiledir_Darwin-18.7.0-x86_64-i386-64bit-i386-3.7.7-64/tmp9iar3yg9/mod.cpp:507:1: note: insert an explicit cast to silence this issue. V1_stride0, V1_stride1, V1_stride2. ^~~~~~~~~~. static_cast<int>( ). /Users/smullally/.theano/compiledir_Darwin-18.7.0-x86_64-i386-64bit-i386-3.7.7-64/tmp9iar3yg9/mod.cpp:507:13: error: non-constant-expression cannot be narrowed from type 'ssize_t' (aka 'long') to 'int' in initializer list [-Wc++11-narrowing]. V1_stride0, V1_stride1, V1_stride2.             ^~~~~~~~~~. /Users/smullally/.theano/compiledir_Darwin-18.7.0-x86_64-i386-64bit-i386-3.7.7-64/tmp9iar3yg9/mod.cpp:507:13: note: insert an explicit cast to silence this issue. V1_stride0, V1_stride1, V1_stride2.             ^~~~~~~~~~.             static_cast<int>( ). /Users/smullally/.theano/compiledir_Darwin-18.7.0-x86_64-i386-64bit-i386-3.7.7-64/tmp9iar3yg9/mod.cpp:507:25: error: non-constant-expression cannot be narrowed from type 'ssize_t' (aka 'long') to 'int' in initializer list [-Wc++11-narrowing]. V1_stride0, V1_stride1, V1_stride2.                         ^~~~~~~~~~. /Users/smullally/.theano/compiledir_Darwin-18.7.0-x86_64-i386-64bit-i386-3.7.7-64/tmp9iar3yg9/mod.cpp:507:25: note: insert an explicit cast to silence this issue. V1_stride0, V1_stride1, V1_stride2.                         ^~~~~~~~~~.                         static_cast<int>( ). 6 errors generated.. \", '[Elemwise{mul,no_inplace}(TensorConstant{(1, 1, 1) of -1.0}, TensorConstant{(1, 1, 1) of 1.0})]')\n",
      "\n"
     ]
    },
    {
     "name": "stdout",
     "output_type": "stream",
     "text": [
      "\n",
      "You can find the C code in this temporary file: /var/folders/zx/326t4zzx4_l01j7_ng3c507c0001p0/T/theano_compilation_error_p4dt_w8u\n"
     ]
    },
    {
     "name": "stderr",
     "output_type": "stream",
     "text": [
      "ERROR (theano.gof.opt): Optimization failure due to: constant_folding\n",
      "ERROR (theano.gof.opt): node: Elemwise{mul,no_inplace}(TensorConstant{(1, 1) of -1.0}, TensorConstant{(1, 1) of ..4681328683})\n",
      "ERROR (theano.gof.opt): TRACEBACK:\n",
      "ERROR (theano.gof.opt): Traceback (most recent call last):\n",
      "  File \"/Users/smullally/anaconda/envs/tike38/lib/python3.7/site-packages/theano/gof/opt.py\", line 2034, in process_node\n",
      "    replacements = lopt.transform(node)\n",
      "  File \"/Users/smullally/anaconda/envs/tike38/lib/python3.7/site-packages/theano/tensor/opt.py\", line 6516, in constant_folding\n",
      "    no_recycling=[], impl=impl)\n",
      "  File \"/Users/smullally/anaconda/envs/tike38/lib/python3.7/site-packages/theano/gof/op.py\", line 955, in make_thunk\n",
      "    no_recycling)\n",
      "  File \"/Users/smullally/anaconda/envs/tike38/lib/python3.7/site-packages/theano/gof/op.py\", line 858, in make_c_thunk\n",
      "    output_storage=node_output_storage)\n",
      "  File \"/Users/smullally/anaconda/envs/tike38/lib/python3.7/site-packages/theano/gof/cc.py\", line 1217, in make_thunk\n",
      "    keep_lock=keep_lock)\n",
      "  File \"/Users/smullally/anaconda/envs/tike38/lib/python3.7/site-packages/theano/gof/cc.py\", line 1157, in __compile__\n",
      "    keep_lock=keep_lock)\n",
      "  File \"/Users/smullally/anaconda/envs/tike38/lib/python3.7/site-packages/theano/gof/cc.py\", line 1624, in cthunk_factory\n",
      "    key=key, lnk=self, keep_lock=keep_lock)\n",
      "  File \"/Users/smullally/anaconda/envs/tike38/lib/python3.7/site-packages/theano/gof/cmodule.py\", line 1189, in module_from_key\n",
      "    module = lnk.compile_cmodule(location)\n",
      "  File \"/Users/smullally/anaconda/envs/tike38/lib/python3.7/site-packages/theano/gof/cc.py\", line 1527, in compile_cmodule\n",
      "    preargs=preargs)\n",
      "  File \"/Users/smullally/anaconda/envs/tike38/lib/python3.7/site-packages/theano/gof/cmodule.py\", line 2399, in compile_str\n",
      "    (status, compile_stderr.replace('\\n', '. ')))\n",
      "Exception: (\"Compilation failed (return status=1): /Users/smullally/.theano/compiledir_Darwin-18.7.0-x86_64-i386-64bit-i386-3.7.7-64/tmp86keofcz/mod.cpp:468:27: error: non-constant-expression cannot be narrowed from type 'npy_intp' (aka 'long') to 'int' in initializer list [-Wc++11-narrowing].     int init_totals[2] = {V1_n0, V1_n1};.                           ^~~~~. /Users/smullally/.theano/compiledir_Darwin-18.7.0-x86_64-i386-64bit-i386-3.7.7-64/tmp86keofcz/mod.cpp:468:27: note: insert an explicit cast to silence this issue.     int init_totals[2] = {V1_n0, V1_n1};.                           ^~~~~.                           static_cast<int>( ). /Users/smullally/.theano/compiledir_Darwin-18.7.0-x86_64-i386-64bit-i386-3.7.7-64/tmp86keofcz/mod.cpp:468:34: error: non-constant-expression cannot be narrowed from type 'npy_intp' (aka 'long') to 'int' in initializer list [-Wc++11-narrowing].     int init_totals[2] = {V1_n0, V1_n1};.                                  ^~~~~. /Users/smullally/.theano/compiledir_Darwin-18.7.0-x86_64-i386-64bit-i386-3.7.7-64/tmp86keofcz/mod.cpp:468:34: note: insert an explicit cast to silence this issue.     int init_totals[2] = {V1_n0, V1_n1};.                                  ^~~~~.                                  static_cast<int>( ). /Users/smullally/.theano/compiledir_Darwin-18.7.0-x86_64-i386-64bit-i386-3.7.7-64/tmp86keofcz/mod.cpp:482:1: error: non-constant-expression cannot be narrowed from type 'ssize_t' (aka 'long') to 'int' in initializer list [-Wc++11-narrowing]. V1_stride0, V1_stride1. ^~~~~~~~~~. /Users/smullally/.theano/compiledir_Darwin-18.7.0-x86_64-i386-64bit-i386-3.7.7-64/tmp86keofcz/mod.cpp:482:1: note: insert an explicit cast to silence this issue. V1_stride0, V1_stride1. ^~~~~~~~~~. static_cast<int>( ). /Users/smullally/.theano/compiledir_Darwin-18.7.0-x86_64-i386-64bit-i386-3.7.7-64/tmp86keofcz/mod.cpp:482:13: error: non-constant-expression cannot be narrowed from type 'ssize_t' (aka 'long') to 'int' in initializer list [-Wc++11-narrowing]. V1_stride0, V1_stride1.             ^~~~~~~~~~. /Users/smullally/.theano/compiledir_Darwin-18.7.0-x86_64-i386-64bit-i386-3.7.7-64/tmp86keofcz/mod.cpp:482:13: note: insert an explicit cast to silence this issue. V1_stride0, V1_stride1.             ^~~~~~~~~~.             static_cast<int>( ). 4 errors generated.. \", '[Elemwise{mul,no_inplace}(TensorConstant{(1, 1) of -1.0}, TensorConstant{(1, 1) of ..4681328683})]')\n",
      "\n"
     ]
    },
    {
     "name": "stdout",
     "output_type": "stream",
     "text": [
      "\n",
      "You can find the C code in this temporary file: /var/folders/zx/326t4zzx4_l01j7_ng3c507c0001p0/T/theano_compilation_error_raiivwrw\n"
     ]
    },
    {
     "name": "stderr",
     "output_type": "stream",
     "text": [
      "ERROR (theano.gof.opt): Optimization failure due to: constant_folding\n",
      "ERROR (theano.gof.opt): node: Elemwise{second,no_inplace}(TensorConstant{[[-0.1    ..1       ]]}, TensorConstant{(1, 1) of 0.0})\n",
      "ERROR (theano.gof.opt): TRACEBACK:\n",
      "ERROR (theano.gof.opt): Traceback (most recent call last):\n",
      "  File \"/Users/smullally/anaconda/envs/tike38/lib/python3.7/site-packages/theano/gof/opt.py\", line 2034, in process_node\n",
      "    replacements = lopt.transform(node)\n",
      "  File \"/Users/smullally/anaconda/envs/tike38/lib/python3.7/site-packages/theano/tensor/opt.py\", line 6516, in constant_folding\n",
      "    no_recycling=[], impl=impl)\n",
      "  File \"/Users/smullally/anaconda/envs/tike38/lib/python3.7/site-packages/theano/gof/op.py\", line 955, in make_thunk\n",
      "    no_recycling)\n",
      "  File \"/Users/smullally/anaconda/envs/tike38/lib/python3.7/site-packages/theano/gof/op.py\", line 858, in make_c_thunk\n",
      "    output_storage=node_output_storage)\n",
      "  File \"/Users/smullally/anaconda/envs/tike38/lib/python3.7/site-packages/theano/gof/cc.py\", line 1217, in make_thunk\n",
      "    keep_lock=keep_lock)\n",
      "  File \"/Users/smullally/anaconda/envs/tike38/lib/python3.7/site-packages/theano/gof/cc.py\", line 1157, in __compile__\n",
      "    keep_lock=keep_lock)\n",
      "  File \"/Users/smullally/anaconda/envs/tike38/lib/python3.7/site-packages/theano/gof/cc.py\", line 1624, in cthunk_factory\n",
      "    key=key, lnk=self, keep_lock=keep_lock)\n",
      "  File \"/Users/smullally/anaconda/envs/tike38/lib/python3.7/site-packages/theano/gof/cmodule.py\", line 1189, in module_from_key\n",
      "    module = lnk.compile_cmodule(location)\n",
      "  File \"/Users/smullally/anaconda/envs/tike38/lib/python3.7/site-packages/theano/gof/cc.py\", line 1527, in compile_cmodule\n",
      "    preargs=preargs)\n",
      "  File \"/Users/smullally/anaconda/envs/tike38/lib/python3.7/site-packages/theano/gof/cmodule.py\", line 2399, in compile_str\n",
      "    (status, compile_stderr.replace('\\n', '. ')))\n",
      "Exception: (\"Compilation failed (return status=1): /Users/smullally/.theano/compiledir_Darwin-18.7.0-x86_64-i386-64bit-i386-3.7.7-64/tmpen_3ol25/mod.cpp:506:27: error: non-constant-expression cannot be narrowed from type 'npy_intp' (aka 'long') to 'int' in initializer list [-Wc++11-narrowing].     int init_totals[2] = {V3_n0, V1_n1};.                           ^~~~~. /Users/smullally/.theano/compiledir_Darwin-18.7.0-x86_64-i386-64bit-i386-3.7.7-64/tmpen_3ol25/mod.cpp:506:27: note: insert an explicit cast to silence this issue.     int init_totals[2] = {V3_n0, V1_n1};.                           ^~~~~.                           static_cast<int>( ). /Users/smullally/.theano/compiledir_Darwin-18.7.0-x86_64-i386-64bit-i386-3.7.7-64/tmpen_3ol25/mod.cpp:506:34: error: non-constant-expression cannot be narrowed from type 'npy_intp' (aka 'long') to 'int' in initializer list [-Wc++11-narrowing].     int init_totals[2] = {V3_n0, V1_n1};.                                  ^~~~~. /Users/smullally/.theano/compiledir_Darwin-18.7.0-x86_64-i386-64bit-i386-3.7.7-64/tmpen_3ol25/mod.cpp:506:34: note: insert an explicit cast to silence this issue.     int init_totals[2] = {V3_n0, V1_n1};.                                  ^~~~~.                                  static_cast<int>( ). /Users/smullally/.theano/compiledir_Darwin-18.7.0-x86_64-i386-64bit-i386-3.7.7-64/tmpen_3ol25/mod.cpp:518:9: error: non-constant-expression cannot be narrowed from type 'ssize_t' (aka 'long') to 'int' in initializer list [-Wc++11-narrowing].         V3_stride0, 0, .         ^~~~~~~~~~. /Users/smullally/.theano/compiledir_Darwin-18.7.0-x86_64-i386-64bit-i386-3.7.7-64/tmpen_3ol25/mod.cpp:518:9: note: insert an explicit cast to silence this issue.         V3_stride0, 0, .         ^~~~~~~~~~.         static_cast<int>( ). /Users/smullally/.theano/compiledir_Darwin-18.7.0-x86_64-i386-64bit-i386-3.7.7-64/tmpen_3ol25/mod.cpp:520:1: error: non-constant-expression cannot be narrowed from type 'ssize_t' (aka 'long') to 'int' in initializer list [-Wc++11-narrowing]. V1_stride0, V1_stride1. ^~~~~~~~~~. /Users/smullally/.theano/compiledir_Darwin-18.7.0-x86_64-i386-64bit-i386-3.7.7-64/tmpen_3ol25/mod.cpp:520:1: note: insert an explicit cast to silence this issue. V1_stride0, V1_stride1. ^~~~~~~~~~. static_cast<int>( ). /Users/smullally/.theano/compiledir_Darwin-18.7.0-x86_64-i386-64bit-i386-3.7.7-64/tmpen_3ol25/mod.cpp:520:13: error: non-constant-expression cannot be narrowed from type 'ssize_t' (aka 'long') to 'int' in initializer list [-Wc++11-narrowing]. V1_stride0, V1_stride1.             ^~~~~~~~~~. /Users/smullally/.theano/compiledir_Darwin-18.7.0-x86_64-i386-64bit-i386-3.7.7-64/tmpen_3ol25/mod.cpp:520:13: note: insert an explicit cast to silence this issue. V1_stride0, V1_stride1.             ^~~~~~~~~~.             static_cast<int>( ). 5 errors generated.. \", '[Elemwise{second,no_inplace}(TensorConstant{[[-0.1    ..1       ]]}, TensorConstant{(1, 1) of 0.0})]')\n",
      "\n"
     ]
    },
    {
     "name": "stdout",
     "output_type": "stream",
     "text": [
      "\n",
      "You can find the C code in this temporary file: /var/folders/zx/326t4zzx4_l01j7_ng3c507c0001p0/T/theano_compilation_error__rpkqv8r\n"
     ]
    },
    {
     "name": "stderr",
     "output_type": "stream",
     "text": [
      "ERROR (theano.gof.opt): Optimization failure due to: constant_folding\n",
      "ERROR (theano.gof.opt): node: Elemwise{second,no_inplace}(TensorConstant{(1, 1) of 0.1}, TensorConstant{(1, 1) of 0.0})\n",
      "ERROR (theano.gof.opt): TRACEBACK:\n",
      "ERROR (theano.gof.opt): Traceback (most recent call last):\n",
      "  File \"/Users/smullally/anaconda/envs/tike38/lib/python3.7/site-packages/theano/gof/opt.py\", line 2034, in process_node\n",
      "    replacements = lopt.transform(node)\n",
      "  File \"/Users/smullally/anaconda/envs/tike38/lib/python3.7/site-packages/theano/tensor/opt.py\", line 6516, in constant_folding\n",
      "    no_recycling=[], impl=impl)\n",
      "  File \"/Users/smullally/anaconda/envs/tike38/lib/python3.7/site-packages/theano/gof/op.py\", line 955, in make_thunk\n",
      "    no_recycling)\n",
      "  File \"/Users/smullally/anaconda/envs/tike38/lib/python3.7/site-packages/theano/gof/op.py\", line 858, in make_c_thunk\n",
      "    output_storage=node_output_storage)\n",
      "  File \"/Users/smullally/anaconda/envs/tike38/lib/python3.7/site-packages/theano/gof/cc.py\", line 1217, in make_thunk\n",
      "    keep_lock=keep_lock)\n",
      "  File \"/Users/smullally/anaconda/envs/tike38/lib/python3.7/site-packages/theano/gof/cc.py\", line 1157, in __compile__\n",
      "    keep_lock=keep_lock)\n",
      "  File \"/Users/smullally/anaconda/envs/tike38/lib/python3.7/site-packages/theano/gof/cc.py\", line 1624, in cthunk_factory\n",
      "    key=key, lnk=self, keep_lock=keep_lock)\n",
      "  File \"/Users/smullally/anaconda/envs/tike38/lib/python3.7/site-packages/theano/gof/cmodule.py\", line 1189, in module_from_key\n",
      "    module = lnk.compile_cmodule(location)\n",
      "  File \"/Users/smullally/anaconda/envs/tike38/lib/python3.7/site-packages/theano/gof/cc.py\", line 1527, in compile_cmodule\n",
      "    preargs=preargs)\n",
      "  File \"/Users/smullally/anaconda/envs/tike38/lib/python3.7/site-packages/theano/gof/cmodule.py\", line 2399, in compile_str\n",
      "    (status, compile_stderr.replace('\\n', '. ')))\n",
      "Exception: (\"Compilation failed (return status=1): /Users/smullally/.theano/compiledir_Darwin-18.7.0-x86_64-i386-64bit-i386-3.7.7-64/tmpqsvl0v85/mod.cpp:506:27: error: non-constant-expression cannot be narrowed from type 'npy_intp' (aka 'long') to 'int' in initializer list [-Wc++11-narrowing].     int init_totals[2] = {V1_n0, V3_n1};.                           ^~~~~. /Users/smullally/.theano/compiledir_Darwin-18.7.0-x86_64-i386-64bit-i386-3.7.7-64/tmpqsvl0v85/mod.cpp:506:27: note: insert an explicit cast to silence this issue.     int init_totals[2] = {V1_n0, V3_n1};.                           ^~~~~.                           static_cast<int>( ). /Users/smullally/.theano/compiledir_Darwin-18.7.0-x86_64-i386-64bit-i386-3.7.7-64/tmpqsvl0v85/mod.cpp:506:34: error: non-constant-expression cannot be narrowed from type 'npy_intp' (aka 'long') to 'int' in initializer list [-Wc++11-narrowing].     int init_totals[2] = {V1_n0, V3_n1};.                                  ^~~~~. /Users/smullally/.theano/compiledir_Darwin-18.7.0-x86_64-i386-64bit-i386-3.7.7-64/tmpqsvl0v85/mod.cpp:506:34: note: insert an explicit cast to silence this issue.     int init_totals[2] = {V1_n0, V3_n1};.                                  ^~~~~.                                  static_cast<int>( ). /Users/smullally/.theano/compiledir_Darwin-18.7.0-x86_64-i386-64bit-i386-3.7.7-64/tmpqsvl0v85/mod.cpp:518:12: error: non-constant-expression cannot be narrowed from type 'ssize_t' (aka 'long') to 'int' in initializer list [-Wc++11-narrowing].         0, V3_stride1, .            ^~~~~~~~~~. /Users/smullally/.theano/compiledir_Darwin-18.7.0-x86_64-i386-64bit-i386-3.7.7-64/tmpqsvl0v85/mod.cpp:518:12: note: insert an explicit cast to silence this issue.         0, V3_stride1, .            ^~~~~~~~~~.            static_cast<int>( ). /Users/smullally/.theano/compiledir_Darwin-18.7.0-x86_64-i386-64bit-i386-3.7.7-64/tmpqsvl0v85/mod.cpp:520:1: error: non-constant-expression cannot be narrowed from type 'ssize_t' (aka 'long') to 'int' in initializer list [-Wc++11-narrowing]. V1_stride0, V1_stride1. ^~~~~~~~~~. /Users/smullally/.theano/compiledir_Darwin-18.7.0-x86_64-i386-64bit-i386-3.7.7-64/tmpqsvl0v85/mod.cpp:520:1: note: insert an explicit cast to silence this issue. V1_stride0, V1_stride1. ^~~~~~~~~~. static_cast<int>( ). /Users/smullally/.theano/compiledir_Darwin-18.7.0-x86_64-i386-64bit-i386-3.7.7-64/tmpqsvl0v85/mod.cpp:520:13: error: non-constant-expression cannot be narrowed from type 'ssize_t' (aka 'long') to 'int' in initializer list [-Wc++11-narrowing]. V1_stride0, V1_stride1.             ^~~~~~~~~~. /Users/smullally/.theano/compiledir_Darwin-18.7.0-x86_64-i386-64bit-i386-3.7.7-64/tmpqsvl0v85/mod.cpp:520:13: note: insert an explicit cast to silence this issue. V1_stride0, V1_stride1.             ^~~~~~~~~~.             static_cast<int>( ). 5 errors generated.. \", '[Elemwise{second,no_inplace}(TensorConstant{(1, 1) of 0.1}, TensorConstant{(1, 1) of 0.0})]')\n",
      "\n"
     ]
    },
    {
     "name": "stdout",
     "output_type": "stream",
     "text": [
      "\n",
      "You can find the C code in this temporary file: /var/folders/zx/326t4zzx4_l01j7_ng3c507c0001p0/T/theano_compilation_error_jr0uh_5f\n"
     ]
    },
    {
     "name": "stderr",
     "output_type": "stream",
     "text": [
      "ERROR (theano.gof.opt): Optimization failure due to: constant_folding\n",
      "ERROR (theano.gof.opt): node: Elemwise{second,no_inplace}(TensorConstant{(1, 1) of ..2375883907}, TensorConstant{(1, 1) of ..2375883906})\n",
      "ERROR (theano.gof.opt): TRACEBACK:\n",
      "ERROR (theano.gof.opt): Traceback (most recent call last):\n",
      "  File \"/Users/smullally/anaconda/envs/tike38/lib/python3.7/site-packages/theano/gof/opt.py\", line 2034, in process_node\n",
      "    replacements = lopt.transform(node)\n",
      "  File \"/Users/smullally/anaconda/envs/tike38/lib/python3.7/site-packages/theano/tensor/opt.py\", line 6516, in constant_folding\n",
      "    no_recycling=[], impl=impl)\n",
      "  File \"/Users/smullally/anaconda/envs/tike38/lib/python3.7/site-packages/theano/gof/op.py\", line 955, in make_thunk\n",
      "    no_recycling)\n",
      "  File \"/Users/smullally/anaconda/envs/tike38/lib/python3.7/site-packages/theano/gof/op.py\", line 858, in make_c_thunk\n",
      "    output_storage=node_output_storage)\n",
      "  File \"/Users/smullally/anaconda/envs/tike38/lib/python3.7/site-packages/theano/gof/cc.py\", line 1217, in make_thunk\n",
      "    keep_lock=keep_lock)\n",
      "  File \"/Users/smullally/anaconda/envs/tike38/lib/python3.7/site-packages/theano/gof/cc.py\", line 1157, in __compile__\n",
      "    keep_lock=keep_lock)\n",
      "  File \"/Users/smullally/anaconda/envs/tike38/lib/python3.7/site-packages/theano/gof/cc.py\", line 1624, in cthunk_factory\n",
      "    key=key, lnk=self, keep_lock=keep_lock)\n",
      "  File \"/Users/smullally/anaconda/envs/tike38/lib/python3.7/site-packages/theano/gof/cmodule.py\", line 1189, in module_from_key\n",
      "    module = lnk.compile_cmodule(location)\n",
      "  File \"/Users/smullally/anaconda/envs/tike38/lib/python3.7/site-packages/theano/gof/cc.py\", line 1527, in compile_cmodule\n",
      "    preargs=preargs)\n",
      "  File \"/Users/smullally/anaconda/envs/tike38/lib/python3.7/site-packages/theano/gof/cmodule.py\", line 2399, in compile_str\n",
      "    (status, compile_stderr.replace('\\n', '. ')))\n",
      "Exception: (\"Compilation failed (return status=1): /Users/smullally/.theano/compiledir_Darwin-18.7.0-x86_64-i386-64bit-i386-3.7.7-64/tmph5nqn2ye/mod.cpp:506:27: error: non-constant-expression cannot be narrowed from type 'npy_intp' (aka 'long') to 'int' in initializer list [-Wc++11-narrowing].     int init_totals[2] = {V1_n0, V3_n1};.                           ^~~~~. /Users/smullally/.theano/compiledir_Darwin-18.7.0-x86_64-i386-64bit-i386-3.7.7-64/tmph5nqn2ye/mod.cpp:506:27: note: insert an explicit cast to silence this issue.     int init_totals[2] = {V1_n0, V3_n1};.                           ^~~~~.                           static_cast<int>( ). /Users/smullally/.theano/compiledir_Darwin-18.7.0-x86_64-i386-64bit-i386-3.7.7-64/tmph5nqn2ye/mod.cpp:506:34: error: non-constant-expression cannot be narrowed from type 'npy_intp' (aka 'long') to 'int' in initializer list [-Wc++11-narrowing].     int init_totals[2] = {V1_n0, V3_n1};.                                  ^~~~~. /Users/smullally/.theano/compiledir_Darwin-18.7.0-x86_64-i386-64bit-i386-3.7.7-64/tmph5nqn2ye/mod.cpp:506:34: note: insert an explicit cast to silence this issue.     int init_totals[2] = {V1_n0, V3_n1};.                                  ^~~~~.                                  static_cast<int>( ). /Users/smullally/.theano/compiledir_Darwin-18.7.0-x86_64-i386-64bit-i386-3.7.7-64/tmph5nqn2ye/mod.cpp:518:12: error: non-constant-expression cannot be narrowed from type 'ssize_t' (aka 'long') to 'int' in initializer list [-Wc++11-narrowing].         0, V3_stride1, .            ^~~~~~~~~~. /Users/smullally/.theano/compiledir_Darwin-18.7.0-x86_64-i386-64bit-i386-3.7.7-64/tmph5nqn2ye/mod.cpp:518:12: note: insert an explicit cast to silence this issue.         0, V3_stride1, .            ^~~~~~~~~~.            static_cast<int>( ). /Users/smullally/.theano/compiledir_Darwin-18.7.0-x86_64-i386-64bit-i386-3.7.7-64/tmph5nqn2ye/mod.cpp:520:1: error: non-constant-expression cannot be narrowed from type 'ssize_t' (aka 'long') to 'int' in initializer list [-Wc++11-narrowing]. V1_stride0, V1_stride1. ^~~~~~~~~~. /Users/smullally/.theano/compiledir_Darwin-18.7.0-x86_64-i386-64bit-i386-3.7.7-64/tmph5nqn2ye/mod.cpp:520:1: note: insert an explicit cast to silence this issue. V1_stride0, V1_stride1. ^~~~~~~~~~. static_cast<int>( ). /Users/smullally/.theano/compiledir_Darwin-18.7.0-x86_64-i386-64bit-i386-3.7.7-64/tmph5nqn2ye/mod.cpp:520:13: error: non-constant-expression cannot be narrowed from type 'ssize_t' (aka 'long') to 'int' in initializer list [-Wc++11-narrowing]. V1_stride0, V1_stride1.             ^~~~~~~~~~. /Users/smullally/.theano/compiledir_Darwin-18.7.0-x86_64-i386-64bit-i386-3.7.7-64/tmph5nqn2ye/mod.cpp:520:13: note: insert an explicit cast to silence this issue. V1_stride0, V1_stride1.             ^~~~~~~~~~.             static_cast<int>( ). 5 errors generated.. \", '[Elemwise{second,no_inplace}(TensorConstant{(1, 1) of ..2375883907}, TensorConstant{(1, 1) of ..2375883906})]')\n",
      "\n"
     ]
    },
    {
     "name": "stdout",
     "output_type": "stream",
     "text": [
      "\n",
      "You can find the C code in this temporary file: /var/folders/zx/326t4zzx4_l01j7_ng3c507c0001p0/T/theano_compilation_error_lwdacyy9\n"
     ]
    },
    {
     "name": "stderr",
     "output_type": "stream",
     "text": [
      "ERROR (theano.gof.opt): Optimization failure due to: constant_folding\n",
      "ERROR (theano.gof.opt): node: Elemwise{add,no_inplace}(TensorConstant{(1, 1) of 1.728}, TensorConstant{[[-0.1    ..1       ]]})\n",
      "ERROR (theano.gof.opt): TRACEBACK:\n",
      "ERROR (theano.gof.opt): Traceback (most recent call last):\n",
      "  File \"/Users/smullally/anaconda/envs/tike38/lib/python3.7/site-packages/theano/gof/opt.py\", line 2034, in process_node\n",
      "    replacements = lopt.transform(node)\n",
      "  File \"/Users/smullally/anaconda/envs/tike38/lib/python3.7/site-packages/theano/tensor/opt.py\", line 6516, in constant_folding\n",
      "    no_recycling=[], impl=impl)\n",
      "  File \"/Users/smullally/anaconda/envs/tike38/lib/python3.7/site-packages/theano/gof/op.py\", line 955, in make_thunk\n",
      "    no_recycling)\n",
      "  File \"/Users/smullally/anaconda/envs/tike38/lib/python3.7/site-packages/theano/gof/op.py\", line 858, in make_c_thunk\n",
      "    output_storage=node_output_storage)\n",
      "  File \"/Users/smullally/anaconda/envs/tike38/lib/python3.7/site-packages/theano/gof/cc.py\", line 1217, in make_thunk\n",
      "    keep_lock=keep_lock)\n",
      "  File \"/Users/smullally/anaconda/envs/tike38/lib/python3.7/site-packages/theano/gof/cc.py\", line 1157, in __compile__\n",
      "    keep_lock=keep_lock)\n",
      "  File \"/Users/smullally/anaconda/envs/tike38/lib/python3.7/site-packages/theano/gof/cc.py\", line 1624, in cthunk_factory\n",
      "    key=key, lnk=self, keep_lock=keep_lock)\n",
      "  File \"/Users/smullally/anaconda/envs/tike38/lib/python3.7/site-packages/theano/gof/cmodule.py\", line 1189, in module_from_key\n",
      "    module = lnk.compile_cmodule(location)\n",
      "  File \"/Users/smullally/anaconda/envs/tike38/lib/python3.7/site-packages/theano/gof/cc.py\", line 1527, in compile_cmodule\n",
      "    preargs=preargs)\n",
      "  File \"/Users/smullally/anaconda/envs/tike38/lib/python3.7/site-packages/theano/gof/cmodule.py\", line 2399, in compile_str\n",
      "    (status, compile_stderr.replace('\\n', '. ')))\n",
      "Exception: (\"Compilation failed (return status=1): /Users/smullally/.theano/compiledir_Darwin-18.7.0-x86_64-i386-64bit-i386-3.7.7-64/tmp_111fcv1/mod.cpp:506:27: error: non-constant-expression cannot be narrowed from type 'npy_intp' (aka 'long') to 'int' in initializer list [-Wc++11-narrowing].     int init_totals[2] = {V5_n0, V1_n1};.                           ^~~~~. /Users/smullally/.theano/compiledir_Darwin-18.7.0-x86_64-i386-64bit-i386-3.7.7-64/tmp_111fcv1/mod.cpp:506:27: note: insert an explicit cast to silence this issue.     int init_totals[2] = {V5_n0, V1_n1};.                           ^~~~~.                           static_cast<int>( ). /Users/smullally/.theano/compiledir_Darwin-18.7.0-x86_64-i386-64bit-i386-3.7.7-64/tmp_111fcv1/mod.cpp:506:34: error: non-constant-expression cannot be narrowed from type 'npy_intp' (aka 'long') to 'int' in initializer list [-Wc++11-narrowing].     int init_totals[2] = {V5_n0, V1_n1};.                                  ^~~~~. /Users/smullally/.theano/compiledir_Darwin-18.7.0-x86_64-i386-64bit-i386-3.7.7-64/tmp_111fcv1/mod.cpp:506:34: note: insert an explicit cast to silence this issue.     int init_totals[2] = {V5_n0, V1_n1};.                                  ^~~~~.                                  static_cast<int>( ). /Users/smullally/.theano/compiledir_Darwin-18.7.0-x86_64-i386-64bit-i386-3.7.7-64/tmp_111fcv1/mod.cpp:519:1: error: non-constant-expression cannot be narrowed from type 'ssize_t' (aka 'long') to 'int' in initializer list [-Wc++11-narrowing]. V5_stride0, 0, . ^~~~~~~~~~. /Users/smullally/.theano/compiledir_Darwin-18.7.0-x86_64-i386-64bit-i386-3.7.7-64/tmp_111fcv1/mod.cpp:519:1: note: insert an explicit cast to silence this issue. V5_stride0, 0, . ^~~~~~~~~~. static_cast<int>( ). /Users/smullally/.theano/compiledir_Darwin-18.7.0-x86_64-i386-64bit-i386-3.7.7-64/tmp_111fcv1/mod.cpp:520:1: error: non-constant-expression cannot be narrowed from type 'ssize_t' (aka 'long') to 'int' in initializer list [-Wc++11-narrowing]. V1_stride0, V1_stride1. ^~~~~~~~~~. /Users/smullally/.theano/compiledir_Darwin-18.7.0-x86_64-i386-64bit-i386-3.7.7-64/tmp_111fcv1/mod.cpp:520:1: note: insert an explicit cast to silence this issue. V1_stride0, V1_stride1. ^~~~~~~~~~. static_cast<int>( ). /Users/smullally/.theano/compiledir_Darwin-18.7.0-x86_64-i386-64bit-i386-3.7.7-64/tmp_111fcv1/mod.cpp:520:13: error: non-constant-expression cannot be narrowed from type 'ssize_t' (aka 'long') to 'int' in initializer list [-Wc++11-narrowing]. V1_stride0, V1_stride1.             ^~~~~~~~~~. /Users/smullally/.theano/compiledir_Darwin-18.7.0-x86_64-i386-64bit-i386-3.7.7-64/tmp_111fcv1/mod.cpp:520:13: note: insert an explicit cast to silence this issue. V1_stride0, V1_stride1.             ^~~~~~~~~~.             static_cast<int>( ). 5 errors generated.. \", '[Elemwise{add,no_inplace}(TensorConstant{(1, 1) of 1.728}, TensorConstant{[[-0.1    ..1       ]]})]')\n",
      "\n"
     ]
    },
    {
     "name": "stdout",
     "output_type": "stream",
     "text": [
      "\n",
      "You can find the C code in this temporary file: /var/folders/zx/326t4zzx4_l01j7_ng3c507c0001p0/T/theano_compilation_error_qiw2p8uo\n"
     ]
    },
    {
     "name": "stderr",
     "output_type": "stream",
     "text": [
      "ERROR (theano.gof.opt): Optimization failure due to: constant_folding\n",
      "ERROR (theano.gof.opt): node: Elemwise{second,no_inplace}(TensorConstant{(1, 1) of ..2375883907}, TensorConstant{(1, 1) of ..2375883906})\n",
      "ERROR (theano.gof.opt): TRACEBACK:\n",
      "ERROR (theano.gof.opt): Traceback (most recent call last):\n",
      "  File \"/Users/smullally/anaconda/envs/tike38/lib/python3.7/site-packages/theano/gof/opt.py\", line 2034, in process_node\n",
      "    replacements = lopt.transform(node)\n",
      "  File \"/Users/smullally/anaconda/envs/tike38/lib/python3.7/site-packages/theano/tensor/opt.py\", line 6516, in constant_folding\n",
      "    no_recycling=[], impl=impl)\n",
      "  File \"/Users/smullally/anaconda/envs/tike38/lib/python3.7/site-packages/theano/gof/op.py\", line 955, in make_thunk\n",
      "    no_recycling)\n",
      "  File \"/Users/smullally/anaconda/envs/tike38/lib/python3.7/site-packages/theano/gof/op.py\", line 858, in make_c_thunk\n",
      "    output_storage=node_output_storage)\n",
      "  File \"/Users/smullally/anaconda/envs/tike38/lib/python3.7/site-packages/theano/gof/cc.py\", line 1217, in make_thunk\n",
      "    keep_lock=keep_lock)\n",
      "  File \"/Users/smullally/anaconda/envs/tike38/lib/python3.7/site-packages/theano/gof/cc.py\", line 1157, in __compile__\n",
      "    keep_lock=keep_lock)\n",
      "  File \"/Users/smullally/anaconda/envs/tike38/lib/python3.7/site-packages/theano/gof/cc.py\", line 1624, in cthunk_factory\n",
      "    key=key, lnk=self, keep_lock=keep_lock)\n",
      "  File \"/Users/smullally/anaconda/envs/tike38/lib/python3.7/site-packages/theano/gof/cmodule.py\", line 1189, in module_from_key\n",
      "    module = lnk.compile_cmodule(location)\n",
      "  File \"/Users/smullally/anaconda/envs/tike38/lib/python3.7/site-packages/theano/gof/cc.py\", line 1527, in compile_cmodule\n",
      "    preargs=preargs)\n",
      "  File \"/Users/smullally/anaconda/envs/tike38/lib/python3.7/site-packages/theano/gof/cmodule.py\", line 2399, in compile_str\n",
      "    (status, compile_stderr.replace('\\n', '. ')))\n",
      "Exception: (\"Compilation failed (return status=1): /Users/smullally/.theano/compiledir_Darwin-18.7.0-x86_64-i386-64bit-i386-3.7.7-64/tmp2cmvx5s2/mod.cpp:506:27: error: non-constant-expression cannot be narrowed from type 'npy_intp' (aka 'long') to 'int' in initializer list [-Wc++11-narrowing].     int init_totals[2] = {V1_n0, V3_n1};.                           ^~~~~. /Users/smullally/.theano/compiledir_Darwin-18.7.0-x86_64-i386-64bit-i386-3.7.7-64/tmp2cmvx5s2/mod.cpp:506:27: note: insert an explicit cast to silence this issue.     int init_totals[2] = {V1_n0, V3_n1};.                           ^~~~~.                           static_cast<int>( ). /Users/smullally/.theano/compiledir_Darwin-18.7.0-x86_64-i386-64bit-i386-3.7.7-64/tmp2cmvx5s2/mod.cpp:506:34: error: non-constant-expression cannot be narrowed from type 'npy_intp' (aka 'long') to 'int' in initializer list [-Wc++11-narrowing].     int init_totals[2] = {V1_n0, V3_n1};.                                  ^~~~~. /Users/smullally/.theano/compiledir_Darwin-18.7.0-x86_64-i386-64bit-i386-3.7.7-64/tmp2cmvx5s2/mod.cpp:506:34: note: insert an explicit cast to silence this issue.     int init_totals[2] = {V1_n0, V3_n1};.                                  ^~~~~.                                  static_cast<int>( ). /Users/smullally/.theano/compiledir_Darwin-18.7.0-x86_64-i386-64bit-i386-3.7.7-64/tmp2cmvx5s2/mod.cpp:518:12: error: non-constant-expression cannot be narrowed from type 'ssize_t' (aka 'long') to 'int' in initializer list [-Wc++11-narrowing].         0, V3_stride1, .            ^~~~~~~~~~. /Users/smullally/.theano/compiledir_Darwin-18.7.0-x86_64-i386-64bit-i386-3.7.7-64/tmp2cmvx5s2/mod.cpp:518:12: note: insert an explicit cast to silence this issue.         0, V3_stride1, .            ^~~~~~~~~~.            static_cast<int>( ). /Users/smullally/.theano/compiledir_Darwin-18.7.0-x86_64-i386-64bit-i386-3.7.7-64/tmp2cmvx5s2/mod.cpp:520:1: error: non-constant-expression cannot be narrowed from type 'ssize_t' (aka 'long') to 'int' in initializer list [-Wc++11-narrowing]. V1_stride0, V1_stride1. ^~~~~~~~~~. /Users/smullally/.theano/compiledir_Darwin-18.7.0-x86_64-i386-64bit-i386-3.7.7-64/tmp2cmvx5s2/mod.cpp:520:1: note: insert an explicit cast to silence this issue. V1_stride0, V1_stride1. ^~~~~~~~~~. static_cast<int>( ). /Users/smullally/.theano/compiledir_Darwin-18.7.0-x86_64-i386-64bit-i386-3.7.7-64/tmp2cmvx5s2/mod.cpp:520:13: error: non-constant-expression cannot be narrowed from type 'ssize_t' (aka 'long') to 'int' in initializer list [-Wc++11-narrowing]. V1_stride0, V1_stride1.             ^~~~~~~~~~. /Users/smullally/.theano/compiledir_Darwin-18.7.0-x86_64-i386-64bit-i386-3.7.7-64/tmp2cmvx5s2/mod.cpp:520:13: note: insert an explicit cast to silence this issue. V1_stride0, V1_stride1.             ^~~~~~~~~~.             static_cast<int>( ). 5 errors generated.. \", '[Elemwise{second,no_inplace}(TensorConstant{(1, 1) of ..2375883907}, TensorConstant{(1, 1) of ..2375883906})]')\n",
      "\n"
     ]
    },
    {
     "name": "stdout",
     "output_type": "stream",
     "text": [
      "\n",
      "You can find the C code in this temporary file: /var/folders/zx/326t4zzx4_l01j7_ng3c507c0001p0/T/theano_compilation_error_czpih1u4\n"
     ]
    },
    {
     "name": "stderr",
     "output_type": "stream",
     "text": [
      "ERROR (theano.gof.opt): Optimization failure due to: constant_folding\n",
      "ERROR (theano.gof.opt): node: Elemwise{mul,no_inplace}(TensorConstant{(1, 1, 1) of 0.02}, TensorConstant{[[[-0.4285..2857143]]]})\n",
      "ERROR (theano.gof.opt): TRACEBACK:\n",
      "ERROR (theano.gof.opt): Traceback (most recent call last):\n",
      "  File \"/Users/smullally/anaconda/envs/tike38/lib/python3.7/site-packages/theano/gof/opt.py\", line 2034, in process_node\n",
      "    replacements = lopt.transform(node)\n",
      "  File \"/Users/smullally/anaconda/envs/tike38/lib/python3.7/site-packages/theano/tensor/opt.py\", line 6516, in constant_folding\n",
      "    no_recycling=[], impl=impl)\n",
      "  File \"/Users/smullally/anaconda/envs/tike38/lib/python3.7/site-packages/theano/gof/op.py\", line 955, in make_thunk\n",
      "    no_recycling)\n",
      "  File \"/Users/smullally/anaconda/envs/tike38/lib/python3.7/site-packages/theano/gof/op.py\", line 858, in make_c_thunk\n",
      "    output_storage=node_output_storage)\n",
      "  File \"/Users/smullally/anaconda/envs/tike38/lib/python3.7/site-packages/theano/gof/cc.py\", line 1217, in make_thunk\n",
      "    keep_lock=keep_lock)\n",
      "  File \"/Users/smullally/anaconda/envs/tike38/lib/python3.7/site-packages/theano/gof/cc.py\", line 1157, in __compile__\n",
      "    keep_lock=keep_lock)\n",
      "  File \"/Users/smullally/anaconda/envs/tike38/lib/python3.7/site-packages/theano/gof/cc.py\", line 1624, in cthunk_factory\n",
      "    key=key, lnk=self, keep_lock=keep_lock)\n",
      "  File \"/Users/smullally/anaconda/envs/tike38/lib/python3.7/site-packages/theano/gof/cmodule.py\", line 1189, in module_from_key\n",
      "    module = lnk.compile_cmodule(location)\n",
      "  File \"/Users/smullally/anaconda/envs/tike38/lib/python3.7/site-packages/theano/gof/cc.py\", line 1527, in compile_cmodule\n",
      "    preargs=preargs)\n",
      "  File \"/Users/smullally/anaconda/envs/tike38/lib/python3.7/site-packages/theano/gof/cmodule.py\", line 2399, in compile_str\n",
      "    (status, compile_stderr.replace('\\n', '. ')))\n",
      "Exception: (\"Compilation failed (return status=1): /Users/smullally/.theano/compiledir_Darwin-18.7.0-x86_64-i386-64bit-i386-3.7.7-64/tmpbekcwzvc/mod.cpp:528:27: error: non-constant-expression cannot be narrowed from type 'npy_intp' (aka 'long') to 'int' in initializer list [-Wc++11-narrowing].     int init_totals[3] = {V1_n0, V5_n1, V1_n2};.                           ^~~~~. /Users/smullally/.theano/compiledir_Darwin-18.7.0-x86_64-i386-64bit-i386-3.7.7-64/tmpbekcwzvc/mod.cpp:528:27: note: insert an explicit cast to silence this issue.     int init_totals[3] = {V1_n0, V5_n1, V1_n2};.                           ^~~~~.                           static_cast<int>( ). /Users/smullally/.theano/compiledir_Darwin-18.7.0-x86_64-i386-64bit-i386-3.7.7-64/tmpbekcwzvc/mod.cpp:528:34: error: non-constant-expression cannot be narrowed from type 'npy_intp' (aka 'long') to 'int' in initializer list [-Wc++11-narrowing].     int init_totals[3] = {V1_n0, V5_n1, V1_n2};.                                  ^~~~~. /Users/smullally/.theano/compiledir_Darwin-18.7.0-x86_64-i386-64bit-i386-3.7.7-64/tmpbekcwzvc/mod.cpp:528:34: note: insert an explicit cast to silence this issue.     int init_totals[3] = {V1_n0, V5_n1, V1_n2};.                                  ^~~~~.                                  static_cast<int>( ). /Users/smullally/.theano/compiledir_Darwin-18.7.0-x86_64-i386-64bit-i386-3.7.7-64/tmpbekcwzvc/mod.cpp:528:41: error: non-constant-expression cannot be narrowed from type 'npy_intp' (aka 'long') to 'int' in initializer list [-Wc++11-narrowing].     int init_totals[3] = {V1_n0, V5_n1, V1_n2};.                                         ^~~~~. /Users/smullally/.theano/compiledir_Darwin-18.7.0-x86_64-i386-64bit-i386-3.7.7-64/tmpbekcwzvc/mod.cpp:528:41: note: insert an explicit cast to silence this issue.     int init_totals[3] = {V1_n0, V5_n1, V1_n2};.                                         ^~~~~.                                         static_cast<int>( ). /Users/smullally/.theano/compiledir_Darwin-18.7.0-x86_64-i386-64bit-i386-3.7.7-64/tmpbekcwzvc/mod.cpp:544:4: error: non-constant-expression cannot be narrowed from type 'ssize_t' (aka 'long') to 'int' in initializer list [-Wc++11-narrowing]. 0, V5_stride1, 0, .    ^~~~~~~~~~. /Users/smullally/.theano/compiledir_Darwin-18.7.0-x86_64-i386-64bit-i386-3.7.7-64/tmpbekcwzvc/mod.cpp:544:4: note: insert an explicit cast to silence this issue. 0, V5_stride1, 0, .    ^~~~~~~~~~.    static_cast<int>( ). /Users/smullally/.theano/compiledir_Darwin-18.7.0-x86_64-i386-64bit-i386-3.7.7-64/tmpbekcwzvc/mod.cpp:545:1: error: non-constant-expression cannot be narrowed from type 'ssize_t' (aka 'long') to 'int' in initializer list [-Wc++11-narrowing]. V1_stride0, V1_stride1, V1_stride2. ^~~~~~~~~~. /Users/smullally/.theano/compiledir_Darwin-18.7.0-x86_64-i386-64bit-i386-3.7.7-64/tmpbekcwzvc/mod.cpp:545:1: note: insert an explicit cast to silence this issue. V1_stride0, V1_stride1, V1_stride2. ^~~~~~~~~~. static_cast<int>( ). /Users/smullally/.theano/compiledir_Darwin-18.7.0-x86_64-i386-64bit-i386-3.7.7-64/tmpbekcwzvc/mod.cpp:545:13: error: non-constant-expression cannot be narrowed from type 'ssize_t' (aka 'long') to 'int' in initializer list [-Wc++11-narrowing]. V1_stride0, V1_stride1, V1_stride2.             ^~~~~~~~~~. /Users/smullally/.theano/compiledir_Darwin-18.7.0-x86_64-i386-64bit-i386-3.7.7-64/tmpbekcwzvc/mod.cpp:545:13: note: insert an explicit cast to silence this issue. V1_stride0, V1_stride1, V1_stride2.             ^~~~~~~~~~.             static_cast<int>( ). /Users/smullally/.theano/compiledir_Darwin-18.7.0-x86_64-i386-64bit-i386-3.7.7-64/tmpbekcwzvc/mod.cpp:545:25: error: non-constant-expression cannot be narrowed from type 'ssize_t' (aka 'long') to 'int' in initializer list [-Wc++11-narrowing]. V1_stride0, V1_stride1, V1_stride2.                         ^~~~~~~~~~. /Users/smullally/.theano/compiledir_Darwin-18.7.0-x86_64-i386-64bit-i386-3.7.7-64/tmpbekcwzvc/mod.cpp:545:25: note: insert an explicit cast to silence this issue. V1_stride0, V1_stride1, V1_stride2.                         ^~~~~~~~~~.                         static_cast<int>( ). 7 errors generated.. \", '[Elemwise{mul,no_inplace}(TensorConstant{(1, 1, 1) of 0.02}, TensorConstant{[[[-0.4285..2857143]]]})]')\n",
      "\n"
     ]
    },
    {
     "name": "stdout",
     "output_type": "stream",
     "text": [
      "\n",
      "You can find the C code in this temporary file: /var/folders/zx/326t4zzx4_l01j7_ng3c507c0001p0/T/theano_compilation_error_x3fedhpi\n"
     ]
    },
    {
     "name": "stderr",
     "output_type": "stream",
     "text": [
      "ERROR (theano.gof.opt): Optimization failure due to: constant_folding\n",
      "ERROR (theano.gof.opt): node: Elemwise{second,no_inplace}(TensorConstant{(1, 1, 1) of 0.1}, TensorConstant{(1, 1, 1) of 0.1})\n",
      "ERROR (theano.gof.opt): TRACEBACK:\n",
      "ERROR (theano.gof.opt): Traceback (most recent call last):\n",
      "  File \"/Users/smullally/anaconda/envs/tike38/lib/python3.7/site-packages/theano/gof/opt.py\", line 2034, in process_node\n",
      "    replacements = lopt.transform(node)\n",
      "  File \"/Users/smullally/anaconda/envs/tike38/lib/python3.7/site-packages/theano/tensor/opt.py\", line 6516, in constant_folding\n",
      "    no_recycling=[], impl=impl)\n",
      "  File \"/Users/smullally/anaconda/envs/tike38/lib/python3.7/site-packages/theano/gof/op.py\", line 955, in make_thunk\n",
      "    no_recycling)\n",
      "  File \"/Users/smullally/anaconda/envs/tike38/lib/python3.7/site-packages/theano/gof/op.py\", line 858, in make_c_thunk\n",
      "    output_storage=node_output_storage)\n",
      "  File \"/Users/smullally/anaconda/envs/tike38/lib/python3.7/site-packages/theano/gof/cc.py\", line 1217, in make_thunk\n",
      "    keep_lock=keep_lock)\n",
      "  File \"/Users/smullally/anaconda/envs/tike38/lib/python3.7/site-packages/theano/gof/cc.py\", line 1157, in __compile__\n",
      "    keep_lock=keep_lock)\n",
      "  File \"/Users/smullally/anaconda/envs/tike38/lib/python3.7/site-packages/theano/gof/cc.py\", line 1624, in cthunk_factory\n",
      "    key=key, lnk=self, keep_lock=keep_lock)\n",
      "  File \"/Users/smullally/anaconda/envs/tike38/lib/python3.7/site-packages/theano/gof/cmodule.py\", line 1189, in module_from_key\n",
      "    module = lnk.compile_cmodule(location)\n",
      "  File \"/Users/smullally/anaconda/envs/tike38/lib/python3.7/site-packages/theano/gof/cc.py\", line 1527, in compile_cmodule\n",
      "    preargs=preargs)\n",
      "  File \"/Users/smullally/anaconda/envs/tike38/lib/python3.7/site-packages/theano/gof/cmodule.py\", line 2399, in compile_str\n",
      "    (status, compile_stderr.replace('\\n', '. ')))\n",
      "Exception: (\"Compilation failed (return status=1): /Users/smullally/.theano/compiledir_Darwin-18.7.0-x86_64-i386-64bit-i386-3.7.7-64/tmpl500nfoe/mod.cpp:528:27: error: non-constant-expression cannot be narrowed from type 'npy_intp' (aka 'long') to 'int' in initializer list [-Wc++11-narrowing].     int init_totals[3] = {V1_n0, V1_n1, V3_n2};.                           ^~~~~. /Users/smullally/.theano/compiledir_Darwin-18.7.0-x86_64-i386-64bit-i386-3.7.7-64/tmpl500nfoe/mod.cpp:528:27: note: insert an explicit cast to silence this issue.     int init_totals[3] = {V1_n0, V1_n1, V3_n2};.                           ^~~~~.                           static_cast<int>( ). /Users/smullally/.theano/compiledir_Darwin-18.7.0-x86_64-i386-64bit-i386-3.7.7-64/tmpl500nfoe/mod.cpp:528:34: error: non-constant-expression cannot be narrowed from type 'npy_intp' (aka 'long') to 'int' in initializer list [-Wc++11-narrowing].     int init_totals[3] = {V1_n0, V1_n1, V3_n2};.                                  ^~~~~. /Users/smullally/.theano/compiledir_Darwin-18.7.0-x86_64-i386-64bit-i386-3.7.7-64/tmpl500nfoe/mod.cpp:528:34: note: insert an explicit cast to silence this issue.     int init_totals[3] = {V1_n0, V1_n1, V3_n2};.                                  ^~~~~.                                  static_cast<int>( ). /Users/smullally/.theano/compiledir_Darwin-18.7.0-x86_64-i386-64bit-i386-3.7.7-64/tmpl500nfoe/mod.cpp:528:41: error: non-constant-expression cannot be narrowed from type 'npy_intp' (aka 'long') to 'int' in initializer list [-Wc++11-narrowing].     int init_totals[3] = {V1_n0, V1_n1, V3_n2};.                                         ^~~~~. /Users/smullally/.theano/compiledir_Darwin-18.7.0-x86_64-i386-64bit-i386-3.7.7-64/tmpl500nfoe/mod.cpp:528:41: note: insert an explicit cast to silence this issue.     int init_totals[3] = {V1_n0, V1_n1, V3_n2};.                                         ^~~~~.                                         static_cast<int>( ). /Users/smullally/.theano/compiledir_Darwin-18.7.0-x86_64-i386-64bit-i386-3.7.7-64/tmpl500nfoe/mod.cpp:543:15: error: non-constant-expression cannot be narrowed from type 'ssize_t' (aka 'long') to 'int' in initializer list [-Wc++11-narrowing].         0, 0, V3_stride2, .               ^~~~~~~~~~. /Users/smullally/.theano/compiledir_Darwin-18.7.0-x86_64-i386-64bit-i386-3.7.7-64/tmpl500nfoe/mod.cpp:543:15: note: insert an explicit cast to silence this issue.         0, 0, V3_stride2, .               ^~~~~~~~~~.               static_cast<int>( ). /Users/smullally/.theano/compiledir_Darwin-18.7.0-x86_64-i386-64bit-i386-3.7.7-64/tmpl500nfoe/mod.cpp:545:1: error: non-constant-expression cannot be narrowed from type 'ssize_t' (aka 'long') to 'int' in initializer list [-Wc++11-narrowing]. V1_stride0, V1_stride1, V1_stride2. ^~~~~~~~~~. /Users/smullally/.theano/compiledir_Darwin-18.7.0-x86_64-i386-64bit-i386-3.7.7-64/tmpl500nfoe/mod.cpp:545:1: note: insert an explicit cast to silence this issue. V1_stride0, V1_stride1, V1_stride2. ^~~~~~~~~~. static_cast<int>( ). /Users/smullally/.theano/compiledir_Darwin-18.7.0-x86_64-i386-64bit-i386-3.7.7-64/tmpl500nfoe/mod.cpp:545:13: error: non-constant-expression cannot be narrowed from type 'ssize_t' (aka 'long') to 'int' in initializer list [-Wc++11-narrowing]. V1_stride0, V1_stride1, V1_stride2.             ^~~~~~~~~~. /Users/smullally/.theano/compiledir_Darwin-18.7.0-x86_64-i386-64bit-i386-3.7.7-64/tmpl500nfoe/mod.cpp:545:13: note: insert an explicit cast to silence this issue. V1_stride0, V1_stride1, V1_stride2.             ^~~~~~~~~~.             static_cast<int>( ). /Users/smullally/.theano/compiledir_Darwin-18.7.0-x86_64-i386-64bit-i386-3.7.7-64/tmpl500nfoe/mod.cpp:545:25: error: non-constant-expression cannot be narrowed from type 'ssize_t' (aka 'long') to 'int' in initializer list [-Wc++11-narrowing]. V1_stride0, V1_stride1, V1_stride2.                         ^~~~~~~~~~. /Users/smullally/.theano/compiledir_Darwin-18.7.0-x86_64-i386-64bit-i386-3.7.7-64/tmpl500nfoe/mod.cpp:545:25: note: insert an explicit cast to silence this issue. V1_stride0, V1_stride1, V1_stride2.                         ^~~~~~~~~~.                         static_cast<int>( ). 7 errors generated.. \", '[Elemwise{second,no_inplace}(TensorConstant{(1, 1, 1) of 0.1}, TensorConstant{(1, 1, 1) of 0.1})]')\n",
      "\n"
     ]
    },
    {
     "name": "stdout",
     "output_type": "stream",
     "text": [
      "\n",
      "You can find the C code in this temporary file: /var/folders/zx/326t4zzx4_l01j7_ng3c507c0001p0/T/theano_compilation_error_9ml2326i\n"
     ]
    },
    {
     "name": "stderr",
     "output_type": "stream",
     "text": [
      "ERROR (theano.gof.opt): Optimization failure due to: constant_folding\n",
      "ERROR (theano.gof.opt): node: Elemwise{pow,no_inplace}(TensorConstant{(1, 1) of 0.0}, TensorConstant{(1, 1) of 2})\n",
      "ERROR (theano.gof.opt): TRACEBACK:\n",
      "ERROR (theano.gof.opt): Traceback (most recent call last):\n",
      "  File \"/Users/smullally/anaconda/envs/tike38/lib/python3.7/site-packages/theano/gof/opt.py\", line 2034, in process_node\n",
      "    replacements = lopt.transform(node)\n",
      "  File \"/Users/smullally/anaconda/envs/tike38/lib/python3.7/site-packages/theano/tensor/opt.py\", line 6516, in constant_folding\n",
      "    no_recycling=[], impl=impl)\n",
      "  File \"/Users/smullally/anaconda/envs/tike38/lib/python3.7/site-packages/theano/gof/op.py\", line 955, in make_thunk\n",
      "    no_recycling)\n",
      "  File \"/Users/smullally/anaconda/envs/tike38/lib/python3.7/site-packages/theano/gof/op.py\", line 858, in make_c_thunk\n",
      "    output_storage=node_output_storage)\n",
      "  File \"/Users/smullally/anaconda/envs/tike38/lib/python3.7/site-packages/theano/gof/cc.py\", line 1217, in make_thunk\n",
      "    keep_lock=keep_lock)\n",
      "  File \"/Users/smullally/anaconda/envs/tike38/lib/python3.7/site-packages/theano/gof/cc.py\", line 1157, in __compile__\n",
      "    keep_lock=keep_lock)\n",
      "  File \"/Users/smullally/anaconda/envs/tike38/lib/python3.7/site-packages/theano/gof/cc.py\", line 1624, in cthunk_factory\n",
      "    key=key, lnk=self, keep_lock=keep_lock)\n",
      "  File \"/Users/smullally/anaconda/envs/tike38/lib/python3.7/site-packages/theano/gof/cmodule.py\", line 1189, in module_from_key\n",
      "    module = lnk.compile_cmodule(location)\n",
      "  File \"/Users/smullally/anaconda/envs/tike38/lib/python3.7/site-packages/theano/gof/cc.py\", line 1527, in compile_cmodule\n",
      "    preargs=preargs)\n",
      "  File \"/Users/smullally/anaconda/envs/tike38/lib/python3.7/site-packages/theano/gof/cmodule.py\", line 2399, in compile_str\n",
      "    (status, compile_stderr.replace('\\n', '. ')))\n",
      "Exception: (\"Compilation failed (return status=1): /Users/smullally/.theano/compiledir_Darwin-18.7.0-x86_64-i386-64bit-i386-3.7.7-64/tmpy7ccswlq/mod.cpp:468:27: error: non-constant-expression cannot be narrowed from type 'npy_intp' (aka 'long') to 'int' in initializer list [-Wc++11-narrowing].     int init_totals[2] = {V1_n0, V1_n1};.                           ^~~~~. /Users/smullally/.theano/compiledir_Darwin-18.7.0-x86_64-i386-64bit-i386-3.7.7-64/tmpy7ccswlq/mod.cpp:468:27: note: insert an explicit cast to silence this issue.     int init_totals[2] = {V1_n0, V1_n1};.                           ^~~~~.                           static_cast<int>( ). /Users/smullally/.theano/compiledir_Darwin-18.7.0-x86_64-i386-64bit-i386-3.7.7-64/tmpy7ccswlq/mod.cpp:468:34: error: non-constant-expression cannot be narrowed from type 'npy_intp' (aka 'long') to 'int' in initializer list [-Wc++11-narrowing].     int init_totals[2] = {V1_n0, V1_n1};.                                  ^~~~~. /Users/smullally/.theano/compiledir_Darwin-18.7.0-x86_64-i386-64bit-i386-3.7.7-64/tmpy7ccswlq/mod.cpp:468:34: note: insert an explicit cast to silence this issue.     int init_totals[2] = {V1_n0, V1_n1};.                                  ^~~~~.                                  static_cast<int>( ). /Users/smullally/.theano/compiledir_Darwin-18.7.0-x86_64-i386-64bit-i386-3.7.7-64/tmpy7ccswlq/mod.cpp:482:1: error: non-constant-expression cannot be narrowed from type 'ssize_t' (aka 'long') to 'int' in initializer list [-Wc++11-narrowing]. V1_stride0, V1_stride1. ^~~~~~~~~~. /Users/smullally/.theano/compiledir_Darwin-18.7.0-x86_64-i386-64bit-i386-3.7.7-64/tmpy7ccswlq/mod.cpp:482:1: note: insert an explicit cast to silence this issue. V1_stride0, V1_stride1. ^~~~~~~~~~. static_cast<int>( ). /Users/smullally/.theano/compiledir_Darwin-18.7.0-x86_64-i386-64bit-i386-3.7.7-64/tmpy7ccswlq/mod.cpp:482:13: error: non-constant-expression cannot be narrowed from type 'ssize_t' (aka 'long') to 'int' in initializer list [-Wc++11-narrowing]. V1_stride0, V1_stride1.             ^~~~~~~~~~. /Users/smullally/.theano/compiledir_Darwin-18.7.0-x86_64-i386-64bit-i386-3.7.7-64/tmpy7ccswlq/mod.cpp:482:13: note: insert an explicit cast to silence this issue. V1_stride0, V1_stride1.             ^~~~~~~~~~.             static_cast<int>( ). 4 errors generated.. \", '[Elemwise{pow,no_inplace}(TensorConstant{(1, 1) of 0.0}, TensorConstant{(1, 1) of 2})]')\n",
      "\n"
     ]
    },
    {
     "name": "stdout",
     "output_type": "stream",
     "text": [
      "\n",
      "You can find the C code in this temporary file: /var/folders/zx/326t4zzx4_l01j7_ng3c507c0001p0/T/theano_compilation_error_t3ce4zhj\n"
     ]
    },
    {
     "name": "stderr",
     "output_type": "stream",
     "text": [
      "ERROR (theano.gof.opt): Optimization failure due to: constant_folding\n",
      "ERROR (theano.gof.opt): node: Elemwise{Cast{float64}}(TensorConstant{(1, 1) of 0.0})\n",
      "ERROR (theano.gof.opt): TRACEBACK:\n",
      "ERROR (theano.gof.opt): Traceback (most recent call last):\n",
      "  File \"/Users/smullally/anaconda/envs/tike38/lib/python3.7/site-packages/theano/gof/opt.py\", line 2034, in process_node\n",
      "    replacements = lopt.transform(node)\n",
      "  File \"/Users/smullally/anaconda/envs/tike38/lib/python3.7/site-packages/theano/tensor/opt.py\", line 6516, in constant_folding\n",
      "    no_recycling=[], impl=impl)\n",
      "  File \"/Users/smullally/anaconda/envs/tike38/lib/python3.7/site-packages/theano/gof/op.py\", line 955, in make_thunk\n",
      "    no_recycling)\n",
      "  File \"/Users/smullally/anaconda/envs/tike38/lib/python3.7/site-packages/theano/gof/op.py\", line 858, in make_c_thunk\n",
      "    output_storage=node_output_storage)\n",
      "  File \"/Users/smullally/anaconda/envs/tike38/lib/python3.7/site-packages/theano/gof/cc.py\", line 1217, in make_thunk\n",
      "    keep_lock=keep_lock)\n",
      "  File \"/Users/smullally/anaconda/envs/tike38/lib/python3.7/site-packages/theano/gof/cc.py\", line 1157, in __compile__\n",
      "    keep_lock=keep_lock)\n",
      "  File \"/Users/smullally/anaconda/envs/tike38/lib/python3.7/site-packages/theano/gof/cc.py\", line 1624, in cthunk_factory\n",
      "    key=key, lnk=self, keep_lock=keep_lock)\n",
      "  File \"/Users/smullally/anaconda/envs/tike38/lib/python3.7/site-packages/theano/gof/cmodule.py\", line 1189, in module_from_key\n",
      "    module = lnk.compile_cmodule(location)\n",
      "  File \"/Users/smullally/anaconda/envs/tike38/lib/python3.7/site-packages/theano/gof/cc.py\", line 1527, in compile_cmodule\n",
      "    preargs=preargs)\n",
      "  File \"/Users/smullally/anaconda/envs/tike38/lib/python3.7/site-packages/theano/gof/cmodule.py\", line 2399, in compile_str\n",
      "    (status, compile_stderr.replace('\\n', '. ')))\n",
      "Exception: (\"Compilation failed (return status=1): /Users/smullally/.theano/compiledir_Darwin-18.7.0-x86_64-i386-64bit-i386-3.7.7-64/tmpqec1zvyb/mod.cpp:360:27: error: non-constant-expression cannot be narrowed from type 'npy_intp' (aka 'long') to 'int' in initializer list [-Wc++11-narrowing].     int init_totals[2] = {V1_n0, V1_n1};.                           ^~~~~. /Users/smullally/.theano/compiledir_Darwin-18.7.0-x86_64-i386-64bit-i386-3.7.7-64/tmpqec1zvyb/mod.cpp:360:27: note: insert an explicit cast to silence this issue.     int init_totals[2] = {V1_n0, V1_n1};.                           ^~~~~.                           static_cast<int>( ). /Users/smullally/.theano/compiledir_Darwin-18.7.0-x86_64-i386-64bit-i386-3.7.7-64/tmpqec1zvyb/mod.cpp:360:34: error: non-constant-expression cannot be narrowed from type 'npy_intp' (aka 'long') to 'int' in initializer list [-Wc++11-narrowing].     int init_totals[2] = {V1_n0, V1_n1};.                                  ^~~~~. /Users/smullally/.theano/compiledir_Darwin-18.7.0-x86_64-i386-64bit-i386-3.7.7-64/tmpqec1zvyb/mod.cpp:360:34: note: insert an explicit cast to silence this issue.     int init_totals[2] = {V1_n0, V1_n1};.                                  ^~~~~.                                  static_cast<int>( ). /Users/smullally/.theano/compiledir_Darwin-18.7.0-x86_64-i386-64bit-i386-3.7.7-64/tmpqec1zvyb/mod.cpp:373:1: error: non-constant-expression cannot be narrowed from type 'ssize_t' (aka 'long') to 'int' in initializer list [-Wc++11-narrowing]. V1_stride0, V1_stride1. ^~~~~~~~~~. /Users/smullally/.theano/compiledir_Darwin-18.7.0-x86_64-i386-64bit-i386-3.7.7-64/tmpqec1zvyb/mod.cpp:373:1: note: insert an explicit cast to silence this issue. V1_stride0, V1_stride1. ^~~~~~~~~~. static_cast<int>( ). /Users/smullally/.theano/compiledir_Darwin-18.7.0-x86_64-i386-64bit-i386-3.7.7-64/tmpqec1zvyb/mod.cpp:373:13: error: non-constant-expression cannot be narrowed from type 'ssize_t' (aka 'long') to 'int' in initializer list [-Wc++11-narrowing]. V1_stride0, V1_stride1.             ^~~~~~~~~~. /Users/smullally/.theano/compiledir_Darwin-18.7.0-x86_64-i386-64bit-i386-3.7.7-64/tmpqec1zvyb/mod.cpp:373:13: note: insert an explicit cast to silence this issue. V1_stride0, V1_stride1.             ^~~~~~~~~~.             static_cast<int>( ). 4 errors generated.. \", '[Elemwise{Cast{float64}}(TensorConstant{(1, 1) of 0.0})]')\n",
      "\n"
     ]
    },
    {
     "name": "stdout",
     "output_type": "stream",
     "text": [
      "\n",
      "You can find the C code in this temporary file: /var/folders/zx/326t4zzx4_l01j7_ng3c507c0001p0/T/theano_compilation_error_0isxyp3u\n"
     ]
    },
    {
     "name": "stderr",
     "output_type": "stream",
     "text": [
      "ERROR (theano.gof.opt): Optimization failure due to: constant_folding\n",
      "ERROR (theano.gof.opt): node: Elemwise{add,no_inplace}(TensorConstant{(1, 1) of 1.728}, TensorConstant{[[-0.1    ..1       ]]})\n",
      "ERROR (theano.gof.opt): TRACEBACK:\n",
      "ERROR (theano.gof.opt): Traceback (most recent call last):\n",
      "  File \"/Users/smullally/anaconda/envs/tike38/lib/python3.7/site-packages/theano/gof/opt.py\", line 2034, in process_node\n",
      "    replacements = lopt.transform(node)\n",
      "  File \"/Users/smullally/anaconda/envs/tike38/lib/python3.7/site-packages/theano/tensor/opt.py\", line 6516, in constant_folding\n",
      "    no_recycling=[], impl=impl)\n",
      "  File \"/Users/smullally/anaconda/envs/tike38/lib/python3.7/site-packages/theano/gof/op.py\", line 955, in make_thunk\n",
      "    no_recycling)\n",
      "  File \"/Users/smullally/anaconda/envs/tike38/lib/python3.7/site-packages/theano/gof/op.py\", line 858, in make_c_thunk\n",
      "    output_storage=node_output_storage)\n",
      "  File \"/Users/smullally/anaconda/envs/tike38/lib/python3.7/site-packages/theano/gof/cc.py\", line 1217, in make_thunk\n",
      "    keep_lock=keep_lock)\n",
      "  File \"/Users/smullally/anaconda/envs/tike38/lib/python3.7/site-packages/theano/gof/cc.py\", line 1157, in __compile__\n",
      "    keep_lock=keep_lock)\n",
      "  File \"/Users/smullally/anaconda/envs/tike38/lib/python3.7/site-packages/theano/gof/cc.py\", line 1624, in cthunk_factory\n",
      "    key=key, lnk=self, keep_lock=keep_lock)\n",
      "  File \"/Users/smullally/anaconda/envs/tike38/lib/python3.7/site-packages/theano/gof/cmodule.py\", line 1189, in module_from_key\n",
      "    module = lnk.compile_cmodule(location)\n",
      "  File \"/Users/smullally/anaconda/envs/tike38/lib/python3.7/site-packages/theano/gof/cc.py\", line 1527, in compile_cmodule\n",
      "    preargs=preargs)\n",
      "  File \"/Users/smullally/anaconda/envs/tike38/lib/python3.7/site-packages/theano/gof/cmodule.py\", line 2399, in compile_str\n",
      "    (status, compile_stderr.replace('\\n', '. ')))\n",
      "Exception: (\"Compilation failed (return status=1): /Users/smullally/.theano/compiledir_Darwin-18.7.0-x86_64-i386-64bit-i386-3.7.7-64/tmp5tb8b_ke/mod.cpp:506:27: error: non-constant-expression cannot be narrowed from type 'npy_intp' (aka 'long') to 'int' in initializer list [-Wc++11-narrowing].     int init_totals[2] = {V5_n0, V1_n1};.                           ^~~~~. /Users/smullally/.theano/compiledir_Darwin-18.7.0-x86_64-i386-64bit-i386-3.7.7-64/tmp5tb8b_ke/mod.cpp:506:27: note: insert an explicit cast to silence this issue.     int init_totals[2] = {V5_n0, V1_n1};.                           ^~~~~.                           static_cast<int>( ). /Users/smullally/.theano/compiledir_Darwin-18.7.0-x86_64-i386-64bit-i386-3.7.7-64/tmp5tb8b_ke/mod.cpp:506:34: error: non-constant-expression cannot be narrowed from type 'npy_intp' (aka 'long') to 'int' in initializer list [-Wc++11-narrowing].     int init_totals[2] = {V5_n0, V1_n1};.                                  ^~~~~. /Users/smullally/.theano/compiledir_Darwin-18.7.0-x86_64-i386-64bit-i386-3.7.7-64/tmp5tb8b_ke/mod.cpp:506:34: note: insert an explicit cast to silence this issue.     int init_totals[2] = {V5_n0, V1_n1};.                                  ^~~~~.                                  static_cast<int>( ). /Users/smullally/.theano/compiledir_Darwin-18.7.0-x86_64-i386-64bit-i386-3.7.7-64/tmp5tb8b_ke/mod.cpp:519:1: error: non-constant-expression cannot be narrowed from type 'ssize_t' (aka 'long') to 'int' in initializer list [-Wc++11-narrowing]. V5_stride0, 0, . ^~~~~~~~~~. /Users/smullally/.theano/compiledir_Darwin-18.7.0-x86_64-i386-64bit-i386-3.7.7-64/tmp5tb8b_ke/mod.cpp:519:1: note: insert an explicit cast to silence this issue. V5_stride0, 0, . ^~~~~~~~~~. static_cast<int>( ). /Users/smullally/.theano/compiledir_Darwin-18.7.0-x86_64-i386-64bit-i386-3.7.7-64/tmp5tb8b_ke/mod.cpp:520:1: error: non-constant-expression cannot be narrowed from type 'ssize_t' (aka 'long') to 'int' in initializer list [-Wc++11-narrowing]. V1_stride0, V1_stride1. ^~~~~~~~~~. /Users/smullally/.theano/compiledir_Darwin-18.7.0-x86_64-i386-64bit-i386-3.7.7-64/tmp5tb8b_ke/mod.cpp:520:1: note: insert an explicit cast to silence this issue. V1_stride0, V1_stride1. ^~~~~~~~~~. static_cast<int>( ). /Users/smullally/.theano/compiledir_Darwin-18.7.0-x86_64-i386-64bit-i386-3.7.7-64/tmp5tb8b_ke/mod.cpp:520:13: error: non-constant-expression cannot be narrowed from type 'ssize_t' (aka 'long') to 'int' in initializer list [-Wc++11-narrowing]. V1_stride0, V1_stride1.             ^~~~~~~~~~. /Users/smullally/.theano/compiledir_Darwin-18.7.0-x86_64-i386-64bit-i386-3.7.7-64/tmp5tb8b_ke/mod.cpp:520:13: note: insert an explicit cast to silence this issue. V1_stride0, V1_stride1.             ^~~~~~~~~~.             static_cast<int>( ). 5 errors generated.. \", '[Elemwise{add,no_inplace}(TensorConstant{(1, 1) of 1.728}, TensorConstant{[[-0.1    ..1       ]]})]')\n",
      "\n"
     ]
    },
    {
     "name": "stdout",
     "output_type": "stream",
     "text": [
      "\n",
      "You can find the C code in this temporary file: /var/folders/zx/326t4zzx4_l01j7_ng3c507c0001p0/T/theano_compilation_error_tqn7z_07\n"
     ]
    },
    {
     "name": "stderr",
     "output_type": "stream",
     "text": [
      "ERROR (theano.gof.opt): Optimization failure due to: constant_folding\n",
      "ERROR (theano.gof.opt): node: Elemwise{mul,no_inplace}(TensorConstant{(1, 1, 1) of 0.02}, TensorConstant{[[[-0.4285..2857143]]]})\n",
      "ERROR (theano.gof.opt): TRACEBACK:\n",
      "ERROR (theano.gof.opt): Traceback (most recent call last):\n",
      "  File \"/Users/smullally/anaconda/envs/tike38/lib/python3.7/site-packages/theano/gof/opt.py\", line 2034, in process_node\n",
      "    replacements = lopt.transform(node)\n",
      "  File \"/Users/smullally/anaconda/envs/tike38/lib/python3.7/site-packages/theano/tensor/opt.py\", line 6516, in constant_folding\n",
      "    no_recycling=[], impl=impl)\n",
      "  File \"/Users/smullally/anaconda/envs/tike38/lib/python3.7/site-packages/theano/gof/op.py\", line 955, in make_thunk\n",
      "    no_recycling)\n",
      "  File \"/Users/smullally/anaconda/envs/tike38/lib/python3.7/site-packages/theano/gof/op.py\", line 858, in make_c_thunk\n",
      "    output_storage=node_output_storage)\n",
      "  File \"/Users/smullally/anaconda/envs/tike38/lib/python3.7/site-packages/theano/gof/cc.py\", line 1217, in make_thunk\n",
      "    keep_lock=keep_lock)\n",
      "  File \"/Users/smullally/anaconda/envs/tike38/lib/python3.7/site-packages/theano/gof/cc.py\", line 1157, in __compile__\n",
      "    keep_lock=keep_lock)\n",
      "  File \"/Users/smullally/anaconda/envs/tike38/lib/python3.7/site-packages/theano/gof/cc.py\", line 1624, in cthunk_factory\n",
      "    key=key, lnk=self, keep_lock=keep_lock)\n",
      "  File \"/Users/smullally/anaconda/envs/tike38/lib/python3.7/site-packages/theano/gof/cmodule.py\", line 1189, in module_from_key\n",
      "    module = lnk.compile_cmodule(location)\n",
      "  File \"/Users/smullally/anaconda/envs/tike38/lib/python3.7/site-packages/theano/gof/cc.py\", line 1527, in compile_cmodule\n",
      "    preargs=preargs)\n",
      "  File \"/Users/smullally/anaconda/envs/tike38/lib/python3.7/site-packages/theano/gof/cmodule.py\", line 2399, in compile_str\n",
      "    (status, compile_stderr.replace('\\n', '. ')))\n",
      "Exception: (\"Compilation failed (return status=1): /Users/smullally/.theano/compiledir_Darwin-18.7.0-x86_64-i386-64bit-i386-3.7.7-64/tmp0rkdeskw/mod.cpp:528:27: error: non-constant-expression cannot be narrowed from type 'npy_intp' (aka 'long') to 'int' in initializer list [-Wc++11-narrowing].     int init_totals[3] = {V1_n0, V5_n1, V1_n2};.                           ^~~~~. /Users/smullally/.theano/compiledir_Darwin-18.7.0-x86_64-i386-64bit-i386-3.7.7-64/tmp0rkdeskw/mod.cpp:528:27: note: insert an explicit cast to silence this issue.     int init_totals[3] = {V1_n0, V5_n1, V1_n2};.                           ^~~~~.                           static_cast<int>( ). /Users/smullally/.theano/compiledir_Darwin-18.7.0-x86_64-i386-64bit-i386-3.7.7-64/tmp0rkdeskw/mod.cpp:528:34: error: non-constant-expression cannot be narrowed from type 'npy_intp' (aka 'long') to 'int' in initializer list [-Wc++11-narrowing].     int init_totals[3] = {V1_n0, V5_n1, V1_n2};.                                  ^~~~~. /Users/smullally/.theano/compiledir_Darwin-18.7.0-x86_64-i386-64bit-i386-3.7.7-64/tmp0rkdeskw/mod.cpp:528:34: note: insert an explicit cast to silence this issue.     int init_totals[3] = {V1_n0, V5_n1, V1_n2};.                                  ^~~~~.                                  static_cast<int>( ). /Users/smullally/.theano/compiledir_Darwin-18.7.0-x86_64-i386-64bit-i386-3.7.7-64/tmp0rkdeskw/mod.cpp:528:41: error: non-constant-expression cannot be narrowed from type 'npy_intp' (aka 'long') to 'int' in initializer list [-Wc++11-narrowing].     int init_totals[3] = {V1_n0, V5_n1, V1_n2};.                                         ^~~~~. /Users/smullally/.theano/compiledir_Darwin-18.7.0-x86_64-i386-64bit-i386-3.7.7-64/tmp0rkdeskw/mod.cpp:528:41: note: insert an explicit cast to silence this issue.     int init_totals[3] = {V1_n0, V5_n1, V1_n2};.                                         ^~~~~.                                         static_cast<int>( ). /Users/smullally/.theano/compiledir_Darwin-18.7.0-x86_64-i386-64bit-i386-3.7.7-64/tmp0rkdeskw/mod.cpp:544:4: error: non-constant-expression cannot be narrowed from type 'ssize_t' (aka 'long') to 'int' in initializer list [-Wc++11-narrowing]. 0, V5_stride1, 0, .    ^~~~~~~~~~. /Users/smullally/.theano/compiledir_Darwin-18.7.0-x86_64-i386-64bit-i386-3.7.7-64/tmp0rkdeskw/mod.cpp:544:4: note: insert an explicit cast to silence this issue. 0, V5_stride1, 0, .    ^~~~~~~~~~.    static_cast<int>( ). /Users/smullally/.theano/compiledir_Darwin-18.7.0-x86_64-i386-64bit-i386-3.7.7-64/tmp0rkdeskw/mod.cpp:545:1: error: non-constant-expression cannot be narrowed from type 'ssize_t' (aka 'long') to 'int' in initializer list [-Wc++11-narrowing]. V1_stride0, V1_stride1, V1_stride2. ^~~~~~~~~~. /Users/smullally/.theano/compiledir_Darwin-18.7.0-x86_64-i386-64bit-i386-3.7.7-64/tmp0rkdeskw/mod.cpp:545:1: note: insert an explicit cast to silence this issue. V1_stride0, V1_stride1, V1_stride2. ^~~~~~~~~~. static_cast<int>( ). /Users/smullally/.theano/compiledir_Darwin-18.7.0-x86_64-i386-64bit-i386-3.7.7-64/tmp0rkdeskw/mod.cpp:545:13: error: non-constant-expression cannot be narrowed from type 'ssize_t' (aka 'long') to 'int' in initializer list [-Wc++11-narrowing]. V1_stride0, V1_stride1, V1_stride2.             ^~~~~~~~~~. /Users/smullally/.theano/compiledir_Darwin-18.7.0-x86_64-i386-64bit-i386-3.7.7-64/tmp0rkdeskw/mod.cpp:545:13: note: insert an explicit cast to silence this issue. V1_stride0, V1_stride1, V1_stride2.             ^~~~~~~~~~.             static_cast<int>( ). /Users/smullally/.theano/compiledir_Darwin-18.7.0-x86_64-i386-64bit-i386-3.7.7-64/tmp0rkdeskw/mod.cpp:545:25: error: non-constant-expression cannot be narrowed from type 'ssize_t' (aka 'long') to 'int' in initializer list [-Wc++11-narrowing]. V1_stride0, V1_stride1, V1_stride2.                         ^~~~~~~~~~. /Users/smullally/.theano/compiledir_Darwin-18.7.0-x86_64-i386-64bit-i386-3.7.7-64/tmp0rkdeskw/mod.cpp:545:25: note: insert an explicit cast to silence this issue. V1_stride0, V1_stride1, V1_stride2.                         ^~~~~~~~~~.                         static_cast<int>( ). 7 errors generated.. \", '[Elemwise{mul,no_inplace}(TensorConstant{(1, 1, 1) of 0.02}, TensorConstant{[[[-0.4285..2857143]]]})]')\n",
      "\n"
     ]
    },
    {
     "name": "stdout",
     "output_type": "stream",
     "text": [
      "\n",
      "You can find the C code in this temporary file: /var/folders/zx/326t4zzx4_l01j7_ng3c507c0001p0/T/theano_compilation_error_x6k0haku\n"
     ]
    },
    {
     "name": "stderr",
     "output_type": "stream",
     "text": [
      "ERROR (theano.gof.opt): Optimization failure due to: constant_folding\n",
      "ERROR (theano.gof.opt): node: Elemwise{second,no_inplace}(TensorConstant{(1, 1, 1) of 0.1}, TensorConstant{(1, 1, 1) of 0.1})\n",
      "ERROR (theano.gof.opt): TRACEBACK:\n",
      "ERROR (theano.gof.opt): Traceback (most recent call last):\n",
      "  File \"/Users/smullally/anaconda/envs/tike38/lib/python3.7/site-packages/theano/gof/opt.py\", line 2034, in process_node\n",
      "    replacements = lopt.transform(node)\n",
      "  File \"/Users/smullally/anaconda/envs/tike38/lib/python3.7/site-packages/theano/tensor/opt.py\", line 6516, in constant_folding\n",
      "    no_recycling=[], impl=impl)\n",
      "  File \"/Users/smullally/anaconda/envs/tike38/lib/python3.7/site-packages/theano/gof/op.py\", line 955, in make_thunk\n",
      "    no_recycling)\n",
      "  File \"/Users/smullally/anaconda/envs/tike38/lib/python3.7/site-packages/theano/gof/op.py\", line 858, in make_c_thunk\n",
      "    output_storage=node_output_storage)\n",
      "  File \"/Users/smullally/anaconda/envs/tike38/lib/python3.7/site-packages/theano/gof/cc.py\", line 1217, in make_thunk\n",
      "    keep_lock=keep_lock)\n",
      "  File \"/Users/smullally/anaconda/envs/tike38/lib/python3.7/site-packages/theano/gof/cc.py\", line 1157, in __compile__\n",
      "    keep_lock=keep_lock)\n",
      "  File \"/Users/smullally/anaconda/envs/tike38/lib/python3.7/site-packages/theano/gof/cc.py\", line 1624, in cthunk_factory\n",
      "    key=key, lnk=self, keep_lock=keep_lock)\n",
      "  File \"/Users/smullally/anaconda/envs/tike38/lib/python3.7/site-packages/theano/gof/cmodule.py\", line 1189, in module_from_key\n",
      "    module = lnk.compile_cmodule(location)\n",
      "  File \"/Users/smullally/anaconda/envs/tike38/lib/python3.7/site-packages/theano/gof/cc.py\", line 1527, in compile_cmodule\n",
      "    preargs=preargs)\n",
      "  File \"/Users/smullally/anaconda/envs/tike38/lib/python3.7/site-packages/theano/gof/cmodule.py\", line 2399, in compile_str\n",
      "    (status, compile_stderr.replace('\\n', '. ')))\n",
      "Exception: (\"Compilation failed (return status=1): /Users/smullally/.theano/compiledir_Darwin-18.7.0-x86_64-i386-64bit-i386-3.7.7-64/tmpstjv_g4c/mod.cpp:528:27: error: non-constant-expression cannot be narrowed from type 'npy_intp' (aka 'long') to 'int' in initializer list [-Wc++11-narrowing].     int init_totals[3] = {V1_n0, V1_n1, V3_n2};.                           ^~~~~. /Users/smullally/.theano/compiledir_Darwin-18.7.0-x86_64-i386-64bit-i386-3.7.7-64/tmpstjv_g4c/mod.cpp:528:27: note: insert an explicit cast to silence this issue.     int init_totals[3] = {V1_n0, V1_n1, V3_n2};.                           ^~~~~.                           static_cast<int>( ). /Users/smullally/.theano/compiledir_Darwin-18.7.0-x86_64-i386-64bit-i386-3.7.7-64/tmpstjv_g4c/mod.cpp:528:34: error: non-constant-expression cannot be narrowed from type 'npy_intp' (aka 'long') to 'int' in initializer list [-Wc++11-narrowing].     int init_totals[3] = {V1_n0, V1_n1, V3_n2};.                                  ^~~~~. /Users/smullally/.theano/compiledir_Darwin-18.7.0-x86_64-i386-64bit-i386-3.7.7-64/tmpstjv_g4c/mod.cpp:528:34: note: insert an explicit cast to silence this issue.     int init_totals[3] = {V1_n0, V1_n1, V3_n2};.                                  ^~~~~.                                  static_cast<int>( ). /Users/smullally/.theano/compiledir_Darwin-18.7.0-x86_64-i386-64bit-i386-3.7.7-64/tmpstjv_g4c/mod.cpp:528:41: error: non-constant-expression cannot be narrowed from type 'npy_intp' (aka 'long') to 'int' in initializer list [-Wc++11-narrowing].     int init_totals[3] = {V1_n0, V1_n1, V3_n2};.                                         ^~~~~. /Users/smullally/.theano/compiledir_Darwin-18.7.0-x86_64-i386-64bit-i386-3.7.7-64/tmpstjv_g4c/mod.cpp:528:41: note: insert an explicit cast to silence this issue.     int init_totals[3] = {V1_n0, V1_n1, V3_n2};.                                         ^~~~~.                                         static_cast<int>( ). /Users/smullally/.theano/compiledir_Darwin-18.7.0-x86_64-i386-64bit-i386-3.7.7-64/tmpstjv_g4c/mod.cpp:543:15: error: non-constant-expression cannot be narrowed from type 'ssize_t' (aka 'long') to 'int' in initializer list [-Wc++11-narrowing].         0, 0, V3_stride2, .               ^~~~~~~~~~. /Users/smullally/.theano/compiledir_Darwin-18.7.0-x86_64-i386-64bit-i386-3.7.7-64/tmpstjv_g4c/mod.cpp:543:15: note: insert an explicit cast to silence this issue.         0, 0, V3_stride2, .               ^~~~~~~~~~.               static_cast<int>( ). /Users/smullally/.theano/compiledir_Darwin-18.7.0-x86_64-i386-64bit-i386-3.7.7-64/tmpstjv_g4c/mod.cpp:545:1: error: non-constant-expression cannot be narrowed from type 'ssize_t' (aka 'long') to 'int' in initializer list [-Wc++11-narrowing]. V1_stride0, V1_stride1, V1_stride2. ^~~~~~~~~~. /Users/smullally/.theano/compiledir_Darwin-18.7.0-x86_64-i386-64bit-i386-3.7.7-64/tmpstjv_g4c/mod.cpp:545:1: note: insert an explicit cast to silence this issue. V1_stride0, V1_stride1, V1_stride2. ^~~~~~~~~~. static_cast<int>( ). /Users/smullally/.theano/compiledir_Darwin-18.7.0-x86_64-i386-64bit-i386-3.7.7-64/tmpstjv_g4c/mod.cpp:545:13: error: non-constant-expression cannot be narrowed from type 'ssize_t' (aka 'long') to 'int' in initializer list [-Wc++11-narrowing]. V1_stride0, V1_stride1, V1_stride2.             ^~~~~~~~~~. /Users/smullally/.theano/compiledir_Darwin-18.7.0-x86_64-i386-64bit-i386-3.7.7-64/tmpstjv_g4c/mod.cpp:545:13: note: insert an explicit cast to silence this issue. V1_stride0, V1_stride1, V1_stride2.             ^~~~~~~~~~.             static_cast<int>( ). /Users/smullally/.theano/compiledir_Darwin-18.7.0-x86_64-i386-64bit-i386-3.7.7-64/tmpstjv_g4c/mod.cpp:545:25: error: non-constant-expression cannot be narrowed from type 'ssize_t' (aka 'long') to 'int' in initializer list [-Wc++11-narrowing]. V1_stride0, V1_stride1, V1_stride2.                         ^~~~~~~~~~. /Users/smullally/.theano/compiledir_Darwin-18.7.0-x86_64-i386-64bit-i386-3.7.7-64/tmpstjv_g4c/mod.cpp:545:25: note: insert an explicit cast to silence this issue. V1_stride0, V1_stride1, V1_stride2.                         ^~~~~~~~~~.                         static_cast<int>( ). 7 errors generated.. \", '[Elemwise{second,no_inplace}(TensorConstant{(1, 1, 1) of 0.1}, TensorConstant{(1, 1, 1) of 0.1})]')\n",
      "\n"
     ]
    },
    {
     "name": "stdout",
     "output_type": "stream",
     "text": [
      "\n",
      "You can find the C code in this temporary file: /var/folders/zx/326t4zzx4_l01j7_ng3c507c0001p0/T/theano_compilation_error_wotcjfkp\n"
     ]
    },
    {
     "name": "stderr",
     "output_type": "stream",
     "text": [
      "ERROR (theano.gof.opt): Optimization failure due to: constant_folding\n",
      "ERROR (theano.gof.opt): node: Elemwise{pow,no_inplace}(TensorConstant{(1, 1) of 0.0}, TensorConstant{(1, 1) of 2})\n",
      "ERROR (theano.gof.opt): TRACEBACK:\n",
      "ERROR (theano.gof.opt): Traceback (most recent call last):\n",
      "  File \"/Users/smullally/anaconda/envs/tike38/lib/python3.7/site-packages/theano/gof/opt.py\", line 2034, in process_node\n",
      "    replacements = lopt.transform(node)\n",
      "  File \"/Users/smullally/anaconda/envs/tike38/lib/python3.7/site-packages/theano/tensor/opt.py\", line 6516, in constant_folding\n",
      "    no_recycling=[], impl=impl)\n",
      "  File \"/Users/smullally/anaconda/envs/tike38/lib/python3.7/site-packages/theano/gof/op.py\", line 955, in make_thunk\n",
      "    no_recycling)\n",
      "  File \"/Users/smullally/anaconda/envs/tike38/lib/python3.7/site-packages/theano/gof/op.py\", line 858, in make_c_thunk\n",
      "    output_storage=node_output_storage)\n",
      "  File \"/Users/smullally/anaconda/envs/tike38/lib/python3.7/site-packages/theano/gof/cc.py\", line 1217, in make_thunk\n",
      "    keep_lock=keep_lock)\n",
      "  File \"/Users/smullally/anaconda/envs/tike38/lib/python3.7/site-packages/theano/gof/cc.py\", line 1157, in __compile__\n",
      "    keep_lock=keep_lock)\n",
      "  File \"/Users/smullally/anaconda/envs/tike38/lib/python3.7/site-packages/theano/gof/cc.py\", line 1624, in cthunk_factory\n",
      "    key=key, lnk=self, keep_lock=keep_lock)\n",
      "  File \"/Users/smullally/anaconda/envs/tike38/lib/python3.7/site-packages/theano/gof/cmodule.py\", line 1189, in module_from_key\n",
      "    module = lnk.compile_cmodule(location)\n",
      "  File \"/Users/smullally/anaconda/envs/tike38/lib/python3.7/site-packages/theano/gof/cc.py\", line 1527, in compile_cmodule\n",
      "    preargs=preargs)\n",
      "  File \"/Users/smullally/anaconda/envs/tike38/lib/python3.7/site-packages/theano/gof/cmodule.py\", line 2399, in compile_str\n",
      "    (status, compile_stderr.replace('\\n', '. ')))\n",
      "Exception: (\"Compilation failed (return status=1): /Users/smullally/.theano/compiledir_Darwin-18.7.0-x86_64-i386-64bit-i386-3.7.7-64/tmpr45j1hax/mod.cpp:468:27: error: non-constant-expression cannot be narrowed from type 'npy_intp' (aka 'long') to 'int' in initializer list [-Wc++11-narrowing].     int init_totals[2] = {V1_n0, V1_n1};.                           ^~~~~. /Users/smullally/.theano/compiledir_Darwin-18.7.0-x86_64-i386-64bit-i386-3.7.7-64/tmpr45j1hax/mod.cpp:468:27: note: insert an explicit cast to silence this issue.     int init_totals[2] = {V1_n0, V1_n1};.                           ^~~~~.                           static_cast<int>( ). /Users/smullally/.theano/compiledir_Darwin-18.7.0-x86_64-i386-64bit-i386-3.7.7-64/tmpr45j1hax/mod.cpp:468:34: error: non-constant-expression cannot be narrowed from type 'npy_intp' (aka 'long') to 'int' in initializer list [-Wc++11-narrowing].     int init_totals[2] = {V1_n0, V1_n1};.                                  ^~~~~. /Users/smullally/.theano/compiledir_Darwin-18.7.0-x86_64-i386-64bit-i386-3.7.7-64/tmpr45j1hax/mod.cpp:468:34: note: insert an explicit cast to silence this issue.     int init_totals[2] = {V1_n0, V1_n1};.                                  ^~~~~.                                  static_cast<int>( ). /Users/smullally/.theano/compiledir_Darwin-18.7.0-x86_64-i386-64bit-i386-3.7.7-64/tmpr45j1hax/mod.cpp:482:1: error: non-constant-expression cannot be narrowed from type 'ssize_t' (aka 'long') to 'int' in initializer list [-Wc++11-narrowing]. V1_stride0, V1_stride1. ^~~~~~~~~~. /Users/smullally/.theano/compiledir_Darwin-18.7.0-x86_64-i386-64bit-i386-3.7.7-64/tmpr45j1hax/mod.cpp:482:1: note: insert an explicit cast to silence this issue. V1_stride0, V1_stride1. ^~~~~~~~~~. static_cast<int>( ). /Users/smullally/.theano/compiledir_Darwin-18.7.0-x86_64-i386-64bit-i386-3.7.7-64/tmpr45j1hax/mod.cpp:482:13: error: non-constant-expression cannot be narrowed from type 'ssize_t' (aka 'long') to 'int' in initializer list [-Wc++11-narrowing]. V1_stride0, V1_stride1.             ^~~~~~~~~~. /Users/smullally/.theano/compiledir_Darwin-18.7.0-x86_64-i386-64bit-i386-3.7.7-64/tmpr45j1hax/mod.cpp:482:13: note: insert an explicit cast to silence this issue. V1_stride0, V1_stride1.             ^~~~~~~~~~.             static_cast<int>( ). 4 errors generated.. \", '[Elemwise{pow,no_inplace}(TensorConstant{(1, 1) of 0.0}, TensorConstant{(1, 1) of 2})]')\n",
      "\n"
     ]
    },
    {
     "name": "stdout",
     "output_type": "stream",
     "text": [
      "\n",
      "You can find the C code in this temporary file: /var/folders/zx/326t4zzx4_l01j7_ng3c507c0001p0/T/theano_compilation_error_8y887f8v\n"
     ]
    },
    {
     "name": "stderr",
     "output_type": "stream",
     "text": [
      "ERROR (theano.gof.opt): Optimization failure due to: constant_folding\n",
      "ERROR (theano.gof.opt): node: Elemwise{Cast{float64}}(TensorConstant{(1, 1) of 0.0})\n",
      "ERROR (theano.gof.opt): TRACEBACK:\n",
      "ERROR (theano.gof.opt): Traceback (most recent call last):\n",
      "  File \"/Users/smullally/anaconda/envs/tike38/lib/python3.7/site-packages/theano/gof/opt.py\", line 2034, in process_node\n",
      "    replacements = lopt.transform(node)\n",
      "  File \"/Users/smullally/anaconda/envs/tike38/lib/python3.7/site-packages/theano/tensor/opt.py\", line 6516, in constant_folding\n",
      "    no_recycling=[], impl=impl)\n",
      "  File \"/Users/smullally/anaconda/envs/tike38/lib/python3.7/site-packages/theano/gof/op.py\", line 955, in make_thunk\n",
      "    no_recycling)\n",
      "  File \"/Users/smullally/anaconda/envs/tike38/lib/python3.7/site-packages/theano/gof/op.py\", line 858, in make_c_thunk\n",
      "    output_storage=node_output_storage)\n",
      "  File \"/Users/smullally/anaconda/envs/tike38/lib/python3.7/site-packages/theano/gof/cc.py\", line 1217, in make_thunk\n",
      "    keep_lock=keep_lock)\n",
      "  File \"/Users/smullally/anaconda/envs/tike38/lib/python3.7/site-packages/theano/gof/cc.py\", line 1157, in __compile__\n",
      "    keep_lock=keep_lock)\n",
      "  File \"/Users/smullally/anaconda/envs/tike38/lib/python3.7/site-packages/theano/gof/cc.py\", line 1624, in cthunk_factory\n",
      "    key=key, lnk=self, keep_lock=keep_lock)\n",
      "  File \"/Users/smullally/anaconda/envs/tike38/lib/python3.7/site-packages/theano/gof/cmodule.py\", line 1189, in module_from_key\n",
      "    module = lnk.compile_cmodule(location)\n",
      "  File \"/Users/smullally/anaconda/envs/tike38/lib/python3.7/site-packages/theano/gof/cc.py\", line 1527, in compile_cmodule\n",
      "    preargs=preargs)\n",
      "  File \"/Users/smullally/anaconda/envs/tike38/lib/python3.7/site-packages/theano/gof/cmodule.py\", line 2399, in compile_str\n",
      "    (status, compile_stderr.replace('\\n', '. ')))\n",
      "Exception: (\"Compilation failed (return status=1): /Users/smullally/.theano/compiledir_Darwin-18.7.0-x86_64-i386-64bit-i386-3.7.7-64/tmpt0djg1wp/mod.cpp:360:27: error: non-constant-expression cannot be narrowed from type 'npy_intp' (aka 'long') to 'int' in initializer list [-Wc++11-narrowing].     int init_totals[2] = {V1_n0, V1_n1};.                           ^~~~~. /Users/smullally/.theano/compiledir_Darwin-18.7.0-x86_64-i386-64bit-i386-3.7.7-64/tmpt0djg1wp/mod.cpp:360:27: note: insert an explicit cast to silence this issue.     int init_totals[2] = {V1_n0, V1_n1};.                           ^~~~~.                           static_cast<int>( ). /Users/smullally/.theano/compiledir_Darwin-18.7.0-x86_64-i386-64bit-i386-3.7.7-64/tmpt0djg1wp/mod.cpp:360:34: error: non-constant-expression cannot be narrowed from type 'npy_intp' (aka 'long') to 'int' in initializer list [-Wc++11-narrowing].     int init_totals[2] = {V1_n0, V1_n1};.                                  ^~~~~. /Users/smullally/.theano/compiledir_Darwin-18.7.0-x86_64-i386-64bit-i386-3.7.7-64/tmpt0djg1wp/mod.cpp:360:34: note: insert an explicit cast to silence this issue.     int init_totals[2] = {V1_n0, V1_n1};.                                  ^~~~~.                                  static_cast<int>( ). /Users/smullally/.theano/compiledir_Darwin-18.7.0-x86_64-i386-64bit-i386-3.7.7-64/tmpt0djg1wp/mod.cpp:373:1: error: non-constant-expression cannot be narrowed from type 'ssize_t' (aka 'long') to 'int' in initializer list [-Wc++11-narrowing]. V1_stride0, V1_stride1. ^~~~~~~~~~. /Users/smullally/.theano/compiledir_Darwin-18.7.0-x86_64-i386-64bit-i386-3.7.7-64/tmpt0djg1wp/mod.cpp:373:1: note: insert an explicit cast to silence this issue. V1_stride0, V1_stride1. ^~~~~~~~~~. static_cast<int>( ). /Users/smullally/.theano/compiledir_Darwin-18.7.0-x86_64-i386-64bit-i386-3.7.7-64/tmpt0djg1wp/mod.cpp:373:13: error: non-constant-expression cannot be narrowed from type 'ssize_t' (aka 'long') to 'int' in initializer list [-Wc++11-narrowing]. V1_stride0, V1_stride1.             ^~~~~~~~~~. /Users/smullally/.theano/compiledir_Darwin-18.7.0-x86_64-i386-64bit-i386-3.7.7-64/tmpt0djg1wp/mod.cpp:373:13: note: insert an explicit cast to silence this issue. V1_stride0, V1_stride1.             ^~~~~~~~~~.             static_cast<int>( ). 4 errors generated.. \", '[Elemwise{Cast{float64}}(TensorConstant{(1, 1) of 0.0})]')\n",
      "\n"
     ]
    },
    {
     "name": "stdout",
     "output_type": "stream",
     "text": [
      "\n",
      "You can find the C code in this temporary file: /var/folders/zx/326t4zzx4_l01j7_ng3c507c0001p0/T/theano_compilation_error_9e0she79\n"
     ]
    },
    {
     "name": "stderr",
     "output_type": "stream",
     "text": [
      "ERROR (theano.gof.opt): Optimization failure due to: constant_folding\n",
      "ERROR (theano.gof.opt): node: Elemwise{add,no_inplace}(TensorConstant{(1, 1) of 1.728}, TensorConstant{[[-0.1    ..1       ]]})\n",
      "ERROR (theano.gof.opt): TRACEBACK:\n",
      "ERROR (theano.gof.opt): Traceback (most recent call last):\n",
      "  File \"/Users/smullally/anaconda/envs/tike38/lib/python3.7/site-packages/theano/gof/opt.py\", line 2034, in process_node\n",
      "    replacements = lopt.transform(node)\n",
      "  File \"/Users/smullally/anaconda/envs/tike38/lib/python3.7/site-packages/theano/tensor/opt.py\", line 6516, in constant_folding\n",
      "    no_recycling=[], impl=impl)\n",
      "  File \"/Users/smullally/anaconda/envs/tike38/lib/python3.7/site-packages/theano/gof/op.py\", line 955, in make_thunk\n",
      "    no_recycling)\n",
      "  File \"/Users/smullally/anaconda/envs/tike38/lib/python3.7/site-packages/theano/gof/op.py\", line 858, in make_c_thunk\n",
      "    output_storage=node_output_storage)\n",
      "  File \"/Users/smullally/anaconda/envs/tike38/lib/python3.7/site-packages/theano/gof/cc.py\", line 1217, in make_thunk\n",
      "    keep_lock=keep_lock)\n",
      "  File \"/Users/smullally/anaconda/envs/tike38/lib/python3.7/site-packages/theano/gof/cc.py\", line 1157, in __compile__\n",
      "    keep_lock=keep_lock)\n",
      "  File \"/Users/smullally/anaconda/envs/tike38/lib/python3.7/site-packages/theano/gof/cc.py\", line 1624, in cthunk_factory\n",
      "    key=key, lnk=self, keep_lock=keep_lock)\n",
      "  File \"/Users/smullally/anaconda/envs/tike38/lib/python3.7/site-packages/theano/gof/cmodule.py\", line 1189, in module_from_key\n",
      "    module = lnk.compile_cmodule(location)\n",
      "  File \"/Users/smullally/anaconda/envs/tike38/lib/python3.7/site-packages/theano/gof/cc.py\", line 1527, in compile_cmodule\n",
      "    preargs=preargs)\n",
      "  File \"/Users/smullally/anaconda/envs/tike38/lib/python3.7/site-packages/theano/gof/cmodule.py\", line 2399, in compile_str\n",
      "    (status, compile_stderr.replace('\\n', '. ')))\n",
      "Exception: (\"Compilation failed (return status=1): /Users/smullally/.theano/compiledir_Darwin-18.7.0-x86_64-i386-64bit-i386-3.7.7-64/tmpda_m9s97/mod.cpp:506:27: error: non-constant-expression cannot be narrowed from type 'npy_intp' (aka 'long') to 'int' in initializer list [-Wc++11-narrowing].     int init_totals[2] = {V5_n0, V1_n1};.                           ^~~~~. /Users/smullally/.theano/compiledir_Darwin-18.7.0-x86_64-i386-64bit-i386-3.7.7-64/tmpda_m9s97/mod.cpp:506:27: note: insert an explicit cast to silence this issue.     int init_totals[2] = {V5_n0, V1_n1};.                           ^~~~~.                           static_cast<int>( ). /Users/smullally/.theano/compiledir_Darwin-18.7.0-x86_64-i386-64bit-i386-3.7.7-64/tmpda_m9s97/mod.cpp:506:34: error: non-constant-expression cannot be narrowed from type 'npy_intp' (aka 'long') to 'int' in initializer list [-Wc++11-narrowing].     int init_totals[2] = {V5_n0, V1_n1};.                                  ^~~~~. /Users/smullally/.theano/compiledir_Darwin-18.7.0-x86_64-i386-64bit-i386-3.7.7-64/tmpda_m9s97/mod.cpp:506:34: note: insert an explicit cast to silence this issue.     int init_totals[2] = {V5_n0, V1_n1};.                                  ^~~~~.                                  static_cast<int>( ). /Users/smullally/.theano/compiledir_Darwin-18.7.0-x86_64-i386-64bit-i386-3.7.7-64/tmpda_m9s97/mod.cpp:519:1: error: non-constant-expression cannot be narrowed from type 'ssize_t' (aka 'long') to 'int' in initializer list [-Wc++11-narrowing]. V5_stride0, 0, . ^~~~~~~~~~. /Users/smullally/.theano/compiledir_Darwin-18.7.0-x86_64-i386-64bit-i386-3.7.7-64/tmpda_m9s97/mod.cpp:519:1: note: insert an explicit cast to silence this issue. V5_stride0, 0, . ^~~~~~~~~~. static_cast<int>( ). /Users/smullally/.theano/compiledir_Darwin-18.7.0-x86_64-i386-64bit-i386-3.7.7-64/tmpda_m9s97/mod.cpp:520:1: error: non-constant-expression cannot be narrowed from type 'ssize_t' (aka 'long') to 'int' in initializer list [-Wc++11-narrowing]. V1_stride0, V1_stride1. ^~~~~~~~~~. /Users/smullally/.theano/compiledir_Darwin-18.7.0-x86_64-i386-64bit-i386-3.7.7-64/tmpda_m9s97/mod.cpp:520:1: note: insert an explicit cast to silence this issue. V1_stride0, V1_stride1. ^~~~~~~~~~. static_cast<int>( ). /Users/smullally/.theano/compiledir_Darwin-18.7.0-x86_64-i386-64bit-i386-3.7.7-64/tmpda_m9s97/mod.cpp:520:13: error: non-constant-expression cannot be narrowed from type 'ssize_t' (aka 'long') to 'int' in initializer list [-Wc++11-narrowing]. V1_stride0, V1_stride1.             ^~~~~~~~~~. /Users/smullally/.theano/compiledir_Darwin-18.7.0-x86_64-i386-64bit-i386-3.7.7-64/tmpda_m9s97/mod.cpp:520:13: note: insert an explicit cast to silence this issue. V1_stride0, V1_stride1.             ^~~~~~~~~~.             static_cast<int>( ). 5 errors generated.. \", '[Elemwise{add,no_inplace}(TensorConstant{(1, 1) of 1.728}, TensorConstant{[[-0.1    ..1       ]]})]')\n",
      "\n"
     ]
    },
    {
     "name": "stdout",
     "output_type": "stream",
     "text": [
      "\n",
      "You can find the C code in this temporary file: /var/folders/zx/326t4zzx4_l01j7_ng3c507c0001p0/T/theano_compilation_error_fqz32t76\n"
     ]
    },
    {
     "name": "stderr",
     "output_type": "stream",
     "text": [
      "ERROR (theano.gof.opt): Optimization failure due to: constant_folding\n",
      "ERROR (theano.gof.opt): node: Elemwise{mul,no_inplace}(TensorConstant{(1, 1, 1) of 0.02}, TensorConstant{[[[-0.4285..2857143]]]})\n",
      "ERROR (theano.gof.opt): TRACEBACK:\n",
      "ERROR (theano.gof.opt): Traceback (most recent call last):\n",
      "  File \"/Users/smullally/anaconda/envs/tike38/lib/python3.7/site-packages/theano/gof/opt.py\", line 2034, in process_node\n",
      "    replacements = lopt.transform(node)\n",
      "  File \"/Users/smullally/anaconda/envs/tike38/lib/python3.7/site-packages/theano/tensor/opt.py\", line 6516, in constant_folding\n",
      "    no_recycling=[], impl=impl)\n",
      "  File \"/Users/smullally/anaconda/envs/tike38/lib/python3.7/site-packages/theano/gof/op.py\", line 955, in make_thunk\n",
      "    no_recycling)\n",
      "  File \"/Users/smullally/anaconda/envs/tike38/lib/python3.7/site-packages/theano/gof/op.py\", line 858, in make_c_thunk\n",
      "    output_storage=node_output_storage)\n",
      "  File \"/Users/smullally/anaconda/envs/tike38/lib/python3.7/site-packages/theano/gof/cc.py\", line 1217, in make_thunk\n",
      "    keep_lock=keep_lock)\n",
      "  File \"/Users/smullally/anaconda/envs/tike38/lib/python3.7/site-packages/theano/gof/cc.py\", line 1157, in __compile__\n",
      "    keep_lock=keep_lock)\n",
      "  File \"/Users/smullally/anaconda/envs/tike38/lib/python3.7/site-packages/theano/gof/cc.py\", line 1624, in cthunk_factory\n",
      "    key=key, lnk=self, keep_lock=keep_lock)\n",
      "  File \"/Users/smullally/anaconda/envs/tike38/lib/python3.7/site-packages/theano/gof/cmodule.py\", line 1189, in module_from_key\n",
      "    module = lnk.compile_cmodule(location)\n",
      "  File \"/Users/smullally/anaconda/envs/tike38/lib/python3.7/site-packages/theano/gof/cc.py\", line 1527, in compile_cmodule\n",
      "    preargs=preargs)\n",
      "  File \"/Users/smullally/anaconda/envs/tike38/lib/python3.7/site-packages/theano/gof/cmodule.py\", line 2399, in compile_str\n",
      "    (status, compile_stderr.replace('\\n', '. ')))\n",
      "Exception: (\"Compilation failed (return status=1): /Users/smullally/.theano/compiledir_Darwin-18.7.0-x86_64-i386-64bit-i386-3.7.7-64/tmpgljv6zlq/mod.cpp:528:27: error: non-constant-expression cannot be narrowed from type 'npy_intp' (aka 'long') to 'int' in initializer list [-Wc++11-narrowing].     int init_totals[3] = {V1_n0, V5_n1, V1_n2};.                           ^~~~~. /Users/smullally/.theano/compiledir_Darwin-18.7.0-x86_64-i386-64bit-i386-3.7.7-64/tmpgljv6zlq/mod.cpp:528:27: note: insert an explicit cast to silence this issue.     int init_totals[3] = {V1_n0, V5_n1, V1_n2};.                           ^~~~~.                           static_cast<int>( ). /Users/smullally/.theano/compiledir_Darwin-18.7.0-x86_64-i386-64bit-i386-3.7.7-64/tmpgljv6zlq/mod.cpp:528:34: error: non-constant-expression cannot be narrowed from type 'npy_intp' (aka 'long') to 'int' in initializer list [-Wc++11-narrowing].     int init_totals[3] = {V1_n0, V5_n1, V1_n2};.                                  ^~~~~. /Users/smullally/.theano/compiledir_Darwin-18.7.0-x86_64-i386-64bit-i386-3.7.7-64/tmpgljv6zlq/mod.cpp:528:34: note: insert an explicit cast to silence this issue.     int init_totals[3] = {V1_n0, V5_n1, V1_n2};.                                  ^~~~~.                                  static_cast<int>( ). /Users/smullally/.theano/compiledir_Darwin-18.7.0-x86_64-i386-64bit-i386-3.7.7-64/tmpgljv6zlq/mod.cpp:528:41: error: non-constant-expression cannot be narrowed from type 'npy_intp' (aka 'long') to 'int' in initializer list [-Wc++11-narrowing].     int init_totals[3] = {V1_n0, V5_n1, V1_n2};.                                         ^~~~~. /Users/smullally/.theano/compiledir_Darwin-18.7.0-x86_64-i386-64bit-i386-3.7.7-64/tmpgljv6zlq/mod.cpp:528:41: note: insert an explicit cast to silence this issue.     int init_totals[3] = {V1_n0, V5_n1, V1_n2};.                                         ^~~~~.                                         static_cast<int>( ). /Users/smullally/.theano/compiledir_Darwin-18.7.0-x86_64-i386-64bit-i386-3.7.7-64/tmpgljv6zlq/mod.cpp:544:4: error: non-constant-expression cannot be narrowed from type 'ssize_t' (aka 'long') to 'int' in initializer list [-Wc++11-narrowing]. 0, V5_stride1, 0, .    ^~~~~~~~~~. /Users/smullally/.theano/compiledir_Darwin-18.7.0-x86_64-i386-64bit-i386-3.7.7-64/tmpgljv6zlq/mod.cpp:544:4: note: insert an explicit cast to silence this issue. 0, V5_stride1, 0, .    ^~~~~~~~~~.    static_cast<int>( ). /Users/smullally/.theano/compiledir_Darwin-18.7.0-x86_64-i386-64bit-i386-3.7.7-64/tmpgljv6zlq/mod.cpp:545:1: error: non-constant-expression cannot be narrowed from type 'ssize_t' (aka 'long') to 'int' in initializer list [-Wc++11-narrowing]. V1_stride0, V1_stride1, V1_stride2. ^~~~~~~~~~. /Users/smullally/.theano/compiledir_Darwin-18.7.0-x86_64-i386-64bit-i386-3.7.7-64/tmpgljv6zlq/mod.cpp:545:1: note: insert an explicit cast to silence this issue. V1_stride0, V1_stride1, V1_stride2. ^~~~~~~~~~. static_cast<int>( ). /Users/smullally/.theano/compiledir_Darwin-18.7.0-x86_64-i386-64bit-i386-3.7.7-64/tmpgljv6zlq/mod.cpp:545:13: error: non-constant-expression cannot be narrowed from type 'ssize_t' (aka 'long') to 'int' in initializer list [-Wc++11-narrowing]. V1_stride0, V1_stride1, V1_stride2.             ^~~~~~~~~~. /Users/smullally/.theano/compiledir_Darwin-18.7.0-x86_64-i386-64bit-i386-3.7.7-64/tmpgljv6zlq/mod.cpp:545:13: note: insert an explicit cast to silence this issue. V1_stride0, V1_stride1, V1_stride2.             ^~~~~~~~~~.             static_cast<int>( ). /Users/smullally/.theano/compiledir_Darwin-18.7.0-x86_64-i386-64bit-i386-3.7.7-64/tmpgljv6zlq/mod.cpp:545:25: error: non-constant-expression cannot be narrowed from type 'ssize_t' (aka 'long') to 'int' in initializer list [-Wc++11-narrowing]. V1_stride0, V1_stride1, V1_stride2.                         ^~~~~~~~~~. /Users/smullally/.theano/compiledir_Darwin-18.7.0-x86_64-i386-64bit-i386-3.7.7-64/tmpgljv6zlq/mod.cpp:545:25: note: insert an explicit cast to silence this issue. V1_stride0, V1_stride1, V1_stride2.                         ^~~~~~~~~~.                         static_cast<int>( ). 7 errors generated.. \", '[Elemwise{mul,no_inplace}(TensorConstant{(1, 1, 1) of 0.02}, TensorConstant{[[[-0.4285..2857143]]]})]')\n",
      "\n"
     ]
    },
    {
     "name": "stdout",
     "output_type": "stream",
     "text": [
      "\n",
      "You can find the C code in this temporary file: /var/folders/zx/326t4zzx4_l01j7_ng3c507c0001p0/T/theano_compilation_error_bsvmcjwz\n"
     ]
    },
    {
     "name": "stderr",
     "output_type": "stream",
     "text": [
      "ERROR (theano.gof.opt): Optimization failure due to: constant_folding\n",
      "ERROR (theano.gof.opt): node: Elemwise{second,no_inplace}(TensorConstant{(1, 1, 1) of 0.1}, TensorConstant{(1, 1, 1) of 0.1})\n",
      "ERROR (theano.gof.opt): TRACEBACK:\n",
      "ERROR (theano.gof.opt): Traceback (most recent call last):\n",
      "  File \"/Users/smullally/anaconda/envs/tike38/lib/python3.7/site-packages/theano/gof/opt.py\", line 2034, in process_node\n",
      "    replacements = lopt.transform(node)\n",
      "  File \"/Users/smullally/anaconda/envs/tike38/lib/python3.7/site-packages/theano/tensor/opt.py\", line 6516, in constant_folding\n",
      "    no_recycling=[], impl=impl)\n",
      "  File \"/Users/smullally/anaconda/envs/tike38/lib/python3.7/site-packages/theano/gof/op.py\", line 955, in make_thunk\n",
      "    no_recycling)\n",
      "  File \"/Users/smullally/anaconda/envs/tike38/lib/python3.7/site-packages/theano/gof/op.py\", line 858, in make_c_thunk\n",
      "    output_storage=node_output_storage)\n",
      "  File \"/Users/smullally/anaconda/envs/tike38/lib/python3.7/site-packages/theano/gof/cc.py\", line 1217, in make_thunk\n",
      "    keep_lock=keep_lock)\n",
      "  File \"/Users/smullally/anaconda/envs/tike38/lib/python3.7/site-packages/theano/gof/cc.py\", line 1157, in __compile__\n",
      "    keep_lock=keep_lock)\n",
      "  File \"/Users/smullally/anaconda/envs/tike38/lib/python3.7/site-packages/theano/gof/cc.py\", line 1624, in cthunk_factory\n",
      "    key=key, lnk=self, keep_lock=keep_lock)\n",
      "  File \"/Users/smullally/anaconda/envs/tike38/lib/python3.7/site-packages/theano/gof/cmodule.py\", line 1189, in module_from_key\n",
      "    module = lnk.compile_cmodule(location)\n",
      "  File \"/Users/smullally/anaconda/envs/tike38/lib/python3.7/site-packages/theano/gof/cc.py\", line 1527, in compile_cmodule\n",
      "    preargs=preargs)\n",
      "  File \"/Users/smullally/anaconda/envs/tike38/lib/python3.7/site-packages/theano/gof/cmodule.py\", line 2399, in compile_str\n",
      "    (status, compile_stderr.replace('\\n', '. ')))\n",
      "Exception: (\"Compilation failed (return status=1): /Users/smullally/.theano/compiledir_Darwin-18.7.0-x86_64-i386-64bit-i386-3.7.7-64/tmpq2zu2acx/mod.cpp:528:27: error: non-constant-expression cannot be narrowed from type 'npy_intp' (aka 'long') to 'int' in initializer list [-Wc++11-narrowing].     int init_totals[3] = {V1_n0, V1_n1, V3_n2};.                           ^~~~~. /Users/smullally/.theano/compiledir_Darwin-18.7.0-x86_64-i386-64bit-i386-3.7.7-64/tmpq2zu2acx/mod.cpp:528:27: note: insert an explicit cast to silence this issue.     int init_totals[3] = {V1_n0, V1_n1, V3_n2};.                           ^~~~~.                           static_cast<int>( ). /Users/smullally/.theano/compiledir_Darwin-18.7.0-x86_64-i386-64bit-i386-3.7.7-64/tmpq2zu2acx/mod.cpp:528:34: error: non-constant-expression cannot be narrowed from type 'npy_intp' (aka 'long') to 'int' in initializer list [-Wc++11-narrowing].     int init_totals[3] = {V1_n0, V1_n1, V3_n2};.                                  ^~~~~. /Users/smullally/.theano/compiledir_Darwin-18.7.0-x86_64-i386-64bit-i386-3.7.7-64/tmpq2zu2acx/mod.cpp:528:34: note: insert an explicit cast to silence this issue.     int init_totals[3] = {V1_n0, V1_n1, V3_n2};.                                  ^~~~~.                                  static_cast<int>( ). /Users/smullally/.theano/compiledir_Darwin-18.7.0-x86_64-i386-64bit-i386-3.7.7-64/tmpq2zu2acx/mod.cpp:528:41: error: non-constant-expression cannot be narrowed from type 'npy_intp' (aka 'long') to 'int' in initializer list [-Wc++11-narrowing].     int init_totals[3] = {V1_n0, V1_n1, V3_n2};.                                         ^~~~~. /Users/smullally/.theano/compiledir_Darwin-18.7.0-x86_64-i386-64bit-i386-3.7.7-64/tmpq2zu2acx/mod.cpp:528:41: note: insert an explicit cast to silence this issue.     int init_totals[3] = {V1_n0, V1_n1, V3_n2};.                                         ^~~~~.                                         static_cast<int>( ). /Users/smullally/.theano/compiledir_Darwin-18.7.0-x86_64-i386-64bit-i386-3.7.7-64/tmpq2zu2acx/mod.cpp:543:15: error: non-constant-expression cannot be narrowed from type 'ssize_t' (aka 'long') to 'int' in initializer list [-Wc++11-narrowing].         0, 0, V3_stride2, .               ^~~~~~~~~~. /Users/smullally/.theano/compiledir_Darwin-18.7.0-x86_64-i386-64bit-i386-3.7.7-64/tmpq2zu2acx/mod.cpp:543:15: note: insert an explicit cast to silence this issue.         0, 0, V3_stride2, .               ^~~~~~~~~~.               static_cast<int>( ). /Users/smullally/.theano/compiledir_Darwin-18.7.0-x86_64-i386-64bit-i386-3.7.7-64/tmpq2zu2acx/mod.cpp:545:1: error: non-constant-expression cannot be narrowed from type 'ssize_t' (aka 'long') to 'int' in initializer list [-Wc++11-narrowing]. V1_stride0, V1_stride1, V1_stride2. ^~~~~~~~~~. /Users/smullally/.theano/compiledir_Darwin-18.7.0-x86_64-i386-64bit-i386-3.7.7-64/tmpq2zu2acx/mod.cpp:545:1: note: insert an explicit cast to silence this issue. V1_stride0, V1_stride1, V1_stride2. ^~~~~~~~~~. static_cast<int>( ). /Users/smullally/.theano/compiledir_Darwin-18.7.0-x86_64-i386-64bit-i386-3.7.7-64/tmpq2zu2acx/mod.cpp:545:13: error: non-constant-expression cannot be narrowed from type 'ssize_t' (aka 'long') to 'int' in initializer list [-Wc++11-narrowing]. V1_stride0, V1_stride1, V1_stride2.             ^~~~~~~~~~. /Users/smullally/.theano/compiledir_Darwin-18.7.0-x86_64-i386-64bit-i386-3.7.7-64/tmpq2zu2acx/mod.cpp:545:13: note: insert an explicit cast to silence this issue. V1_stride0, V1_stride1, V1_stride2.             ^~~~~~~~~~.             static_cast<int>( ). /Users/smullally/.theano/compiledir_Darwin-18.7.0-x86_64-i386-64bit-i386-3.7.7-64/tmpq2zu2acx/mod.cpp:545:25: error: non-constant-expression cannot be narrowed from type 'ssize_t' (aka 'long') to 'int' in initializer list [-Wc++11-narrowing]. V1_stride0, V1_stride1, V1_stride2.                         ^~~~~~~~~~. /Users/smullally/.theano/compiledir_Darwin-18.7.0-x86_64-i386-64bit-i386-3.7.7-64/tmpq2zu2acx/mod.cpp:545:25: note: insert an explicit cast to silence this issue. V1_stride0, V1_stride1, V1_stride2.                         ^~~~~~~~~~.                         static_cast<int>( ). 7 errors generated.. \", '[Elemwise{second,no_inplace}(TensorConstant{(1, 1, 1) of 0.1}, TensorConstant{(1, 1, 1) of 0.1})]')\n",
      "\n"
     ]
    },
    {
     "name": "stdout",
     "output_type": "stream",
     "text": [
      "\n",
      "You can find the C code in this temporary file: /var/folders/zx/326t4zzx4_l01j7_ng3c507c0001p0/T/theano_compilation_error_mfypbhk4\n"
     ]
    },
    {
     "name": "stderr",
     "output_type": "stream",
     "text": [
      "ERROR (theano.gof.opt): Optimization failure due to: constant_folding\n",
      "ERROR (theano.gof.opt): node: Elemwise{pow,no_inplace}(TensorConstant{(1, 1) of 0.0}, TensorConstant{(1, 1) of 2})\n",
      "ERROR (theano.gof.opt): TRACEBACK:\n",
      "ERROR (theano.gof.opt): Traceback (most recent call last):\n",
      "  File \"/Users/smullally/anaconda/envs/tike38/lib/python3.7/site-packages/theano/gof/opt.py\", line 2034, in process_node\n",
      "    replacements = lopt.transform(node)\n",
      "  File \"/Users/smullally/anaconda/envs/tike38/lib/python3.7/site-packages/theano/tensor/opt.py\", line 6516, in constant_folding\n",
      "    no_recycling=[], impl=impl)\n",
      "  File \"/Users/smullally/anaconda/envs/tike38/lib/python3.7/site-packages/theano/gof/op.py\", line 955, in make_thunk\n",
      "    no_recycling)\n",
      "  File \"/Users/smullally/anaconda/envs/tike38/lib/python3.7/site-packages/theano/gof/op.py\", line 858, in make_c_thunk\n",
      "    output_storage=node_output_storage)\n",
      "  File \"/Users/smullally/anaconda/envs/tike38/lib/python3.7/site-packages/theano/gof/cc.py\", line 1217, in make_thunk\n",
      "    keep_lock=keep_lock)\n",
      "  File \"/Users/smullally/anaconda/envs/tike38/lib/python3.7/site-packages/theano/gof/cc.py\", line 1157, in __compile__\n",
      "    keep_lock=keep_lock)\n",
      "  File \"/Users/smullally/anaconda/envs/tike38/lib/python3.7/site-packages/theano/gof/cc.py\", line 1624, in cthunk_factory\n",
      "    key=key, lnk=self, keep_lock=keep_lock)\n",
      "  File \"/Users/smullally/anaconda/envs/tike38/lib/python3.7/site-packages/theano/gof/cmodule.py\", line 1189, in module_from_key\n",
      "    module = lnk.compile_cmodule(location)\n",
      "  File \"/Users/smullally/anaconda/envs/tike38/lib/python3.7/site-packages/theano/gof/cc.py\", line 1527, in compile_cmodule\n",
      "    preargs=preargs)\n",
      "  File \"/Users/smullally/anaconda/envs/tike38/lib/python3.7/site-packages/theano/gof/cmodule.py\", line 2399, in compile_str\n",
      "    (status, compile_stderr.replace('\\n', '. ')))\n",
      "Exception: (\"Compilation failed (return status=1): /Users/smullally/.theano/compiledir_Darwin-18.7.0-x86_64-i386-64bit-i386-3.7.7-64/tmpevm1a7b9/mod.cpp:468:27: error: non-constant-expression cannot be narrowed from type 'npy_intp' (aka 'long') to 'int' in initializer list [-Wc++11-narrowing].     int init_totals[2] = {V1_n0, V1_n1};.                           ^~~~~. /Users/smullally/.theano/compiledir_Darwin-18.7.0-x86_64-i386-64bit-i386-3.7.7-64/tmpevm1a7b9/mod.cpp:468:27: note: insert an explicit cast to silence this issue.     int init_totals[2] = {V1_n0, V1_n1};.                           ^~~~~.                           static_cast<int>( ). /Users/smullally/.theano/compiledir_Darwin-18.7.0-x86_64-i386-64bit-i386-3.7.7-64/tmpevm1a7b9/mod.cpp:468:34: error: non-constant-expression cannot be narrowed from type 'npy_intp' (aka 'long') to 'int' in initializer list [-Wc++11-narrowing].     int init_totals[2] = {V1_n0, V1_n1};.                                  ^~~~~. /Users/smullally/.theano/compiledir_Darwin-18.7.0-x86_64-i386-64bit-i386-3.7.7-64/tmpevm1a7b9/mod.cpp:468:34: note: insert an explicit cast to silence this issue.     int init_totals[2] = {V1_n0, V1_n1};.                                  ^~~~~.                                  static_cast<int>( ). /Users/smullally/.theano/compiledir_Darwin-18.7.0-x86_64-i386-64bit-i386-3.7.7-64/tmpevm1a7b9/mod.cpp:482:1: error: non-constant-expression cannot be narrowed from type 'ssize_t' (aka 'long') to 'int' in initializer list [-Wc++11-narrowing]. V1_stride0, V1_stride1. ^~~~~~~~~~. /Users/smullally/.theano/compiledir_Darwin-18.7.0-x86_64-i386-64bit-i386-3.7.7-64/tmpevm1a7b9/mod.cpp:482:1: note: insert an explicit cast to silence this issue. V1_stride0, V1_stride1. ^~~~~~~~~~. static_cast<int>( ). /Users/smullally/.theano/compiledir_Darwin-18.7.0-x86_64-i386-64bit-i386-3.7.7-64/tmpevm1a7b9/mod.cpp:482:13: error: non-constant-expression cannot be narrowed from type 'ssize_t' (aka 'long') to 'int' in initializer list [-Wc++11-narrowing]. V1_stride0, V1_stride1.             ^~~~~~~~~~. /Users/smullally/.theano/compiledir_Darwin-18.7.0-x86_64-i386-64bit-i386-3.7.7-64/tmpevm1a7b9/mod.cpp:482:13: note: insert an explicit cast to silence this issue. V1_stride0, V1_stride1.             ^~~~~~~~~~.             static_cast<int>( ). 4 errors generated.. \", '[Elemwise{pow,no_inplace}(TensorConstant{(1, 1) of 0.0}, TensorConstant{(1, 1) of 2})]')\n",
      "\n"
     ]
    },
    {
     "name": "stdout",
     "output_type": "stream",
     "text": [
      "\n",
      "You can find the C code in this temporary file: /var/folders/zx/326t4zzx4_l01j7_ng3c507c0001p0/T/theano_compilation_error_kktj_buk\n"
     ]
    },
    {
     "name": "stderr",
     "output_type": "stream",
     "text": [
      "ERROR (theano.gof.opt): Optimization failure due to: constant_folding\n",
      "ERROR (theano.gof.opt): node: Elemwise{Cast{float64}}(TensorConstant{(1, 1) of 0.0})\n",
      "ERROR (theano.gof.opt): TRACEBACK:\n",
      "ERROR (theano.gof.opt): Traceback (most recent call last):\n",
      "  File \"/Users/smullally/anaconda/envs/tike38/lib/python3.7/site-packages/theano/gof/opt.py\", line 2034, in process_node\n",
      "    replacements = lopt.transform(node)\n",
      "  File \"/Users/smullally/anaconda/envs/tike38/lib/python3.7/site-packages/theano/tensor/opt.py\", line 6516, in constant_folding\n",
      "    no_recycling=[], impl=impl)\n",
      "  File \"/Users/smullally/anaconda/envs/tike38/lib/python3.7/site-packages/theano/gof/op.py\", line 955, in make_thunk\n",
      "    no_recycling)\n",
      "  File \"/Users/smullally/anaconda/envs/tike38/lib/python3.7/site-packages/theano/gof/op.py\", line 858, in make_c_thunk\n",
      "    output_storage=node_output_storage)\n",
      "  File \"/Users/smullally/anaconda/envs/tike38/lib/python3.7/site-packages/theano/gof/cc.py\", line 1217, in make_thunk\n",
      "    keep_lock=keep_lock)\n",
      "  File \"/Users/smullally/anaconda/envs/tike38/lib/python3.7/site-packages/theano/gof/cc.py\", line 1157, in __compile__\n",
      "    keep_lock=keep_lock)\n",
      "  File \"/Users/smullally/anaconda/envs/tike38/lib/python3.7/site-packages/theano/gof/cc.py\", line 1624, in cthunk_factory\n",
      "    key=key, lnk=self, keep_lock=keep_lock)\n",
      "  File \"/Users/smullally/anaconda/envs/tike38/lib/python3.7/site-packages/theano/gof/cmodule.py\", line 1189, in module_from_key\n",
      "    module = lnk.compile_cmodule(location)\n",
      "  File \"/Users/smullally/anaconda/envs/tike38/lib/python3.7/site-packages/theano/gof/cc.py\", line 1527, in compile_cmodule\n",
      "    preargs=preargs)\n",
      "  File \"/Users/smullally/anaconda/envs/tike38/lib/python3.7/site-packages/theano/gof/cmodule.py\", line 2399, in compile_str\n",
      "    (status, compile_stderr.replace('\\n', '. ')))\n",
      "Exception: (\"Compilation failed (return status=1): /Users/smullally/.theano/compiledir_Darwin-18.7.0-x86_64-i386-64bit-i386-3.7.7-64/tmphvxnz82k/mod.cpp:360:27: error: non-constant-expression cannot be narrowed from type 'npy_intp' (aka 'long') to 'int' in initializer list [-Wc++11-narrowing].     int init_totals[2] = {V1_n0, V1_n1};.                           ^~~~~. /Users/smullally/.theano/compiledir_Darwin-18.7.0-x86_64-i386-64bit-i386-3.7.7-64/tmphvxnz82k/mod.cpp:360:27: note: insert an explicit cast to silence this issue.     int init_totals[2] = {V1_n0, V1_n1};.                           ^~~~~.                           static_cast<int>( ). /Users/smullally/.theano/compiledir_Darwin-18.7.0-x86_64-i386-64bit-i386-3.7.7-64/tmphvxnz82k/mod.cpp:360:34: error: non-constant-expression cannot be narrowed from type 'npy_intp' (aka 'long') to 'int' in initializer list [-Wc++11-narrowing].     int init_totals[2] = {V1_n0, V1_n1};.                                  ^~~~~. /Users/smullally/.theano/compiledir_Darwin-18.7.0-x86_64-i386-64bit-i386-3.7.7-64/tmphvxnz82k/mod.cpp:360:34: note: insert an explicit cast to silence this issue.     int init_totals[2] = {V1_n0, V1_n1};.                                  ^~~~~.                                  static_cast<int>( ). /Users/smullally/.theano/compiledir_Darwin-18.7.0-x86_64-i386-64bit-i386-3.7.7-64/tmphvxnz82k/mod.cpp:373:1: error: non-constant-expression cannot be narrowed from type 'ssize_t' (aka 'long') to 'int' in initializer list [-Wc++11-narrowing]. V1_stride0, V1_stride1. ^~~~~~~~~~. /Users/smullally/.theano/compiledir_Darwin-18.7.0-x86_64-i386-64bit-i386-3.7.7-64/tmphvxnz82k/mod.cpp:373:1: note: insert an explicit cast to silence this issue. V1_stride0, V1_stride1. ^~~~~~~~~~. static_cast<int>( ). /Users/smullally/.theano/compiledir_Darwin-18.7.0-x86_64-i386-64bit-i386-3.7.7-64/tmphvxnz82k/mod.cpp:373:13: error: non-constant-expression cannot be narrowed from type 'ssize_t' (aka 'long') to 'int' in initializer list [-Wc++11-narrowing]. V1_stride0, V1_stride1.             ^~~~~~~~~~. /Users/smullally/.theano/compiledir_Darwin-18.7.0-x86_64-i386-64bit-i386-3.7.7-64/tmphvxnz82k/mod.cpp:373:13: note: insert an explicit cast to silence this issue. V1_stride0, V1_stride1.             ^~~~~~~~~~.             static_cast<int>( ). 4 errors generated.. \", '[Elemwise{Cast{float64}}(TensorConstant{(1, 1) of 0.0})]')\n",
      "\n"
     ]
    },
    {
     "name": "stdout",
     "output_type": "stream",
     "text": [
      "\n",
      "You can find the C code in this temporary file: /var/folders/zx/326t4zzx4_l01j7_ng3c507c0001p0/T/theano_compilation_error_yc15916k\n"
     ]
    },
    {
     "name": "stderr",
     "output_type": "stream",
     "text": [
      "ERROR (theano.gof.opt): Optimization failure due to: constant_folding\n",
      "ERROR (theano.gof.opt): node: Elemwise{add,no_inplace}(TensorConstant{(1, 1) of 1.728}, TensorConstant{[[-0.1    ..1       ]]})\n",
      "ERROR (theano.gof.opt): TRACEBACK:\n",
      "ERROR (theano.gof.opt): Traceback (most recent call last):\n",
      "  File \"/Users/smullally/anaconda/envs/tike38/lib/python3.7/site-packages/theano/gof/opt.py\", line 2034, in process_node\n",
      "    replacements = lopt.transform(node)\n",
      "  File \"/Users/smullally/anaconda/envs/tike38/lib/python3.7/site-packages/theano/tensor/opt.py\", line 6516, in constant_folding\n",
      "    no_recycling=[], impl=impl)\n",
      "  File \"/Users/smullally/anaconda/envs/tike38/lib/python3.7/site-packages/theano/gof/op.py\", line 955, in make_thunk\n",
      "    no_recycling)\n",
      "  File \"/Users/smullally/anaconda/envs/tike38/lib/python3.7/site-packages/theano/gof/op.py\", line 858, in make_c_thunk\n",
      "    output_storage=node_output_storage)\n",
      "  File \"/Users/smullally/anaconda/envs/tike38/lib/python3.7/site-packages/theano/gof/cc.py\", line 1217, in make_thunk\n",
      "    keep_lock=keep_lock)\n",
      "  File \"/Users/smullally/anaconda/envs/tike38/lib/python3.7/site-packages/theano/gof/cc.py\", line 1157, in __compile__\n",
      "    keep_lock=keep_lock)\n",
      "  File \"/Users/smullally/anaconda/envs/tike38/lib/python3.7/site-packages/theano/gof/cc.py\", line 1624, in cthunk_factory\n",
      "    key=key, lnk=self, keep_lock=keep_lock)\n",
      "  File \"/Users/smullally/anaconda/envs/tike38/lib/python3.7/site-packages/theano/gof/cmodule.py\", line 1189, in module_from_key\n",
      "    module = lnk.compile_cmodule(location)\n",
      "  File \"/Users/smullally/anaconda/envs/tike38/lib/python3.7/site-packages/theano/gof/cc.py\", line 1527, in compile_cmodule\n",
      "    preargs=preargs)\n",
      "  File \"/Users/smullally/anaconda/envs/tike38/lib/python3.7/site-packages/theano/gof/cmodule.py\", line 2399, in compile_str\n",
      "    (status, compile_stderr.replace('\\n', '. ')))\n",
      "Exception: (\"Compilation failed (return status=1): /Users/smullally/.theano/compiledir_Darwin-18.7.0-x86_64-i386-64bit-i386-3.7.7-64/tmp00old6z8/mod.cpp:506:27: error: non-constant-expression cannot be narrowed from type 'npy_intp' (aka 'long') to 'int' in initializer list [-Wc++11-narrowing].     int init_totals[2] = {V5_n0, V1_n1};.                           ^~~~~. /Users/smullally/.theano/compiledir_Darwin-18.7.0-x86_64-i386-64bit-i386-3.7.7-64/tmp00old6z8/mod.cpp:506:27: note: insert an explicit cast to silence this issue.     int init_totals[2] = {V5_n0, V1_n1};.                           ^~~~~.                           static_cast<int>( ). /Users/smullally/.theano/compiledir_Darwin-18.7.0-x86_64-i386-64bit-i386-3.7.7-64/tmp00old6z8/mod.cpp:506:34: error: non-constant-expression cannot be narrowed from type 'npy_intp' (aka 'long') to 'int' in initializer list [-Wc++11-narrowing].     int init_totals[2] = {V5_n0, V1_n1};.                                  ^~~~~. /Users/smullally/.theano/compiledir_Darwin-18.7.0-x86_64-i386-64bit-i386-3.7.7-64/tmp00old6z8/mod.cpp:506:34: note: insert an explicit cast to silence this issue.     int init_totals[2] = {V5_n0, V1_n1};.                                  ^~~~~.                                  static_cast<int>( ). /Users/smullally/.theano/compiledir_Darwin-18.7.0-x86_64-i386-64bit-i386-3.7.7-64/tmp00old6z8/mod.cpp:519:1: error: non-constant-expression cannot be narrowed from type 'ssize_t' (aka 'long') to 'int' in initializer list [-Wc++11-narrowing]. V5_stride0, 0, . ^~~~~~~~~~. /Users/smullally/.theano/compiledir_Darwin-18.7.0-x86_64-i386-64bit-i386-3.7.7-64/tmp00old6z8/mod.cpp:519:1: note: insert an explicit cast to silence this issue. V5_stride0, 0, . ^~~~~~~~~~. static_cast<int>( ). /Users/smullally/.theano/compiledir_Darwin-18.7.0-x86_64-i386-64bit-i386-3.7.7-64/tmp00old6z8/mod.cpp:520:1: error: non-constant-expression cannot be narrowed from type 'ssize_t' (aka 'long') to 'int' in initializer list [-Wc++11-narrowing]. V1_stride0, V1_stride1. ^~~~~~~~~~. /Users/smullally/.theano/compiledir_Darwin-18.7.0-x86_64-i386-64bit-i386-3.7.7-64/tmp00old6z8/mod.cpp:520:1: note: insert an explicit cast to silence this issue. V1_stride0, V1_stride1. ^~~~~~~~~~. static_cast<int>( ). /Users/smullally/.theano/compiledir_Darwin-18.7.0-x86_64-i386-64bit-i386-3.7.7-64/tmp00old6z8/mod.cpp:520:13: error: non-constant-expression cannot be narrowed from type 'ssize_t' (aka 'long') to 'int' in initializer list [-Wc++11-narrowing]. V1_stride0, V1_stride1.             ^~~~~~~~~~. /Users/smullally/.theano/compiledir_Darwin-18.7.0-x86_64-i386-64bit-i386-3.7.7-64/tmp00old6z8/mod.cpp:520:13: note: insert an explicit cast to silence this issue. V1_stride0, V1_stride1.             ^~~~~~~~~~.             static_cast<int>( ). 5 errors generated.. \", '[Elemwise{add,no_inplace}(TensorConstant{(1, 1) of 1.728}, TensorConstant{[[-0.1    ..1       ]]})]')\n",
      "\n"
     ]
    },
    {
     "name": "stdout",
     "output_type": "stream",
     "text": [
      "\n",
      "You can find the C code in this temporary file: /var/folders/zx/326t4zzx4_l01j7_ng3c507c0001p0/T/theano_compilation_error_451jkh87\n"
     ]
    },
    {
     "name": "stderr",
     "output_type": "stream",
     "text": [
      "ERROR (theano.gof.opt): Optimization failure due to: constant_folding\n",
      "ERROR (theano.gof.opt): node: Elemwise{mul,no_inplace}(TensorConstant{(1, 1, 1) of 0.02}, TensorConstant{[[[-0.4285..2857143]]]})\n",
      "ERROR (theano.gof.opt): TRACEBACK:\n",
      "ERROR (theano.gof.opt): Traceback (most recent call last):\n",
      "  File \"/Users/smullally/anaconda/envs/tike38/lib/python3.7/site-packages/theano/gof/opt.py\", line 2034, in process_node\n",
      "    replacements = lopt.transform(node)\n",
      "  File \"/Users/smullally/anaconda/envs/tike38/lib/python3.7/site-packages/theano/tensor/opt.py\", line 6516, in constant_folding\n",
      "    no_recycling=[], impl=impl)\n",
      "  File \"/Users/smullally/anaconda/envs/tike38/lib/python3.7/site-packages/theano/gof/op.py\", line 955, in make_thunk\n",
      "    no_recycling)\n",
      "  File \"/Users/smullally/anaconda/envs/tike38/lib/python3.7/site-packages/theano/gof/op.py\", line 858, in make_c_thunk\n",
      "    output_storage=node_output_storage)\n",
      "  File \"/Users/smullally/anaconda/envs/tike38/lib/python3.7/site-packages/theano/gof/cc.py\", line 1217, in make_thunk\n",
      "    keep_lock=keep_lock)\n",
      "  File \"/Users/smullally/anaconda/envs/tike38/lib/python3.7/site-packages/theano/gof/cc.py\", line 1157, in __compile__\n",
      "    keep_lock=keep_lock)\n",
      "  File \"/Users/smullally/anaconda/envs/tike38/lib/python3.7/site-packages/theano/gof/cc.py\", line 1624, in cthunk_factory\n",
      "    key=key, lnk=self, keep_lock=keep_lock)\n",
      "  File \"/Users/smullally/anaconda/envs/tike38/lib/python3.7/site-packages/theano/gof/cmodule.py\", line 1189, in module_from_key\n",
      "    module = lnk.compile_cmodule(location)\n",
      "  File \"/Users/smullally/anaconda/envs/tike38/lib/python3.7/site-packages/theano/gof/cc.py\", line 1527, in compile_cmodule\n",
      "    preargs=preargs)\n",
      "  File \"/Users/smullally/anaconda/envs/tike38/lib/python3.7/site-packages/theano/gof/cmodule.py\", line 2399, in compile_str\n",
      "    (status, compile_stderr.replace('\\n', '. ')))\n",
      "Exception: (\"Compilation failed (return status=1): /Users/smullally/.theano/compiledir_Darwin-18.7.0-x86_64-i386-64bit-i386-3.7.7-64/tmpt675av1s/mod.cpp:528:27: error: non-constant-expression cannot be narrowed from type 'npy_intp' (aka 'long') to 'int' in initializer list [-Wc++11-narrowing].     int init_totals[3] = {V1_n0, V5_n1, V1_n2};.                           ^~~~~. /Users/smullally/.theano/compiledir_Darwin-18.7.0-x86_64-i386-64bit-i386-3.7.7-64/tmpt675av1s/mod.cpp:528:27: note: insert an explicit cast to silence this issue.     int init_totals[3] = {V1_n0, V5_n1, V1_n2};.                           ^~~~~.                           static_cast<int>( ). /Users/smullally/.theano/compiledir_Darwin-18.7.0-x86_64-i386-64bit-i386-3.7.7-64/tmpt675av1s/mod.cpp:528:34: error: non-constant-expression cannot be narrowed from type 'npy_intp' (aka 'long') to 'int' in initializer list [-Wc++11-narrowing].     int init_totals[3] = {V1_n0, V5_n1, V1_n2};.                                  ^~~~~. /Users/smullally/.theano/compiledir_Darwin-18.7.0-x86_64-i386-64bit-i386-3.7.7-64/tmpt675av1s/mod.cpp:528:34: note: insert an explicit cast to silence this issue.     int init_totals[3] = {V1_n0, V5_n1, V1_n2};.                                  ^~~~~.                                  static_cast<int>( ). /Users/smullally/.theano/compiledir_Darwin-18.7.0-x86_64-i386-64bit-i386-3.7.7-64/tmpt675av1s/mod.cpp:528:41: error: non-constant-expression cannot be narrowed from type 'npy_intp' (aka 'long') to 'int' in initializer list [-Wc++11-narrowing].     int init_totals[3] = {V1_n0, V5_n1, V1_n2};.                                         ^~~~~. /Users/smullally/.theano/compiledir_Darwin-18.7.0-x86_64-i386-64bit-i386-3.7.7-64/tmpt675av1s/mod.cpp:528:41: note: insert an explicit cast to silence this issue.     int init_totals[3] = {V1_n0, V5_n1, V1_n2};.                                         ^~~~~.                                         static_cast<int>( ). /Users/smullally/.theano/compiledir_Darwin-18.7.0-x86_64-i386-64bit-i386-3.7.7-64/tmpt675av1s/mod.cpp:544:4: error: non-constant-expression cannot be narrowed from type 'ssize_t' (aka 'long') to 'int' in initializer list [-Wc++11-narrowing]. 0, V5_stride1, 0, .    ^~~~~~~~~~. /Users/smullally/.theano/compiledir_Darwin-18.7.0-x86_64-i386-64bit-i386-3.7.7-64/tmpt675av1s/mod.cpp:544:4: note: insert an explicit cast to silence this issue. 0, V5_stride1, 0, .    ^~~~~~~~~~.    static_cast<int>( ). /Users/smullally/.theano/compiledir_Darwin-18.7.0-x86_64-i386-64bit-i386-3.7.7-64/tmpt675av1s/mod.cpp:545:1: error: non-constant-expression cannot be narrowed from type 'ssize_t' (aka 'long') to 'int' in initializer list [-Wc++11-narrowing]. V1_stride0, V1_stride1, V1_stride2. ^~~~~~~~~~. /Users/smullally/.theano/compiledir_Darwin-18.7.0-x86_64-i386-64bit-i386-3.7.7-64/tmpt675av1s/mod.cpp:545:1: note: insert an explicit cast to silence this issue. V1_stride0, V1_stride1, V1_stride2. ^~~~~~~~~~. static_cast<int>( ). /Users/smullally/.theano/compiledir_Darwin-18.7.0-x86_64-i386-64bit-i386-3.7.7-64/tmpt675av1s/mod.cpp:545:13: error: non-constant-expression cannot be narrowed from type 'ssize_t' (aka 'long') to 'int' in initializer list [-Wc++11-narrowing]. V1_stride0, V1_stride1, V1_stride2.             ^~~~~~~~~~. /Users/smullally/.theano/compiledir_Darwin-18.7.0-x86_64-i386-64bit-i386-3.7.7-64/tmpt675av1s/mod.cpp:545:13: note: insert an explicit cast to silence this issue. V1_stride0, V1_stride1, V1_stride2.             ^~~~~~~~~~.             static_cast<int>( ). /Users/smullally/.theano/compiledir_Darwin-18.7.0-x86_64-i386-64bit-i386-3.7.7-64/tmpt675av1s/mod.cpp:545:25: error: non-constant-expression cannot be narrowed from type 'ssize_t' (aka 'long') to 'int' in initializer list [-Wc++11-narrowing]. V1_stride0, V1_stride1, V1_stride2.                         ^~~~~~~~~~. /Users/smullally/.theano/compiledir_Darwin-18.7.0-x86_64-i386-64bit-i386-3.7.7-64/tmpt675av1s/mod.cpp:545:25: note: insert an explicit cast to silence this issue. V1_stride0, V1_stride1, V1_stride2.                         ^~~~~~~~~~.                         static_cast<int>( ). 7 errors generated.. \", '[Elemwise{mul,no_inplace}(TensorConstant{(1, 1, 1) of 0.02}, TensorConstant{[[[-0.4285..2857143]]]})]')\n",
      "\n"
     ]
    },
    {
     "name": "stdout",
     "output_type": "stream",
     "text": [
      "\n",
      "You can find the C code in this temporary file: /var/folders/zx/326t4zzx4_l01j7_ng3c507c0001p0/T/theano_compilation_error_5e3dobey\n"
     ]
    },
    {
     "name": "stderr",
     "output_type": "stream",
     "text": [
      "ERROR (theano.gof.opt): Optimization failure due to: constant_folding\n",
      "ERROR (theano.gof.opt): node: Elemwise{second,no_inplace}(TensorConstant{(1, 1, 1) of 0.1}, TensorConstant{(1, 1, 1) of 0.1})\n",
      "ERROR (theano.gof.opt): TRACEBACK:\n",
      "ERROR (theano.gof.opt): Traceback (most recent call last):\n",
      "  File \"/Users/smullally/anaconda/envs/tike38/lib/python3.7/site-packages/theano/gof/opt.py\", line 2034, in process_node\n",
      "    replacements = lopt.transform(node)\n",
      "  File \"/Users/smullally/anaconda/envs/tike38/lib/python3.7/site-packages/theano/tensor/opt.py\", line 6516, in constant_folding\n",
      "    no_recycling=[], impl=impl)\n",
      "  File \"/Users/smullally/anaconda/envs/tike38/lib/python3.7/site-packages/theano/gof/op.py\", line 955, in make_thunk\n",
      "    no_recycling)\n",
      "  File \"/Users/smullally/anaconda/envs/tike38/lib/python3.7/site-packages/theano/gof/op.py\", line 858, in make_c_thunk\n",
      "    output_storage=node_output_storage)\n",
      "  File \"/Users/smullally/anaconda/envs/tike38/lib/python3.7/site-packages/theano/gof/cc.py\", line 1217, in make_thunk\n",
      "    keep_lock=keep_lock)\n",
      "  File \"/Users/smullally/anaconda/envs/tike38/lib/python3.7/site-packages/theano/gof/cc.py\", line 1157, in __compile__\n",
      "    keep_lock=keep_lock)\n",
      "  File \"/Users/smullally/anaconda/envs/tike38/lib/python3.7/site-packages/theano/gof/cc.py\", line 1624, in cthunk_factory\n",
      "    key=key, lnk=self, keep_lock=keep_lock)\n",
      "  File \"/Users/smullally/anaconda/envs/tike38/lib/python3.7/site-packages/theano/gof/cmodule.py\", line 1189, in module_from_key\n",
      "    module = lnk.compile_cmodule(location)\n",
      "  File \"/Users/smullally/anaconda/envs/tike38/lib/python3.7/site-packages/theano/gof/cc.py\", line 1527, in compile_cmodule\n",
      "    preargs=preargs)\n",
      "  File \"/Users/smullally/anaconda/envs/tike38/lib/python3.7/site-packages/theano/gof/cmodule.py\", line 2399, in compile_str\n",
      "    (status, compile_stderr.replace('\\n', '. ')))\n",
      "Exception: (\"Compilation failed (return status=1): /Users/smullally/.theano/compiledir_Darwin-18.7.0-x86_64-i386-64bit-i386-3.7.7-64/tmpmneaguwi/mod.cpp:528:27: error: non-constant-expression cannot be narrowed from type 'npy_intp' (aka 'long') to 'int' in initializer list [-Wc++11-narrowing].     int init_totals[3] = {V1_n0, V1_n1, V3_n2};.                           ^~~~~. /Users/smullally/.theano/compiledir_Darwin-18.7.0-x86_64-i386-64bit-i386-3.7.7-64/tmpmneaguwi/mod.cpp:528:27: note: insert an explicit cast to silence this issue.     int init_totals[3] = {V1_n0, V1_n1, V3_n2};.                           ^~~~~.                           static_cast<int>( ). /Users/smullally/.theano/compiledir_Darwin-18.7.0-x86_64-i386-64bit-i386-3.7.7-64/tmpmneaguwi/mod.cpp:528:34: error: non-constant-expression cannot be narrowed from type 'npy_intp' (aka 'long') to 'int' in initializer list [-Wc++11-narrowing].     int init_totals[3] = {V1_n0, V1_n1, V3_n2};.                                  ^~~~~. /Users/smullally/.theano/compiledir_Darwin-18.7.0-x86_64-i386-64bit-i386-3.7.7-64/tmpmneaguwi/mod.cpp:528:34: note: insert an explicit cast to silence this issue.     int init_totals[3] = {V1_n0, V1_n1, V3_n2};.                                  ^~~~~.                                  static_cast<int>( ). /Users/smullally/.theano/compiledir_Darwin-18.7.0-x86_64-i386-64bit-i386-3.7.7-64/tmpmneaguwi/mod.cpp:528:41: error: non-constant-expression cannot be narrowed from type 'npy_intp' (aka 'long') to 'int' in initializer list [-Wc++11-narrowing].     int init_totals[3] = {V1_n0, V1_n1, V3_n2};.                                         ^~~~~. /Users/smullally/.theano/compiledir_Darwin-18.7.0-x86_64-i386-64bit-i386-3.7.7-64/tmpmneaguwi/mod.cpp:528:41: note: insert an explicit cast to silence this issue.     int init_totals[3] = {V1_n0, V1_n1, V3_n2};.                                         ^~~~~.                                         static_cast<int>( ). /Users/smullally/.theano/compiledir_Darwin-18.7.0-x86_64-i386-64bit-i386-3.7.7-64/tmpmneaguwi/mod.cpp:543:15: error: non-constant-expression cannot be narrowed from type 'ssize_t' (aka 'long') to 'int' in initializer list [-Wc++11-narrowing].         0, 0, V3_stride2, .               ^~~~~~~~~~. /Users/smullally/.theano/compiledir_Darwin-18.7.0-x86_64-i386-64bit-i386-3.7.7-64/tmpmneaguwi/mod.cpp:543:15: note: insert an explicit cast to silence this issue.         0, 0, V3_stride2, .               ^~~~~~~~~~.               static_cast<int>( ). /Users/smullally/.theano/compiledir_Darwin-18.7.0-x86_64-i386-64bit-i386-3.7.7-64/tmpmneaguwi/mod.cpp:545:1: error: non-constant-expression cannot be narrowed from type 'ssize_t' (aka 'long') to 'int' in initializer list [-Wc++11-narrowing]. V1_stride0, V1_stride1, V1_stride2. ^~~~~~~~~~. /Users/smullally/.theano/compiledir_Darwin-18.7.0-x86_64-i386-64bit-i386-3.7.7-64/tmpmneaguwi/mod.cpp:545:1: note: insert an explicit cast to silence this issue. V1_stride0, V1_stride1, V1_stride2. ^~~~~~~~~~. static_cast<int>( ). /Users/smullally/.theano/compiledir_Darwin-18.7.0-x86_64-i386-64bit-i386-3.7.7-64/tmpmneaguwi/mod.cpp:545:13: error: non-constant-expression cannot be narrowed from type 'ssize_t' (aka 'long') to 'int' in initializer list [-Wc++11-narrowing]. V1_stride0, V1_stride1, V1_stride2.             ^~~~~~~~~~. /Users/smullally/.theano/compiledir_Darwin-18.7.0-x86_64-i386-64bit-i386-3.7.7-64/tmpmneaguwi/mod.cpp:545:13: note: insert an explicit cast to silence this issue. V1_stride0, V1_stride1, V1_stride2.             ^~~~~~~~~~.             static_cast<int>( ). /Users/smullally/.theano/compiledir_Darwin-18.7.0-x86_64-i386-64bit-i386-3.7.7-64/tmpmneaguwi/mod.cpp:545:25: error: non-constant-expression cannot be narrowed from type 'ssize_t' (aka 'long') to 'int' in initializer list [-Wc++11-narrowing]. V1_stride0, V1_stride1, V1_stride2.                         ^~~~~~~~~~. /Users/smullally/.theano/compiledir_Darwin-18.7.0-x86_64-i386-64bit-i386-3.7.7-64/tmpmneaguwi/mod.cpp:545:25: note: insert an explicit cast to silence this issue. V1_stride0, V1_stride1, V1_stride2.                         ^~~~~~~~~~.                         static_cast<int>( ). 7 errors generated.. \", '[Elemwise{second,no_inplace}(TensorConstant{(1, 1, 1) of 0.1}, TensorConstant{(1, 1, 1) of 0.1})]')\n",
      "\n"
     ]
    },
    {
     "name": "stdout",
     "output_type": "stream",
     "text": [
      "\n",
      "You can find the C code in this temporary file: /var/folders/zx/326t4zzx4_l01j7_ng3c507c0001p0/T/theano_compilation_error_gkns1zep\n"
     ]
    },
    {
     "name": "stderr",
     "output_type": "stream",
     "text": [
      "ERROR (theano.gof.opt): Optimization failure due to: constant_folding\n",
      "ERROR (theano.gof.opt): node: Elemwise{pow,no_inplace}(TensorConstant{(1, 1) of 0.0}, TensorConstant{(1, 1) of 2})\n",
      "ERROR (theano.gof.opt): TRACEBACK:\n",
      "ERROR (theano.gof.opt): Traceback (most recent call last):\n",
      "  File \"/Users/smullally/anaconda/envs/tike38/lib/python3.7/site-packages/theano/gof/opt.py\", line 2034, in process_node\n",
      "    replacements = lopt.transform(node)\n",
      "  File \"/Users/smullally/anaconda/envs/tike38/lib/python3.7/site-packages/theano/tensor/opt.py\", line 6516, in constant_folding\n",
      "    no_recycling=[], impl=impl)\n",
      "  File \"/Users/smullally/anaconda/envs/tike38/lib/python3.7/site-packages/theano/gof/op.py\", line 955, in make_thunk\n",
      "    no_recycling)\n",
      "  File \"/Users/smullally/anaconda/envs/tike38/lib/python3.7/site-packages/theano/gof/op.py\", line 858, in make_c_thunk\n",
      "    output_storage=node_output_storage)\n",
      "  File \"/Users/smullally/anaconda/envs/tike38/lib/python3.7/site-packages/theano/gof/cc.py\", line 1217, in make_thunk\n",
      "    keep_lock=keep_lock)\n",
      "  File \"/Users/smullally/anaconda/envs/tike38/lib/python3.7/site-packages/theano/gof/cc.py\", line 1157, in __compile__\n",
      "    keep_lock=keep_lock)\n",
      "  File \"/Users/smullally/anaconda/envs/tike38/lib/python3.7/site-packages/theano/gof/cc.py\", line 1624, in cthunk_factory\n",
      "    key=key, lnk=self, keep_lock=keep_lock)\n",
      "  File \"/Users/smullally/anaconda/envs/tike38/lib/python3.7/site-packages/theano/gof/cmodule.py\", line 1189, in module_from_key\n",
      "    module = lnk.compile_cmodule(location)\n",
      "  File \"/Users/smullally/anaconda/envs/tike38/lib/python3.7/site-packages/theano/gof/cc.py\", line 1527, in compile_cmodule\n",
      "    preargs=preargs)\n",
      "  File \"/Users/smullally/anaconda/envs/tike38/lib/python3.7/site-packages/theano/gof/cmodule.py\", line 2399, in compile_str\n",
      "    (status, compile_stderr.replace('\\n', '. ')))\n",
      "Exception: (\"Compilation failed (return status=1): /Users/smullally/.theano/compiledir_Darwin-18.7.0-x86_64-i386-64bit-i386-3.7.7-64/tmpdjwbi5_8/mod.cpp:468:27: error: non-constant-expression cannot be narrowed from type 'npy_intp' (aka 'long') to 'int' in initializer list [-Wc++11-narrowing].     int init_totals[2] = {V1_n0, V1_n1};.                           ^~~~~. /Users/smullally/.theano/compiledir_Darwin-18.7.0-x86_64-i386-64bit-i386-3.7.7-64/tmpdjwbi5_8/mod.cpp:468:27: note: insert an explicit cast to silence this issue.     int init_totals[2] = {V1_n0, V1_n1};.                           ^~~~~.                           static_cast<int>( ). /Users/smullally/.theano/compiledir_Darwin-18.7.0-x86_64-i386-64bit-i386-3.7.7-64/tmpdjwbi5_8/mod.cpp:468:34: error: non-constant-expression cannot be narrowed from type 'npy_intp' (aka 'long') to 'int' in initializer list [-Wc++11-narrowing].     int init_totals[2] = {V1_n0, V1_n1};.                                  ^~~~~. /Users/smullally/.theano/compiledir_Darwin-18.7.0-x86_64-i386-64bit-i386-3.7.7-64/tmpdjwbi5_8/mod.cpp:468:34: note: insert an explicit cast to silence this issue.     int init_totals[2] = {V1_n0, V1_n1};.                                  ^~~~~.                                  static_cast<int>( ). /Users/smullally/.theano/compiledir_Darwin-18.7.0-x86_64-i386-64bit-i386-3.7.7-64/tmpdjwbi5_8/mod.cpp:482:1: error: non-constant-expression cannot be narrowed from type 'ssize_t' (aka 'long') to 'int' in initializer list [-Wc++11-narrowing]. V1_stride0, V1_stride1. ^~~~~~~~~~. /Users/smullally/.theano/compiledir_Darwin-18.7.0-x86_64-i386-64bit-i386-3.7.7-64/tmpdjwbi5_8/mod.cpp:482:1: note: insert an explicit cast to silence this issue. V1_stride0, V1_stride1. ^~~~~~~~~~. static_cast<int>( ). /Users/smullally/.theano/compiledir_Darwin-18.7.0-x86_64-i386-64bit-i386-3.7.7-64/tmpdjwbi5_8/mod.cpp:482:13: error: non-constant-expression cannot be narrowed from type 'ssize_t' (aka 'long') to 'int' in initializer list [-Wc++11-narrowing]. V1_stride0, V1_stride1.             ^~~~~~~~~~. /Users/smullally/.theano/compiledir_Darwin-18.7.0-x86_64-i386-64bit-i386-3.7.7-64/tmpdjwbi5_8/mod.cpp:482:13: note: insert an explicit cast to silence this issue. V1_stride0, V1_stride1.             ^~~~~~~~~~.             static_cast<int>( ). 4 errors generated.. \", '[Elemwise{pow,no_inplace}(TensorConstant{(1, 1) of 0.0}, TensorConstant{(1, 1) of 2})]')\n",
      "\n"
     ]
    },
    {
     "name": "stdout",
     "output_type": "stream",
     "text": [
      "\n",
      "You can find the C code in this temporary file: /var/folders/zx/326t4zzx4_l01j7_ng3c507c0001p0/T/theano_compilation_error_qn5erzjo\n"
     ]
    },
    {
     "name": "stderr",
     "output_type": "stream",
     "text": [
      "ERROR (theano.gof.opt): Optimization failure due to: constant_folding\n",
      "ERROR (theano.gof.opt): node: Elemwise{Cast{float64}}(TensorConstant{(1, 1) of 0.0})\n",
      "ERROR (theano.gof.opt): TRACEBACK:\n",
      "ERROR (theano.gof.opt): Traceback (most recent call last):\n",
      "  File \"/Users/smullally/anaconda/envs/tike38/lib/python3.7/site-packages/theano/gof/opt.py\", line 2034, in process_node\n",
      "    replacements = lopt.transform(node)\n",
      "  File \"/Users/smullally/anaconda/envs/tike38/lib/python3.7/site-packages/theano/tensor/opt.py\", line 6516, in constant_folding\n",
      "    no_recycling=[], impl=impl)\n",
      "  File \"/Users/smullally/anaconda/envs/tike38/lib/python3.7/site-packages/theano/gof/op.py\", line 955, in make_thunk\n",
      "    no_recycling)\n",
      "  File \"/Users/smullally/anaconda/envs/tike38/lib/python3.7/site-packages/theano/gof/op.py\", line 858, in make_c_thunk\n",
      "    output_storage=node_output_storage)\n",
      "  File \"/Users/smullally/anaconda/envs/tike38/lib/python3.7/site-packages/theano/gof/cc.py\", line 1217, in make_thunk\n",
      "    keep_lock=keep_lock)\n",
      "  File \"/Users/smullally/anaconda/envs/tike38/lib/python3.7/site-packages/theano/gof/cc.py\", line 1157, in __compile__\n",
      "    keep_lock=keep_lock)\n",
      "  File \"/Users/smullally/anaconda/envs/tike38/lib/python3.7/site-packages/theano/gof/cc.py\", line 1624, in cthunk_factory\n",
      "    key=key, lnk=self, keep_lock=keep_lock)\n",
      "  File \"/Users/smullally/anaconda/envs/tike38/lib/python3.7/site-packages/theano/gof/cmodule.py\", line 1189, in module_from_key\n",
      "    module = lnk.compile_cmodule(location)\n",
      "  File \"/Users/smullally/anaconda/envs/tike38/lib/python3.7/site-packages/theano/gof/cc.py\", line 1527, in compile_cmodule\n",
      "    preargs=preargs)\n",
      "  File \"/Users/smullally/anaconda/envs/tike38/lib/python3.7/site-packages/theano/gof/cmodule.py\", line 2399, in compile_str\n",
      "    (status, compile_stderr.replace('\\n', '. ')))\n",
      "Exception: (\"Compilation failed (return status=1): /Users/smullally/.theano/compiledir_Darwin-18.7.0-x86_64-i386-64bit-i386-3.7.7-64/tmp33m2rfye/mod.cpp:360:27: error: non-constant-expression cannot be narrowed from type 'npy_intp' (aka 'long') to 'int' in initializer list [-Wc++11-narrowing].     int init_totals[2] = {V1_n0, V1_n1};.                           ^~~~~. /Users/smullally/.theano/compiledir_Darwin-18.7.0-x86_64-i386-64bit-i386-3.7.7-64/tmp33m2rfye/mod.cpp:360:27: note: insert an explicit cast to silence this issue.     int init_totals[2] = {V1_n0, V1_n1};.                           ^~~~~.                           static_cast<int>( ). /Users/smullally/.theano/compiledir_Darwin-18.7.0-x86_64-i386-64bit-i386-3.7.7-64/tmp33m2rfye/mod.cpp:360:34: error: non-constant-expression cannot be narrowed from type 'npy_intp' (aka 'long') to 'int' in initializer list [-Wc++11-narrowing].     int init_totals[2] = {V1_n0, V1_n1};.                                  ^~~~~. /Users/smullally/.theano/compiledir_Darwin-18.7.0-x86_64-i386-64bit-i386-3.7.7-64/tmp33m2rfye/mod.cpp:360:34: note: insert an explicit cast to silence this issue.     int init_totals[2] = {V1_n0, V1_n1};.                                  ^~~~~.                                  static_cast<int>( ). /Users/smullally/.theano/compiledir_Darwin-18.7.0-x86_64-i386-64bit-i386-3.7.7-64/tmp33m2rfye/mod.cpp:373:1: error: non-constant-expression cannot be narrowed from type 'ssize_t' (aka 'long') to 'int' in initializer list [-Wc++11-narrowing]. V1_stride0, V1_stride1. ^~~~~~~~~~. /Users/smullally/.theano/compiledir_Darwin-18.7.0-x86_64-i386-64bit-i386-3.7.7-64/tmp33m2rfye/mod.cpp:373:1: note: insert an explicit cast to silence this issue. V1_stride0, V1_stride1. ^~~~~~~~~~. static_cast<int>( ). /Users/smullally/.theano/compiledir_Darwin-18.7.0-x86_64-i386-64bit-i386-3.7.7-64/tmp33m2rfye/mod.cpp:373:13: error: non-constant-expression cannot be narrowed from type 'ssize_t' (aka 'long') to 'int' in initializer list [-Wc++11-narrowing]. V1_stride0, V1_stride1.             ^~~~~~~~~~. /Users/smullally/.theano/compiledir_Darwin-18.7.0-x86_64-i386-64bit-i386-3.7.7-64/tmp33m2rfye/mod.cpp:373:13: note: insert an explicit cast to silence this issue. V1_stride0, V1_stride1.             ^~~~~~~~~~.             static_cast<int>( ). 4 errors generated.. \", '[Elemwise{Cast{float64}}(TensorConstant{(1, 1) of 0.0})]')\n",
      "\n"
     ]
    },
    {
     "name": "stdout",
     "output_type": "stream",
     "text": [
      "\n",
      "You can find the C code in this temporary file: /var/folders/zx/326t4zzx4_l01j7_ng3c507c0001p0/T/theano_compilation_error__ny1b8gi\n"
     ]
    },
    {
     "name": "stderr",
     "output_type": "stream",
     "text": [
      "ERROR (theano.gof.opt): Optimization failure due to: constant_folding\n",
      "ERROR (theano.gof.opt): node: Elemwise{add,no_inplace}(TensorConstant{(1, 1) of 1.728}, TensorConstant{[[-0.1    ..1       ]]})\n",
      "ERROR (theano.gof.opt): TRACEBACK:\n",
      "ERROR (theano.gof.opt): Traceback (most recent call last):\n",
      "  File \"/Users/smullally/anaconda/envs/tike38/lib/python3.7/site-packages/theano/gof/opt.py\", line 2034, in process_node\n",
      "    replacements = lopt.transform(node)\n",
      "  File \"/Users/smullally/anaconda/envs/tike38/lib/python3.7/site-packages/theano/tensor/opt.py\", line 6516, in constant_folding\n",
      "    no_recycling=[], impl=impl)\n",
      "  File \"/Users/smullally/anaconda/envs/tike38/lib/python3.7/site-packages/theano/gof/op.py\", line 955, in make_thunk\n",
      "    no_recycling)\n",
      "  File \"/Users/smullally/anaconda/envs/tike38/lib/python3.7/site-packages/theano/gof/op.py\", line 858, in make_c_thunk\n",
      "    output_storage=node_output_storage)\n",
      "  File \"/Users/smullally/anaconda/envs/tike38/lib/python3.7/site-packages/theano/gof/cc.py\", line 1217, in make_thunk\n",
      "    keep_lock=keep_lock)\n",
      "  File \"/Users/smullally/anaconda/envs/tike38/lib/python3.7/site-packages/theano/gof/cc.py\", line 1157, in __compile__\n",
      "    keep_lock=keep_lock)\n",
      "  File \"/Users/smullally/anaconda/envs/tike38/lib/python3.7/site-packages/theano/gof/cc.py\", line 1624, in cthunk_factory\n",
      "    key=key, lnk=self, keep_lock=keep_lock)\n",
      "  File \"/Users/smullally/anaconda/envs/tike38/lib/python3.7/site-packages/theano/gof/cmodule.py\", line 1189, in module_from_key\n",
      "    module = lnk.compile_cmodule(location)\n",
      "  File \"/Users/smullally/anaconda/envs/tike38/lib/python3.7/site-packages/theano/gof/cc.py\", line 1527, in compile_cmodule\n",
      "    preargs=preargs)\n",
      "  File \"/Users/smullally/anaconda/envs/tike38/lib/python3.7/site-packages/theano/gof/cmodule.py\", line 2399, in compile_str\n",
      "    (status, compile_stderr.replace('\\n', '. ')))\n",
      "Exception: (\"Compilation failed (return status=1): /Users/smullally/.theano/compiledir_Darwin-18.7.0-x86_64-i386-64bit-i386-3.7.7-64/tmpz5toezv0/mod.cpp:506:27: error: non-constant-expression cannot be narrowed from type 'npy_intp' (aka 'long') to 'int' in initializer list [-Wc++11-narrowing].     int init_totals[2] = {V5_n0, V1_n1};.                           ^~~~~. /Users/smullally/.theano/compiledir_Darwin-18.7.0-x86_64-i386-64bit-i386-3.7.7-64/tmpz5toezv0/mod.cpp:506:27: note: insert an explicit cast to silence this issue.     int init_totals[2] = {V5_n0, V1_n1};.                           ^~~~~.                           static_cast<int>( ). /Users/smullally/.theano/compiledir_Darwin-18.7.0-x86_64-i386-64bit-i386-3.7.7-64/tmpz5toezv0/mod.cpp:506:34: error: non-constant-expression cannot be narrowed from type 'npy_intp' (aka 'long') to 'int' in initializer list [-Wc++11-narrowing].     int init_totals[2] = {V5_n0, V1_n1};.                                  ^~~~~. /Users/smullally/.theano/compiledir_Darwin-18.7.0-x86_64-i386-64bit-i386-3.7.7-64/tmpz5toezv0/mod.cpp:506:34: note: insert an explicit cast to silence this issue.     int init_totals[2] = {V5_n0, V1_n1};.                                  ^~~~~.                                  static_cast<int>( ). /Users/smullally/.theano/compiledir_Darwin-18.7.0-x86_64-i386-64bit-i386-3.7.7-64/tmpz5toezv0/mod.cpp:519:1: error: non-constant-expression cannot be narrowed from type 'ssize_t' (aka 'long') to 'int' in initializer list [-Wc++11-narrowing]. V5_stride0, 0, . ^~~~~~~~~~. /Users/smullally/.theano/compiledir_Darwin-18.7.0-x86_64-i386-64bit-i386-3.7.7-64/tmpz5toezv0/mod.cpp:519:1: note: insert an explicit cast to silence this issue. V5_stride0, 0, . ^~~~~~~~~~. static_cast<int>( ). /Users/smullally/.theano/compiledir_Darwin-18.7.0-x86_64-i386-64bit-i386-3.7.7-64/tmpz5toezv0/mod.cpp:520:1: error: non-constant-expression cannot be narrowed from type 'ssize_t' (aka 'long') to 'int' in initializer list [-Wc++11-narrowing]. V1_stride0, V1_stride1. ^~~~~~~~~~. /Users/smullally/.theano/compiledir_Darwin-18.7.0-x86_64-i386-64bit-i386-3.7.7-64/tmpz5toezv0/mod.cpp:520:1: note: insert an explicit cast to silence this issue. V1_stride0, V1_stride1. ^~~~~~~~~~. static_cast<int>( ). /Users/smullally/.theano/compiledir_Darwin-18.7.0-x86_64-i386-64bit-i386-3.7.7-64/tmpz5toezv0/mod.cpp:520:13: error: non-constant-expression cannot be narrowed from type 'ssize_t' (aka 'long') to 'int' in initializer list [-Wc++11-narrowing]. V1_stride0, V1_stride1.             ^~~~~~~~~~. /Users/smullally/.theano/compiledir_Darwin-18.7.0-x86_64-i386-64bit-i386-3.7.7-64/tmpz5toezv0/mod.cpp:520:13: note: insert an explicit cast to silence this issue. V1_stride0, V1_stride1.             ^~~~~~~~~~.             static_cast<int>( ). 5 errors generated.. \", '[Elemwise{add,no_inplace}(TensorConstant{(1, 1) of 1.728}, TensorConstant{[[-0.1    ..1       ]]})]')\n",
      "\n"
     ]
    },
    {
     "name": "stdout",
     "output_type": "stream",
     "text": [
      "\n",
      "You can find the C code in this temporary file: /var/folders/zx/326t4zzx4_l01j7_ng3c507c0001p0/T/theano_compilation_error_vq5964hx\n"
     ]
    },
    {
     "name": "stderr",
     "output_type": "stream",
     "text": [
      "ERROR (theano.gof.opt): Optimization failure due to: constant_folding\n",
      "ERROR (theano.gof.opt): node: Elemwise{mul,no_inplace}(TensorConstant{(1, 1, 1) of 0.02}, TensorConstant{[[[-0.4285..2857143]]]})\n",
      "ERROR (theano.gof.opt): TRACEBACK:\n",
      "ERROR (theano.gof.opt): Traceback (most recent call last):\n",
      "  File \"/Users/smullally/anaconda/envs/tike38/lib/python3.7/site-packages/theano/gof/opt.py\", line 2034, in process_node\n",
      "    replacements = lopt.transform(node)\n",
      "  File \"/Users/smullally/anaconda/envs/tike38/lib/python3.7/site-packages/theano/tensor/opt.py\", line 6516, in constant_folding\n",
      "    no_recycling=[], impl=impl)\n",
      "  File \"/Users/smullally/anaconda/envs/tike38/lib/python3.7/site-packages/theano/gof/op.py\", line 955, in make_thunk\n",
      "    no_recycling)\n",
      "  File \"/Users/smullally/anaconda/envs/tike38/lib/python3.7/site-packages/theano/gof/op.py\", line 858, in make_c_thunk\n",
      "    output_storage=node_output_storage)\n",
      "  File \"/Users/smullally/anaconda/envs/tike38/lib/python3.7/site-packages/theano/gof/cc.py\", line 1217, in make_thunk\n",
      "    keep_lock=keep_lock)\n",
      "  File \"/Users/smullally/anaconda/envs/tike38/lib/python3.7/site-packages/theano/gof/cc.py\", line 1157, in __compile__\n",
      "    keep_lock=keep_lock)\n",
      "  File \"/Users/smullally/anaconda/envs/tike38/lib/python3.7/site-packages/theano/gof/cc.py\", line 1624, in cthunk_factory\n",
      "    key=key, lnk=self, keep_lock=keep_lock)\n",
      "  File \"/Users/smullally/anaconda/envs/tike38/lib/python3.7/site-packages/theano/gof/cmodule.py\", line 1189, in module_from_key\n",
      "    module = lnk.compile_cmodule(location)\n",
      "  File \"/Users/smullally/anaconda/envs/tike38/lib/python3.7/site-packages/theano/gof/cc.py\", line 1527, in compile_cmodule\n",
      "    preargs=preargs)\n",
      "  File \"/Users/smullally/anaconda/envs/tike38/lib/python3.7/site-packages/theano/gof/cmodule.py\", line 2399, in compile_str\n",
      "    (status, compile_stderr.replace('\\n', '. ')))\n",
      "Exception: (\"Compilation failed (return status=1): /Users/smullally/.theano/compiledir_Darwin-18.7.0-x86_64-i386-64bit-i386-3.7.7-64/tmpc9drnr4_/mod.cpp:528:27: error: non-constant-expression cannot be narrowed from type 'npy_intp' (aka 'long') to 'int' in initializer list [-Wc++11-narrowing].     int init_totals[3] = {V1_n0, V5_n1, V1_n2};.                           ^~~~~. /Users/smullally/.theano/compiledir_Darwin-18.7.0-x86_64-i386-64bit-i386-3.7.7-64/tmpc9drnr4_/mod.cpp:528:27: note: insert an explicit cast to silence this issue.     int init_totals[3] = {V1_n0, V5_n1, V1_n2};.                           ^~~~~.                           static_cast<int>( ). /Users/smullally/.theano/compiledir_Darwin-18.7.0-x86_64-i386-64bit-i386-3.7.7-64/tmpc9drnr4_/mod.cpp:528:34: error: non-constant-expression cannot be narrowed from type 'npy_intp' (aka 'long') to 'int' in initializer list [-Wc++11-narrowing].     int init_totals[3] = {V1_n0, V5_n1, V1_n2};.                                  ^~~~~. /Users/smullally/.theano/compiledir_Darwin-18.7.0-x86_64-i386-64bit-i386-3.7.7-64/tmpc9drnr4_/mod.cpp:528:34: note: insert an explicit cast to silence this issue.     int init_totals[3] = {V1_n0, V5_n1, V1_n2};.                                  ^~~~~.                                  static_cast<int>( ). /Users/smullally/.theano/compiledir_Darwin-18.7.0-x86_64-i386-64bit-i386-3.7.7-64/tmpc9drnr4_/mod.cpp:528:41: error: non-constant-expression cannot be narrowed from type 'npy_intp' (aka 'long') to 'int' in initializer list [-Wc++11-narrowing].     int init_totals[3] = {V1_n0, V5_n1, V1_n2};.                                         ^~~~~. /Users/smullally/.theano/compiledir_Darwin-18.7.0-x86_64-i386-64bit-i386-3.7.7-64/tmpc9drnr4_/mod.cpp:528:41: note: insert an explicit cast to silence this issue.     int init_totals[3] = {V1_n0, V5_n1, V1_n2};.                                         ^~~~~.                                         static_cast<int>( ). /Users/smullally/.theano/compiledir_Darwin-18.7.0-x86_64-i386-64bit-i386-3.7.7-64/tmpc9drnr4_/mod.cpp:544:4: error: non-constant-expression cannot be narrowed from type 'ssize_t' (aka 'long') to 'int' in initializer list [-Wc++11-narrowing]. 0, V5_stride1, 0, .    ^~~~~~~~~~. /Users/smullally/.theano/compiledir_Darwin-18.7.0-x86_64-i386-64bit-i386-3.7.7-64/tmpc9drnr4_/mod.cpp:544:4: note: insert an explicit cast to silence this issue. 0, V5_stride1, 0, .    ^~~~~~~~~~.    static_cast<int>( ). /Users/smullally/.theano/compiledir_Darwin-18.7.0-x86_64-i386-64bit-i386-3.7.7-64/tmpc9drnr4_/mod.cpp:545:1: error: non-constant-expression cannot be narrowed from type 'ssize_t' (aka 'long') to 'int' in initializer list [-Wc++11-narrowing]. V1_stride0, V1_stride1, V1_stride2. ^~~~~~~~~~. /Users/smullally/.theano/compiledir_Darwin-18.7.0-x86_64-i386-64bit-i386-3.7.7-64/tmpc9drnr4_/mod.cpp:545:1: note: insert an explicit cast to silence this issue. V1_stride0, V1_stride1, V1_stride2. ^~~~~~~~~~. static_cast<int>( ). /Users/smullally/.theano/compiledir_Darwin-18.7.0-x86_64-i386-64bit-i386-3.7.7-64/tmpc9drnr4_/mod.cpp:545:13: error: non-constant-expression cannot be narrowed from type 'ssize_t' (aka 'long') to 'int' in initializer list [-Wc++11-narrowing]. V1_stride0, V1_stride1, V1_stride2.             ^~~~~~~~~~. /Users/smullally/.theano/compiledir_Darwin-18.7.0-x86_64-i386-64bit-i386-3.7.7-64/tmpc9drnr4_/mod.cpp:545:13: note: insert an explicit cast to silence this issue. V1_stride0, V1_stride1, V1_stride2.             ^~~~~~~~~~.             static_cast<int>( ). /Users/smullally/.theano/compiledir_Darwin-18.7.0-x86_64-i386-64bit-i386-3.7.7-64/tmpc9drnr4_/mod.cpp:545:25: error: non-constant-expression cannot be narrowed from type 'ssize_t' (aka 'long') to 'int' in initializer list [-Wc++11-narrowing]. V1_stride0, V1_stride1, V1_stride2.                         ^~~~~~~~~~. /Users/smullally/.theano/compiledir_Darwin-18.7.0-x86_64-i386-64bit-i386-3.7.7-64/tmpc9drnr4_/mod.cpp:545:25: note: insert an explicit cast to silence this issue. V1_stride0, V1_stride1, V1_stride2.                         ^~~~~~~~~~.                         static_cast<int>( ). 7 errors generated.. \", '[Elemwise{mul,no_inplace}(TensorConstant{(1, 1, 1) of 0.02}, TensorConstant{[[[-0.4285..2857143]]]})]')\n",
      "\n"
     ]
    },
    {
     "name": "stdout",
     "output_type": "stream",
     "text": [
      "\n",
      "You can find the C code in this temporary file: /var/folders/zx/326t4zzx4_l01j7_ng3c507c0001p0/T/theano_compilation_error_ywjzz_wl\n"
     ]
    },
    {
     "name": "stderr",
     "output_type": "stream",
     "text": [
      "ERROR (theano.gof.opt): Optimization failure due to: constant_folding\n",
      "ERROR (theano.gof.opt): node: Elemwise{pow,no_inplace}(TensorConstant{(1, 1) of 0.0}, TensorConstant{(1, 1) of 2})\n",
      "ERROR (theano.gof.opt): TRACEBACK:\n",
      "ERROR (theano.gof.opt): Traceback (most recent call last):\n",
      "  File \"/Users/smullally/anaconda/envs/tike38/lib/python3.7/site-packages/theano/gof/opt.py\", line 2034, in process_node\n",
      "    replacements = lopt.transform(node)\n",
      "  File \"/Users/smullally/anaconda/envs/tike38/lib/python3.7/site-packages/theano/tensor/opt.py\", line 6516, in constant_folding\n",
      "    no_recycling=[], impl=impl)\n",
      "  File \"/Users/smullally/anaconda/envs/tike38/lib/python3.7/site-packages/theano/gof/op.py\", line 955, in make_thunk\n",
      "    no_recycling)\n",
      "  File \"/Users/smullally/anaconda/envs/tike38/lib/python3.7/site-packages/theano/gof/op.py\", line 858, in make_c_thunk\n",
      "    output_storage=node_output_storage)\n",
      "  File \"/Users/smullally/anaconda/envs/tike38/lib/python3.7/site-packages/theano/gof/cc.py\", line 1217, in make_thunk\n",
      "    keep_lock=keep_lock)\n",
      "  File \"/Users/smullally/anaconda/envs/tike38/lib/python3.7/site-packages/theano/gof/cc.py\", line 1157, in __compile__\n",
      "    keep_lock=keep_lock)\n",
      "  File \"/Users/smullally/anaconda/envs/tike38/lib/python3.7/site-packages/theano/gof/cc.py\", line 1624, in cthunk_factory\n",
      "    key=key, lnk=self, keep_lock=keep_lock)\n",
      "  File \"/Users/smullally/anaconda/envs/tike38/lib/python3.7/site-packages/theano/gof/cmodule.py\", line 1189, in module_from_key\n",
      "    module = lnk.compile_cmodule(location)\n",
      "  File \"/Users/smullally/anaconda/envs/tike38/lib/python3.7/site-packages/theano/gof/cc.py\", line 1527, in compile_cmodule\n",
      "    preargs=preargs)\n",
      "  File \"/Users/smullally/anaconda/envs/tike38/lib/python3.7/site-packages/theano/gof/cmodule.py\", line 2399, in compile_str\n",
      "    (status, compile_stderr.replace('\\n', '. ')))\n",
      "Exception: (\"Compilation failed (return status=1): /Users/smullally/.theano/compiledir_Darwin-18.7.0-x86_64-i386-64bit-i386-3.7.7-64/tmpsd8x1fun/mod.cpp:468:27: error: non-constant-expression cannot be narrowed from type 'npy_intp' (aka 'long') to 'int' in initializer list [-Wc++11-narrowing].     int init_totals[2] = {V1_n0, V1_n1};.                           ^~~~~. /Users/smullally/.theano/compiledir_Darwin-18.7.0-x86_64-i386-64bit-i386-3.7.7-64/tmpsd8x1fun/mod.cpp:468:27: note: insert an explicit cast to silence this issue.     int init_totals[2] = {V1_n0, V1_n1};.                           ^~~~~.                           static_cast<int>( ). /Users/smullally/.theano/compiledir_Darwin-18.7.0-x86_64-i386-64bit-i386-3.7.7-64/tmpsd8x1fun/mod.cpp:468:34: error: non-constant-expression cannot be narrowed from type 'npy_intp' (aka 'long') to 'int' in initializer list [-Wc++11-narrowing].     int init_totals[2] = {V1_n0, V1_n1};.                                  ^~~~~. /Users/smullally/.theano/compiledir_Darwin-18.7.0-x86_64-i386-64bit-i386-3.7.7-64/tmpsd8x1fun/mod.cpp:468:34: note: insert an explicit cast to silence this issue.     int init_totals[2] = {V1_n0, V1_n1};.                                  ^~~~~.                                  static_cast<int>( ). /Users/smullally/.theano/compiledir_Darwin-18.7.0-x86_64-i386-64bit-i386-3.7.7-64/tmpsd8x1fun/mod.cpp:482:1: error: non-constant-expression cannot be narrowed from type 'ssize_t' (aka 'long') to 'int' in initializer list [-Wc++11-narrowing]. V1_stride0, V1_stride1. ^~~~~~~~~~. /Users/smullally/.theano/compiledir_Darwin-18.7.0-x86_64-i386-64bit-i386-3.7.7-64/tmpsd8x1fun/mod.cpp:482:1: note: insert an explicit cast to silence this issue. V1_stride0, V1_stride1. ^~~~~~~~~~. static_cast<int>( ). /Users/smullally/.theano/compiledir_Darwin-18.7.0-x86_64-i386-64bit-i386-3.7.7-64/tmpsd8x1fun/mod.cpp:482:13: error: non-constant-expression cannot be narrowed from type 'ssize_t' (aka 'long') to 'int' in initializer list [-Wc++11-narrowing]. V1_stride0, V1_stride1.             ^~~~~~~~~~. /Users/smullally/.theano/compiledir_Darwin-18.7.0-x86_64-i386-64bit-i386-3.7.7-64/tmpsd8x1fun/mod.cpp:482:13: note: insert an explicit cast to silence this issue. V1_stride0, V1_stride1.             ^~~~~~~~~~.             static_cast<int>( ). 4 errors generated.. \", '[Elemwise{pow,no_inplace}(TensorConstant{(1, 1) of 0.0}, TensorConstant{(1, 1) of 2})]')\n",
      "\n"
     ]
    },
    {
     "name": "stdout",
     "output_type": "stream",
     "text": [
      "\n",
      "You can find the C code in this temporary file: /var/folders/zx/326t4zzx4_l01j7_ng3c507c0001p0/T/theano_compilation_error_v_5h76cq\n"
     ]
    },
    {
     "name": "stderr",
     "output_type": "stream",
     "text": [
      "ERROR (theano.gof.opt): Optimization failure due to: constant_folding\n",
      "ERROR (theano.gof.opt): node: Elemwise{Cast{float64}}(TensorConstant{(1, 1) of 0.0})\n",
      "ERROR (theano.gof.opt): TRACEBACK:\n",
      "ERROR (theano.gof.opt): Traceback (most recent call last):\n",
      "  File \"/Users/smullally/anaconda/envs/tike38/lib/python3.7/site-packages/theano/gof/opt.py\", line 2034, in process_node\n",
      "    replacements = lopt.transform(node)\n",
      "  File \"/Users/smullally/anaconda/envs/tike38/lib/python3.7/site-packages/theano/tensor/opt.py\", line 6516, in constant_folding\n",
      "    no_recycling=[], impl=impl)\n",
      "  File \"/Users/smullally/anaconda/envs/tike38/lib/python3.7/site-packages/theano/gof/op.py\", line 955, in make_thunk\n",
      "    no_recycling)\n",
      "  File \"/Users/smullally/anaconda/envs/tike38/lib/python3.7/site-packages/theano/gof/op.py\", line 858, in make_c_thunk\n",
      "    output_storage=node_output_storage)\n",
      "  File \"/Users/smullally/anaconda/envs/tike38/lib/python3.7/site-packages/theano/gof/cc.py\", line 1217, in make_thunk\n",
      "    keep_lock=keep_lock)\n",
      "  File \"/Users/smullally/anaconda/envs/tike38/lib/python3.7/site-packages/theano/gof/cc.py\", line 1157, in __compile__\n",
      "    keep_lock=keep_lock)\n",
      "  File \"/Users/smullally/anaconda/envs/tike38/lib/python3.7/site-packages/theano/gof/cc.py\", line 1624, in cthunk_factory\n",
      "    key=key, lnk=self, keep_lock=keep_lock)\n",
      "  File \"/Users/smullally/anaconda/envs/tike38/lib/python3.7/site-packages/theano/gof/cmodule.py\", line 1189, in module_from_key\n",
      "    module = lnk.compile_cmodule(location)\n",
      "  File \"/Users/smullally/anaconda/envs/tike38/lib/python3.7/site-packages/theano/gof/cc.py\", line 1527, in compile_cmodule\n",
      "    preargs=preargs)\n",
      "  File \"/Users/smullally/anaconda/envs/tike38/lib/python3.7/site-packages/theano/gof/cmodule.py\", line 2399, in compile_str\n",
      "    (status, compile_stderr.replace('\\n', '. ')))\n",
      "Exception: (\"Compilation failed (return status=1): /Users/smullally/.theano/compiledir_Darwin-18.7.0-x86_64-i386-64bit-i386-3.7.7-64/tmpzo57tkyd/mod.cpp:396:27: error: non-constant-expression cannot be narrowed from type 'npy_intp' (aka 'long') to 'int' in initializer list [-Wc++11-narrowing].     int init_totals[2] = {V1_n0, V3_n1};.                           ^~~~~. /Users/smullally/.theano/compiledir_Darwin-18.7.0-x86_64-i386-64bit-i386-3.7.7-64/tmpzo57tkyd/mod.cpp:396:27: note: insert an explicit cast to silence this issue.     int init_totals[2] = {V1_n0, V3_n1};.                           ^~~~~.                           static_cast<int>( ). /Users/smullally/.theano/compiledir_Darwin-18.7.0-x86_64-i386-64bit-i386-3.7.7-64/tmpzo57tkyd/mod.cpp:396:34: error: non-constant-expression cannot be narrowed from type 'npy_intp' (aka 'long') to 'int' in initializer list [-Wc++11-narrowing].     int init_totals[2] = {V1_n0, V3_n1};.                                  ^~~~~. /Users/smullally/.theano/compiledir_Darwin-18.7.0-x86_64-i386-64bit-i386-3.7.7-64/tmpzo57tkyd/mod.cpp:396:34: note: insert an explicit cast to silence this issue.     int init_totals[2] = {V1_n0, V3_n1};.                                  ^~~~~.                                  static_cast<int>( ). /Users/smullally/.theano/compiledir_Darwin-18.7.0-x86_64-i386-64bit-i386-3.7.7-64/tmpzo57tkyd/mod.cpp:408:12: error: non-constant-expression cannot be narrowed from type 'ssize_t' (aka 'long') to 'int' in initializer list [-Wc++11-narrowing].         0, V3_stride1, .            ^~~~~~~~~~. /Users/smullally/.theano/compiledir_Darwin-18.7.0-x86_64-i386-64bit-i386-3.7.7-64/tmpzo57tkyd/mod.cpp:408:12: note: insert an explicit cast to silence this issue.         0, V3_stride1, .            ^~~~~~~~~~.            static_cast<int>( ). /Users/smullally/.theano/compiledir_Darwin-18.7.0-x86_64-i386-64bit-i386-3.7.7-64/tmpzo57tkyd/mod.cpp:409:1: error: non-constant-expression cannot be narrowed from type 'ssize_t' (aka 'long') to 'int' in initializer list [-Wc++11-narrowing]. V1_stride0, V1_stride1. ^~~~~~~~~~. /Users/smullally/.theano/compiledir_Darwin-18.7.0-x86_64-i386-64bit-i386-3.7.7-64/tmpzo57tkyd/mod.cpp:409:1: note: insert an explicit cast to silence this issue. V1_stride0, V1_stride1. ^~~~~~~~~~. static_cast<int>( ). /Users/smullally/.theano/compiledir_Darwin-18.7.0-x86_64-i386-64bit-i386-3.7.7-64/tmpzo57tkyd/mod.cpp:409:13: error: non-constant-expression cannot be narrowed from type 'ssize_t' (aka 'long') to 'int' in initializer list [-Wc++11-narrowing]. V1_stride0, V1_stride1.             ^~~~~~~~~~. /Users/smullally/.theano/compiledir_Darwin-18.7.0-x86_64-i386-64bit-i386-3.7.7-64/tmpzo57tkyd/mod.cpp:409:13: note: insert an explicit cast to silence this issue. V1_stride0, V1_stride1.             ^~~~~~~~~~.             static_cast<int>( ). 5 errors generated.. \", '[Elemwise{Cast{float64}}(TensorConstant{(1, 1) of 0.0})]')\n",
      "\n"
     ]
    },
    {
     "name": "stdout",
     "output_type": "stream",
     "text": [
      "\n",
      "You can find the C code in this temporary file: /var/folders/zx/326t4zzx4_l01j7_ng3c507c0001p0/T/theano_compilation_error_wbrdocgw\n"
     ]
    },
    {
     "name": "stderr",
     "output_type": "stream",
     "text": [
      "ERROR (theano.gof.opt): Optimization failure due to: constant_folding\n",
      "ERROR (theano.gof.opt): node: Elemwise{add,no_inplace}(TensorConstant{(1, 1) of 1.728}, TensorConstant{[[-0.1    ..1       ]]})\n",
      "ERROR (theano.gof.opt): TRACEBACK:\n",
      "ERROR (theano.gof.opt): Traceback (most recent call last):\n",
      "  File \"/Users/smullally/anaconda/envs/tike38/lib/python3.7/site-packages/theano/gof/opt.py\", line 2034, in process_node\n",
      "    replacements = lopt.transform(node)\n",
      "  File \"/Users/smullally/anaconda/envs/tike38/lib/python3.7/site-packages/theano/tensor/opt.py\", line 6516, in constant_folding\n",
      "    no_recycling=[], impl=impl)\n",
      "  File \"/Users/smullally/anaconda/envs/tike38/lib/python3.7/site-packages/theano/gof/op.py\", line 955, in make_thunk\n",
      "    no_recycling)\n",
      "  File \"/Users/smullally/anaconda/envs/tike38/lib/python3.7/site-packages/theano/gof/op.py\", line 858, in make_c_thunk\n",
      "    output_storage=node_output_storage)\n",
      "  File \"/Users/smullally/anaconda/envs/tike38/lib/python3.7/site-packages/theano/gof/cc.py\", line 1217, in make_thunk\n",
      "    keep_lock=keep_lock)\n",
      "  File \"/Users/smullally/anaconda/envs/tike38/lib/python3.7/site-packages/theano/gof/cc.py\", line 1157, in __compile__\n",
      "    keep_lock=keep_lock)\n",
      "  File \"/Users/smullally/anaconda/envs/tike38/lib/python3.7/site-packages/theano/gof/cc.py\", line 1624, in cthunk_factory\n",
      "    key=key, lnk=self, keep_lock=keep_lock)\n",
      "  File \"/Users/smullally/anaconda/envs/tike38/lib/python3.7/site-packages/theano/gof/cmodule.py\", line 1189, in module_from_key\n",
      "    module = lnk.compile_cmodule(location)\n",
      "  File \"/Users/smullally/anaconda/envs/tike38/lib/python3.7/site-packages/theano/gof/cc.py\", line 1527, in compile_cmodule\n",
      "    preargs=preargs)\n",
      "  File \"/Users/smullally/anaconda/envs/tike38/lib/python3.7/site-packages/theano/gof/cmodule.py\", line 2399, in compile_str\n",
      "    (status, compile_stderr.replace('\\n', '. ')))\n",
      "Exception: (\"Compilation failed (return status=1): /Users/smullally/.theano/compiledir_Darwin-18.7.0-x86_64-i386-64bit-i386-3.7.7-64/tmpbxb3i44d/mod.cpp:506:27: error: non-constant-expression cannot be narrowed from type 'npy_intp' (aka 'long') to 'int' in initializer list [-Wc++11-narrowing].     int init_totals[2] = {V5_n0, V1_n1};.                           ^~~~~. /Users/smullally/.theano/compiledir_Darwin-18.7.0-x86_64-i386-64bit-i386-3.7.7-64/tmpbxb3i44d/mod.cpp:506:27: note: insert an explicit cast to silence this issue.     int init_totals[2] = {V5_n0, V1_n1};.                           ^~~~~.                           static_cast<int>( ). /Users/smullally/.theano/compiledir_Darwin-18.7.0-x86_64-i386-64bit-i386-3.7.7-64/tmpbxb3i44d/mod.cpp:506:34: error: non-constant-expression cannot be narrowed from type 'npy_intp' (aka 'long') to 'int' in initializer list [-Wc++11-narrowing].     int init_totals[2] = {V5_n0, V1_n1};.                                  ^~~~~. /Users/smullally/.theano/compiledir_Darwin-18.7.0-x86_64-i386-64bit-i386-3.7.7-64/tmpbxb3i44d/mod.cpp:506:34: note: insert an explicit cast to silence this issue.     int init_totals[2] = {V5_n0, V1_n1};.                                  ^~~~~.                                  static_cast<int>( ). /Users/smullally/.theano/compiledir_Darwin-18.7.0-x86_64-i386-64bit-i386-3.7.7-64/tmpbxb3i44d/mod.cpp:519:1: error: non-constant-expression cannot be narrowed from type 'ssize_t' (aka 'long') to 'int' in initializer list [-Wc++11-narrowing]. V5_stride0, 0, . ^~~~~~~~~~. /Users/smullally/.theano/compiledir_Darwin-18.7.0-x86_64-i386-64bit-i386-3.7.7-64/tmpbxb3i44d/mod.cpp:519:1: note: insert an explicit cast to silence this issue. V5_stride0, 0, . ^~~~~~~~~~. static_cast<int>( ). /Users/smullally/.theano/compiledir_Darwin-18.7.0-x86_64-i386-64bit-i386-3.7.7-64/tmpbxb3i44d/mod.cpp:520:1: error: non-constant-expression cannot be narrowed from type 'ssize_t' (aka 'long') to 'int' in initializer list [-Wc++11-narrowing]. V1_stride0, V1_stride1. ^~~~~~~~~~. /Users/smullally/.theano/compiledir_Darwin-18.7.0-x86_64-i386-64bit-i386-3.7.7-64/tmpbxb3i44d/mod.cpp:520:1: note: insert an explicit cast to silence this issue. V1_stride0, V1_stride1. ^~~~~~~~~~. static_cast<int>( ). /Users/smullally/.theano/compiledir_Darwin-18.7.0-x86_64-i386-64bit-i386-3.7.7-64/tmpbxb3i44d/mod.cpp:520:13: error: non-constant-expression cannot be narrowed from type 'ssize_t' (aka 'long') to 'int' in initializer list [-Wc++11-narrowing]. V1_stride0, V1_stride1.             ^~~~~~~~~~. /Users/smullally/.theano/compiledir_Darwin-18.7.0-x86_64-i386-64bit-i386-3.7.7-64/tmpbxb3i44d/mod.cpp:520:13: note: insert an explicit cast to silence this issue. V1_stride0, V1_stride1.             ^~~~~~~~~~.             static_cast<int>( ). 5 errors generated.. \", '[Elemwise{add,no_inplace}(TensorConstant{(1, 1) of 1.728}, TensorConstant{[[-0.1    ..1       ]]})]')\n",
      "\n"
     ]
    },
    {
     "name": "stdout",
     "output_type": "stream",
     "text": [
      "\n",
      "You can find the C code in this temporary file: /var/folders/zx/326t4zzx4_l01j7_ng3c507c0001p0/T/theano_compilation_error_hjeqisbt\n"
     ]
    },
    {
     "name": "stderr",
     "output_type": "stream",
     "text": [
      "ERROR (theano.gof.opt): Optimization failure due to: constant_folding\n",
      "ERROR (theano.gof.opt): node: Elemwise{mul,no_inplace}(TensorConstant{(1, 1, 1) of 0.02}, TensorConstant{[[[-0.4285..2857143]]]})\n",
      "ERROR (theano.gof.opt): TRACEBACK:\n",
      "ERROR (theano.gof.opt): Traceback (most recent call last):\n",
      "  File \"/Users/smullally/anaconda/envs/tike38/lib/python3.7/site-packages/theano/gof/opt.py\", line 2034, in process_node\n",
      "    replacements = lopt.transform(node)\n",
      "  File \"/Users/smullally/anaconda/envs/tike38/lib/python3.7/site-packages/theano/tensor/opt.py\", line 6516, in constant_folding\n",
      "    no_recycling=[], impl=impl)\n",
      "  File \"/Users/smullally/anaconda/envs/tike38/lib/python3.7/site-packages/theano/gof/op.py\", line 955, in make_thunk\n",
      "    no_recycling)\n",
      "  File \"/Users/smullally/anaconda/envs/tike38/lib/python3.7/site-packages/theano/gof/op.py\", line 858, in make_c_thunk\n",
      "    output_storage=node_output_storage)\n",
      "  File \"/Users/smullally/anaconda/envs/tike38/lib/python3.7/site-packages/theano/gof/cc.py\", line 1217, in make_thunk\n",
      "    keep_lock=keep_lock)\n",
      "  File \"/Users/smullally/anaconda/envs/tike38/lib/python3.7/site-packages/theano/gof/cc.py\", line 1157, in __compile__\n",
      "    keep_lock=keep_lock)\n",
      "  File \"/Users/smullally/anaconda/envs/tike38/lib/python3.7/site-packages/theano/gof/cc.py\", line 1624, in cthunk_factory\n",
      "    key=key, lnk=self, keep_lock=keep_lock)\n",
      "  File \"/Users/smullally/anaconda/envs/tike38/lib/python3.7/site-packages/theano/gof/cmodule.py\", line 1189, in module_from_key\n",
      "    module = lnk.compile_cmodule(location)\n",
      "  File \"/Users/smullally/anaconda/envs/tike38/lib/python3.7/site-packages/theano/gof/cc.py\", line 1527, in compile_cmodule\n",
      "    preargs=preargs)\n",
      "  File \"/Users/smullally/anaconda/envs/tike38/lib/python3.7/site-packages/theano/gof/cmodule.py\", line 2399, in compile_str\n",
      "    (status, compile_stderr.replace('\\n', '. ')))\n",
      "Exception: (\"Compilation failed (return status=1): /Users/smullally/.theano/compiledir_Darwin-18.7.0-x86_64-i386-64bit-i386-3.7.7-64/tmp3ycx9iek/mod.cpp:528:27: error: non-constant-expression cannot be narrowed from type 'npy_intp' (aka 'long') to 'int' in initializer list [-Wc++11-narrowing].     int init_totals[3] = {V1_n0, V5_n1, V1_n2};.                           ^~~~~. /Users/smullally/.theano/compiledir_Darwin-18.7.0-x86_64-i386-64bit-i386-3.7.7-64/tmp3ycx9iek/mod.cpp:528:27: note: insert an explicit cast to silence this issue.     int init_totals[3] = {V1_n0, V5_n1, V1_n2};.                           ^~~~~.                           static_cast<int>( ). /Users/smullally/.theano/compiledir_Darwin-18.7.0-x86_64-i386-64bit-i386-3.7.7-64/tmp3ycx9iek/mod.cpp:528:34: error: non-constant-expression cannot be narrowed from type 'npy_intp' (aka 'long') to 'int' in initializer list [-Wc++11-narrowing].     int init_totals[3] = {V1_n0, V5_n1, V1_n2};.                                  ^~~~~. /Users/smullally/.theano/compiledir_Darwin-18.7.0-x86_64-i386-64bit-i386-3.7.7-64/tmp3ycx9iek/mod.cpp:528:34: note: insert an explicit cast to silence this issue.     int init_totals[3] = {V1_n0, V5_n1, V1_n2};.                                  ^~~~~.                                  static_cast<int>( ). /Users/smullally/.theano/compiledir_Darwin-18.7.0-x86_64-i386-64bit-i386-3.7.7-64/tmp3ycx9iek/mod.cpp:528:41: error: non-constant-expression cannot be narrowed from type 'npy_intp' (aka 'long') to 'int' in initializer list [-Wc++11-narrowing].     int init_totals[3] = {V1_n0, V5_n1, V1_n2};.                                         ^~~~~. /Users/smullally/.theano/compiledir_Darwin-18.7.0-x86_64-i386-64bit-i386-3.7.7-64/tmp3ycx9iek/mod.cpp:528:41: note: insert an explicit cast to silence this issue.     int init_totals[3] = {V1_n0, V5_n1, V1_n2};.                                         ^~~~~.                                         static_cast<int>( ). /Users/smullally/.theano/compiledir_Darwin-18.7.0-x86_64-i386-64bit-i386-3.7.7-64/tmp3ycx9iek/mod.cpp:544:4: error: non-constant-expression cannot be narrowed from type 'ssize_t' (aka 'long') to 'int' in initializer list [-Wc++11-narrowing]. 0, V5_stride1, 0, .    ^~~~~~~~~~. /Users/smullally/.theano/compiledir_Darwin-18.7.0-x86_64-i386-64bit-i386-3.7.7-64/tmp3ycx9iek/mod.cpp:544:4: note: insert an explicit cast to silence this issue. 0, V5_stride1, 0, .    ^~~~~~~~~~.    static_cast<int>( ). /Users/smullally/.theano/compiledir_Darwin-18.7.0-x86_64-i386-64bit-i386-3.7.7-64/tmp3ycx9iek/mod.cpp:545:1: error: non-constant-expression cannot be narrowed from type 'ssize_t' (aka 'long') to 'int' in initializer list [-Wc++11-narrowing]. V1_stride0, V1_stride1, V1_stride2. ^~~~~~~~~~. /Users/smullally/.theano/compiledir_Darwin-18.7.0-x86_64-i386-64bit-i386-3.7.7-64/tmp3ycx9iek/mod.cpp:545:1: note: insert an explicit cast to silence this issue. V1_stride0, V1_stride1, V1_stride2. ^~~~~~~~~~. static_cast<int>( ). /Users/smullally/.theano/compiledir_Darwin-18.7.0-x86_64-i386-64bit-i386-3.7.7-64/tmp3ycx9iek/mod.cpp:545:13: error: non-constant-expression cannot be narrowed from type 'ssize_t' (aka 'long') to 'int' in initializer list [-Wc++11-narrowing]. V1_stride0, V1_stride1, V1_stride2.             ^~~~~~~~~~. /Users/smullally/.theano/compiledir_Darwin-18.7.0-x86_64-i386-64bit-i386-3.7.7-64/tmp3ycx9iek/mod.cpp:545:13: note: insert an explicit cast to silence this issue. V1_stride0, V1_stride1, V1_stride2.             ^~~~~~~~~~.             static_cast<int>( ). /Users/smullally/.theano/compiledir_Darwin-18.7.0-x86_64-i386-64bit-i386-3.7.7-64/tmp3ycx9iek/mod.cpp:545:25: error: non-constant-expression cannot be narrowed from type 'ssize_t' (aka 'long') to 'int' in initializer list [-Wc++11-narrowing]. V1_stride0, V1_stride1, V1_stride2.                         ^~~~~~~~~~. /Users/smullally/.theano/compiledir_Darwin-18.7.0-x86_64-i386-64bit-i386-3.7.7-64/tmp3ycx9iek/mod.cpp:545:25: note: insert an explicit cast to silence this issue. V1_stride0, V1_stride1, V1_stride2.                         ^~~~~~~~~~.                         static_cast<int>( ). 7 errors generated.. \", '[Elemwise{mul,no_inplace}(TensorConstant{(1, 1, 1) of 0.02}, TensorConstant{[[[-0.4285..2857143]]]})]')\n",
      "\n"
     ]
    },
    {
     "name": "stdout",
     "output_type": "stream",
     "text": [
      "\n",
      "You can find the C code in this temporary file: /var/folders/zx/326t4zzx4_l01j7_ng3c507c0001p0/T/theano_compilation_error_2mxwekux\n"
     ]
    },
    {
     "name": "stderr",
     "output_type": "stream",
     "text": [
      "ERROR (theano.gof.opt): Optimization failure due to: constant_folding\n",
      "ERROR (theano.gof.opt): node: Elemwise{pow,no_inplace}(TensorConstant{(1, 1) of 0.0}, TensorConstant{(1, 1) of 2})\n",
      "ERROR (theano.gof.opt): TRACEBACK:\n",
      "ERROR (theano.gof.opt): Traceback (most recent call last):\n",
      "  File \"/Users/smullally/anaconda/envs/tike38/lib/python3.7/site-packages/theano/gof/opt.py\", line 2034, in process_node\n",
      "    replacements = lopt.transform(node)\n",
      "  File \"/Users/smullally/anaconda/envs/tike38/lib/python3.7/site-packages/theano/tensor/opt.py\", line 6516, in constant_folding\n",
      "    no_recycling=[], impl=impl)\n",
      "  File \"/Users/smullally/anaconda/envs/tike38/lib/python3.7/site-packages/theano/gof/op.py\", line 955, in make_thunk\n",
      "    no_recycling)\n",
      "  File \"/Users/smullally/anaconda/envs/tike38/lib/python3.7/site-packages/theano/gof/op.py\", line 858, in make_c_thunk\n",
      "    output_storage=node_output_storage)\n",
      "  File \"/Users/smullally/anaconda/envs/tike38/lib/python3.7/site-packages/theano/gof/cc.py\", line 1217, in make_thunk\n",
      "    keep_lock=keep_lock)\n",
      "  File \"/Users/smullally/anaconda/envs/tike38/lib/python3.7/site-packages/theano/gof/cc.py\", line 1157, in __compile__\n",
      "    keep_lock=keep_lock)\n",
      "  File \"/Users/smullally/anaconda/envs/tike38/lib/python3.7/site-packages/theano/gof/cc.py\", line 1624, in cthunk_factory\n",
      "    key=key, lnk=self, keep_lock=keep_lock)\n",
      "  File \"/Users/smullally/anaconda/envs/tike38/lib/python3.7/site-packages/theano/gof/cmodule.py\", line 1189, in module_from_key\n",
      "    module = lnk.compile_cmodule(location)\n",
      "  File \"/Users/smullally/anaconda/envs/tike38/lib/python3.7/site-packages/theano/gof/cc.py\", line 1527, in compile_cmodule\n",
      "    preargs=preargs)\n",
      "  File \"/Users/smullally/anaconda/envs/tike38/lib/python3.7/site-packages/theano/gof/cmodule.py\", line 2399, in compile_str\n",
      "    (status, compile_stderr.replace('\\n', '. ')))\n",
      "Exception: (\"Compilation failed (return status=1): /Users/smullally/.theano/compiledir_Darwin-18.7.0-x86_64-i386-64bit-i386-3.7.7-64/tmpnbg40gcz/mod.cpp:468:27: error: non-constant-expression cannot be narrowed from type 'npy_intp' (aka 'long') to 'int' in initializer list [-Wc++11-narrowing].     int init_totals[2] = {V1_n0, V1_n1};.                           ^~~~~. /Users/smullally/.theano/compiledir_Darwin-18.7.0-x86_64-i386-64bit-i386-3.7.7-64/tmpnbg40gcz/mod.cpp:468:27: note: insert an explicit cast to silence this issue.     int init_totals[2] = {V1_n0, V1_n1};.                           ^~~~~.                           static_cast<int>( ). /Users/smullally/.theano/compiledir_Darwin-18.7.0-x86_64-i386-64bit-i386-3.7.7-64/tmpnbg40gcz/mod.cpp:468:34: error: non-constant-expression cannot be narrowed from type 'npy_intp' (aka 'long') to 'int' in initializer list [-Wc++11-narrowing].     int init_totals[2] = {V1_n0, V1_n1};.                                  ^~~~~. /Users/smullally/.theano/compiledir_Darwin-18.7.0-x86_64-i386-64bit-i386-3.7.7-64/tmpnbg40gcz/mod.cpp:468:34: note: insert an explicit cast to silence this issue.     int init_totals[2] = {V1_n0, V1_n1};.                                  ^~~~~.                                  static_cast<int>( ). /Users/smullally/.theano/compiledir_Darwin-18.7.0-x86_64-i386-64bit-i386-3.7.7-64/tmpnbg40gcz/mod.cpp:482:1: error: non-constant-expression cannot be narrowed from type 'ssize_t' (aka 'long') to 'int' in initializer list [-Wc++11-narrowing]. V1_stride0, V1_stride1. ^~~~~~~~~~. /Users/smullally/.theano/compiledir_Darwin-18.7.0-x86_64-i386-64bit-i386-3.7.7-64/tmpnbg40gcz/mod.cpp:482:1: note: insert an explicit cast to silence this issue. V1_stride0, V1_stride1. ^~~~~~~~~~. static_cast<int>( ). /Users/smullally/.theano/compiledir_Darwin-18.7.0-x86_64-i386-64bit-i386-3.7.7-64/tmpnbg40gcz/mod.cpp:482:13: error: non-constant-expression cannot be narrowed from type 'ssize_t' (aka 'long') to 'int' in initializer list [-Wc++11-narrowing]. V1_stride0, V1_stride1.             ^~~~~~~~~~. /Users/smullally/.theano/compiledir_Darwin-18.7.0-x86_64-i386-64bit-i386-3.7.7-64/tmpnbg40gcz/mod.cpp:482:13: note: insert an explicit cast to silence this issue. V1_stride0, V1_stride1.             ^~~~~~~~~~.             static_cast<int>( ). 4 errors generated.. \", '[Elemwise{pow,no_inplace}(TensorConstant{(1, 1) of 0.0}, TensorConstant{(1, 1) of 2})]')\n",
      "\n"
     ]
    },
    {
     "name": "stdout",
     "output_type": "stream",
     "text": [
      "\n",
      "You can find the C code in this temporary file: /var/folders/zx/326t4zzx4_l01j7_ng3c507c0001p0/T/theano_compilation_error_1silf32h\n"
     ]
    },
    {
     "name": "stderr",
     "output_type": "stream",
     "text": [
      "ERROR (theano.gof.opt): Optimization failure due to: constant_folding\n",
      "ERROR (theano.gof.opt): node: Elemwise{Cast{float64}}(TensorConstant{(1, 1) of 0.0})\n",
      "ERROR (theano.gof.opt): TRACEBACK:\n",
      "ERROR (theano.gof.opt): Traceback (most recent call last):\n",
      "  File \"/Users/smullally/anaconda/envs/tike38/lib/python3.7/site-packages/theano/gof/opt.py\", line 2034, in process_node\n",
      "    replacements = lopt.transform(node)\n",
      "  File \"/Users/smullally/anaconda/envs/tike38/lib/python3.7/site-packages/theano/tensor/opt.py\", line 6516, in constant_folding\n",
      "    no_recycling=[], impl=impl)\n",
      "  File \"/Users/smullally/anaconda/envs/tike38/lib/python3.7/site-packages/theano/gof/op.py\", line 955, in make_thunk\n",
      "    no_recycling)\n",
      "  File \"/Users/smullally/anaconda/envs/tike38/lib/python3.7/site-packages/theano/gof/op.py\", line 858, in make_c_thunk\n",
      "    output_storage=node_output_storage)\n",
      "  File \"/Users/smullally/anaconda/envs/tike38/lib/python3.7/site-packages/theano/gof/cc.py\", line 1217, in make_thunk\n",
      "    keep_lock=keep_lock)\n",
      "  File \"/Users/smullally/anaconda/envs/tike38/lib/python3.7/site-packages/theano/gof/cc.py\", line 1157, in __compile__\n",
      "    keep_lock=keep_lock)\n",
      "  File \"/Users/smullally/anaconda/envs/tike38/lib/python3.7/site-packages/theano/gof/cc.py\", line 1624, in cthunk_factory\n",
      "    key=key, lnk=self, keep_lock=keep_lock)\n",
      "  File \"/Users/smullally/anaconda/envs/tike38/lib/python3.7/site-packages/theano/gof/cmodule.py\", line 1189, in module_from_key\n",
      "    module = lnk.compile_cmodule(location)\n",
      "  File \"/Users/smullally/anaconda/envs/tike38/lib/python3.7/site-packages/theano/gof/cc.py\", line 1527, in compile_cmodule\n",
      "    preargs=preargs)\n",
      "  File \"/Users/smullally/anaconda/envs/tike38/lib/python3.7/site-packages/theano/gof/cmodule.py\", line 2399, in compile_str\n",
      "    (status, compile_stderr.replace('\\n', '. ')))\n",
      "Exception: (\"Compilation failed (return status=1): /Users/smullally/.theano/compiledir_Darwin-18.7.0-x86_64-i386-64bit-i386-3.7.7-64/tmpikarweag/mod.cpp:396:27: error: non-constant-expression cannot be narrowed from type 'npy_intp' (aka 'long') to 'int' in initializer list [-Wc++11-narrowing].     int init_totals[2] = {V1_n0, V3_n1};.                           ^~~~~. /Users/smullally/.theano/compiledir_Darwin-18.7.0-x86_64-i386-64bit-i386-3.7.7-64/tmpikarweag/mod.cpp:396:27: note: insert an explicit cast to silence this issue.     int init_totals[2] = {V1_n0, V3_n1};.                           ^~~~~.                           static_cast<int>( ). /Users/smullally/.theano/compiledir_Darwin-18.7.0-x86_64-i386-64bit-i386-3.7.7-64/tmpikarweag/mod.cpp:396:34: error: non-constant-expression cannot be narrowed from type 'npy_intp' (aka 'long') to 'int' in initializer list [-Wc++11-narrowing].     int init_totals[2] = {V1_n0, V3_n1};.                                  ^~~~~. /Users/smullally/.theano/compiledir_Darwin-18.7.0-x86_64-i386-64bit-i386-3.7.7-64/tmpikarweag/mod.cpp:396:34: note: insert an explicit cast to silence this issue.     int init_totals[2] = {V1_n0, V3_n1};.                                  ^~~~~.                                  static_cast<int>( ). /Users/smullally/.theano/compiledir_Darwin-18.7.0-x86_64-i386-64bit-i386-3.7.7-64/tmpikarweag/mod.cpp:408:12: error: non-constant-expression cannot be narrowed from type 'ssize_t' (aka 'long') to 'int' in initializer list [-Wc++11-narrowing].         0, V3_stride1, .            ^~~~~~~~~~. /Users/smullally/.theano/compiledir_Darwin-18.7.0-x86_64-i386-64bit-i386-3.7.7-64/tmpikarweag/mod.cpp:408:12: note: insert an explicit cast to silence this issue.         0, V3_stride1, .            ^~~~~~~~~~.            static_cast<int>( ). /Users/smullally/.theano/compiledir_Darwin-18.7.0-x86_64-i386-64bit-i386-3.7.7-64/tmpikarweag/mod.cpp:409:1: error: non-constant-expression cannot be narrowed from type 'ssize_t' (aka 'long') to 'int' in initializer list [-Wc++11-narrowing]. V1_stride0, V1_stride1. ^~~~~~~~~~. /Users/smullally/.theano/compiledir_Darwin-18.7.0-x86_64-i386-64bit-i386-3.7.7-64/tmpikarweag/mod.cpp:409:1: note: insert an explicit cast to silence this issue. V1_stride0, V1_stride1. ^~~~~~~~~~. static_cast<int>( ). /Users/smullally/.theano/compiledir_Darwin-18.7.0-x86_64-i386-64bit-i386-3.7.7-64/tmpikarweag/mod.cpp:409:13: error: non-constant-expression cannot be narrowed from type 'ssize_t' (aka 'long') to 'int' in initializer list [-Wc++11-narrowing]. V1_stride0, V1_stride1.             ^~~~~~~~~~. /Users/smullally/.theano/compiledir_Darwin-18.7.0-x86_64-i386-64bit-i386-3.7.7-64/tmpikarweag/mod.cpp:409:13: note: insert an explicit cast to silence this issue. V1_stride0, V1_stride1.             ^~~~~~~~~~.             static_cast<int>( ). 5 errors generated.. \", '[Elemwise{Cast{float64}}(TensorConstant{(1, 1) of 0.0})]')\n",
      "\n"
     ]
    },
    {
     "name": "stdout",
     "output_type": "stream",
     "text": [
      "\n",
      "You can find the C code in this temporary file: /var/folders/zx/326t4zzx4_l01j7_ng3c507c0001p0/T/theano_compilation_error_e4ueav7v\n"
     ]
    },
    {
     "name": "stderr",
     "output_type": "stream",
     "text": [
      "ERROR (theano.gof.opt): Optimization failure due to: constant_folding\n",
      "ERROR (theano.gof.opt): node: Elemwise{add,no_inplace}(TensorConstant{(1, 1) of 1.728}, TensorConstant{[[-0.1    ..1       ]]})\n",
      "ERROR (theano.gof.opt): TRACEBACK:\n",
      "ERROR (theano.gof.opt): Traceback (most recent call last):\n",
      "  File \"/Users/smullally/anaconda/envs/tike38/lib/python3.7/site-packages/theano/gof/opt.py\", line 2034, in process_node\n",
      "    replacements = lopt.transform(node)\n",
      "  File \"/Users/smullally/anaconda/envs/tike38/lib/python3.7/site-packages/theano/tensor/opt.py\", line 6516, in constant_folding\n",
      "    no_recycling=[], impl=impl)\n",
      "  File \"/Users/smullally/anaconda/envs/tike38/lib/python3.7/site-packages/theano/gof/op.py\", line 955, in make_thunk\n",
      "    no_recycling)\n",
      "  File \"/Users/smullally/anaconda/envs/tike38/lib/python3.7/site-packages/theano/gof/op.py\", line 858, in make_c_thunk\n",
      "    output_storage=node_output_storage)\n",
      "  File \"/Users/smullally/anaconda/envs/tike38/lib/python3.7/site-packages/theano/gof/cc.py\", line 1217, in make_thunk\n",
      "    keep_lock=keep_lock)\n",
      "  File \"/Users/smullally/anaconda/envs/tike38/lib/python3.7/site-packages/theano/gof/cc.py\", line 1157, in __compile__\n",
      "    keep_lock=keep_lock)\n",
      "  File \"/Users/smullally/anaconda/envs/tike38/lib/python3.7/site-packages/theano/gof/cc.py\", line 1624, in cthunk_factory\n",
      "    key=key, lnk=self, keep_lock=keep_lock)\n",
      "  File \"/Users/smullally/anaconda/envs/tike38/lib/python3.7/site-packages/theano/gof/cmodule.py\", line 1189, in module_from_key\n",
      "    module = lnk.compile_cmodule(location)\n",
      "  File \"/Users/smullally/anaconda/envs/tike38/lib/python3.7/site-packages/theano/gof/cc.py\", line 1527, in compile_cmodule\n",
      "    preargs=preargs)\n",
      "  File \"/Users/smullally/anaconda/envs/tike38/lib/python3.7/site-packages/theano/gof/cmodule.py\", line 2399, in compile_str\n",
      "    (status, compile_stderr.replace('\\n', '. ')))\n",
      "Exception: (\"Compilation failed (return status=1): /Users/smullally/.theano/compiledir_Darwin-18.7.0-x86_64-i386-64bit-i386-3.7.7-64/tmpooi1q9u0/mod.cpp:506:27: error: non-constant-expression cannot be narrowed from type 'npy_intp' (aka 'long') to 'int' in initializer list [-Wc++11-narrowing].     int init_totals[2] = {V5_n0, V1_n1};.                           ^~~~~. /Users/smullally/.theano/compiledir_Darwin-18.7.0-x86_64-i386-64bit-i386-3.7.7-64/tmpooi1q9u0/mod.cpp:506:27: note: insert an explicit cast to silence this issue.     int init_totals[2] = {V5_n0, V1_n1};.                           ^~~~~.                           static_cast<int>( ). /Users/smullally/.theano/compiledir_Darwin-18.7.0-x86_64-i386-64bit-i386-3.7.7-64/tmpooi1q9u0/mod.cpp:506:34: error: non-constant-expression cannot be narrowed from type 'npy_intp' (aka 'long') to 'int' in initializer list [-Wc++11-narrowing].     int init_totals[2] = {V5_n0, V1_n1};.                                  ^~~~~. /Users/smullally/.theano/compiledir_Darwin-18.7.0-x86_64-i386-64bit-i386-3.7.7-64/tmpooi1q9u0/mod.cpp:506:34: note: insert an explicit cast to silence this issue.     int init_totals[2] = {V5_n0, V1_n1};.                                  ^~~~~.                                  static_cast<int>( ). /Users/smullally/.theano/compiledir_Darwin-18.7.0-x86_64-i386-64bit-i386-3.7.7-64/tmpooi1q9u0/mod.cpp:519:1: error: non-constant-expression cannot be narrowed from type 'ssize_t' (aka 'long') to 'int' in initializer list [-Wc++11-narrowing]. V5_stride0, 0, . ^~~~~~~~~~. /Users/smullally/.theano/compiledir_Darwin-18.7.0-x86_64-i386-64bit-i386-3.7.7-64/tmpooi1q9u0/mod.cpp:519:1: note: insert an explicit cast to silence this issue. V5_stride0, 0, . ^~~~~~~~~~. static_cast<int>( ). /Users/smullally/.theano/compiledir_Darwin-18.7.0-x86_64-i386-64bit-i386-3.7.7-64/tmpooi1q9u0/mod.cpp:520:1: error: non-constant-expression cannot be narrowed from type 'ssize_t' (aka 'long') to 'int' in initializer list [-Wc++11-narrowing]. V1_stride0, V1_stride1. ^~~~~~~~~~. /Users/smullally/.theano/compiledir_Darwin-18.7.0-x86_64-i386-64bit-i386-3.7.7-64/tmpooi1q9u0/mod.cpp:520:1: note: insert an explicit cast to silence this issue. V1_stride0, V1_stride1. ^~~~~~~~~~. static_cast<int>( ). /Users/smullally/.theano/compiledir_Darwin-18.7.0-x86_64-i386-64bit-i386-3.7.7-64/tmpooi1q9u0/mod.cpp:520:13: error: non-constant-expression cannot be narrowed from type 'ssize_t' (aka 'long') to 'int' in initializer list [-Wc++11-narrowing]. V1_stride0, V1_stride1.             ^~~~~~~~~~. /Users/smullally/.theano/compiledir_Darwin-18.7.0-x86_64-i386-64bit-i386-3.7.7-64/tmpooi1q9u0/mod.cpp:520:13: note: insert an explicit cast to silence this issue. V1_stride0, V1_stride1.             ^~~~~~~~~~.             static_cast<int>( ). 5 errors generated.. \", '[Elemwise{add,no_inplace}(TensorConstant{(1, 1) of 1.728}, TensorConstant{[[-0.1    ..1       ]]})]')\n",
      "\n"
     ]
    },
    {
     "name": "stdout",
     "output_type": "stream",
     "text": [
      "\n",
      "You can find the C code in this temporary file: /var/folders/zx/326t4zzx4_l01j7_ng3c507c0001p0/T/theano_compilation_error_ajnj26j6\n"
     ]
    },
    {
     "name": "stderr",
     "output_type": "stream",
     "text": [
      "ERROR (theano.gof.opt): Optimization failure due to: constant_folding\n",
      "ERROR (theano.gof.opt): node: Elemwise{mul,no_inplace}(TensorConstant{(1, 1, 1) of 0.02}, TensorConstant{[[[-0.4285..2857143]]]})\n",
      "ERROR (theano.gof.opt): TRACEBACK:\n",
      "ERROR (theano.gof.opt): Traceback (most recent call last):\n",
      "  File \"/Users/smullally/anaconda/envs/tike38/lib/python3.7/site-packages/theano/gof/opt.py\", line 2034, in process_node\n",
      "    replacements = lopt.transform(node)\n",
      "  File \"/Users/smullally/anaconda/envs/tike38/lib/python3.7/site-packages/theano/tensor/opt.py\", line 6516, in constant_folding\n",
      "    no_recycling=[], impl=impl)\n",
      "  File \"/Users/smullally/anaconda/envs/tike38/lib/python3.7/site-packages/theano/gof/op.py\", line 955, in make_thunk\n",
      "    no_recycling)\n",
      "  File \"/Users/smullally/anaconda/envs/tike38/lib/python3.7/site-packages/theano/gof/op.py\", line 858, in make_c_thunk\n",
      "    output_storage=node_output_storage)\n",
      "  File \"/Users/smullally/anaconda/envs/tike38/lib/python3.7/site-packages/theano/gof/cc.py\", line 1217, in make_thunk\n",
      "    keep_lock=keep_lock)\n",
      "  File \"/Users/smullally/anaconda/envs/tike38/lib/python3.7/site-packages/theano/gof/cc.py\", line 1157, in __compile__\n",
      "    keep_lock=keep_lock)\n",
      "  File \"/Users/smullally/anaconda/envs/tike38/lib/python3.7/site-packages/theano/gof/cc.py\", line 1624, in cthunk_factory\n",
      "    key=key, lnk=self, keep_lock=keep_lock)\n",
      "  File \"/Users/smullally/anaconda/envs/tike38/lib/python3.7/site-packages/theano/gof/cmodule.py\", line 1189, in module_from_key\n",
      "    module = lnk.compile_cmodule(location)\n",
      "  File \"/Users/smullally/anaconda/envs/tike38/lib/python3.7/site-packages/theano/gof/cc.py\", line 1527, in compile_cmodule\n",
      "    preargs=preargs)\n",
      "  File \"/Users/smullally/anaconda/envs/tike38/lib/python3.7/site-packages/theano/gof/cmodule.py\", line 2399, in compile_str\n",
      "    (status, compile_stderr.replace('\\n', '. ')))\n",
      "Exception: (\"Compilation failed (return status=1): /Users/smullally/.theano/compiledir_Darwin-18.7.0-x86_64-i386-64bit-i386-3.7.7-64/tmpoel2fprx/mod.cpp:528:27: error: non-constant-expression cannot be narrowed from type 'npy_intp' (aka 'long') to 'int' in initializer list [-Wc++11-narrowing].     int init_totals[3] = {V1_n0, V5_n1, V1_n2};.                           ^~~~~. /Users/smullally/.theano/compiledir_Darwin-18.7.0-x86_64-i386-64bit-i386-3.7.7-64/tmpoel2fprx/mod.cpp:528:27: note: insert an explicit cast to silence this issue.     int init_totals[3] = {V1_n0, V5_n1, V1_n2};.                           ^~~~~.                           static_cast<int>( ). /Users/smullally/.theano/compiledir_Darwin-18.7.0-x86_64-i386-64bit-i386-3.7.7-64/tmpoel2fprx/mod.cpp:528:34: error: non-constant-expression cannot be narrowed from type 'npy_intp' (aka 'long') to 'int' in initializer list [-Wc++11-narrowing].     int init_totals[3] = {V1_n0, V5_n1, V1_n2};.                                  ^~~~~. /Users/smullally/.theano/compiledir_Darwin-18.7.0-x86_64-i386-64bit-i386-3.7.7-64/tmpoel2fprx/mod.cpp:528:34: note: insert an explicit cast to silence this issue.     int init_totals[3] = {V1_n0, V5_n1, V1_n2};.                                  ^~~~~.                                  static_cast<int>( ). /Users/smullally/.theano/compiledir_Darwin-18.7.0-x86_64-i386-64bit-i386-3.7.7-64/tmpoel2fprx/mod.cpp:528:41: error: non-constant-expression cannot be narrowed from type 'npy_intp' (aka 'long') to 'int' in initializer list [-Wc++11-narrowing].     int init_totals[3] = {V1_n0, V5_n1, V1_n2};.                                         ^~~~~. /Users/smullally/.theano/compiledir_Darwin-18.7.0-x86_64-i386-64bit-i386-3.7.7-64/tmpoel2fprx/mod.cpp:528:41: note: insert an explicit cast to silence this issue.     int init_totals[3] = {V1_n0, V5_n1, V1_n2};.                                         ^~~~~.                                         static_cast<int>( ). /Users/smullally/.theano/compiledir_Darwin-18.7.0-x86_64-i386-64bit-i386-3.7.7-64/tmpoel2fprx/mod.cpp:544:4: error: non-constant-expression cannot be narrowed from type 'ssize_t' (aka 'long') to 'int' in initializer list [-Wc++11-narrowing]. 0, V5_stride1, 0, .    ^~~~~~~~~~. /Users/smullally/.theano/compiledir_Darwin-18.7.0-x86_64-i386-64bit-i386-3.7.7-64/tmpoel2fprx/mod.cpp:544:4: note: insert an explicit cast to silence this issue. 0, V5_stride1, 0, .    ^~~~~~~~~~.    static_cast<int>( ). /Users/smullally/.theano/compiledir_Darwin-18.7.0-x86_64-i386-64bit-i386-3.7.7-64/tmpoel2fprx/mod.cpp:545:1: error: non-constant-expression cannot be narrowed from type 'ssize_t' (aka 'long') to 'int' in initializer list [-Wc++11-narrowing]. V1_stride0, V1_stride1, V1_stride2. ^~~~~~~~~~. /Users/smullally/.theano/compiledir_Darwin-18.7.0-x86_64-i386-64bit-i386-3.7.7-64/tmpoel2fprx/mod.cpp:545:1: note: insert an explicit cast to silence this issue. V1_stride0, V1_stride1, V1_stride2. ^~~~~~~~~~. static_cast<int>( ). /Users/smullally/.theano/compiledir_Darwin-18.7.0-x86_64-i386-64bit-i386-3.7.7-64/tmpoel2fprx/mod.cpp:545:13: error: non-constant-expression cannot be narrowed from type 'ssize_t' (aka 'long') to 'int' in initializer list [-Wc++11-narrowing]. V1_stride0, V1_stride1, V1_stride2.             ^~~~~~~~~~. /Users/smullally/.theano/compiledir_Darwin-18.7.0-x86_64-i386-64bit-i386-3.7.7-64/tmpoel2fprx/mod.cpp:545:13: note: insert an explicit cast to silence this issue. V1_stride0, V1_stride1, V1_stride2.             ^~~~~~~~~~.             static_cast<int>( ). /Users/smullally/.theano/compiledir_Darwin-18.7.0-x86_64-i386-64bit-i386-3.7.7-64/tmpoel2fprx/mod.cpp:545:25: error: non-constant-expression cannot be narrowed from type 'ssize_t' (aka 'long') to 'int' in initializer list [-Wc++11-narrowing]. V1_stride0, V1_stride1, V1_stride2.                         ^~~~~~~~~~. /Users/smullally/.theano/compiledir_Darwin-18.7.0-x86_64-i386-64bit-i386-3.7.7-64/tmpoel2fprx/mod.cpp:545:25: note: insert an explicit cast to silence this issue. V1_stride0, V1_stride1, V1_stride2.                         ^~~~~~~~~~.                         static_cast<int>( ). 7 errors generated.. \", '[Elemwise{mul,no_inplace}(TensorConstant{(1, 1, 1) of 0.02}, TensorConstant{[[[-0.4285..2857143]]]})]')\n",
      "\n"
     ]
    },
    {
     "name": "stdout",
     "output_type": "stream",
     "text": [
      "\n",
      "You can find the C code in this temporary file: /var/folders/zx/326t4zzx4_l01j7_ng3c507c0001p0/T/theano_compilation_error_y53f_mfb\n"
     ]
    },
    {
     "name": "stderr",
     "output_type": "stream",
     "text": [
      "ERROR (theano.gof.opt): Optimization failure due to: constant_folding\n",
      "ERROR (theano.gof.opt): node: Elemwise{pow,no_inplace}(TensorConstant{(1, 1) of 0.0}, TensorConstant{(1, 1) of 2})\n",
      "ERROR (theano.gof.opt): TRACEBACK:\n",
      "ERROR (theano.gof.opt): Traceback (most recent call last):\n",
      "  File \"/Users/smullally/anaconda/envs/tike38/lib/python3.7/site-packages/theano/gof/opt.py\", line 2034, in process_node\n",
      "    replacements = lopt.transform(node)\n",
      "  File \"/Users/smullally/anaconda/envs/tike38/lib/python3.7/site-packages/theano/tensor/opt.py\", line 6516, in constant_folding\n",
      "    no_recycling=[], impl=impl)\n",
      "  File \"/Users/smullally/anaconda/envs/tike38/lib/python3.7/site-packages/theano/gof/op.py\", line 955, in make_thunk\n",
      "    no_recycling)\n",
      "  File \"/Users/smullally/anaconda/envs/tike38/lib/python3.7/site-packages/theano/gof/op.py\", line 858, in make_c_thunk\n",
      "    output_storage=node_output_storage)\n",
      "  File \"/Users/smullally/anaconda/envs/tike38/lib/python3.7/site-packages/theano/gof/cc.py\", line 1217, in make_thunk\n",
      "    keep_lock=keep_lock)\n",
      "  File \"/Users/smullally/anaconda/envs/tike38/lib/python3.7/site-packages/theano/gof/cc.py\", line 1157, in __compile__\n",
      "    keep_lock=keep_lock)\n",
      "  File \"/Users/smullally/anaconda/envs/tike38/lib/python3.7/site-packages/theano/gof/cc.py\", line 1624, in cthunk_factory\n",
      "    key=key, lnk=self, keep_lock=keep_lock)\n",
      "  File \"/Users/smullally/anaconda/envs/tike38/lib/python3.7/site-packages/theano/gof/cmodule.py\", line 1189, in module_from_key\n",
      "    module = lnk.compile_cmodule(location)\n",
      "  File \"/Users/smullally/anaconda/envs/tike38/lib/python3.7/site-packages/theano/gof/cc.py\", line 1527, in compile_cmodule\n",
      "    preargs=preargs)\n",
      "  File \"/Users/smullally/anaconda/envs/tike38/lib/python3.7/site-packages/theano/gof/cmodule.py\", line 2399, in compile_str\n",
      "    (status, compile_stderr.replace('\\n', '. ')))\n",
      "Exception: (\"Compilation failed (return status=1): /Users/smullally/.theano/compiledir_Darwin-18.7.0-x86_64-i386-64bit-i386-3.7.7-64/tmpglvggn_x/mod.cpp:468:27: error: non-constant-expression cannot be narrowed from type 'npy_intp' (aka 'long') to 'int' in initializer list [-Wc++11-narrowing].     int init_totals[2] = {V1_n0, V1_n1};.                           ^~~~~. /Users/smullally/.theano/compiledir_Darwin-18.7.0-x86_64-i386-64bit-i386-3.7.7-64/tmpglvggn_x/mod.cpp:468:27: note: insert an explicit cast to silence this issue.     int init_totals[2] = {V1_n0, V1_n1};.                           ^~~~~.                           static_cast<int>( ). /Users/smullally/.theano/compiledir_Darwin-18.7.0-x86_64-i386-64bit-i386-3.7.7-64/tmpglvggn_x/mod.cpp:468:34: error: non-constant-expression cannot be narrowed from type 'npy_intp' (aka 'long') to 'int' in initializer list [-Wc++11-narrowing].     int init_totals[2] = {V1_n0, V1_n1};.                                  ^~~~~. /Users/smullally/.theano/compiledir_Darwin-18.7.0-x86_64-i386-64bit-i386-3.7.7-64/tmpglvggn_x/mod.cpp:468:34: note: insert an explicit cast to silence this issue.     int init_totals[2] = {V1_n0, V1_n1};.                                  ^~~~~.                                  static_cast<int>( ). /Users/smullally/.theano/compiledir_Darwin-18.7.0-x86_64-i386-64bit-i386-3.7.7-64/tmpglvggn_x/mod.cpp:482:1: error: non-constant-expression cannot be narrowed from type 'ssize_t' (aka 'long') to 'int' in initializer list [-Wc++11-narrowing]. V1_stride0, V1_stride1. ^~~~~~~~~~. /Users/smullally/.theano/compiledir_Darwin-18.7.0-x86_64-i386-64bit-i386-3.7.7-64/tmpglvggn_x/mod.cpp:482:1: note: insert an explicit cast to silence this issue. V1_stride0, V1_stride1. ^~~~~~~~~~. static_cast<int>( ). /Users/smullally/.theano/compiledir_Darwin-18.7.0-x86_64-i386-64bit-i386-3.7.7-64/tmpglvggn_x/mod.cpp:482:13: error: non-constant-expression cannot be narrowed from type 'ssize_t' (aka 'long') to 'int' in initializer list [-Wc++11-narrowing]. V1_stride0, V1_stride1.             ^~~~~~~~~~. /Users/smullally/.theano/compiledir_Darwin-18.7.0-x86_64-i386-64bit-i386-3.7.7-64/tmpglvggn_x/mod.cpp:482:13: note: insert an explicit cast to silence this issue. V1_stride0, V1_stride1.             ^~~~~~~~~~.             static_cast<int>( ). 4 errors generated.. \", '[Elemwise{pow,no_inplace}(TensorConstant{(1, 1) of 0.0}, TensorConstant{(1, 1) of 2})]')\n",
      "\n"
     ]
    },
    {
     "name": "stdout",
     "output_type": "stream",
     "text": [
      "\n",
      "You can find the C code in this temporary file: /var/folders/zx/326t4zzx4_l01j7_ng3c507c0001p0/T/theano_compilation_error_jwqx7yv7\n"
     ]
    },
    {
     "name": "stderr",
     "output_type": "stream",
     "text": [
      "ERROR (theano.gof.opt): Optimization failure due to: constant_folding\n",
      "ERROR (theano.gof.opt): node: Elemwise{Cast{float64}}(TensorConstant{(1, 1) of 0.0})\n",
      "ERROR (theano.gof.opt): TRACEBACK:\n",
      "ERROR (theano.gof.opt): Traceback (most recent call last):\n",
      "  File \"/Users/smullally/anaconda/envs/tike38/lib/python3.7/site-packages/theano/gof/opt.py\", line 2034, in process_node\n",
      "    replacements = lopt.transform(node)\n",
      "  File \"/Users/smullally/anaconda/envs/tike38/lib/python3.7/site-packages/theano/tensor/opt.py\", line 6516, in constant_folding\n",
      "    no_recycling=[], impl=impl)\n",
      "  File \"/Users/smullally/anaconda/envs/tike38/lib/python3.7/site-packages/theano/gof/op.py\", line 955, in make_thunk\n",
      "    no_recycling)\n",
      "  File \"/Users/smullally/anaconda/envs/tike38/lib/python3.7/site-packages/theano/gof/op.py\", line 858, in make_c_thunk\n",
      "    output_storage=node_output_storage)\n",
      "  File \"/Users/smullally/anaconda/envs/tike38/lib/python3.7/site-packages/theano/gof/cc.py\", line 1217, in make_thunk\n",
      "    keep_lock=keep_lock)\n",
      "  File \"/Users/smullally/anaconda/envs/tike38/lib/python3.7/site-packages/theano/gof/cc.py\", line 1157, in __compile__\n",
      "    keep_lock=keep_lock)\n",
      "  File \"/Users/smullally/anaconda/envs/tike38/lib/python3.7/site-packages/theano/gof/cc.py\", line 1624, in cthunk_factory\n",
      "    key=key, lnk=self, keep_lock=keep_lock)\n",
      "  File \"/Users/smullally/anaconda/envs/tike38/lib/python3.7/site-packages/theano/gof/cmodule.py\", line 1189, in module_from_key\n",
      "    module = lnk.compile_cmodule(location)\n",
      "  File \"/Users/smullally/anaconda/envs/tike38/lib/python3.7/site-packages/theano/gof/cc.py\", line 1527, in compile_cmodule\n",
      "    preargs=preargs)\n",
      "  File \"/Users/smullally/anaconda/envs/tike38/lib/python3.7/site-packages/theano/gof/cmodule.py\", line 2399, in compile_str\n",
      "    (status, compile_stderr.replace('\\n', '. ')))\n",
      "Exception: (\"Compilation failed (return status=1): /Users/smullally/.theano/compiledir_Darwin-18.7.0-x86_64-i386-64bit-i386-3.7.7-64/tmp92_g7xy8/mod.cpp:396:27: error: non-constant-expression cannot be narrowed from type 'npy_intp' (aka 'long') to 'int' in initializer list [-Wc++11-narrowing].     int init_totals[2] = {V1_n0, V3_n1};.                           ^~~~~. /Users/smullally/.theano/compiledir_Darwin-18.7.0-x86_64-i386-64bit-i386-3.7.7-64/tmp92_g7xy8/mod.cpp:396:27: note: insert an explicit cast to silence this issue.     int init_totals[2] = {V1_n0, V3_n1};.                           ^~~~~.                           static_cast<int>( ). /Users/smullally/.theano/compiledir_Darwin-18.7.0-x86_64-i386-64bit-i386-3.7.7-64/tmp92_g7xy8/mod.cpp:396:34: error: non-constant-expression cannot be narrowed from type 'npy_intp' (aka 'long') to 'int' in initializer list [-Wc++11-narrowing].     int init_totals[2] = {V1_n0, V3_n1};.                                  ^~~~~. /Users/smullally/.theano/compiledir_Darwin-18.7.0-x86_64-i386-64bit-i386-3.7.7-64/tmp92_g7xy8/mod.cpp:396:34: note: insert an explicit cast to silence this issue.     int init_totals[2] = {V1_n0, V3_n1};.                                  ^~~~~.                                  static_cast<int>( ). /Users/smullally/.theano/compiledir_Darwin-18.7.0-x86_64-i386-64bit-i386-3.7.7-64/tmp92_g7xy8/mod.cpp:408:12: error: non-constant-expression cannot be narrowed from type 'ssize_t' (aka 'long') to 'int' in initializer list [-Wc++11-narrowing].         0, V3_stride1, .            ^~~~~~~~~~. /Users/smullally/.theano/compiledir_Darwin-18.7.0-x86_64-i386-64bit-i386-3.7.7-64/tmp92_g7xy8/mod.cpp:408:12: note: insert an explicit cast to silence this issue.         0, V3_stride1, .            ^~~~~~~~~~.            static_cast<int>( ). /Users/smullally/.theano/compiledir_Darwin-18.7.0-x86_64-i386-64bit-i386-3.7.7-64/tmp92_g7xy8/mod.cpp:409:1: error: non-constant-expression cannot be narrowed from type 'ssize_t' (aka 'long') to 'int' in initializer list [-Wc++11-narrowing]. V1_stride0, V1_stride1. ^~~~~~~~~~. /Users/smullally/.theano/compiledir_Darwin-18.7.0-x86_64-i386-64bit-i386-3.7.7-64/tmp92_g7xy8/mod.cpp:409:1: note: insert an explicit cast to silence this issue. V1_stride0, V1_stride1. ^~~~~~~~~~. static_cast<int>( ). /Users/smullally/.theano/compiledir_Darwin-18.7.0-x86_64-i386-64bit-i386-3.7.7-64/tmp92_g7xy8/mod.cpp:409:13: error: non-constant-expression cannot be narrowed from type 'ssize_t' (aka 'long') to 'int' in initializer list [-Wc++11-narrowing]. V1_stride0, V1_stride1.             ^~~~~~~~~~. /Users/smullally/.theano/compiledir_Darwin-18.7.0-x86_64-i386-64bit-i386-3.7.7-64/tmp92_g7xy8/mod.cpp:409:13: note: insert an explicit cast to silence this issue. V1_stride0, V1_stride1.             ^~~~~~~~~~.             static_cast<int>( ). 5 errors generated.. \", '[Elemwise{Cast{float64}}(TensorConstant{(1, 1) of 0.0})]')\n",
      "\n"
     ]
    },
    {
     "name": "stdout",
     "output_type": "stream",
     "text": [
      "\n",
      "You can find the C code in this temporary file: /var/folders/zx/326t4zzx4_l01j7_ng3c507c0001p0/T/theano_compilation_error_ovu94l2c\n"
     ]
    },
    {
     "name": "stderr",
     "output_type": "stream",
     "text": [
      "ERROR (theano.gof.opt): Optimization failure due to: constant_folding\n",
      "ERROR (theano.gof.opt): node: Elemwise{add,no_inplace}(TensorConstant{(1, 1) of 1.728}, TensorConstant{[[-0.1    ..1       ]]})\n",
      "ERROR (theano.gof.opt): TRACEBACK:\n",
      "ERROR (theano.gof.opt): Traceback (most recent call last):\n",
      "  File \"/Users/smullally/anaconda/envs/tike38/lib/python3.7/site-packages/theano/gof/opt.py\", line 2034, in process_node\n",
      "    replacements = lopt.transform(node)\n",
      "  File \"/Users/smullally/anaconda/envs/tike38/lib/python3.7/site-packages/theano/tensor/opt.py\", line 6516, in constant_folding\n",
      "    no_recycling=[], impl=impl)\n",
      "  File \"/Users/smullally/anaconda/envs/tike38/lib/python3.7/site-packages/theano/gof/op.py\", line 955, in make_thunk\n",
      "    no_recycling)\n",
      "  File \"/Users/smullally/anaconda/envs/tike38/lib/python3.7/site-packages/theano/gof/op.py\", line 858, in make_c_thunk\n",
      "    output_storage=node_output_storage)\n",
      "  File \"/Users/smullally/anaconda/envs/tike38/lib/python3.7/site-packages/theano/gof/cc.py\", line 1217, in make_thunk\n",
      "    keep_lock=keep_lock)\n",
      "  File \"/Users/smullally/anaconda/envs/tike38/lib/python3.7/site-packages/theano/gof/cc.py\", line 1157, in __compile__\n",
      "    keep_lock=keep_lock)\n",
      "  File \"/Users/smullally/anaconda/envs/tike38/lib/python3.7/site-packages/theano/gof/cc.py\", line 1624, in cthunk_factory\n",
      "    key=key, lnk=self, keep_lock=keep_lock)\n",
      "  File \"/Users/smullally/anaconda/envs/tike38/lib/python3.7/site-packages/theano/gof/cmodule.py\", line 1189, in module_from_key\n",
      "    module = lnk.compile_cmodule(location)\n",
      "  File \"/Users/smullally/anaconda/envs/tike38/lib/python3.7/site-packages/theano/gof/cc.py\", line 1527, in compile_cmodule\n",
      "    preargs=preargs)\n",
      "  File \"/Users/smullally/anaconda/envs/tike38/lib/python3.7/site-packages/theano/gof/cmodule.py\", line 2399, in compile_str\n",
      "    (status, compile_stderr.replace('\\n', '. ')))\n",
      "Exception: (\"Compilation failed (return status=1): /Users/smullally/.theano/compiledir_Darwin-18.7.0-x86_64-i386-64bit-i386-3.7.7-64/tmpy6q7vgfv/mod.cpp:506:27: error: non-constant-expression cannot be narrowed from type 'npy_intp' (aka 'long') to 'int' in initializer list [-Wc++11-narrowing].     int init_totals[2] = {V5_n0, V1_n1};.                           ^~~~~. /Users/smullally/.theano/compiledir_Darwin-18.7.0-x86_64-i386-64bit-i386-3.7.7-64/tmpy6q7vgfv/mod.cpp:506:27: note: insert an explicit cast to silence this issue.     int init_totals[2] = {V5_n0, V1_n1};.                           ^~~~~.                           static_cast<int>( ). /Users/smullally/.theano/compiledir_Darwin-18.7.0-x86_64-i386-64bit-i386-3.7.7-64/tmpy6q7vgfv/mod.cpp:506:34: error: non-constant-expression cannot be narrowed from type 'npy_intp' (aka 'long') to 'int' in initializer list [-Wc++11-narrowing].     int init_totals[2] = {V5_n0, V1_n1};.                                  ^~~~~. /Users/smullally/.theano/compiledir_Darwin-18.7.0-x86_64-i386-64bit-i386-3.7.7-64/tmpy6q7vgfv/mod.cpp:506:34: note: insert an explicit cast to silence this issue.     int init_totals[2] = {V5_n0, V1_n1};.                                  ^~~~~.                                  static_cast<int>( ). /Users/smullally/.theano/compiledir_Darwin-18.7.0-x86_64-i386-64bit-i386-3.7.7-64/tmpy6q7vgfv/mod.cpp:519:1: error: non-constant-expression cannot be narrowed from type 'ssize_t' (aka 'long') to 'int' in initializer list [-Wc++11-narrowing]. V5_stride0, 0, . ^~~~~~~~~~. /Users/smullally/.theano/compiledir_Darwin-18.7.0-x86_64-i386-64bit-i386-3.7.7-64/tmpy6q7vgfv/mod.cpp:519:1: note: insert an explicit cast to silence this issue. V5_stride0, 0, . ^~~~~~~~~~. static_cast<int>( ). /Users/smullally/.theano/compiledir_Darwin-18.7.0-x86_64-i386-64bit-i386-3.7.7-64/tmpy6q7vgfv/mod.cpp:520:1: error: non-constant-expression cannot be narrowed from type 'ssize_t' (aka 'long') to 'int' in initializer list [-Wc++11-narrowing]. V1_stride0, V1_stride1. ^~~~~~~~~~. /Users/smullally/.theano/compiledir_Darwin-18.7.0-x86_64-i386-64bit-i386-3.7.7-64/tmpy6q7vgfv/mod.cpp:520:1: note: insert an explicit cast to silence this issue. V1_stride0, V1_stride1. ^~~~~~~~~~. static_cast<int>( ). /Users/smullally/.theano/compiledir_Darwin-18.7.0-x86_64-i386-64bit-i386-3.7.7-64/tmpy6q7vgfv/mod.cpp:520:13: error: non-constant-expression cannot be narrowed from type 'ssize_t' (aka 'long') to 'int' in initializer list [-Wc++11-narrowing]. V1_stride0, V1_stride1.             ^~~~~~~~~~. /Users/smullally/.theano/compiledir_Darwin-18.7.0-x86_64-i386-64bit-i386-3.7.7-64/tmpy6q7vgfv/mod.cpp:520:13: note: insert an explicit cast to silence this issue. V1_stride0, V1_stride1.             ^~~~~~~~~~.             static_cast<int>( ). 5 errors generated.. \", '[Elemwise{add,no_inplace}(TensorConstant{(1, 1) of 1.728}, TensorConstant{[[-0.1    ..1       ]]})]')\n",
      "\n"
     ]
    },
    {
     "name": "stdout",
     "output_type": "stream",
     "text": [
      "\n",
      "You can find the C code in this temporary file: /var/folders/zx/326t4zzx4_l01j7_ng3c507c0001p0/T/theano_compilation_error_t1dqahyq\n"
     ]
    },
    {
     "name": "stderr",
     "output_type": "stream",
     "text": [
      "ERROR (theano.gof.opt): Optimization failure due to: constant_folding\n",
      "ERROR (theano.gof.opt): node: Elemwise{mul,no_inplace}(TensorConstant{(1, 1, 1) of 0.02}, TensorConstant{[[[-0.4285..2857143]]]})\n",
      "ERROR (theano.gof.opt): TRACEBACK:\n",
      "ERROR (theano.gof.opt): Traceback (most recent call last):\n",
      "  File \"/Users/smullally/anaconda/envs/tike38/lib/python3.7/site-packages/theano/gof/opt.py\", line 2034, in process_node\n",
      "    replacements = lopt.transform(node)\n",
      "  File \"/Users/smullally/anaconda/envs/tike38/lib/python3.7/site-packages/theano/tensor/opt.py\", line 6516, in constant_folding\n",
      "    no_recycling=[], impl=impl)\n",
      "  File \"/Users/smullally/anaconda/envs/tike38/lib/python3.7/site-packages/theano/gof/op.py\", line 955, in make_thunk\n",
      "    no_recycling)\n",
      "  File \"/Users/smullally/anaconda/envs/tike38/lib/python3.7/site-packages/theano/gof/op.py\", line 858, in make_c_thunk\n",
      "    output_storage=node_output_storage)\n",
      "  File \"/Users/smullally/anaconda/envs/tike38/lib/python3.7/site-packages/theano/gof/cc.py\", line 1217, in make_thunk\n",
      "    keep_lock=keep_lock)\n",
      "  File \"/Users/smullally/anaconda/envs/tike38/lib/python3.7/site-packages/theano/gof/cc.py\", line 1157, in __compile__\n",
      "    keep_lock=keep_lock)\n",
      "  File \"/Users/smullally/anaconda/envs/tike38/lib/python3.7/site-packages/theano/gof/cc.py\", line 1624, in cthunk_factory\n",
      "    key=key, lnk=self, keep_lock=keep_lock)\n",
      "  File \"/Users/smullally/anaconda/envs/tike38/lib/python3.7/site-packages/theano/gof/cmodule.py\", line 1189, in module_from_key\n",
      "    module = lnk.compile_cmodule(location)\n",
      "  File \"/Users/smullally/anaconda/envs/tike38/lib/python3.7/site-packages/theano/gof/cc.py\", line 1527, in compile_cmodule\n",
      "    preargs=preargs)\n",
      "  File \"/Users/smullally/anaconda/envs/tike38/lib/python3.7/site-packages/theano/gof/cmodule.py\", line 2399, in compile_str\n",
      "    (status, compile_stderr.replace('\\n', '. ')))\n",
      "Exception: (\"Compilation failed (return status=1): /Users/smullally/.theano/compiledir_Darwin-18.7.0-x86_64-i386-64bit-i386-3.7.7-64/tmpmjjhdmk1/mod.cpp:528:27: error: non-constant-expression cannot be narrowed from type 'npy_intp' (aka 'long') to 'int' in initializer list [-Wc++11-narrowing].     int init_totals[3] = {V1_n0, V5_n1, V1_n2};.                           ^~~~~. /Users/smullally/.theano/compiledir_Darwin-18.7.0-x86_64-i386-64bit-i386-3.7.7-64/tmpmjjhdmk1/mod.cpp:528:27: note: insert an explicit cast to silence this issue.     int init_totals[3] = {V1_n0, V5_n1, V1_n2};.                           ^~~~~.                           static_cast<int>( ). /Users/smullally/.theano/compiledir_Darwin-18.7.0-x86_64-i386-64bit-i386-3.7.7-64/tmpmjjhdmk1/mod.cpp:528:34: error: non-constant-expression cannot be narrowed from type 'npy_intp' (aka 'long') to 'int' in initializer list [-Wc++11-narrowing].     int init_totals[3] = {V1_n0, V5_n1, V1_n2};.                                  ^~~~~. /Users/smullally/.theano/compiledir_Darwin-18.7.0-x86_64-i386-64bit-i386-3.7.7-64/tmpmjjhdmk1/mod.cpp:528:34: note: insert an explicit cast to silence this issue.     int init_totals[3] = {V1_n0, V5_n1, V1_n2};.                                  ^~~~~.                                  static_cast<int>( ). /Users/smullally/.theano/compiledir_Darwin-18.7.0-x86_64-i386-64bit-i386-3.7.7-64/tmpmjjhdmk1/mod.cpp:528:41: error: non-constant-expression cannot be narrowed from type 'npy_intp' (aka 'long') to 'int' in initializer list [-Wc++11-narrowing].     int init_totals[3] = {V1_n0, V5_n1, V1_n2};.                                         ^~~~~. /Users/smullally/.theano/compiledir_Darwin-18.7.0-x86_64-i386-64bit-i386-3.7.7-64/tmpmjjhdmk1/mod.cpp:528:41: note: insert an explicit cast to silence this issue.     int init_totals[3] = {V1_n0, V5_n1, V1_n2};.                                         ^~~~~.                                         static_cast<int>( ). /Users/smullally/.theano/compiledir_Darwin-18.7.0-x86_64-i386-64bit-i386-3.7.7-64/tmpmjjhdmk1/mod.cpp:544:4: error: non-constant-expression cannot be narrowed from type 'ssize_t' (aka 'long') to 'int' in initializer list [-Wc++11-narrowing]. 0, V5_stride1, 0, .    ^~~~~~~~~~. /Users/smullally/.theano/compiledir_Darwin-18.7.0-x86_64-i386-64bit-i386-3.7.7-64/tmpmjjhdmk1/mod.cpp:544:4: note: insert an explicit cast to silence this issue. 0, V5_stride1, 0, .    ^~~~~~~~~~.    static_cast<int>( ). /Users/smullally/.theano/compiledir_Darwin-18.7.0-x86_64-i386-64bit-i386-3.7.7-64/tmpmjjhdmk1/mod.cpp:545:1: error: non-constant-expression cannot be narrowed from type 'ssize_t' (aka 'long') to 'int' in initializer list [-Wc++11-narrowing]. V1_stride0, V1_stride1, V1_stride2. ^~~~~~~~~~. /Users/smullally/.theano/compiledir_Darwin-18.7.0-x86_64-i386-64bit-i386-3.7.7-64/tmpmjjhdmk1/mod.cpp:545:1: note: insert an explicit cast to silence this issue. V1_stride0, V1_stride1, V1_stride2. ^~~~~~~~~~. static_cast<int>( ). /Users/smullally/.theano/compiledir_Darwin-18.7.0-x86_64-i386-64bit-i386-3.7.7-64/tmpmjjhdmk1/mod.cpp:545:13: error: non-constant-expression cannot be narrowed from type 'ssize_t' (aka 'long') to 'int' in initializer list [-Wc++11-narrowing]. V1_stride0, V1_stride1, V1_stride2.             ^~~~~~~~~~. /Users/smullally/.theano/compiledir_Darwin-18.7.0-x86_64-i386-64bit-i386-3.7.7-64/tmpmjjhdmk1/mod.cpp:545:13: note: insert an explicit cast to silence this issue. V1_stride0, V1_stride1, V1_stride2.             ^~~~~~~~~~.             static_cast<int>( ). /Users/smullally/.theano/compiledir_Darwin-18.7.0-x86_64-i386-64bit-i386-3.7.7-64/tmpmjjhdmk1/mod.cpp:545:25: error: non-constant-expression cannot be narrowed from type 'ssize_t' (aka 'long') to 'int' in initializer list [-Wc++11-narrowing]. V1_stride0, V1_stride1, V1_stride2.                         ^~~~~~~~~~. /Users/smullally/.theano/compiledir_Darwin-18.7.0-x86_64-i386-64bit-i386-3.7.7-64/tmpmjjhdmk1/mod.cpp:545:25: note: insert an explicit cast to silence this issue. V1_stride0, V1_stride1, V1_stride2.                         ^~~~~~~~~~.                         static_cast<int>( ). 7 errors generated.. \", '[Elemwise{mul,no_inplace}(TensorConstant{(1, 1, 1) of 0.02}, TensorConstant{[[[-0.4285..2857143]]]})]')\n",
      "\n"
     ]
    },
    {
     "name": "stdout",
     "output_type": "stream",
     "text": [
      "\n",
      "You can find the C code in this temporary file: /var/folders/zx/326t4zzx4_l01j7_ng3c507c0001p0/T/theano_compilation_error_iln3ultd\n"
     ]
    },
    {
     "name": "stderr",
     "output_type": "stream",
     "text": [
      "ERROR (theano.gof.opt): Optimization failure due to: constant_folding\n",
      "ERROR (theano.gof.opt): node: Elemwise{sqr,no_inplace}(TensorConstant{(1, 1) of 0.0})\n",
      "ERROR (theano.gof.opt): TRACEBACK:\n",
      "ERROR (theano.gof.opt): Traceback (most recent call last):\n",
      "  File \"/Users/smullally/anaconda/envs/tike38/lib/python3.7/site-packages/theano/gof/opt.py\", line 2034, in process_node\n",
      "    replacements = lopt.transform(node)\n",
      "  File \"/Users/smullally/anaconda/envs/tike38/lib/python3.7/site-packages/theano/tensor/opt.py\", line 6516, in constant_folding\n",
      "    no_recycling=[], impl=impl)\n",
      "  File \"/Users/smullally/anaconda/envs/tike38/lib/python3.7/site-packages/theano/gof/op.py\", line 955, in make_thunk\n",
      "    no_recycling)\n",
      "  File \"/Users/smullally/anaconda/envs/tike38/lib/python3.7/site-packages/theano/gof/op.py\", line 858, in make_c_thunk\n",
      "    output_storage=node_output_storage)\n",
      "  File \"/Users/smullally/anaconda/envs/tike38/lib/python3.7/site-packages/theano/gof/cc.py\", line 1217, in make_thunk\n",
      "    keep_lock=keep_lock)\n",
      "  File \"/Users/smullally/anaconda/envs/tike38/lib/python3.7/site-packages/theano/gof/cc.py\", line 1157, in __compile__\n",
      "    keep_lock=keep_lock)\n",
      "  File \"/Users/smullally/anaconda/envs/tike38/lib/python3.7/site-packages/theano/gof/cc.py\", line 1624, in cthunk_factory\n",
      "    key=key, lnk=self, keep_lock=keep_lock)\n",
      "  File \"/Users/smullally/anaconda/envs/tike38/lib/python3.7/site-packages/theano/gof/cmodule.py\", line 1189, in module_from_key\n",
      "    module = lnk.compile_cmodule(location)\n",
      "  File \"/Users/smullally/anaconda/envs/tike38/lib/python3.7/site-packages/theano/gof/cc.py\", line 1527, in compile_cmodule\n",
      "    preargs=preargs)\n",
      "  File \"/Users/smullally/anaconda/envs/tike38/lib/python3.7/site-packages/theano/gof/cmodule.py\", line 2399, in compile_str\n",
      "    (status, compile_stderr.replace('\\n', '. ')))\n",
      "Exception: (\"Compilation failed (return status=1): /Users/smullally/.theano/compiledir_Darwin-18.7.0-x86_64-i386-64bit-i386-3.7.7-64/tmpe88gfhba/mod.cpp:360:27: error: non-constant-expression cannot be narrowed from type 'npy_intp' (aka 'long') to 'int' in initializer list [-Wc++11-narrowing].     int init_totals[2] = {V1_n0, V1_n1};.                           ^~~~~. /Users/smullally/.theano/compiledir_Darwin-18.7.0-x86_64-i386-64bit-i386-3.7.7-64/tmpe88gfhba/mod.cpp:360:27: note: insert an explicit cast to silence this issue.     int init_totals[2] = {V1_n0, V1_n1};.                           ^~~~~.                           static_cast<int>( ). /Users/smullally/.theano/compiledir_Darwin-18.7.0-x86_64-i386-64bit-i386-3.7.7-64/tmpe88gfhba/mod.cpp:360:34: error: non-constant-expression cannot be narrowed from type 'npy_intp' (aka 'long') to 'int' in initializer list [-Wc++11-narrowing].     int init_totals[2] = {V1_n0, V1_n1};.                                  ^~~~~. /Users/smullally/.theano/compiledir_Darwin-18.7.0-x86_64-i386-64bit-i386-3.7.7-64/tmpe88gfhba/mod.cpp:360:34: note: insert an explicit cast to silence this issue.     int init_totals[2] = {V1_n0, V1_n1};.                                  ^~~~~.                                  static_cast<int>( ). /Users/smullally/.theano/compiledir_Darwin-18.7.0-x86_64-i386-64bit-i386-3.7.7-64/tmpe88gfhba/mod.cpp:373:1: error: non-constant-expression cannot be narrowed from type 'ssize_t' (aka 'long') to 'int' in initializer list [-Wc++11-narrowing]. V1_stride0, V1_stride1. ^~~~~~~~~~. /Users/smullally/.theano/compiledir_Darwin-18.7.0-x86_64-i386-64bit-i386-3.7.7-64/tmpe88gfhba/mod.cpp:373:1: note: insert an explicit cast to silence this issue. V1_stride0, V1_stride1. ^~~~~~~~~~. static_cast<int>( ). /Users/smullally/.theano/compiledir_Darwin-18.7.0-x86_64-i386-64bit-i386-3.7.7-64/tmpe88gfhba/mod.cpp:373:13: error: non-constant-expression cannot be narrowed from type 'ssize_t' (aka 'long') to 'int' in initializer list [-Wc++11-narrowing]. V1_stride0, V1_stride1.             ^~~~~~~~~~. /Users/smullally/.theano/compiledir_Darwin-18.7.0-x86_64-i386-64bit-i386-3.7.7-64/tmpe88gfhba/mod.cpp:373:13: note: insert an explicit cast to silence this issue. V1_stride0, V1_stride1.             ^~~~~~~~~~.             static_cast<int>( ). 4 errors generated.. \", '[Elemwise{sqr,no_inplace}(TensorConstant{(1, 1) of 0.0})]')\n",
      "\n"
     ]
    },
    {
     "name": "stdout",
     "output_type": "stream",
     "text": [
      "\n",
      "You can find the C code in this temporary file: /var/folders/zx/326t4zzx4_l01j7_ng3c507c0001p0/T/theano_compilation_error_aqc5zfkk\n"
     ]
    },
    {
     "name": "stderr",
     "output_type": "stream",
     "text": [
      "ERROR (theano.gof.opt): Optimization failure due to: constant_folding\n",
      "ERROR (theano.gof.opt): node: Elemwise{Cast{float64}}(TensorConstant{(1, 1) of 0.0})\n",
      "ERROR (theano.gof.opt): TRACEBACK:\n",
      "ERROR (theano.gof.opt): Traceback (most recent call last):\n",
      "  File \"/Users/smullally/anaconda/envs/tike38/lib/python3.7/site-packages/theano/gof/opt.py\", line 2034, in process_node\n",
      "    replacements = lopt.transform(node)\n",
      "  File \"/Users/smullally/anaconda/envs/tike38/lib/python3.7/site-packages/theano/tensor/opt.py\", line 6516, in constant_folding\n",
      "    no_recycling=[], impl=impl)\n",
      "  File \"/Users/smullally/anaconda/envs/tike38/lib/python3.7/site-packages/theano/gof/op.py\", line 955, in make_thunk\n",
      "    no_recycling)\n",
      "  File \"/Users/smullally/anaconda/envs/tike38/lib/python3.7/site-packages/theano/gof/op.py\", line 858, in make_c_thunk\n",
      "    output_storage=node_output_storage)\n",
      "  File \"/Users/smullally/anaconda/envs/tike38/lib/python3.7/site-packages/theano/gof/cc.py\", line 1217, in make_thunk\n",
      "    keep_lock=keep_lock)\n",
      "  File \"/Users/smullally/anaconda/envs/tike38/lib/python3.7/site-packages/theano/gof/cc.py\", line 1157, in __compile__\n",
      "    keep_lock=keep_lock)\n",
      "  File \"/Users/smullally/anaconda/envs/tike38/lib/python3.7/site-packages/theano/gof/cc.py\", line 1624, in cthunk_factory\n",
      "    key=key, lnk=self, keep_lock=keep_lock)\n",
      "  File \"/Users/smullally/anaconda/envs/tike38/lib/python3.7/site-packages/theano/gof/cmodule.py\", line 1189, in module_from_key\n",
      "    module = lnk.compile_cmodule(location)\n",
      "  File \"/Users/smullally/anaconda/envs/tike38/lib/python3.7/site-packages/theano/gof/cc.py\", line 1527, in compile_cmodule\n",
      "    preargs=preargs)\n",
      "  File \"/Users/smullally/anaconda/envs/tike38/lib/python3.7/site-packages/theano/gof/cmodule.py\", line 2399, in compile_str\n",
      "    (status, compile_stderr.replace('\\n', '. ')))\n",
      "Exception: (\"Compilation failed (return status=1): /Users/smullally/.theano/compiledir_Darwin-18.7.0-x86_64-i386-64bit-i386-3.7.7-64/tmpbxmzcoaj/mod.cpp:396:27: error: non-constant-expression cannot be narrowed from type 'npy_intp' (aka 'long') to 'int' in initializer list [-Wc++11-narrowing].     int init_totals[2] = {V1_n0, V3_n1};.                           ^~~~~. /Users/smullally/.theano/compiledir_Darwin-18.7.0-x86_64-i386-64bit-i386-3.7.7-64/tmpbxmzcoaj/mod.cpp:396:27: note: insert an explicit cast to silence this issue.     int init_totals[2] = {V1_n0, V3_n1};.                           ^~~~~.                           static_cast<int>( ). /Users/smullally/.theano/compiledir_Darwin-18.7.0-x86_64-i386-64bit-i386-3.7.7-64/tmpbxmzcoaj/mod.cpp:396:34: error: non-constant-expression cannot be narrowed from type 'npy_intp' (aka 'long') to 'int' in initializer list [-Wc++11-narrowing].     int init_totals[2] = {V1_n0, V3_n1};.                                  ^~~~~. /Users/smullally/.theano/compiledir_Darwin-18.7.0-x86_64-i386-64bit-i386-3.7.7-64/tmpbxmzcoaj/mod.cpp:396:34: note: insert an explicit cast to silence this issue.     int init_totals[2] = {V1_n0, V3_n1};.                                  ^~~~~.                                  static_cast<int>( ). /Users/smullally/.theano/compiledir_Darwin-18.7.0-x86_64-i386-64bit-i386-3.7.7-64/tmpbxmzcoaj/mod.cpp:408:12: error: non-constant-expression cannot be narrowed from type 'ssize_t' (aka 'long') to 'int' in initializer list [-Wc++11-narrowing].         0, V3_stride1, .            ^~~~~~~~~~. /Users/smullally/.theano/compiledir_Darwin-18.7.0-x86_64-i386-64bit-i386-3.7.7-64/tmpbxmzcoaj/mod.cpp:408:12: note: insert an explicit cast to silence this issue.         0, V3_stride1, .            ^~~~~~~~~~.            static_cast<int>( ). /Users/smullally/.theano/compiledir_Darwin-18.7.0-x86_64-i386-64bit-i386-3.7.7-64/tmpbxmzcoaj/mod.cpp:409:1: error: non-constant-expression cannot be narrowed from type 'ssize_t' (aka 'long') to 'int' in initializer list [-Wc++11-narrowing]. V1_stride0, V1_stride1. ^~~~~~~~~~. /Users/smullally/.theano/compiledir_Darwin-18.7.0-x86_64-i386-64bit-i386-3.7.7-64/tmpbxmzcoaj/mod.cpp:409:1: note: insert an explicit cast to silence this issue. V1_stride0, V1_stride1. ^~~~~~~~~~. static_cast<int>( ). /Users/smullally/.theano/compiledir_Darwin-18.7.0-x86_64-i386-64bit-i386-3.7.7-64/tmpbxmzcoaj/mod.cpp:409:13: error: non-constant-expression cannot be narrowed from type 'ssize_t' (aka 'long') to 'int' in initializer list [-Wc++11-narrowing]. V1_stride0, V1_stride1.             ^~~~~~~~~~. /Users/smullally/.theano/compiledir_Darwin-18.7.0-x86_64-i386-64bit-i386-3.7.7-64/tmpbxmzcoaj/mod.cpp:409:13: note: insert an explicit cast to silence this issue. V1_stride0, V1_stride1.             ^~~~~~~~~~.             static_cast<int>( ). 5 errors generated.. \", '[Elemwise{Cast{float64}}(TensorConstant{(1, 1) of 0.0})]')\n",
      "\n"
     ]
    },
    {
     "name": "stdout",
     "output_type": "stream",
     "text": [
      "\n",
      "You can find the C code in this temporary file: /var/folders/zx/326t4zzx4_l01j7_ng3c507c0001p0/T/theano_compilation_error_q7qz09oh\n"
     ]
    },
    {
     "name": "stderr",
     "output_type": "stream",
     "text": [
      "ERROR (theano.gof.opt): Optimization failure due to: constant_folding\n",
      "ERROR (theano.gof.opt): node: Elemwise{add,no_inplace}(TensorConstant{(1, 1) of 1.728}, TensorConstant{[[-0.1    ..1       ]]})\n",
      "ERROR (theano.gof.opt): TRACEBACK:\n",
      "ERROR (theano.gof.opt): Traceback (most recent call last):\n",
      "  File \"/Users/smullally/anaconda/envs/tike38/lib/python3.7/site-packages/theano/gof/opt.py\", line 2034, in process_node\n",
      "    replacements = lopt.transform(node)\n",
      "  File \"/Users/smullally/anaconda/envs/tike38/lib/python3.7/site-packages/theano/tensor/opt.py\", line 6516, in constant_folding\n",
      "    no_recycling=[], impl=impl)\n",
      "  File \"/Users/smullally/anaconda/envs/tike38/lib/python3.7/site-packages/theano/gof/op.py\", line 955, in make_thunk\n",
      "    no_recycling)\n",
      "  File \"/Users/smullally/anaconda/envs/tike38/lib/python3.7/site-packages/theano/gof/op.py\", line 858, in make_c_thunk\n",
      "    output_storage=node_output_storage)\n",
      "  File \"/Users/smullally/anaconda/envs/tike38/lib/python3.7/site-packages/theano/gof/cc.py\", line 1217, in make_thunk\n",
      "    keep_lock=keep_lock)\n",
      "  File \"/Users/smullally/anaconda/envs/tike38/lib/python3.7/site-packages/theano/gof/cc.py\", line 1157, in __compile__\n",
      "    keep_lock=keep_lock)\n",
      "  File \"/Users/smullally/anaconda/envs/tike38/lib/python3.7/site-packages/theano/gof/cc.py\", line 1624, in cthunk_factory\n",
      "    key=key, lnk=self, keep_lock=keep_lock)\n",
      "  File \"/Users/smullally/anaconda/envs/tike38/lib/python3.7/site-packages/theano/gof/cmodule.py\", line 1189, in module_from_key\n",
      "    module = lnk.compile_cmodule(location)\n",
      "  File \"/Users/smullally/anaconda/envs/tike38/lib/python3.7/site-packages/theano/gof/cc.py\", line 1527, in compile_cmodule\n",
      "    preargs=preargs)\n",
      "  File \"/Users/smullally/anaconda/envs/tike38/lib/python3.7/site-packages/theano/gof/cmodule.py\", line 2399, in compile_str\n",
      "    (status, compile_stderr.replace('\\n', '. ')))\n",
      "Exception: (\"Compilation failed (return status=1): /Users/smullally/.theano/compiledir_Darwin-18.7.0-x86_64-i386-64bit-i386-3.7.7-64/tmpbwf_0u0y/mod.cpp:506:27: error: non-constant-expression cannot be narrowed from type 'npy_intp' (aka 'long') to 'int' in initializer list [-Wc++11-narrowing].     int init_totals[2] = {V5_n0, V1_n1};.                           ^~~~~. /Users/smullally/.theano/compiledir_Darwin-18.7.0-x86_64-i386-64bit-i386-3.7.7-64/tmpbwf_0u0y/mod.cpp:506:27: note: insert an explicit cast to silence this issue.     int init_totals[2] = {V5_n0, V1_n1};.                           ^~~~~.                           static_cast<int>( ). /Users/smullally/.theano/compiledir_Darwin-18.7.0-x86_64-i386-64bit-i386-3.7.7-64/tmpbwf_0u0y/mod.cpp:506:34: error: non-constant-expression cannot be narrowed from type 'npy_intp' (aka 'long') to 'int' in initializer list [-Wc++11-narrowing].     int init_totals[2] = {V5_n0, V1_n1};.                                  ^~~~~. /Users/smullally/.theano/compiledir_Darwin-18.7.0-x86_64-i386-64bit-i386-3.7.7-64/tmpbwf_0u0y/mod.cpp:506:34: note: insert an explicit cast to silence this issue.     int init_totals[2] = {V5_n0, V1_n1};.                                  ^~~~~.                                  static_cast<int>( ). /Users/smullally/.theano/compiledir_Darwin-18.7.0-x86_64-i386-64bit-i386-3.7.7-64/tmpbwf_0u0y/mod.cpp:519:1: error: non-constant-expression cannot be narrowed from type 'ssize_t' (aka 'long') to 'int' in initializer list [-Wc++11-narrowing]. V5_stride0, 0, . ^~~~~~~~~~. /Users/smullally/.theano/compiledir_Darwin-18.7.0-x86_64-i386-64bit-i386-3.7.7-64/tmpbwf_0u0y/mod.cpp:519:1: note: insert an explicit cast to silence this issue. V5_stride0, 0, . ^~~~~~~~~~. static_cast<int>( ). /Users/smullally/.theano/compiledir_Darwin-18.7.0-x86_64-i386-64bit-i386-3.7.7-64/tmpbwf_0u0y/mod.cpp:520:1: error: non-constant-expression cannot be narrowed from type 'ssize_t' (aka 'long') to 'int' in initializer list [-Wc++11-narrowing]. V1_stride0, V1_stride1. ^~~~~~~~~~. /Users/smullally/.theano/compiledir_Darwin-18.7.0-x86_64-i386-64bit-i386-3.7.7-64/tmpbwf_0u0y/mod.cpp:520:1: note: insert an explicit cast to silence this issue. V1_stride0, V1_stride1. ^~~~~~~~~~. static_cast<int>( ). /Users/smullally/.theano/compiledir_Darwin-18.7.0-x86_64-i386-64bit-i386-3.7.7-64/tmpbwf_0u0y/mod.cpp:520:13: error: non-constant-expression cannot be narrowed from type 'ssize_t' (aka 'long') to 'int' in initializer list [-Wc++11-narrowing]. V1_stride0, V1_stride1.             ^~~~~~~~~~. /Users/smullally/.theano/compiledir_Darwin-18.7.0-x86_64-i386-64bit-i386-3.7.7-64/tmpbwf_0u0y/mod.cpp:520:13: note: insert an explicit cast to silence this issue. V1_stride0, V1_stride1.             ^~~~~~~~~~.             static_cast<int>( ). 5 errors generated.. \", '[Elemwise{add,no_inplace}(TensorConstant{(1, 1) of 1.728}, TensorConstant{[[-0.1    ..1       ]]})]')\n",
      "\n"
     ]
    },
    {
     "name": "stdout",
     "output_type": "stream",
     "text": [
      "\n",
      "You can find the C code in this temporary file: /var/folders/zx/326t4zzx4_l01j7_ng3c507c0001p0/T/theano_compilation_error_ydzv9j5e\n"
     ]
    },
    {
     "name": "stderr",
     "output_type": "stream",
     "text": [
      "ERROR (theano.gof.opt): Optimization failure due to: constant_folding\n",
      "ERROR (theano.gof.opt): node: Elemwise{mul,no_inplace}(TensorConstant{(1, 1, 1) of 0.02}, TensorConstant{[[[-0.4285..2857143]]]})\n",
      "ERROR (theano.gof.opt): TRACEBACK:\n",
      "ERROR (theano.gof.opt): Traceback (most recent call last):\n",
      "  File \"/Users/smullally/anaconda/envs/tike38/lib/python3.7/site-packages/theano/gof/opt.py\", line 2034, in process_node\n",
      "    replacements = lopt.transform(node)\n",
      "  File \"/Users/smullally/anaconda/envs/tike38/lib/python3.7/site-packages/theano/tensor/opt.py\", line 6516, in constant_folding\n",
      "    no_recycling=[], impl=impl)\n",
      "  File \"/Users/smullally/anaconda/envs/tike38/lib/python3.7/site-packages/theano/gof/op.py\", line 955, in make_thunk\n",
      "    no_recycling)\n",
      "  File \"/Users/smullally/anaconda/envs/tike38/lib/python3.7/site-packages/theano/gof/op.py\", line 858, in make_c_thunk\n",
      "    output_storage=node_output_storage)\n",
      "  File \"/Users/smullally/anaconda/envs/tike38/lib/python3.7/site-packages/theano/gof/cc.py\", line 1217, in make_thunk\n",
      "    keep_lock=keep_lock)\n",
      "  File \"/Users/smullally/anaconda/envs/tike38/lib/python3.7/site-packages/theano/gof/cc.py\", line 1157, in __compile__\n",
      "    keep_lock=keep_lock)\n",
      "  File \"/Users/smullally/anaconda/envs/tike38/lib/python3.7/site-packages/theano/gof/cc.py\", line 1624, in cthunk_factory\n",
      "    key=key, lnk=self, keep_lock=keep_lock)\n",
      "  File \"/Users/smullally/anaconda/envs/tike38/lib/python3.7/site-packages/theano/gof/cmodule.py\", line 1189, in module_from_key\n",
      "    module = lnk.compile_cmodule(location)\n",
      "  File \"/Users/smullally/anaconda/envs/tike38/lib/python3.7/site-packages/theano/gof/cc.py\", line 1527, in compile_cmodule\n",
      "    preargs=preargs)\n",
      "  File \"/Users/smullally/anaconda/envs/tike38/lib/python3.7/site-packages/theano/gof/cmodule.py\", line 2399, in compile_str\n",
      "    (status, compile_stderr.replace('\\n', '. ')))\n",
      "Exception: (\"Compilation failed (return status=1): /Users/smullally/.theano/compiledir_Darwin-18.7.0-x86_64-i386-64bit-i386-3.7.7-64/tmpdhzq71gc/mod.cpp:528:27: error: non-constant-expression cannot be narrowed from type 'npy_intp' (aka 'long') to 'int' in initializer list [-Wc++11-narrowing].     int init_totals[3] = {V1_n0, V5_n1, V1_n2};.                           ^~~~~. /Users/smullally/.theano/compiledir_Darwin-18.7.0-x86_64-i386-64bit-i386-3.7.7-64/tmpdhzq71gc/mod.cpp:528:27: note: insert an explicit cast to silence this issue.     int init_totals[3] = {V1_n0, V5_n1, V1_n2};.                           ^~~~~.                           static_cast<int>( ). /Users/smullally/.theano/compiledir_Darwin-18.7.0-x86_64-i386-64bit-i386-3.7.7-64/tmpdhzq71gc/mod.cpp:528:34: error: non-constant-expression cannot be narrowed from type 'npy_intp' (aka 'long') to 'int' in initializer list [-Wc++11-narrowing].     int init_totals[3] = {V1_n0, V5_n1, V1_n2};.                                  ^~~~~. /Users/smullally/.theano/compiledir_Darwin-18.7.0-x86_64-i386-64bit-i386-3.7.7-64/tmpdhzq71gc/mod.cpp:528:34: note: insert an explicit cast to silence this issue.     int init_totals[3] = {V1_n0, V5_n1, V1_n2};.                                  ^~~~~.                                  static_cast<int>( ). /Users/smullally/.theano/compiledir_Darwin-18.7.0-x86_64-i386-64bit-i386-3.7.7-64/tmpdhzq71gc/mod.cpp:528:41: error: non-constant-expression cannot be narrowed from type 'npy_intp' (aka 'long') to 'int' in initializer list [-Wc++11-narrowing].     int init_totals[3] = {V1_n0, V5_n1, V1_n2};.                                         ^~~~~. /Users/smullally/.theano/compiledir_Darwin-18.7.0-x86_64-i386-64bit-i386-3.7.7-64/tmpdhzq71gc/mod.cpp:528:41: note: insert an explicit cast to silence this issue.     int init_totals[3] = {V1_n0, V5_n1, V1_n2};.                                         ^~~~~.                                         static_cast<int>( ). /Users/smullally/.theano/compiledir_Darwin-18.7.0-x86_64-i386-64bit-i386-3.7.7-64/tmpdhzq71gc/mod.cpp:544:4: error: non-constant-expression cannot be narrowed from type 'ssize_t' (aka 'long') to 'int' in initializer list [-Wc++11-narrowing]. 0, V5_stride1, 0, .    ^~~~~~~~~~. /Users/smullally/.theano/compiledir_Darwin-18.7.0-x86_64-i386-64bit-i386-3.7.7-64/tmpdhzq71gc/mod.cpp:544:4: note: insert an explicit cast to silence this issue. 0, V5_stride1, 0, .    ^~~~~~~~~~.    static_cast<int>( ). /Users/smullally/.theano/compiledir_Darwin-18.7.0-x86_64-i386-64bit-i386-3.7.7-64/tmpdhzq71gc/mod.cpp:545:1: error: non-constant-expression cannot be narrowed from type 'ssize_t' (aka 'long') to 'int' in initializer list [-Wc++11-narrowing]. V1_stride0, V1_stride1, V1_stride2. ^~~~~~~~~~. /Users/smullally/.theano/compiledir_Darwin-18.7.0-x86_64-i386-64bit-i386-3.7.7-64/tmpdhzq71gc/mod.cpp:545:1: note: insert an explicit cast to silence this issue. V1_stride0, V1_stride1, V1_stride2. ^~~~~~~~~~. static_cast<int>( ). /Users/smullally/.theano/compiledir_Darwin-18.7.0-x86_64-i386-64bit-i386-3.7.7-64/tmpdhzq71gc/mod.cpp:545:13: error: non-constant-expression cannot be narrowed from type 'ssize_t' (aka 'long') to 'int' in initializer list [-Wc++11-narrowing]. V1_stride0, V1_stride1, V1_stride2.             ^~~~~~~~~~. /Users/smullally/.theano/compiledir_Darwin-18.7.0-x86_64-i386-64bit-i386-3.7.7-64/tmpdhzq71gc/mod.cpp:545:13: note: insert an explicit cast to silence this issue. V1_stride0, V1_stride1, V1_stride2.             ^~~~~~~~~~.             static_cast<int>( ). /Users/smullally/.theano/compiledir_Darwin-18.7.0-x86_64-i386-64bit-i386-3.7.7-64/tmpdhzq71gc/mod.cpp:545:25: error: non-constant-expression cannot be narrowed from type 'ssize_t' (aka 'long') to 'int' in initializer list [-Wc++11-narrowing]. V1_stride0, V1_stride1, V1_stride2.                         ^~~~~~~~~~. /Users/smullally/.theano/compiledir_Darwin-18.7.0-x86_64-i386-64bit-i386-3.7.7-64/tmpdhzq71gc/mod.cpp:545:25: note: insert an explicit cast to silence this issue. V1_stride0, V1_stride1, V1_stride2.                         ^~~~~~~~~~.                         static_cast<int>( ). 7 errors generated.. \", '[Elemwise{mul,no_inplace}(TensorConstant{(1, 1, 1) of 0.02}, TensorConstant{[[[-0.4285..2857143]]]})]')\n",
      "\n"
     ]
    },
    {
     "name": "stdout",
     "output_type": "stream",
     "text": [
      "\n",
      "You can find the C code in this temporary file: /var/folders/zx/326t4zzx4_l01j7_ng3c507c0001p0/T/theano_compilation_error_xt3f94u3\n"
     ]
    },
    {
     "name": "stderr",
     "output_type": "stream",
     "text": [
      "ERROR (theano.gof.opt): Optimization failure due to: constant_folding\n",
      "ERROR (theano.gof.opt): node: Elemwise{sqr,no_inplace}(TensorConstant{(1, 1) of 0.0})\n",
      "ERROR (theano.gof.opt): TRACEBACK:\n",
      "ERROR (theano.gof.opt): Traceback (most recent call last):\n",
      "  File \"/Users/smullally/anaconda/envs/tike38/lib/python3.7/site-packages/theano/gof/opt.py\", line 2034, in process_node\n",
      "    replacements = lopt.transform(node)\n",
      "  File \"/Users/smullally/anaconda/envs/tike38/lib/python3.7/site-packages/theano/tensor/opt.py\", line 6516, in constant_folding\n",
      "    no_recycling=[], impl=impl)\n",
      "  File \"/Users/smullally/anaconda/envs/tike38/lib/python3.7/site-packages/theano/gof/op.py\", line 955, in make_thunk\n",
      "    no_recycling)\n",
      "  File \"/Users/smullally/anaconda/envs/tike38/lib/python3.7/site-packages/theano/gof/op.py\", line 858, in make_c_thunk\n",
      "    output_storage=node_output_storage)\n",
      "  File \"/Users/smullally/anaconda/envs/tike38/lib/python3.7/site-packages/theano/gof/cc.py\", line 1217, in make_thunk\n",
      "    keep_lock=keep_lock)\n",
      "  File \"/Users/smullally/anaconda/envs/tike38/lib/python3.7/site-packages/theano/gof/cc.py\", line 1157, in __compile__\n",
      "    keep_lock=keep_lock)\n",
      "  File \"/Users/smullally/anaconda/envs/tike38/lib/python3.7/site-packages/theano/gof/cc.py\", line 1624, in cthunk_factory\n",
      "    key=key, lnk=self, keep_lock=keep_lock)\n",
      "  File \"/Users/smullally/anaconda/envs/tike38/lib/python3.7/site-packages/theano/gof/cmodule.py\", line 1189, in module_from_key\n",
      "    module = lnk.compile_cmodule(location)\n",
      "  File \"/Users/smullally/anaconda/envs/tike38/lib/python3.7/site-packages/theano/gof/cc.py\", line 1527, in compile_cmodule\n",
      "    preargs=preargs)\n",
      "  File \"/Users/smullally/anaconda/envs/tike38/lib/python3.7/site-packages/theano/gof/cmodule.py\", line 2399, in compile_str\n",
      "    (status, compile_stderr.replace('\\n', '. ')))\n",
      "Exception: (\"Compilation failed (return status=1): /Users/smullally/.theano/compiledir_Darwin-18.7.0-x86_64-i386-64bit-i386-3.7.7-64/tmpacc_2rkr/mod.cpp:360:27: error: non-constant-expression cannot be narrowed from type 'npy_intp' (aka 'long') to 'int' in initializer list [-Wc++11-narrowing].     int init_totals[2] = {V1_n0, V1_n1};.                           ^~~~~. /Users/smullally/.theano/compiledir_Darwin-18.7.0-x86_64-i386-64bit-i386-3.7.7-64/tmpacc_2rkr/mod.cpp:360:27: note: insert an explicit cast to silence this issue.     int init_totals[2] = {V1_n0, V1_n1};.                           ^~~~~.                           static_cast<int>( ). /Users/smullally/.theano/compiledir_Darwin-18.7.0-x86_64-i386-64bit-i386-3.7.7-64/tmpacc_2rkr/mod.cpp:360:34: error: non-constant-expression cannot be narrowed from type 'npy_intp' (aka 'long') to 'int' in initializer list [-Wc++11-narrowing].     int init_totals[2] = {V1_n0, V1_n1};.                                  ^~~~~. /Users/smullally/.theano/compiledir_Darwin-18.7.0-x86_64-i386-64bit-i386-3.7.7-64/tmpacc_2rkr/mod.cpp:360:34: note: insert an explicit cast to silence this issue.     int init_totals[2] = {V1_n0, V1_n1};.                                  ^~~~~.                                  static_cast<int>( ). /Users/smullally/.theano/compiledir_Darwin-18.7.0-x86_64-i386-64bit-i386-3.7.7-64/tmpacc_2rkr/mod.cpp:373:1: error: non-constant-expression cannot be narrowed from type 'ssize_t' (aka 'long') to 'int' in initializer list [-Wc++11-narrowing]. V1_stride0, V1_stride1. ^~~~~~~~~~. /Users/smullally/.theano/compiledir_Darwin-18.7.0-x86_64-i386-64bit-i386-3.7.7-64/tmpacc_2rkr/mod.cpp:373:1: note: insert an explicit cast to silence this issue. V1_stride0, V1_stride1. ^~~~~~~~~~. static_cast<int>( ). /Users/smullally/.theano/compiledir_Darwin-18.7.0-x86_64-i386-64bit-i386-3.7.7-64/tmpacc_2rkr/mod.cpp:373:13: error: non-constant-expression cannot be narrowed from type 'ssize_t' (aka 'long') to 'int' in initializer list [-Wc++11-narrowing]. V1_stride0, V1_stride1.             ^~~~~~~~~~. /Users/smullally/.theano/compiledir_Darwin-18.7.0-x86_64-i386-64bit-i386-3.7.7-64/tmpacc_2rkr/mod.cpp:373:13: note: insert an explicit cast to silence this issue. V1_stride0, V1_stride1.             ^~~~~~~~~~.             static_cast<int>( ). 4 errors generated.. \", '[Elemwise{sqr,no_inplace}(TensorConstant{(1, 1) of 0.0})]')\n",
      "\n"
     ]
    },
    {
     "name": "stdout",
     "output_type": "stream",
     "text": [
      "\n",
      "You can find the C code in this temporary file: /var/folders/zx/326t4zzx4_l01j7_ng3c507c0001p0/T/theano_compilation_error_0ri11pix\n"
     ]
    },
    {
     "name": "stderr",
     "output_type": "stream",
     "text": [
      "ERROR (theano.gof.opt): Optimization failure due to: constant_folding\n",
      "ERROR (theano.gof.opt): node: Elemwise{Cast{float64}}(TensorConstant{(1, 1) of 0.0})\n",
      "ERROR (theano.gof.opt): TRACEBACK:\n",
      "ERROR (theano.gof.opt): Traceback (most recent call last):\n",
      "  File \"/Users/smullally/anaconda/envs/tike38/lib/python3.7/site-packages/theano/gof/opt.py\", line 2034, in process_node\n",
      "    replacements = lopt.transform(node)\n",
      "  File \"/Users/smullally/anaconda/envs/tike38/lib/python3.7/site-packages/theano/tensor/opt.py\", line 6516, in constant_folding\n",
      "    no_recycling=[], impl=impl)\n",
      "  File \"/Users/smullally/anaconda/envs/tike38/lib/python3.7/site-packages/theano/gof/op.py\", line 955, in make_thunk\n",
      "    no_recycling)\n",
      "  File \"/Users/smullally/anaconda/envs/tike38/lib/python3.7/site-packages/theano/gof/op.py\", line 858, in make_c_thunk\n",
      "    output_storage=node_output_storage)\n",
      "  File \"/Users/smullally/anaconda/envs/tike38/lib/python3.7/site-packages/theano/gof/cc.py\", line 1217, in make_thunk\n",
      "    keep_lock=keep_lock)\n",
      "  File \"/Users/smullally/anaconda/envs/tike38/lib/python3.7/site-packages/theano/gof/cc.py\", line 1157, in __compile__\n",
      "    keep_lock=keep_lock)\n",
      "  File \"/Users/smullally/anaconda/envs/tike38/lib/python3.7/site-packages/theano/gof/cc.py\", line 1624, in cthunk_factory\n",
      "    key=key, lnk=self, keep_lock=keep_lock)\n",
      "  File \"/Users/smullally/anaconda/envs/tike38/lib/python3.7/site-packages/theano/gof/cmodule.py\", line 1189, in module_from_key\n",
      "    module = lnk.compile_cmodule(location)\n",
      "  File \"/Users/smullally/anaconda/envs/tike38/lib/python3.7/site-packages/theano/gof/cc.py\", line 1527, in compile_cmodule\n",
      "    preargs=preargs)\n",
      "  File \"/Users/smullally/anaconda/envs/tike38/lib/python3.7/site-packages/theano/gof/cmodule.py\", line 2399, in compile_str\n",
      "    (status, compile_stderr.replace('\\n', '. ')))\n",
      "Exception: (\"Compilation failed (return status=1): /Users/smullally/.theano/compiledir_Darwin-18.7.0-x86_64-i386-64bit-i386-3.7.7-64/tmp6pmi6p6n/mod.cpp:396:27: error: non-constant-expression cannot be narrowed from type 'npy_intp' (aka 'long') to 'int' in initializer list [-Wc++11-narrowing].     int init_totals[2] = {V1_n0, V3_n1};.                           ^~~~~. /Users/smullally/.theano/compiledir_Darwin-18.7.0-x86_64-i386-64bit-i386-3.7.7-64/tmp6pmi6p6n/mod.cpp:396:27: note: insert an explicit cast to silence this issue.     int init_totals[2] = {V1_n0, V3_n1};.                           ^~~~~.                           static_cast<int>( ). /Users/smullally/.theano/compiledir_Darwin-18.7.0-x86_64-i386-64bit-i386-3.7.7-64/tmp6pmi6p6n/mod.cpp:396:34: error: non-constant-expression cannot be narrowed from type 'npy_intp' (aka 'long') to 'int' in initializer list [-Wc++11-narrowing].     int init_totals[2] = {V1_n0, V3_n1};.                                  ^~~~~. /Users/smullally/.theano/compiledir_Darwin-18.7.0-x86_64-i386-64bit-i386-3.7.7-64/tmp6pmi6p6n/mod.cpp:396:34: note: insert an explicit cast to silence this issue.     int init_totals[2] = {V1_n0, V3_n1};.                                  ^~~~~.                                  static_cast<int>( ). /Users/smullally/.theano/compiledir_Darwin-18.7.0-x86_64-i386-64bit-i386-3.7.7-64/tmp6pmi6p6n/mod.cpp:408:12: error: non-constant-expression cannot be narrowed from type 'ssize_t' (aka 'long') to 'int' in initializer list [-Wc++11-narrowing].         0, V3_stride1, .            ^~~~~~~~~~. /Users/smullally/.theano/compiledir_Darwin-18.7.0-x86_64-i386-64bit-i386-3.7.7-64/tmp6pmi6p6n/mod.cpp:408:12: note: insert an explicit cast to silence this issue.         0, V3_stride1, .            ^~~~~~~~~~.            static_cast<int>( ). /Users/smullally/.theano/compiledir_Darwin-18.7.0-x86_64-i386-64bit-i386-3.7.7-64/tmp6pmi6p6n/mod.cpp:409:1: error: non-constant-expression cannot be narrowed from type 'ssize_t' (aka 'long') to 'int' in initializer list [-Wc++11-narrowing]. V1_stride0, V1_stride1. ^~~~~~~~~~. /Users/smullally/.theano/compiledir_Darwin-18.7.0-x86_64-i386-64bit-i386-3.7.7-64/tmp6pmi6p6n/mod.cpp:409:1: note: insert an explicit cast to silence this issue. V1_stride0, V1_stride1. ^~~~~~~~~~. static_cast<int>( ). /Users/smullally/.theano/compiledir_Darwin-18.7.0-x86_64-i386-64bit-i386-3.7.7-64/tmp6pmi6p6n/mod.cpp:409:13: error: non-constant-expression cannot be narrowed from type 'ssize_t' (aka 'long') to 'int' in initializer list [-Wc++11-narrowing]. V1_stride0, V1_stride1.             ^~~~~~~~~~. /Users/smullally/.theano/compiledir_Darwin-18.7.0-x86_64-i386-64bit-i386-3.7.7-64/tmp6pmi6p6n/mod.cpp:409:13: note: insert an explicit cast to silence this issue. V1_stride0, V1_stride1.             ^~~~~~~~~~.             static_cast<int>( ). 5 errors generated.. \", '[Elemwise{Cast{float64}}(TensorConstant{(1, 1) of 0.0})]')\n",
      "\n"
     ]
    },
    {
     "name": "stdout",
     "output_type": "stream",
     "text": [
      "\n",
      "You can find the C code in this temporary file: /var/folders/zx/326t4zzx4_l01j7_ng3c507c0001p0/T/theano_compilation_error_eptq7k2m\n"
     ]
    },
    {
     "name": "stderr",
     "output_type": "stream",
     "text": [
      "ERROR (theano.gof.opt): Optimization failure due to: constant_folding\n",
      "ERROR (theano.gof.opt): node: Elemwise{add,no_inplace}(TensorConstant{(1, 1) of 1.728}, TensorConstant{[[-0.1    ..1       ]]})\n",
      "ERROR (theano.gof.opt): TRACEBACK:\n",
      "ERROR (theano.gof.opt): Traceback (most recent call last):\n",
      "  File \"/Users/smullally/anaconda/envs/tike38/lib/python3.7/site-packages/theano/gof/opt.py\", line 2034, in process_node\n",
      "    replacements = lopt.transform(node)\n",
      "  File \"/Users/smullally/anaconda/envs/tike38/lib/python3.7/site-packages/theano/tensor/opt.py\", line 6516, in constant_folding\n",
      "    no_recycling=[], impl=impl)\n",
      "  File \"/Users/smullally/anaconda/envs/tike38/lib/python3.7/site-packages/theano/gof/op.py\", line 955, in make_thunk\n",
      "    no_recycling)\n",
      "  File \"/Users/smullally/anaconda/envs/tike38/lib/python3.7/site-packages/theano/gof/op.py\", line 858, in make_c_thunk\n",
      "    output_storage=node_output_storage)\n",
      "  File \"/Users/smullally/anaconda/envs/tike38/lib/python3.7/site-packages/theano/gof/cc.py\", line 1217, in make_thunk\n",
      "    keep_lock=keep_lock)\n",
      "  File \"/Users/smullally/anaconda/envs/tike38/lib/python3.7/site-packages/theano/gof/cc.py\", line 1157, in __compile__\n",
      "    keep_lock=keep_lock)\n",
      "  File \"/Users/smullally/anaconda/envs/tike38/lib/python3.7/site-packages/theano/gof/cc.py\", line 1624, in cthunk_factory\n",
      "    key=key, lnk=self, keep_lock=keep_lock)\n",
      "  File \"/Users/smullally/anaconda/envs/tike38/lib/python3.7/site-packages/theano/gof/cmodule.py\", line 1189, in module_from_key\n",
      "    module = lnk.compile_cmodule(location)\n",
      "  File \"/Users/smullally/anaconda/envs/tike38/lib/python3.7/site-packages/theano/gof/cc.py\", line 1527, in compile_cmodule\n",
      "    preargs=preargs)\n",
      "  File \"/Users/smullally/anaconda/envs/tike38/lib/python3.7/site-packages/theano/gof/cmodule.py\", line 2399, in compile_str\n",
      "    (status, compile_stderr.replace('\\n', '. ')))\n",
      "Exception: (\"Compilation failed (return status=1): /Users/smullally/.theano/compiledir_Darwin-18.7.0-x86_64-i386-64bit-i386-3.7.7-64/tmpv00u8quh/mod.cpp:506:27: error: non-constant-expression cannot be narrowed from type 'npy_intp' (aka 'long') to 'int' in initializer list [-Wc++11-narrowing].     int init_totals[2] = {V5_n0, V1_n1};.                           ^~~~~. /Users/smullally/.theano/compiledir_Darwin-18.7.0-x86_64-i386-64bit-i386-3.7.7-64/tmpv00u8quh/mod.cpp:506:27: note: insert an explicit cast to silence this issue.     int init_totals[2] = {V5_n0, V1_n1};.                           ^~~~~.                           static_cast<int>( ). /Users/smullally/.theano/compiledir_Darwin-18.7.0-x86_64-i386-64bit-i386-3.7.7-64/tmpv00u8quh/mod.cpp:506:34: error: non-constant-expression cannot be narrowed from type 'npy_intp' (aka 'long') to 'int' in initializer list [-Wc++11-narrowing].     int init_totals[2] = {V5_n0, V1_n1};.                                  ^~~~~. /Users/smullally/.theano/compiledir_Darwin-18.7.0-x86_64-i386-64bit-i386-3.7.7-64/tmpv00u8quh/mod.cpp:506:34: note: insert an explicit cast to silence this issue.     int init_totals[2] = {V5_n0, V1_n1};.                                  ^~~~~.                                  static_cast<int>( ). /Users/smullally/.theano/compiledir_Darwin-18.7.0-x86_64-i386-64bit-i386-3.7.7-64/tmpv00u8quh/mod.cpp:519:1: error: non-constant-expression cannot be narrowed from type 'ssize_t' (aka 'long') to 'int' in initializer list [-Wc++11-narrowing]. V5_stride0, 0, . ^~~~~~~~~~. /Users/smullally/.theano/compiledir_Darwin-18.7.0-x86_64-i386-64bit-i386-3.7.7-64/tmpv00u8quh/mod.cpp:519:1: note: insert an explicit cast to silence this issue. V5_stride0, 0, . ^~~~~~~~~~. static_cast<int>( ). /Users/smullally/.theano/compiledir_Darwin-18.7.0-x86_64-i386-64bit-i386-3.7.7-64/tmpv00u8quh/mod.cpp:520:1: error: non-constant-expression cannot be narrowed from type 'ssize_t' (aka 'long') to 'int' in initializer list [-Wc++11-narrowing]. V1_stride0, V1_stride1. ^~~~~~~~~~. /Users/smullally/.theano/compiledir_Darwin-18.7.0-x86_64-i386-64bit-i386-3.7.7-64/tmpv00u8quh/mod.cpp:520:1: note: insert an explicit cast to silence this issue. V1_stride0, V1_stride1. ^~~~~~~~~~. static_cast<int>( ). /Users/smullally/.theano/compiledir_Darwin-18.7.0-x86_64-i386-64bit-i386-3.7.7-64/tmpv00u8quh/mod.cpp:520:13: error: non-constant-expression cannot be narrowed from type 'ssize_t' (aka 'long') to 'int' in initializer list [-Wc++11-narrowing]. V1_stride0, V1_stride1.             ^~~~~~~~~~. /Users/smullally/.theano/compiledir_Darwin-18.7.0-x86_64-i386-64bit-i386-3.7.7-64/tmpv00u8quh/mod.cpp:520:13: note: insert an explicit cast to silence this issue. V1_stride0, V1_stride1.             ^~~~~~~~~~.             static_cast<int>( ). 5 errors generated.. \", '[Elemwise{add,no_inplace}(TensorConstant{(1, 1) of 1.728}, TensorConstant{[[-0.1    ..1       ]]})]')\n",
      "\n"
     ]
    },
    {
     "name": "stdout",
     "output_type": "stream",
     "text": [
      "\n",
      "You can find the C code in this temporary file: /var/folders/zx/326t4zzx4_l01j7_ng3c507c0001p0/T/theano_compilation_error_zpjj87_q\n"
     ]
    },
    {
     "name": "stderr",
     "output_type": "stream",
     "text": [
      "ERROR (theano.gof.opt): Optimization failure due to: constant_folding\n",
      "ERROR (theano.gof.opt): node: Elemwise{mul,no_inplace}(TensorConstant{(1, 1, 1) of 0.02}, TensorConstant{[[[-0.4285..2857143]]]})\n",
      "ERROR (theano.gof.opt): TRACEBACK:\n",
      "ERROR (theano.gof.opt): Traceback (most recent call last):\n",
      "  File \"/Users/smullally/anaconda/envs/tike38/lib/python3.7/site-packages/theano/gof/opt.py\", line 2034, in process_node\n",
      "    replacements = lopt.transform(node)\n",
      "  File \"/Users/smullally/anaconda/envs/tike38/lib/python3.7/site-packages/theano/tensor/opt.py\", line 6516, in constant_folding\n",
      "    no_recycling=[], impl=impl)\n",
      "  File \"/Users/smullally/anaconda/envs/tike38/lib/python3.7/site-packages/theano/gof/op.py\", line 955, in make_thunk\n",
      "    no_recycling)\n",
      "  File \"/Users/smullally/anaconda/envs/tike38/lib/python3.7/site-packages/theano/gof/op.py\", line 858, in make_c_thunk\n",
      "    output_storage=node_output_storage)\n",
      "  File \"/Users/smullally/anaconda/envs/tike38/lib/python3.7/site-packages/theano/gof/cc.py\", line 1217, in make_thunk\n",
      "    keep_lock=keep_lock)\n",
      "  File \"/Users/smullally/anaconda/envs/tike38/lib/python3.7/site-packages/theano/gof/cc.py\", line 1157, in __compile__\n",
      "    keep_lock=keep_lock)\n",
      "  File \"/Users/smullally/anaconda/envs/tike38/lib/python3.7/site-packages/theano/gof/cc.py\", line 1624, in cthunk_factory\n",
      "    key=key, lnk=self, keep_lock=keep_lock)\n",
      "  File \"/Users/smullally/anaconda/envs/tike38/lib/python3.7/site-packages/theano/gof/cmodule.py\", line 1189, in module_from_key\n",
      "    module = lnk.compile_cmodule(location)\n",
      "  File \"/Users/smullally/anaconda/envs/tike38/lib/python3.7/site-packages/theano/gof/cc.py\", line 1527, in compile_cmodule\n",
      "    preargs=preargs)\n",
      "  File \"/Users/smullally/anaconda/envs/tike38/lib/python3.7/site-packages/theano/gof/cmodule.py\", line 2399, in compile_str\n",
      "    (status, compile_stderr.replace('\\n', '. ')))\n",
      "Exception: (\"Compilation failed (return status=1): /Users/smullally/.theano/compiledir_Darwin-18.7.0-x86_64-i386-64bit-i386-3.7.7-64/tmpg7t1yd8j/mod.cpp:528:27: error: non-constant-expression cannot be narrowed from type 'npy_intp' (aka 'long') to 'int' in initializer list [-Wc++11-narrowing].     int init_totals[3] = {V1_n0, V5_n1, V1_n2};.                           ^~~~~. /Users/smullally/.theano/compiledir_Darwin-18.7.0-x86_64-i386-64bit-i386-3.7.7-64/tmpg7t1yd8j/mod.cpp:528:27: note: insert an explicit cast to silence this issue.     int init_totals[3] = {V1_n0, V5_n1, V1_n2};.                           ^~~~~.                           static_cast<int>( ). /Users/smullally/.theano/compiledir_Darwin-18.7.0-x86_64-i386-64bit-i386-3.7.7-64/tmpg7t1yd8j/mod.cpp:528:34: error: non-constant-expression cannot be narrowed from type 'npy_intp' (aka 'long') to 'int' in initializer list [-Wc++11-narrowing].     int init_totals[3] = {V1_n0, V5_n1, V1_n2};.                                  ^~~~~. /Users/smullally/.theano/compiledir_Darwin-18.7.0-x86_64-i386-64bit-i386-3.7.7-64/tmpg7t1yd8j/mod.cpp:528:34: note: insert an explicit cast to silence this issue.     int init_totals[3] = {V1_n0, V5_n1, V1_n2};.                                  ^~~~~.                                  static_cast<int>( ). /Users/smullally/.theano/compiledir_Darwin-18.7.0-x86_64-i386-64bit-i386-3.7.7-64/tmpg7t1yd8j/mod.cpp:528:41: error: non-constant-expression cannot be narrowed from type 'npy_intp' (aka 'long') to 'int' in initializer list [-Wc++11-narrowing].     int init_totals[3] = {V1_n0, V5_n1, V1_n2};.                                         ^~~~~. /Users/smullally/.theano/compiledir_Darwin-18.7.0-x86_64-i386-64bit-i386-3.7.7-64/tmpg7t1yd8j/mod.cpp:528:41: note: insert an explicit cast to silence this issue.     int init_totals[3] = {V1_n0, V5_n1, V1_n2};.                                         ^~~~~.                                         static_cast<int>( ). /Users/smullally/.theano/compiledir_Darwin-18.7.0-x86_64-i386-64bit-i386-3.7.7-64/tmpg7t1yd8j/mod.cpp:544:4: error: non-constant-expression cannot be narrowed from type 'ssize_t' (aka 'long') to 'int' in initializer list [-Wc++11-narrowing]. 0, V5_stride1, 0, .    ^~~~~~~~~~. /Users/smullally/.theano/compiledir_Darwin-18.7.0-x86_64-i386-64bit-i386-3.7.7-64/tmpg7t1yd8j/mod.cpp:544:4: note: insert an explicit cast to silence this issue. 0, V5_stride1, 0, .    ^~~~~~~~~~.    static_cast<int>( ). /Users/smullally/.theano/compiledir_Darwin-18.7.0-x86_64-i386-64bit-i386-3.7.7-64/tmpg7t1yd8j/mod.cpp:545:1: error: non-constant-expression cannot be narrowed from type 'ssize_t' (aka 'long') to 'int' in initializer list [-Wc++11-narrowing]. V1_stride0, V1_stride1, V1_stride2. ^~~~~~~~~~. /Users/smullally/.theano/compiledir_Darwin-18.7.0-x86_64-i386-64bit-i386-3.7.7-64/tmpg7t1yd8j/mod.cpp:545:1: note: insert an explicit cast to silence this issue. V1_stride0, V1_stride1, V1_stride2. ^~~~~~~~~~. static_cast<int>( ). /Users/smullally/.theano/compiledir_Darwin-18.7.0-x86_64-i386-64bit-i386-3.7.7-64/tmpg7t1yd8j/mod.cpp:545:13: error: non-constant-expression cannot be narrowed from type 'ssize_t' (aka 'long') to 'int' in initializer list [-Wc++11-narrowing]. V1_stride0, V1_stride1, V1_stride2.             ^~~~~~~~~~. /Users/smullally/.theano/compiledir_Darwin-18.7.0-x86_64-i386-64bit-i386-3.7.7-64/tmpg7t1yd8j/mod.cpp:545:13: note: insert an explicit cast to silence this issue. V1_stride0, V1_stride1, V1_stride2.             ^~~~~~~~~~.             static_cast<int>( ). /Users/smullally/.theano/compiledir_Darwin-18.7.0-x86_64-i386-64bit-i386-3.7.7-64/tmpg7t1yd8j/mod.cpp:545:25: error: non-constant-expression cannot be narrowed from type 'ssize_t' (aka 'long') to 'int' in initializer list [-Wc++11-narrowing]. V1_stride0, V1_stride1, V1_stride2.                         ^~~~~~~~~~. /Users/smullally/.theano/compiledir_Darwin-18.7.0-x86_64-i386-64bit-i386-3.7.7-64/tmpg7t1yd8j/mod.cpp:545:25: note: insert an explicit cast to silence this issue. V1_stride0, V1_stride1, V1_stride2.                         ^~~~~~~~~~.                         static_cast<int>( ). 7 errors generated.. \", '[Elemwise{mul,no_inplace}(TensorConstant{(1, 1, 1) of 0.02}, TensorConstant{[[[-0.4285..2857143]]]})]')\n",
      "\n"
     ]
    },
    {
     "name": "stdout",
     "output_type": "stream",
     "text": [
      "\n",
      "You can find the C code in this temporary file: /var/folders/zx/326t4zzx4_l01j7_ng3c507c0001p0/T/theano_compilation_error__g6hmebb\n"
     ]
    },
    {
     "name": "stderr",
     "output_type": "stream",
     "text": [
      "ERROR (theano.gof.opt): Optimization failure due to: constant_folding\n",
      "ERROR (theano.gof.opt): node: Elemwise{sqr,no_inplace}(TensorConstant{(1, 1) of 0.0})\n",
      "ERROR (theano.gof.opt): TRACEBACK:\n",
      "ERROR (theano.gof.opt): Traceback (most recent call last):\n",
      "  File \"/Users/smullally/anaconda/envs/tike38/lib/python3.7/site-packages/theano/gof/opt.py\", line 2034, in process_node\n",
      "    replacements = lopt.transform(node)\n",
      "  File \"/Users/smullally/anaconda/envs/tike38/lib/python3.7/site-packages/theano/tensor/opt.py\", line 6516, in constant_folding\n",
      "    no_recycling=[], impl=impl)\n",
      "  File \"/Users/smullally/anaconda/envs/tike38/lib/python3.7/site-packages/theano/gof/op.py\", line 955, in make_thunk\n",
      "    no_recycling)\n",
      "  File \"/Users/smullally/anaconda/envs/tike38/lib/python3.7/site-packages/theano/gof/op.py\", line 858, in make_c_thunk\n",
      "    output_storage=node_output_storage)\n",
      "  File \"/Users/smullally/anaconda/envs/tike38/lib/python3.7/site-packages/theano/gof/cc.py\", line 1217, in make_thunk\n",
      "    keep_lock=keep_lock)\n",
      "  File \"/Users/smullally/anaconda/envs/tike38/lib/python3.7/site-packages/theano/gof/cc.py\", line 1157, in __compile__\n",
      "    keep_lock=keep_lock)\n",
      "  File \"/Users/smullally/anaconda/envs/tike38/lib/python3.7/site-packages/theano/gof/cc.py\", line 1624, in cthunk_factory\n",
      "    key=key, lnk=self, keep_lock=keep_lock)\n",
      "  File \"/Users/smullally/anaconda/envs/tike38/lib/python3.7/site-packages/theano/gof/cmodule.py\", line 1189, in module_from_key\n",
      "    module = lnk.compile_cmodule(location)\n",
      "  File \"/Users/smullally/anaconda/envs/tike38/lib/python3.7/site-packages/theano/gof/cc.py\", line 1527, in compile_cmodule\n",
      "    preargs=preargs)\n",
      "  File \"/Users/smullally/anaconda/envs/tike38/lib/python3.7/site-packages/theano/gof/cmodule.py\", line 2399, in compile_str\n",
      "    (status, compile_stderr.replace('\\n', '. ')))\n",
      "Exception: (\"Compilation failed (return status=1): /Users/smullally/.theano/compiledir_Darwin-18.7.0-x86_64-i386-64bit-i386-3.7.7-64/tmp10g227l8/mod.cpp:360:27: error: non-constant-expression cannot be narrowed from type 'npy_intp' (aka 'long') to 'int' in initializer list [-Wc++11-narrowing].     int init_totals[2] = {V1_n0, V1_n1};.                           ^~~~~. /Users/smullally/.theano/compiledir_Darwin-18.7.0-x86_64-i386-64bit-i386-3.7.7-64/tmp10g227l8/mod.cpp:360:27: note: insert an explicit cast to silence this issue.     int init_totals[2] = {V1_n0, V1_n1};.                           ^~~~~.                           static_cast<int>( ). /Users/smullally/.theano/compiledir_Darwin-18.7.0-x86_64-i386-64bit-i386-3.7.7-64/tmp10g227l8/mod.cpp:360:34: error: non-constant-expression cannot be narrowed from type 'npy_intp' (aka 'long') to 'int' in initializer list [-Wc++11-narrowing].     int init_totals[2] = {V1_n0, V1_n1};.                                  ^~~~~. /Users/smullally/.theano/compiledir_Darwin-18.7.0-x86_64-i386-64bit-i386-3.7.7-64/tmp10g227l8/mod.cpp:360:34: note: insert an explicit cast to silence this issue.     int init_totals[2] = {V1_n0, V1_n1};.                                  ^~~~~.                                  static_cast<int>( ). /Users/smullally/.theano/compiledir_Darwin-18.7.0-x86_64-i386-64bit-i386-3.7.7-64/tmp10g227l8/mod.cpp:373:1: error: non-constant-expression cannot be narrowed from type 'ssize_t' (aka 'long') to 'int' in initializer list [-Wc++11-narrowing]. V1_stride0, V1_stride1. ^~~~~~~~~~. /Users/smullally/.theano/compiledir_Darwin-18.7.0-x86_64-i386-64bit-i386-3.7.7-64/tmp10g227l8/mod.cpp:373:1: note: insert an explicit cast to silence this issue. V1_stride0, V1_stride1. ^~~~~~~~~~. static_cast<int>( ). /Users/smullally/.theano/compiledir_Darwin-18.7.0-x86_64-i386-64bit-i386-3.7.7-64/tmp10g227l8/mod.cpp:373:13: error: non-constant-expression cannot be narrowed from type 'ssize_t' (aka 'long') to 'int' in initializer list [-Wc++11-narrowing]. V1_stride0, V1_stride1.             ^~~~~~~~~~. /Users/smullally/.theano/compiledir_Darwin-18.7.0-x86_64-i386-64bit-i386-3.7.7-64/tmp10g227l8/mod.cpp:373:13: note: insert an explicit cast to silence this issue. V1_stride0, V1_stride1.             ^~~~~~~~~~.             static_cast<int>( ). 4 errors generated.. \", '[Elemwise{sqr,no_inplace}(TensorConstant{(1, 1) of 0.0})]')\n",
      "\n"
     ]
    },
    {
     "name": "stdout",
     "output_type": "stream",
     "text": [
      "\n",
      "You can find the C code in this temporary file: /var/folders/zx/326t4zzx4_l01j7_ng3c507c0001p0/T/theano_compilation_error_deicrm1d\n"
     ]
    },
    {
     "name": "stderr",
     "output_type": "stream",
     "text": [
      "ERROR (theano.gof.opt): Optimization failure due to: constant_folding\n",
      "ERROR (theano.gof.opt): node: Elemwise{Cast{float64}}(TensorConstant{(1, 1) of 0.0})\n",
      "ERROR (theano.gof.opt): TRACEBACK:\n",
      "ERROR (theano.gof.opt): Traceback (most recent call last):\n",
      "  File \"/Users/smullally/anaconda/envs/tike38/lib/python3.7/site-packages/theano/gof/opt.py\", line 2034, in process_node\n",
      "    replacements = lopt.transform(node)\n",
      "  File \"/Users/smullally/anaconda/envs/tike38/lib/python3.7/site-packages/theano/tensor/opt.py\", line 6516, in constant_folding\n",
      "    no_recycling=[], impl=impl)\n",
      "  File \"/Users/smullally/anaconda/envs/tike38/lib/python3.7/site-packages/theano/gof/op.py\", line 955, in make_thunk\n",
      "    no_recycling)\n",
      "  File \"/Users/smullally/anaconda/envs/tike38/lib/python3.7/site-packages/theano/gof/op.py\", line 858, in make_c_thunk\n",
      "    output_storage=node_output_storage)\n",
      "  File \"/Users/smullally/anaconda/envs/tike38/lib/python3.7/site-packages/theano/gof/cc.py\", line 1217, in make_thunk\n",
      "    keep_lock=keep_lock)\n",
      "  File \"/Users/smullally/anaconda/envs/tike38/lib/python3.7/site-packages/theano/gof/cc.py\", line 1157, in __compile__\n",
      "    keep_lock=keep_lock)\n",
      "  File \"/Users/smullally/anaconda/envs/tike38/lib/python3.7/site-packages/theano/gof/cc.py\", line 1624, in cthunk_factory\n",
      "    key=key, lnk=self, keep_lock=keep_lock)\n",
      "  File \"/Users/smullally/anaconda/envs/tike38/lib/python3.7/site-packages/theano/gof/cmodule.py\", line 1189, in module_from_key\n",
      "    module = lnk.compile_cmodule(location)\n",
      "  File \"/Users/smullally/anaconda/envs/tike38/lib/python3.7/site-packages/theano/gof/cc.py\", line 1527, in compile_cmodule\n",
      "    preargs=preargs)\n",
      "  File \"/Users/smullally/anaconda/envs/tike38/lib/python3.7/site-packages/theano/gof/cmodule.py\", line 2399, in compile_str\n",
      "    (status, compile_stderr.replace('\\n', '. ')))\n",
      "Exception: (\"Compilation failed (return status=1): /Users/smullally/.theano/compiledir_Darwin-18.7.0-x86_64-i386-64bit-i386-3.7.7-64/tmp1yf2te1i/mod.cpp:396:27: error: non-constant-expression cannot be narrowed from type 'npy_intp' (aka 'long') to 'int' in initializer list [-Wc++11-narrowing].     int init_totals[2] = {V1_n0, V3_n1};.                           ^~~~~. /Users/smullally/.theano/compiledir_Darwin-18.7.0-x86_64-i386-64bit-i386-3.7.7-64/tmp1yf2te1i/mod.cpp:396:27: note: insert an explicit cast to silence this issue.     int init_totals[2] = {V1_n0, V3_n1};.                           ^~~~~.                           static_cast<int>( ). /Users/smullally/.theano/compiledir_Darwin-18.7.0-x86_64-i386-64bit-i386-3.7.7-64/tmp1yf2te1i/mod.cpp:396:34: error: non-constant-expression cannot be narrowed from type 'npy_intp' (aka 'long') to 'int' in initializer list [-Wc++11-narrowing].     int init_totals[2] = {V1_n0, V3_n1};.                                  ^~~~~. /Users/smullally/.theano/compiledir_Darwin-18.7.0-x86_64-i386-64bit-i386-3.7.7-64/tmp1yf2te1i/mod.cpp:396:34: note: insert an explicit cast to silence this issue.     int init_totals[2] = {V1_n0, V3_n1};.                                  ^~~~~.                                  static_cast<int>( ). /Users/smullally/.theano/compiledir_Darwin-18.7.0-x86_64-i386-64bit-i386-3.7.7-64/tmp1yf2te1i/mod.cpp:408:12: error: non-constant-expression cannot be narrowed from type 'ssize_t' (aka 'long') to 'int' in initializer list [-Wc++11-narrowing].         0, V3_stride1, .            ^~~~~~~~~~. /Users/smullally/.theano/compiledir_Darwin-18.7.0-x86_64-i386-64bit-i386-3.7.7-64/tmp1yf2te1i/mod.cpp:408:12: note: insert an explicit cast to silence this issue.         0, V3_stride1, .            ^~~~~~~~~~.            static_cast<int>( ). /Users/smullally/.theano/compiledir_Darwin-18.7.0-x86_64-i386-64bit-i386-3.7.7-64/tmp1yf2te1i/mod.cpp:409:1: error: non-constant-expression cannot be narrowed from type 'ssize_t' (aka 'long') to 'int' in initializer list [-Wc++11-narrowing]. V1_stride0, V1_stride1. ^~~~~~~~~~. /Users/smullally/.theano/compiledir_Darwin-18.7.0-x86_64-i386-64bit-i386-3.7.7-64/tmp1yf2te1i/mod.cpp:409:1: note: insert an explicit cast to silence this issue. V1_stride0, V1_stride1. ^~~~~~~~~~. static_cast<int>( ). /Users/smullally/.theano/compiledir_Darwin-18.7.0-x86_64-i386-64bit-i386-3.7.7-64/tmp1yf2te1i/mod.cpp:409:13: error: non-constant-expression cannot be narrowed from type 'ssize_t' (aka 'long') to 'int' in initializer list [-Wc++11-narrowing]. V1_stride0, V1_stride1.             ^~~~~~~~~~. /Users/smullally/.theano/compiledir_Darwin-18.7.0-x86_64-i386-64bit-i386-3.7.7-64/tmp1yf2te1i/mod.cpp:409:13: note: insert an explicit cast to silence this issue. V1_stride0, V1_stride1.             ^~~~~~~~~~.             static_cast<int>( ). 5 errors generated.. \", '[Elemwise{Cast{float64}}(TensorConstant{(1, 1) of 0.0})]')\n",
      "\n"
     ]
    },
    {
     "name": "stdout",
     "output_type": "stream",
     "text": [
      "\n",
      "You can find the C code in this temporary file: /var/folders/zx/326t4zzx4_l01j7_ng3c507c0001p0/T/theano_compilation_error_2u2lsjt6\n",
      "\n",
      "You can find the C code in this temporary file: /var/folders/zx/326t4zzx4_l01j7_ng3c507c0001p0/T/theano_compilation_error_7jc9l951\n"
     ]
    },
    {
     "ename": "Exception",
     "evalue": "('The following error happened while compiling the node', Elemwise{Composite{AND(GE(Composite{(i0 + ((i1 + i2) % i3))}(i0, i1, i2, i3), i4), LE(Composite{(i0 + ((i1 + i2) % i3))}(i0, i1, i2, i3), i5))}}(TensorConstant{(1, 1) of -1.728}, TensorConstant{(1, 1) of 1.728}, TensorConstant{[[-0.1    ..1       ]]}, TensorConstant{(1, 1) of 3.456}, TensorConstant{(1, 1) of ..2375883906}, TensorConstant{(1, 1) of ..2375883906}), '\\n', \"Compilation failed (return status=1): /Users/smullally/.theano/compiledir_Darwin-18.7.0-x86_64-i386-64bit-i386-3.7.7-64/tmpb7xwncs8/mod.cpp:979:27: error: non-constant-expression cannot be narrowed from type 'npy_intp' (aka 'long') to 'int' in initializer list [-Wc++11-narrowing].     int init_totals[2] = {V7_n0, V1_n1};.                           ^~~~~. /Users/smullally/.theano/compiledir_Darwin-18.7.0-x86_64-i386-64bit-i386-3.7.7-64/tmpb7xwncs8/mod.cpp:979:27: note: insert an explicit cast to silence this issue.     int init_totals[2] = {V7_n0, V1_n1};.                           ^~~~~.                           static_cast<int>( ). /Users/smullally/.theano/compiledir_Darwin-18.7.0-x86_64-i386-64bit-i386-3.7.7-64/tmpb7xwncs8/mod.cpp:979:34: error: non-constant-expression cannot be narrowed from type 'npy_intp' (aka 'long') to 'int' in initializer list [-Wc++11-narrowing].     int init_totals[2] = {V7_n0, V1_n1};.                                  ^~~~~. /Users/smullally/.theano/compiledir_Darwin-18.7.0-x86_64-i386-64bit-i386-3.7.7-64/tmpb7xwncs8/mod.cpp:979:34: note: insert an explicit cast to silence this issue.     int init_totals[2] = {V7_n0, V1_n1};.                                  ^~~~~.                                  static_cast<int>( ). /Users/smullally/.theano/compiledir_Darwin-18.7.0-x86_64-i386-64bit-i386-3.7.7-64/tmpb7xwncs8/mod.cpp:993:1: error: non-constant-expression cannot be narrowed from type 'ssize_t' (aka 'long') to 'int' in initializer list [-Wc++11-narrowing]. V7_stride0, 0, . ^~~~~~~~~~. /Users/smullally/.theano/compiledir_Darwin-18.7.0-x86_64-i386-64bit-i386-3.7.7-64/tmpb7xwncs8/mod.cpp:993:1: note: insert an explicit cast to silence this issue. V7_stride0, 0, . ^~~~~~~~~~. static_cast<int>( ). /Users/smullally/.theano/compiledir_Darwin-18.7.0-x86_64-i386-64bit-i386-3.7.7-64/tmpb7xwncs8/mod.cpp:997:1: error: non-constant-expression cannot be narrowed from type 'ssize_t' (aka 'long') to 'int' in initializer list [-Wc++11-narrowing]. V1_stride0, V1_stride1. ^~~~~~~~~~. /Users/smullally/.theano/compiledir_Darwin-18.7.0-x86_64-i386-64bit-i386-3.7.7-64/tmpb7xwncs8/mod.cpp:997:1: note: insert an explicit cast to silence this issue. V1_stride0, V1_stride1. ^~~~~~~~~~. static_cast<int>( ). /Users/smullally/.theano/compiledir_Darwin-18.7.0-x86_64-i386-64bit-i386-3.7.7-64/tmpb7xwncs8/mod.cpp:997:13: error: non-constant-expression cannot be narrowed from type 'ssize_t' (aka 'long') to 'int' in initializer list [-Wc++11-narrowing]. V1_stride0, V1_stride1.             ^~~~~~~~~~. /Users/smullally/.theano/compiledir_Darwin-18.7.0-x86_64-i386-64bit-i386-3.7.7-64/tmpb7xwncs8/mod.cpp:997:13: note: insert an explicit cast to silence this issue. V1_stride0, V1_stride1.             ^~~~~~~~~~.             static_cast<int>( ). 5 errors generated.. \", '[Elemwise{Composite{AND(GE(Composite{(i0 + ((i1 + i2) % i3))}(i0, i1, i2, i3), i4), LE(Composite{(i0 + ((i1 + i2) % i3))}(i0, i1, i2, i3), i5))}}(TensorConstant{(1, 1) of -1.728}, TensorConstant{(1, 1) of 1.728}, TensorConstant{[[-0.1    ..1       ]]}, TensorConstant{(1, 1) of 3.456}, TensorConstant{(1, 1) of ..2375883906}, TensorConstant{(1, 1) of ..2375883906})]')",
     "output_type": "error",
     "traceback": [
      "\u001b[0;31m---------------------------------------------------------------------------\u001b[0m",
      "\u001b[0;31mException\u001b[0m                                 Traceback (most recent call last)",
      "\u001b[0;32m<ipython-input-19-d36d795fe6d3>\u001b[0m in \u001b[0;36m<module>\u001b[0;34m\u001b[0m\n\u001b[1;32m     13\u001b[0m light_curve = (\n\u001b[1;32m     14\u001b[0m     xo.LimbDarkLightCurve(u).get_light_curve(orbit=orbit, \n\u001b[0;32m---> 15\u001b[0;31m                                              r=0.1, t=t, texp=0.02).eval()\n\u001b[0m\u001b[1;32m     16\u001b[0m )\n\u001b[1;32m     17\u001b[0m \u001b[0;31m# Note: the `eval` is needed because this is using Theano in\u001b[0m\u001b[0;34m\u001b[0m\u001b[0;34m\u001b[0m\u001b[0;34m\u001b[0m\u001b[0m\n",
      "\u001b[0;32m~/anaconda/envs/tike38/lib/python3.7/site-packages/theano/gof/graph.py\u001b[0m in \u001b[0;36meval\u001b[0;34m(self, inputs_to_values)\u001b[0m\n\u001b[1;32m    520\u001b[0m         \u001b[0minputs\u001b[0m \u001b[0;34m=\u001b[0m \u001b[0mtuple\u001b[0m\u001b[0;34m(\u001b[0m\u001b[0msorted\u001b[0m\u001b[0;34m(\u001b[0m\u001b[0minputs_to_values\u001b[0m\u001b[0;34m.\u001b[0m\u001b[0mkeys\u001b[0m\u001b[0;34m(\u001b[0m\u001b[0;34m)\u001b[0m\u001b[0;34m,\u001b[0m \u001b[0mkey\u001b[0m\u001b[0;34m=\u001b[0m\u001b[0mid\u001b[0m\u001b[0;34m)\u001b[0m\u001b[0;34m)\u001b[0m\u001b[0;34m\u001b[0m\u001b[0;34m\u001b[0m\u001b[0m\n\u001b[1;32m    521\u001b[0m         \u001b[0;32mif\u001b[0m \u001b[0minputs\u001b[0m \u001b[0;32mnot\u001b[0m \u001b[0;32min\u001b[0m \u001b[0mself\u001b[0m\u001b[0;34m.\u001b[0m\u001b[0m_fn_cache\u001b[0m\u001b[0;34m:\u001b[0m\u001b[0;34m\u001b[0m\u001b[0;34m\u001b[0m\u001b[0m\n\u001b[0;32m--> 522\u001b[0;31m             \u001b[0mself\u001b[0m\u001b[0;34m.\u001b[0m\u001b[0m_fn_cache\u001b[0m\u001b[0;34m[\u001b[0m\u001b[0minputs\u001b[0m\u001b[0;34m]\u001b[0m \u001b[0;34m=\u001b[0m \u001b[0mtheano\u001b[0m\u001b[0;34m.\u001b[0m\u001b[0mfunction\u001b[0m\u001b[0;34m(\u001b[0m\u001b[0minputs\u001b[0m\u001b[0;34m,\u001b[0m \u001b[0mself\u001b[0m\u001b[0;34m)\u001b[0m\u001b[0;34m\u001b[0m\u001b[0;34m\u001b[0m\u001b[0m\n\u001b[0m\u001b[1;32m    523\u001b[0m         \u001b[0margs\u001b[0m \u001b[0;34m=\u001b[0m \u001b[0;34m[\u001b[0m\u001b[0minputs_to_values\u001b[0m\u001b[0;34m[\u001b[0m\u001b[0mparam\u001b[0m\u001b[0;34m]\u001b[0m \u001b[0;32mfor\u001b[0m \u001b[0mparam\u001b[0m \u001b[0;32min\u001b[0m \u001b[0minputs\u001b[0m\u001b[0;34m]\u001b[0m\u001b[0;34m\u001b[0m\u001b[0;34m\u001b[0m\u001b[0m\n\u001b[1;32m    524\u001b[0m \u001b[0;34m\u001b[0m\u001b[0m\n",
      "\u001b[0;32m~/anaconda/envs/tike38/lib/python3.7/site-packages/theano/compile/function.py\u001b[0m in \u001b[0;36mfunction\u001b[0;34m(inputs, outputs, mode, updates, givens, no_default_updates, accept_inplace, name, rebuild_strict, allow_input_downcast, profile, on_unused_input)\u001b[0m\n\u001b[1;32m    315\u001b[0m                    \u001b[0mon_unused_input\u001b[0m\u001b[0;34m=\u001b[0m\u001b[0mon_unused_input\u001b[0m\u001b[0;34m,\u001b[0m\u001b[0;34m\u001b[0m\u001b[0;34m\u001b[0m\u001b[0m\n\u001b[1;32m    316\u001b[0m                    \u001b[0mprofile\u001b[0m\u001b[0;34m=\u001b[0m\u001b[0mprofile\u001b[0m\u001b[0;34m,\u001b[0m\u001b[0;34m\u001b[0m\u001b[0;34m\u001b[0m\u001b[0m\n\u001b[0;32m--> 317\u001b[0;31m                    output_keys=output_keys)\n\u001b[0m\u001b[1;32m    318\u001b[0m     \u001b[0;32mreturn\u001b[0m \u001b[0mfn\u001b[0m\u001b[0;34m\u001b[0m\u001b[0;34m\u001b[0m\u001b[0m\n",
      "\u001b[0;32m~/anaconda/envs/tike38/lib/python3.7/site-packages/theano/compile/pfunc.py\u001b[0m in \u001b[0;36mpfunc\u001b[0;34m(params, outputs, mode, updates, givens, no_default_updates, accept_inplace, name, rebuild_strict, allow_input_downcast, profile, on_unused_input, output_keys)\u001b[0m\n\u001b[1;32m    484\u001b[0m                          \u001b[0maccept_inplace\u001b[0m\u001b[0;34m=\u001b[0m\u001b[0maccept_inplace\u001b[0m\u001b[0;34m,\u001b[0m \u001b[0mname\u001b[0m\u001b[0;34m=\u001b[0m\u001b[0mname\u001b[0m\u001b[0;34m,\u001b[0m\u001b[0;34m\u001b[0m\u001b[0;34m\u001b[0m\u001b[0m\n\u001b[1;32m    485\u001b[0m                          \u001b[0mprofile\u001b[0m\u001b[0;34m=\u001b[0m\u001b[0mprofile\u001b[0m\u001b[0;34m,\u001b[0m \u001b[0mon_unused_input\u001b[0m\u001b[0;34m=\u001b[0m\u001b[0mon_unused_input\u001b[0m\u001b[0;34m,\u001b[0m\u001b[0;34m\u001b[0m\u001b[0;34m\u001b[0m\u001b[0m\n\u001b[0;32m--> 486\u001b[0;31m                          output_keys=output_keys)\n\u001b[0m\u001b[1;32m    487\u001b[0m \u001b[0;34m\u001b[0m\u001b[0m\n\u001b[1;32m    488\u001b[0m \u001b[0;34m\u001b[0m\u001b[0m\n",
      "\u001b[0;32m~/anaconda/envs/tike38/lib/python3.7/site-packages/theano/compile/function_module.py\u001b[0m in \u001b[0;36morig_function\u001b[0;34m(inputs, outputs, mode, accept_inplace, name, profile, on_unused_input, output_keys)\u001b[0m\n\u001b[1;32m   1839\u001b[0m                   name=name)\n\u001b[1;32m   1840\u001b[0m         \u001b[0;32mwith\u001b[0m \u001b[0mtheano\u001b[0m\u001b[0;34m.\u001b[0m\u001b[0mchange_flags\u001b[0m\u001b[0;34m(\u001b[0m\u001b[0mcompute_test_value\u001b[0m\u001b[0;34m=\u001b[0m\u001b[0;34m\"off\"\u001b[0m\u001b[0;34m)\u001b[0m\u001b[0;34m:\u001b[0m\u001b[0;34m\u001b[0m\u001b[0;34m\u001b[0m\u001b[0m\n\u001b[0;32m-> 1841\u001b[0;31m             \u001b[0mfn\u001b[0m \u001b[0;34m=\u001b[0m \u001b[0mm\u001b[0m\u001b[0;34m.\u001b[0m\u001b[0mcreate\u001b[0m\u001b[0;34m(\u001b[0m\u001b[0mdefaults\u001b[0m\u001b[0;34m)\u001b[0m\u001b[0;34m\u001b[0m\u001b[0;34m\u001b[0m\u001b[0m\n\u001b[0m\u001b[1;32m   1842\u001b[0m     \u001b[0;32mfinally\u001b[0m\u001b[0;34m:\u001b[0m\u001b[0;34m\u001b[0m\u001b[0;34m\u001b[0m\u001b[0m\n\u001b[1;32m   1843\u001b[0m         \u001b[0mt2\u001b[0m \u001b[0;34m=\u001b[0m \u001b[0mtime\u001b[0m\u001b[0;34m.\u001b[0m\u001b[0mtime\u001b[0m\u001b[0;34m(\u001b[0m\u001b[0;34m)\u001b[0m\u001b[0;34m\u001b[0m\u001b[0;34m\u001b[0m\u001b[0m\n",
      "\u001b[0;32m~/anaconda/envs/tike38/lib/python3.7/site-packages/theano/compile/function_module.py\u001b[0m in \u001b[0;36mcreate\u001b[0;34m(self, input_storage, trustme, storage_map)\u001b[0m\n\u001b[1;32m   1713\u001b[0m             \u001b[0mtheano\u001b[0m\u001b[0;34m.\u001b[0m\u001b[0mconfig\u001b[0m\u001b[0;34m.\u001b[0m\u001b[0mtraceback\u001b[0m\u001b[0;34m.\u001b[0m\u001b[0mlimit\u001b[0m \u001b[0;34m=\u001b[0m \u001b[0mtheano\u001b[0m\u001b[0;34m.\u001b[0m\u001b[0mconfig\u001b[0m\u001b[0;34m.\u001b[0m\u001b[0mtraceback\u001b[0m\u001b[0;34m.\u001b[0m\u001b[0mcompile_limit\u001b[0m\u001b[0;34m\u001b[0m\u001b[0;34m\u001b[0m\u001b[0m\n\u001b[1;32m   1714\u001b[0m             _fn, _i, _o = self.linker.make_thunk(\n\u001b[0;32m-> 1715\u001b[0;31m                 input_storage=input_storage_lists, storage_map=storage_map)\n\u001b[0m\u001b[1;32m   1716\u001b[0m         \u001b[0;32mfinally\u001b[0m\u001b[0;34m:\u001b[0m\u001b[0;34m\u001b[0m\u001b[0;34m\u001b[0m\u001b[0m\n\u001b[1;32m   1717\u001b[0m             \u001b[0mtheano\u001b[0m\u001b[0;34m.\u001b[0m\u001b[0mconfig\u001b[0m\u001b[0;34m.\u001b[0m\u001b[0mtraceback\u001b[0m\u001b[0;34m.\u001b[0m\u001b[0mlimit\u001b[0m \u001b[0;34m=\u001b[0m \u001b[0mlimit_orig\u001b[0m\u001b[0;34m\u001b[0m\u001b[0;34m\u001b[0m\u001b[0m\n",
      "\u001b[0;32m~/anaconda/envs/tike38/lib/python3.7/site-packages/theano/gof/link.py\u001b[0m in \u001b[0;36mmake_thunk\u001b[0;34m(self, input_storage, output_storage, storage_map)\u001b[0m\n\u001b[1;32m    697\u001b[0m         return self.make_all(input_storage=input_storage,\n\u001b[1;32m    698\u001b[0m                              \u001b[0moutput_storage\u001b[0m\u001b[0;34m=\u001b[0m\u001b[0moutput_storage\u001b[0m\u001b[0;34m,\u001b[0m\u001b[0;34m\u001b[0m\u001b[0;34m\u001b[0m\u001b[0m\n\u001b[0;32m--> 699\u001b[0;31m                              storage_map=storage_map)[:3]\n\u001b[0m\u001b[1;32m    700\u001b[0m \u001b[0;34m\u001b[0m\u001b[0m\n\u001b[1;32m    701\u001b[0m     \u001b[0;32mdef\u001b[0m \u001b[0mmake_all\u001b[0m\u001b[0;34m(\u001b[0m\u001b[0mself\u001b[0m\u001b[0;34m,\u001b[0m \u001b[0minput_storage\u001b[0m\u001b[0;34m,\u001b[0m \u001b[0moutput_storage\u001b[0m\u001b[0;34m)\u001b[0m\u001b[0;34m:\u001b[0m\u001b[0;34m\u001b[0m\u001b[0;34m\u001b[0m\u001b[0m\n",
      "\u001b[0;32m~/anaconda/envs/tike38/lib/python3.7/site-packages/theano/gof/vm.py\u001b[0m in \u001b[0;36mmake_all\u001b[0;34m(self, profiler, input_storage, output_storage, storage_map)\u001b[0m\n\u001b[1;32m   1089\u001b[0m                                                  \u001b[0mcompute_map\u001b[0m\u001b[0;34m,\u001b[0m\u001b[0;34m\u001b[0m\u001b[0;34m\u001b[0m\u001b[0m\n\u001b[1;32m   1090\u001b[0m                                                  \u001b[0;34m[\u001b[0m\u001b[0;34m]\u001b[0m\u001b[0;34m,\u001b[0m\u001b[0;34m\u001b[0m\u001b[0;34m\u001b[0m\u001b[0m\n\u001b[0;32m-> 1091\u001b[0;31m                                                  impl=impl))\n\u001b[0m\u001b[1;32m   1092\u001b[0m                 \u001b[0mlinker_make_thunk_time\u001b[0m\u001b[0;34m[\u001b[0m\u001b[0mnode\u001b[0m\u001b[0;34m]\u001b[0m \u001b[0;34m=\u001b[0m \u001b[0mtime\u001b[0m\u001b[0;34m.\u001b[0m\u001b[0mtime\u001b[0m\u001b[0;34m(\u001b[0m\u001b[0;34m)\u001b[0m \u001b[0;34m-\u001b[0m \u001b[0mthunk_start\u001b[0m\u001b[0;34m\u001b[0m\u001b[0;34m\u001b[0m\u001b[0m\n\u001b[1;32m   1093\u001b[0m                 \u001b[0;32mif\u001b[0m \u001b[0;32mnot\u001b[0m \u001b[0mhasattr\u001b[0m\u001b[0;34m(\u001b[0m\u001b[0mthunks\u001b[0m\u001b[0;34m[\u001b[0m\u001b[0;34m-\u001b[0m\u001b[0;36m1\u001b[0m\u001b[0;34m]\u001b[0m\u001b[0;34m,\u001b[0m \u001b[0;34m'lazy'\u001b[0m\u001b[0;34m)\u001b[0m\u001b[0;34m:\u001b[0m\u001b[0;34m\u001b[0m\u001b[0;34m\u001b[0m\u001b[0m\n",
      "\u001b[0;32m~/anaconda/envs/tike38/lib/python3.7/site-packages/theano/gof/op.py\u001b[0m in \u001b[0;36mmake_thunk\u001b[0;34m(self, node, storage_map, compute_map, no_recycling, impl)\u001b[0m\n\u001b[1;32m    953\u001b[0m             \u001b[0;32mtry\u001b[0m\u001b[0;34m:\u001b[0m\u001b[0;34m\u001b[0m\u001b[0;34m\u001b[0m\u001b[0m\n\u001b[1;32m    954\u001b[0m                 return self.make_c_thunk(node, storage_map, compute_map,\n\u001b[0;32m--> 955\u001b[0;31m                                          no_recycling)\n\u001b[0m\u001b[1;32m    956\u001b[0m             \u001b[0;32mexcept\u001b[0m \u001b[0;34m(\u001b[0m\u001b[0mNotImplementedError\u001b[0m\u001b[0;34m,\u001b[0m \u001b[0mutils\u001b[0m\u001b[0;34m.\u001b[0m\u001b[0mMethodNotDefined\u001b[0m\u001b[0;34m)\u001b[0m\u001b[0;34m:\u001b[0m\u001b[0;34m\u001b[0m\u001b[0;34m\u001b[0m\u001b[0m\n\u001b[1;32m    957\u001b[0m                 \u001b[0;31m# We requested the c code, so don't catch the error.\u001b[0m\u001b[0;34m\u001b[0m\u001b[0;34m\u001b[0m\u001b[0;34m\u001b[0m\u001b[0m\n",
      "\u001b[0;32m~/anaconda/envs/tike38/lib/python3.7/site-packages/theano/gof/op.py\u001b[0m in \u001b[0;36mmake_c_thunk\u001b[0;34m(self, node, storage_map, compute_map, no_recycling)\u001b[0m\n\u001b[1;32m    856\u001b[0m         \u001b[0m_logger\u001b[0m\u001b[0;34m.\u001b[0m\u001b[0mdebug\u001b[0m\u001b[0;34m(\u001b[0m\u001b[0;34m'Trying CLinker.make_thunk'\u001b[0m\u001b[0;34m)\u001b[0m\u001b[0;34m\u001b[0m\u001b[0;34m\u001b[0m\u001b[0m\n\u001b[1;32m    857\u001b[0m         outputs = cl.make_thunk(input_storage=node_input_storage,\n\u001b[0;32m--> 858\u001b[0;31m                                 output_storage=node_output_storage)\n\u001b[0m\u001b[1;32m    859\u001b[0m         \u001b[0mthunk\u001b[0m\u001b[0;34m,\u001b[0m \u001b[0mnode_input_filters\u001b[0m\u001b[0;34m,\u001b[0m \u001b[0mnode_output_filters\u001b[0m \u001b[0;34m=\u001b[0m \u001b[0moutputs\u001b[0m\u001b[0;34m\u001b[0m\u001b[0;34m\u001b[0m\u001b[0m\n\u001b[1;32m    860\u001b[0m \u001b[0;34m\u001b[0m\u001b[0m\n",
      "\u001b[0;32m~/anaconda/envs/tike38/lib/python3.7/site-packages/theano/gof/cc.py\u001b[0m in \u001b[0;36mmake_thunk\u001b[0;34m(self, input_storage, output_storage, storage_map, keep_lock)\u001b[0m\n\u001b[1;32m   1215\u001b[0m         cthunk, module, in_storage, out_storage, error_storage = self.__compile__(\n\u001b[1;32m   1216\u001b[0m             \u001b[0minput_storage\u001b[0m\u001b[0;34m,\u001b[0m \u001b[0moutput_storage\u001b[0m\u001b[0;34m,\u001b[0m \u001b[0mstorage_map\u001b[0m\u001b[0;34m,\u001b[0m\u001b[0;34m\u001b[0m\u001b[0;34m\u001b[0m\u001b[0m\n\u001b[0;32m-> 1217\u001b[0;31m             keep_lock=keep_lock)\n\u001b[0m\u001b[1;32m   1218\u001b[0m \u001b[0;34m\u001b[0m\u001b[0m\n\u001b[1;32m   1219\u001b[0m         \u001b[0mres\u001b[0m \u001b[0;34m=\u001b[0m \u001b[0m_CThunk\u001b[0m\u001b[0;34m(\u001b[0m\u001b[0mcthunk\u001b[0m\u001b[0;34m,\u001b[0m \u001b[0minit_tasks\u001b[0m\u001b[0;34m,\u001b[0m \u001b[0mtasks\u001b[0m\u001b[0;34m,\u001b[0m \u001b[0merror_storage\u001b[0m\u001b[0;34m,\u001b[0m \u001b[0mmodule\u001b[0m\u001b[0;34m)\u001b[0m\u001b[0;34m\u001b[0m\u001b[0;34m\u001b[0m\u001b[0m\n",
      "\u001b[0;32m~/anaconda/envs/tike38/lib/python3.7/site-packages/theano/gof/cc.py\u001b[0m in \u001b[0;36m__compile__\u001b[0;34m(self, input_storage, output_storage, storage_map, keep_lock)\u001b[0m\n\u001b[1;32m   1155\u001b[0m                                             \u001b[0moutput_storage\u001b[0m\u001b[0;34m,\u001b[0m\u001b[0;34m\u001b[0m\u001b[0;34m\u001b[0m\u001b[0m\n\u001b[1;32m   1156\u001b[0m                                             \u001b[0mstorage_map\u001b[0m\u001b[0;34m,\u001b[0m\u001b[0;34m\u001b[0m\u001b[0;34m\u001b[0m\u001b[0m\n\u001b[0;32m-> 1157\u001b[0;31m                                             keep_lock=keep_lock)\n\u001b[0m\u001b[1;32m   1158\u001b[0m         return (thunk,\n\u001b[1;32m   1159\u001b[0m                 \u001b[0mmodule\u001b[0m\u001b[0;34m,\u001b[0m\u001b[0;34m\u001b[0m\u001b[0;34m\u001b[0m\u001b[0m\n",
      "\u001b[0;32m~/anaconda/envs/tike38/lib/python3.7/site-packages/theano/gof/cc.py\u001b[0m in \u001b[0;36mcthunk_factory\u001b[0;34m(self, error_storage, in_storage, out_storage, storage_map, keep_lock)\u001b[0m\n\u001b[1;32m   1622\u001b[0m                 \u001b[0mnode\u001b[0m\u001b[0;34m.\u001b[0m\u001b[0mop\u001b[0m\u001b[0;34m.\u001b[0m\u001b[0mprepare_node\u001b[0m\u001b[0;34m(\u001b[0m\u001b[0mnode\u001b[0m\u001b[0;34m,\u001b[0m \u001b[0mstorage_map\u001b[0m\u001b[0;34m,\u001b[0m \u001b[0;32mNone\u001b[0m\u001b[0;34m,\u001b[0m \u001b[0;34m'c'\u001b[0m\u001b[0;34m)\u001b[0m\u001b[0;34m\u001b[0m\u001b[0;34m\u001b[0m\u001b[0m\n\u001b[1;32m   1623\u001b[0m             module = get_module_cache().module_from_key(\n\u001b[0;32m-> 1624\u001b[0;31m                 key=key, lnk=self, keep_lock=keep_lock)\n\u001b[0m\u001b[1;32m   1625\u001b[0m \u001b[0;34m\u001b[0m\u001b[0m\n\u001b[1;32m   1626\u001b[0m         \u001b[0mvars\u001b[0m \u001b[0;34m=\u001b[0m \u001b[0mself\u001b[0m\u001b[0;34m.\u001b[0m\u001b[0minputs\u001b[0m \u001b[0;34m+\u001b[0m \u001b[0mself\u001b[0m\u001b[0;34m.\u001b[0m\u001b[0moutputs\u001b[0m \u001b[0;34m+\u001b[0m \u001b[0mself\u001b[0m\u001b[0;34m.\u001b[0m\u001b[0morphans\u001b[0m\u001b[0;34m\u001b[0m\u001b[0;34m\u001b[0m\u001b[0m\n",
      "\u001b[0;32m~/anaconda/envs/tike38/lib/python3.7/site-packages/theano/gof/cmodule.py\u001b[0m in \u001b[0;36mmodule_from_key\u001b[0;34m(self, key, lnk, keep_lock)\u001b[0m\n\u001b[1;32m   1187\u001b[0m             \u001b[0;32mtry\u001b[0m\u001b[0;34m:\u001b[0m\u001b[0;34m\u001b[0m\u001b[0;34m\u001b[0m\u001b[0m\n\u001b[1;32m   1188\u001b[0m                 \u001b[0mlocation\u001b[0m \u001b[0;34m=\u001b[0m \u001b[0mdlimport_workdir\u001b[0m\u001b[0;34m(\u001b[0m\u001b[0mself\u001b[0m\u001b[0;34m.\u001b[0m\u001b[0mdirname\u001b[0m\u001b[0;34m)\u001b[0m\u001b[0;34m\u001b[0m\u001b[0;34m\u001b[0m\u001b[0m\n\u001b[0;32m-> 1189\u001b[0;31m                 \u001b[0mmodule\u001b[0m \u001b[0;34m=\u001b[0m \u001b[0mlnk\u001b[0m\u001b[0;34m.\u001b[0m\u001b[0mcompile_cmodule\u001b[0m\u001b[0;34m(\u001b[0m\u001b[0mlocation\u001b[0m\u001b[0;34m)\u001b[0m\u001b[0;34m\u001b[0m\u001b[0;34m\u001b[0m\u001b[0m\n\u001b[0m\u001b[1;32m   1190\u001b[0m                 \u001b[0mname\u001b[0m \u001b[0;34m=\u001b[0m \u001b[0mmodule\u001b[0m\u001b[0;34m.\u001b[0m\u001b[0m__file__\u001b[0m\u001b[0;34m\u001b[0m\u001b[0;34m\u001b[0m\u001b[0m\n\u001b[1;32m   1191\u001b[0m                 \u001b[0;32massert\u001b[0m \u001b[0mname\u001b[0m\u001b[0;34m.\u001b[0m\u001b[0mstartswith\u001b[0m\u001b[0;34m(\u001b[0m\u001b[0mlocation\u001b[0m\u001b[0;34m)\u001b[0m\u001b[0;34m\u001b[0m\u001b[0;34m\u001b[0m\u001b[0m\n",
      "\u001b[0;32m~/anaconda/envs/tike38/lib/python3.7/site-packages/theano/gof/cc.py\u001b[0m in \u001b[0;36mcompile_cmodule\u001b[0;34m(self, location)\u001b[0m\n\u001b[1;32m   1525\u001b[0m                 \u001b[0mlib_dirs\u001b[0m\u001b[0;34m=\u001b[0m\u001b[0mself\u001b[0m\u001b[0;34m.\u001b[0m\u001b[0mlib_dirs\u001b[0m\u001b[0;34m(\u001b[0m\u001b[0;34m)\u001b[0m\u001b[0;34m,\u001b[0m\u001b[0;34m\u001b[0m\u001b[0;34m\u001b[0m\u001b[0m\n\u001b[1;32m   1526\u001b[0m                 \u001b[0mlibs\u001b[0m\u001b[0;34m=\u001b[0m\u001b[0mlibs\u001b[0m\u001b[0;34m,\u001b[0m\u001b[0;34m\u001b[0m\u001b[0;34m\u001b[0m\u001b[0m\n\u001b[0;32m-> 1527\u001b[0;31m                 preargs=preargs)\n\u001b[0m\u001b[1;32m   1528\u001b[0m         \u001b[0;32mexcept\u001b[0m \u001b[0mException\u001b[0m \u001b[0;32mas\u001b[0m \u001b[0me\u001b[0m\u001b[0;34m:\u001b[0m\u001b[0;34m\u001b[0m\u001b[0;34m\u001b[0m\u001b[0m\n\u001b[1;32m   1529\u001b[0m             \u001b[0me\u001b[0m\u001b[0;34m.\u001b[0m\u001b[0margs\u001b[0m \u001b[0;34m+=\u001b[0m \u001b[0;34m(\u001b[0m\u001b[0mstr\u001b[0m\u001b[0;34m(\u001b[0m\u001b[0mself\u001b[0m\u001b[0;34m.\u001b[0m\u001b[0mfgraph\u001b[0m\u001b[0;34m)\u001b[0m\u001b[0;34m,\u001b[0m\u001b[0;34m)\u001b[0m\u001b[0;34m\u001b[0m\u001b[0;34m\u001b[0m\u001b[0m\n",
      "\u001b[0;32m~/anaconda/envs/tike38/lib/python3.7/site-packages/theano/gof/cmodule.py\u001b[0m in \u001b[0;36mcompile_str\u001b[0;34m(module_name, src_code, location, include_dirs, lib_dirs, libs, preargs, py_module, hide_symbols)\u001b[0m\n\u001b[1;32m   2397\u001b[0m             \u001b[0;31m# difficult to read.\u001b[0m\u001b[0;34m\u001b[0m\u001b[0;34m\u001b[0m\u001b[0;34m\u001b[0m\u001b[0m\n\u001b[1;32m   2398\u001b[0m             raise Exception('Compilation failed (return status=%s): %s' %\n\u001b[0;32m-> 2399\u001b[0;31m                             (status, compile_stderr.replace('\\n', '. ')))\n\u001b[0m\u001b[1;32m   2400\u001b[0m         \u001b[0;32melif\u001b[0m \u001b[0mconfig\u001b[0m\u001b[0;34m.\u001b[0m\u001b[0mcmodule\u001b[0m\u001b[0;34m.\u001b[0m\u001b[0mcompilation_warning\u001b[0m \u001b[0;32mand\u001b[0m \u001b[0mcompile_stderr\u001b[0m\u001b[0;34m:\u001b[0m\u001b[0;34m\u001b[0m\u001b[0;34m\u001b[0m\u001b[0m\n\u001b[1;32m   2401\u001b[0m             \u001b[0;31m# Print errors just below the command line.\u001b[0m\u001b[0;34m\u001b[0m\u001b[0;34m\u001b[0m\u001b[0;34m\u001b[0m\u001b[0m\n",
      "\u001b[0;31mException\u001b[0m: ('The following error happened while compiling the node', Elemwise{Composite{AND(GE(Composite{(i0 + ((i1 + i2) % i3))}(i0, i1, i2, i3), i4), LE(Composite{(i0 + ((i1 + i2) % i3))}(i0, i1, i2, i3), i5))}}(TensorConstant{(1, 1) of -1.728}, TensorConstant{(1, 1) of 1.728}, TensorConstant{[[-0.1    ..1       ]]}, TensorConstant{(1, 1) of 3.456}, TensorConstant{(1, 1) of ..2375883906}, TensorConstant{(1, 1) of ..2375883906}), '\\n', \"Compilation failed (return status=1): /Users/smullally/.theano/compiledir_Darwin-18.7.0-x86_64-i386-64bit-i386-3.7.7-64/tmpb7xwncs8/mod.cpp:979:27: error: non-constant-expression cannot be narrowed from type 'npy_intp' (aka 'long') to 'int' in initializer list [-Wc++11-narrowing].     int init_totals[2] = {V7_n0, V1_n1};.                           ^~~~~. /Users/smullally/.theano/compiledir_Darwin-18.7.0-x86_64-i386-64bit-i386-3.7.7-64/tmpb7xwncs8/mod.cpp:979:27: note: insert an explicit cast to silence this issue.     int init_totals[2] = {V7_n0, V1_n1};.                           ^~~~~.                           static_cast<int>( ). /Users/smullally/.theano/compiledir_Darwin-18.7.0-x86_64-i386-64bit-i386-3.7.7-64/tmpb7xwncs8/mod.cpp:979:34: error: non-constant-expression cannot be narrowed from type 'npy_intp' (aka 'long') to 'int' in initializer list [-Wc++11-narrowing].     int init_totals[2] = {V7_n0, V1_n1};.                                  ^~~~~. /Users/smullally/.theano/compiledir_Darwin-18.7.0-x86_64-i386-64bit-i386-3.7.7-64/tmpb7xwncs8/mod.cpp:979:34: note: insert an explicit cast to silence this issue.     int init_totals[2] = {V7_n0, V1_n1};.                                  ^~~~~.                                  static_cast<int>( ). /Users/smullally/.theano/compiledir_Darwin-18.7.0-x86_64-i386-64bit-i386-3.7.7-64/tmpb7xwncs8/mod.cpp:993:1: error: non-constant-expression cannot be narrowed from type 'ssize_t' (aka 'long') to 'int' in initializer list [-Wc++11-narrowing]. V7_stride0, 0, . ^~~~~~~~~~. /Users/smullally/.theano/compiledir_Darwin-18.7.0-x86_64-i386-64bit-i386-3.7.7-64/tmpb7xwncs8/mod.cpp:993:1: note: insert an explicit cast to silence this issue. V7_stride0, 0, . ^~~~~~~~~~. static_cast<int>( ). /Users/smullally/.theano/compiledir_Darwin-18.7.0-x86_64-i386-64bit-i386-3.7.7-64/tmpb7xwncs8/mod.cpp:997:1: error: non-constant-expression cannot be narrowed from type 'ssize_t' (aka 'long') to 'int' in initializer list [-Wc++11-narrowing]. V1_stride0, V1_stride1. ^~~~~~~~~~. /Users/smullally/.theano/compiledir_Darwin-18.7.0-x86_64-i386-64bit-i386-3.7.7-64/tmpb7xwncs8/mod.cpp:997:1: note: insert an explicit cast to silence this issue. V1_stride0, V1_stride1. ^~~~~~~~~~. static_cast<int>( ). /Users/smullally/.theano/compiledir_Darwin-18.7.0-x86_64-i386-64bit-i386-3.7.7-64/tmpb7xwncs8/mod.cpp:997:13: error: non-constant-expression cannot be narrowed from type 'ssize_t' (aka 'long') to 'int' in initializer list [-Wc++11-narrowing]. V1_stride0, V1_stride1.             ^~~~~~~~~~. /Users/smullally/.theano/compiledir_Darwin-18.7.0-x86_64-i386-64bit-i386-3.7.7-64/tmpb7xwncs8/mod.cpp:997:13: note: insert an explicit cast to silence this issue. V1_stride0, V1_stride1.             ^~~~~~~~~~.             static_cast<int>( ). 5 errors generated.. \", '[Elemwise{Composite{AND(GE(Composite{(i0 + ((i1 + i2) % i3))}(i0, i1, i2, i3), i4), LE(Composite{(i0 + ((i1 + i2) % i3))}(i0, i1, i2, i3), i5))}}(TensorConstant{(1, 1) of -1.728}, TensorConstant{(1, 1) of 1.728}, TensorConstant{[[-0.1    ..1       ]]}, TensorConstant{(1, 1) of 3.456}, TensorConstant{(1, 1) of ..2375883906}, TensorConstant{(1, 1) of ..2375883906})]')"
     ]
    }
   ],
   "source": [
    "#Exoplanet which relys on Theano (I never got this to install correctly)\n",
    "import numpy as np\n",
    "import matplotlib.pyplot as plt\n",
    "\n",
    "import exoplanet as xo\n",
    "\n",
    "# The light curve calculation requires an orbit\n",
    "orbit = xo.orbits.KeplerianOrbit(period=3.456)\n",
    "\n",
    "# Compute a limb-darkened light curve using starry\n",
    "t = np.linspace(-0.1, 0.1, 1000)\n",
    "u = [0.3, 0.2]\n",
    "light_curve = (\n",
    "    xo.LimbDarkLightCurve(u).get_light_curve(orbit=orbit, \n",
    "                                             r=0.1, t=t, texp=0.02).eval()\n",
    ")\n",
    "# Note: the `eval` is needed because this is using Theano in\n",
    "# the background\n",
    "\n",
    "plt.plot(t, light_curve, color=\"C0\", lw=2)\n",
    "plt.ylabel(\"relative flux\")\n",
    "plt.xlabel(\"time [days]\")\n",
    "_ = plt.xlim(t.min(), t.max())"
   ]
  },
  {
   "cell_type": "code",
   "execution_count": 20,
   "metadata": {},
   "outputs": [
    {
     "name": "stderr",
     "output_type": "stream",
     "text": [
      "\n",
      "! WARNING:\n",
      " No GPU/TPU found, falling back to CPU.\n",
      "type: <class 'UserWarning'>, file: /Users/smullally/anaconda/envs/tike38/lib/python3.7/site-packages/jax/lib/xla_bridge.py, line: 125\n"
     ]
    },
    {
     "name": "stdout",
     "output_type": "stream",
     "text": [
      "[-0.372111    0.2642311  -0.18252774 -0.7368198  -0.44030386 -0.15214427\n",
      " -0.6713536  -0.59086424  0.73168874  0.56730247]\n"
     ]
    }
   ],
   "source": [
    "#jax\n",
    "import jax.numpy as np\n",
    "from jax import grad, jit, vmap\n",
    "from jax import random\n",
    "key = random.PRNGKey(0)\n",
    "x = random.normal(key, (10,))\n",
    "print(x)\n"
   ]
  },
  {
   "cell_type": "code",
   "execution_count": 21,
   "metadata": {},
   "outputs": [
    {
     "name": "stdout",
     "output_type": "stream",
     "text": [
      "202 ms ± 6.88 ms per loop (mean ± std. dev. of 7 runs, 1 loop each)\n"
     ]
    }
   ],
   "source": [
    "size = 3000\n",
    "x = random.normal(key, (size, size), dtype=np.float32)\n",
    "%timeit np.dot(x, x.T).block_until_ready()  # runs on the GPU"
   ]
  },
  {
   "cell_type": "code",
   "execution_count": 23,
   "metadata": {},
   "outputs": [
    {
     "name": "stdout",
     "output_type": "stream",
     "text": [
      "212 ms ± 8.64 ms per loop (mean ± std. dev. of 7 runs, 10 loops each)\n"
     ]
    }
   ],
   "source": [
    "from jax import device_put\n",
    "import numpy as onp  # original CPU-backed NumPy\n",
    "x = onp.random.normal(size=(size, size)).astype(onp.float32)\n",
    "x = device_put(x)\n",
    "%timeit np.dot(x, x.T).block_until_ready()"
   ]
  },
  {
   "cell_type": "code",
   "execution_count": 25,
   "metadata": {},
   "outputs": [
    {
     "name": "stderr",
     "output_type": "stream",
     "text": [
      "Pre-computing some matrices... INFO:starry.ops:Pre-computing some matrices... \n",
      "Done.\n",
      "INFO:starry.ops:Done.\n",
      "Compiling `render`... INFO:starry.ops:Compiling `render`... \n",
      "INFO (theano.gof.compilelock): Refreshing lock /Users/smullally/.theano/compiledir_Darwin-18.7.0-x86_64-i386-64bit-i386-3.7.7-64/lock_dir/lock\n",
      "INFO:theano.gof.compilelock:Refreshing lock /Users/smullally/.theano/compiledir_Darwin-18.7.0-x86_64-i386-64bit-i386-3.7.7-64/lock_dir/lock\n",
      "Done.\n",
      "INFO:starry.ops:Done.\n"
     ]
    },
    {
     "name": "stdout",
     "output_type": "stream",
     "text": [
      "\n",
      "You can find the C code in this temporary file: /var/folders/zx/326t4zzx4_l01j7_ng3c507c0001p0/T/theano_compilation_error_l7cfqeu3\n"
     ]
    },
    {
     "ename": "Exception",
     "evalue": "('The following error happened while compiling the node', Elemwise{second,no_inplace}(InplaceDimShuffle{x,0}.0, InplaceDimShuffle{0,x}.0), '\\n', \"Compilation failed (return status=1): /Users/smullally/.theano/compiledir_Darwin-18.7.0-x86_64-i386-64bit-i386-3.7.7-64/tmpor3kkgp1/mod.cpp:500:27: error: non-constant-expression cannot be narrowed from type 'npy_intp' (aka 'long') to 'int' in initializer list [-Wc++11-narrowing].     int init_totals[2] = {V5_n0, V3_n1};.                           ^~~~~. /Users/smullally/.theano/compiledir_Darwin-18.7.0-x86_64-i386-64bit-i386-3.7.7-64/tmpor3kkgp1/mod.cpp:500:27: note: insert an explicit cast to silence this issue.     int init_totals[2] = {V5_n0, V3_n1};.                           ^~~~~.                           static_cast<int>( ). /Users/smullally/.theano/compiledir_Darwin-18.7.0-x86_64-i386-64bit-i386-3.7.7-64/tmpor3kkgp1/mod.cpp:500:34: error: non-constant-expression cannot be narrowed from type 'npy_intp' (aka 'long') to 'int' in initializer list [-Wc++11-narrowing].     int init_totals[2] = {V5_n0, V3_n1};.                                  ^~~~~. /Users/smullally/.theano/compiledir_Darwin-18.7.0-x86_64-i386-64bit-i386-3.7.7-64/tmpor3kkgp1/mod.cpp:500:34: note: insert an explicit cast to silence this issue.     int init_totals[2] = {V5_n0, V3_n1};.                                  ^~~~~.                                  static_cast<int>( ). /Users/smullally/.theano/compiledir_Darwin-18.7.0-x86_64-i386-64bit-i386-3.7.7-64/tmpor3kkgp1/mod.cpp:512:12: error: non-constant-expression cannot be narrowed from type 'ssize_t' (aka 'long') to 'int' in initializer list [-Wc++11-narrowing].         0, V3_stride1, .            ^~~~~~~~~~. /Users/smullally/.theano/compiledir_Darwin-18.7.0-x86_64-i386-64bit-i386-3.7.7-64/tmpor3kkgp1/mod.cpp:512:12: note: insert an explicit cast to silence this issue.         0, V3_stride1, .            ^~~~~~~~~~.            static_cast<int>( ). /Users/smullally/.theano/compiledir_Darwin-18.7.0-x86_64-i386-64bit-i386-3.7.7-64/tmpor3kkgp1/mod.cpp:513:1: error: non-constant-expression cannot be narrowed from type 'ssize_t' (aka 'long') to 'int' in initializer list [-Wc++11-narrowing]. V5_stride0, 0, . ^~~~~~~~~~. /Users/smullally/.theano/compiledir_Darwin-18.7.0-x86_64-i386-64bit-i386-3.7.7-64/tmpor3kkgp1/mod.cpp:513:1: note: insert an explicit cast to silence this issue. V5_stride0, 0, . ^~~~~~~~~~. static_cast<int>( ). /Users/smullally/.theano/compiledir_Darwin-18.7.0-x86_64-i386-64bit-i386-3.7.7-64/tmpor3kkgp1/mod.cpp:514:1: error: non-constant-expression cannot be narrowed from type 'ssize_t' (aka 'long') to 'int' in initializer list [-Wc++11-narrowing]. V1_stride0, V1_stride1. ^~~~~~~~~~. /Users/smullally/.theano/compiledir_Darwin-18.7.0-x86_64-i386-64bit-i386-3.7.7-64/tmpor3kkgp1/mod.cpp:514:1: note: insert an explicit cast to silence this issue. V1_stride0, V1_stride1. ^~~~~~~~~~. static_cast<int>( ). /Users/smullally/.theano/compiledir_Darwin-18.7.0-x86_64-i386-64bit-i386-3.7.7-64/tmpor3kkgp1/mod.cpp:514:13: error: non-constant-expression cannot be narrowed from type 'ssize_t' (aka 'long') to 'int' in initializer list [-Wc++11-narrowing]. V1_stride0, V1_stride1.             ^~~~~~~~~~. /Users/smullally/.theano/compiledir_Darwin-18.7.0-x86_64-i386-64bit-i386-3.7.7-64/tmpor3kkgp1/mod.cpp:514:13: note: insert an explicit cast to silence this issue. V1_stride0, V1_stride1.             ^~~~~~~~~~.             static_cast<int>( ). 6 errors generated.. \", '[Elemwise{second,no_inplace}(<TensorType(float64, row)>, <TensorType(float64, col)>)]')",
     "output_type": "error",
     "traceback": [
      "\u001b[0;31m---------------------------------------------------------------------------\u001b[0m",
      "\u001b[0;31mException\u001b[0m                                 Traceback (most recent call last)",
      "\u001b[0;32m<ipython-input-25-884b358fe60d>\u001b[0m in \u001b[0;36m<module>\u001b[0;34m\u001b[0m\n\u001b[1;32m      5\u001b[0m \u001b[0;34m\u001b[0m\u001b[0m\n\u001b[1;32m      6\u001b[0m \u001b[0mmap\u001b[0m \u001b[0;34m=\u001b[0m \u001b[0mstarry\u001b[0m\u001b[0;34m.\u001b[0m\u001b[0mMap\u001b[0m\u001b[0;34m(\u001b[0m\u001b[0mydeg\u001b[0m\u001b[0;34m=\u001b[0m\u001b[0;36m5\u001b[0m\u001b[0;34m)\u001b[0m\u001b[0;34m\u001b[0m\u001b[0;34m\u001b[0m\u001b[0m\n\u001b[0;32m----> 7\u001b[0;31m \u001b[0mmap\u001b[0m\u001b[0;34m.\u001b[0m\u001b[0mshow\u001b[0m\u001b[0;34m(\u001b[0m\u001b[0;34m)\u001b[0m\u001b[0;34m\u001b[0m\u001b[0;34m\u001b[0m\u001b[0m\n\u001b[0m",
      "\u001b[0;32m~/anaconda/envs/tike38/lib/python3.7/site-packages/starry/maps.py\u001b[0m in \u001b[0;36mshow\u001b[0;34m(self, **kwargs)\u001b[0m\n\u001b[1;32m    411\u001b[0m                 \u001b[0;32mif\u001b[0m \u001b[0;32mnot\u001b[0m \u001b[0mself\u001b[0m\u001b[0;34m.\u001b[0m\u001b[0m__props__\u001b[0m\u001b[0;34m[\u001b[0m\u001b[0;34m\"limbdarkened\"\u001b[0m\u001b[0;34m]\u001b[0m\u001b[0;34m:\u001b[0m\u001b[0;34m\u001b[0m\u001b[0;34m\u001b[0m\u001b[0m\n\u001b[1;32m    412\u001b[0m                     image = self.render(\n\u001b[0;32m--> 413\u001b[0;31m                         \u001b[0mtheta\u001b[0m\u001b[0;34m=\u001b[0m\u001b[0mtheta\u001b[0m \u001b[0;34m/\u001b[0m \u001b[0mself\u001b[0m\u001b[0;34m.\u001b[0m\u001b[0m_angle_factor\u001b[0m\u001b[0;34m,\u001b[0m \u001b[0;34m**\u001b[0m\u001b[0mkwargs\u001b[0m\u001b[0;34m\u001b[0m\u001b[0;34m\u001b[0m\u001b[0m\n\u001b[0m\u001b[1;32m    414\u001b[0m                     )\n\u001b[1;32m    415\u001b[0m                 \u001b[0;32melse\u001b[0m\u001b[0;34m:\u001b[0m\u001b[0;34m\u001b[0m\u001b[0;34m\u001b[0m\u001b[0m\n",
      "\u001b[0;32m~/anaconda/envs/tike38/lib/python3.7/site-packages/starry/maps.py\u001b[0m in \u001b[0;36mrender\u001b[0;34m(self, res, projection, theta)\u001b[0m\n\u001b[1;32m   1140\u001b[0m             \u001b[0mself\u001b[0m\u001b[0;34m.\u001b[0m\u001b[0m_u\u001b[0m\u001b[0;34m,\u001b[0m\u001b[0;34m\u001b[0m\u001b[0;34m\u001b[0m\u001b[0m\n\u001b[1;32m   1141\u001b[0m             \u001b[0mself\u001b[0m\u001b[0;34m.\u001b[0m\u001b[0m_f\u001b[0m\u001b[0;34m,\u001b[0m\u001b[0;34m\u001b[0m\u001b[0;34m\u001b[0m\u001b[0m\n\u001b[0;32m-> 1142\u001b[0;31m             \u001b[0mself\u001b[0m\u001b[0;34m.\u001b[0m\u001b[0m_alpha\u001b[0m\u001b[0;34m,\u001b[0m\u001b[0;34m\u001b[0m\u001b[0;34m\u001b[0m\u001b[0m\n\u001b[0m\u001b[1;32m   1143\u001b[0m         )\n\u001b[1;32m   1144\u001b[0m \u001b[0;34m\u001b[0m\u001b[0m\n",
      "\u001b[0;32m~/anaconda/envs/tike38/lib/python3.7/site-packages/starry/_core/utils.py\u001b[0m in \u001b[0;36mwrapper\u001b[0;34m(instance, *args)\u001b[0m\n\u001b[1;32m    125\u001b[0m                             \u001b[0mfunc\u001b[0m\u001b[0;34m(\u001b[0m\u001b[0minstance\u001b[0m\u001b[0;34m,\u001b[0m \u001b[0;34m*\u001b[0m\u001b[0mdummy_args\u001b[0m\u001b[0;34m)\u001b[0m\u001b[0;34m,\u001b[0m\u001b[0;34m\u001b[0m\u001b[0;34m\u001b[0m\u001b[0m\n\u001b[1;32m    126\u001b[0m                             \u001b[0mon_unused_input\u001b[0m\u001b[0;34m=\u001b[0m\u001b[0;34m\"ignore\"\u001b[0m\u001b[0;34m,\u001b[0m\u001b[0;34m\u001b[0m\u001b[0;34m\u001b[0m\u001b[0m\n\u001b[0;32m--> 127\u001b[0;31m                             \u001b[0mprofile\u001b[0m\u001b[0;34m=\u001b[0m\u001b[0mconfig\u001b[0m\u001b[0;34m.\u001b[0m\u001b[0mprofile\u001b[0m\u001b[0;34m,\u001b[0m\u001b[0;34m\u001b[0m\u001b[0;34m\u001b[0m\u001b[0m\n\u001b[0m\u001b[1;32m    128\u001b[0m                         )\n\u001b[1;32m    129\u001b[0m                     \u001b[0msetattr\u001b[0m\u001b[0;34m(\u001b[0m\u001b[0minstance\u001b[0m\u001b[0;34m,\u001b[0m \u001b[0mcname\u001b[0m\u001b[0;34m,\u001b[0m \u001b[0mcompiled_func\u001b[0m\u001b[0;34m)\u001b[0m\u001b[0;34m\u001b[0m\u001b[0;34m\u001b[0m\u001b[0m\n",
      "\u001b[0;32m~/anaconda/envs/tike38/lib/python3.7/site-packages/theano/compile/function.py\u001b[0m in \u001b[0;36mfunction\u001b[0;34m(inputs, outputs, mode, updates, givens, no_default_updates, accept_inplace, name, rebuild_strict, allow_input_downcast, profile, on_unused_input)\u001b[0m\n\u001b[1;32m    315\u001b[0m                    \u001b[0mon_unused_input\u001b[0m\u001b[0;34m=\u001b[0m\u001b[0mon_unused_input\u001b[0m\u001b[0;34m,\u001b[0m\u001b[0;34m\u001b[0m\u001b[0;34m\u001b[0m\u001b[0m\n\u001b[1;32m    316\u001b[0m                    \u001b[0mprofile\u001b[0m\u001b[0;34m=\u001b[0m\u001b[0mprofile\u001b[0m\u001b[0;34m,\u001b[0m\u001b[0;34m\u001b[0m\u001b[0;34m\u001b[0m\u001b[0m\n\u001b[0;32m--> 317\u001b[0;31m                    output_keys=output_keys)\n\u001b[0m\u001b[1;32m    318\u001b[0m     \u001b[0;32mreturn\u001b[0m \u001b[0mfn\u001b[0m\u001b[0;34m\u001b[0m\u001b[0;34m\u001b[0m\u001b[0m\n",
      "\u001b[0;32m~/anaconda/envs/tike38/lib/python3.7/site-packages/theano/compile/pfunc.py\u001b[0m in \u001b[0;36mpfunc\u001b[0;34m(params, outputs, mode, updates, givens, no_default_updates, accept_inplace, name, rebuild_strict, allow_input_downcast, profile, on_unused_input, output_keys)\u001b[0m\n\u001b[1;32m    484\u001b[0m                          \u001b[0maccept_inplace\u001b[0m\u001b[0;34m=\u001b[0m\u001b[0maccept_inplace\u001b[0m\u001b[0;34m,\u001b[0m \u001b[0mname\u001b[0m\u001b[0;34m=\u001b[0m\u001b[0mname\u001b[0m\u001b[0;34m,\u001b[0m\u001b[0;34m\u001b[0m\u001b[0;34m\u001b[0m\u001b[0m\n\u001b[1;32m    485\u001b[0m                          \u001b[0mprofile\u001b[0m\u001b[0;34m=\u001b[0m\u001b[0mprofile\u001b[0m\u001b[0;34m,\u001b[0m \u001b[0mon_unused_input\u001b[0m\u001b[0;34m=\u001b[0m\u001b[0mon_unused_input\u001b[0m\u001b[0;34m,\u001b[0m\u001b[0;34m\u001b[0m\u001b[0;34m\u001b[0m\u001b[0m\n\u001b[0;32m--> 486\u001b[0;31m                          output_keys=output_keys)\n\u001b[0m\u001b[1;32m    487\u001b[0m \u001b[0;34m\u001b[0m\u001b[0m\n\u001b[1;32m    488\u001b[0m \u001b[0;34m\u001b[0m\u001b[0m\n",
      "\u001b[0;32m~/anaconda/envs/tike38/lib/python3.7/site-packages/theano/compile/function_module.py\u001b[0m in \u001b[0;36morig_function\u001b[0;34m(inputs, outputs, mode, accept_inplace, name, profile, on_unused_input, output_keys)\u001b[0m\n\u001b[1;32m   1839\u001b[0m                   name=name)\n\u001b[1;32m   1840\u001b[0m         \u001b[0;32mwith\u001b[0m \u001b[0mtheano\u001b[0m\u001b[0;34m.\u001b[0m\u001b[0mchange_flags\u001b[0m\u001b[0;34m(\u001b[0m\u001b[0mcompute_test_value\u001b[0m\u001b[0;34m=\u001b[0m\u001b[0;34m\"off\"\u001b[0m\u001b[0;34m)\u001b[0m\u001b[0;34m:\u001b[0m\u001b[0;34m\u001b[0m\u001b[0;34m\u001b[0m\u001b[0m\n\u001b[0;32m-> 1841\u001b[0;31m             \u001b[0mfn\u001b[0m \u001b[0;34m=\u001b[0m \u001b[0mm\u001b[0m\u001b[0;34m.\u001b[0m\u001b[0mcreate\u001b[0m\u001b[0;34m(\u001b[0m\u001b[0mdefaults\u001b[0m\u001b[0;34m)\u001b[0m\u001b[0;34m\u001b[0m\u001b[0;34m\u001b[0m\u001b[0m\n\u001b[0m\u001b[1;32m   1842\u001b[0m     \u001b[0;32mfinally\u001b[0m\u001b[0;34m:\u001b[0m\u001b[0;34m\u001b[0m\u001b[0;34m\u001b[0m\u001b[0m\n\u001b[1;32m   1843\u001b[0m         \u001b[0mt2\u001b[0m \u001b[0;34m=\u001b[0m \u001b[0mtime\u001b[0m\u001b[0;34m.\u001b[0m\u001b[0mtime\u001b[0m\u001b[0;34m(\u001b[0m\u001b[0;34m)\u001b[0m\u001b[0;34m\u001b[0m\u001b[0;34m\u001b[0m\u001b[0m\n",
      "\u001b[0;32m~/anaconda/envs/tike38/lib/python3.7/site-packages/theano/compile/function_module.py\u001b[0m in \u001b[0;36mcreate\u001b[0;34m(self, input_storage, trustme, storage_map)\u001b[0m\n\u001b[1;32m   1713\u001b[0m             \u001b[0mtheano\u001b[0m\u001b[0;34m.\u001b[0m\u001b[0mconfig\u001b[0m\u001b[0;34m.\u001b[0m\u001b[0mtraceback\u001b[0m\u001b[0;34m.\u001b[0m\u001b[0mlimit\u001b[0m \u001b[0;34m=\u001b[0m \u001b[0mtheano\u001b[0m\u001b[0;34m.\u001b[0m\u001b[0mconfig\u001b[0m\u001b[0;34m.\u001b[0m\u001b[0mtraceback\u001b[0m\u001b[0;34m.\u001b[0m\u001b[0mcompile_limit\u001b[0m\u001b[0;34m\u001b[0m\u001b[0;34m\u001b[0m\u001b[0m\n\u001b[1;32m   1714\u001b[0m             _fn, _i, _o = self.linker.make_thunk(\n\u001b[0;32m-> 1715\u001b[0;31m                 input_storage=input_storage_lists, storage_map=storage_map)\n\u001b[0m\u001b[1;32m   1716\u001b[0m         \u001b[0;32mfinally\u001b[0m\u001b[0;34m:\u001b[0m\u001b[0;34m\u001b[0m\u001b[0;34m\u001b[0m\u001b[0m\n\u001b[1;32m   1717\u001b[0m             \u001b[0mtheano\u001b[0m\u001b[0;34m.\u001b[0m\u001b[0mconfig\u001b[0m\u001b[0;34m.\u001b[0m\u001b[0mtraceback\u001b[0m\u001b[0;34m.\u001b[0m\u001b[0mlimit\u001b[0m \u001b[0;34m=\u001b[0m \u001b[0mlimit_orig\u001b[0m\u001b[0;34m\u001b[0m\u001b[0;34m\u001b[0m\u001b[0m\n",
      "\u001b[0;32m~/anaconda/envs/tike38/lib/python3.7/site-packages/theano/gof/link.py\u001b[0m in \u001b[0;36mmake_thunk\u001b[0;34m(self, input_storage, output_storage, storage_map)\u001b[0m\n\u001b[1;32m    697\u001b[0m         return self.make_all(input_storage=input_storage,\n\u001b[1;32m    698\u001b[0m                              \u001b[0moutput_storage\u001b[0m\u001b[0;34m=\u001b[0m\u001b[0moutput_storage\u001b[0m\u001b[0;34m,\u001b[0m\u001b[0;34m\u001b[0m\u001b[0;34m\u001b[0m\u001b[0m\n\u001b[0;32m--> 699\u001b[0;31m                              storage_map=storage_map)[:3]\n\u001b[0m\u001b[1;32m    700\u001b[0m \u001b[0;34m\u001b[0m\u001b[0m\n\u001b[1;32m    701\u001b[0m     \u001b[0;32mdef\u001b[0m \u001b[0mmake_all\u001b[0m\u001b[0;34m(\u001b[0m\u001b[0mself\u001b[0m\u001b[0;34m,\u001b[0m \u001b[0minput_storage\u001b[0m\u001b[0;34m,\u001b[0m \u001b[0moutput_storage\u001b[0m\u001b[0;34m)\u001b[0m\u001b[0;34m:\u001b[0m\u001b[0;34m\u001b[0m\u001b[0;34m\u001b[0m\u001b[0m\n",
      "\u001b[0;32m~/anaconda/envs/tike38/lib/python3.7/site-packages/theano/gof/vm.py\u001b[0m in \u001b[0;36mmake_all\u001b[0;34m(self, profiler, input_storage, output_storage, storage_map)\u001b[0m\n\u001b[1;32m   1089\u001b[0m                                                  \u001b[0mcompute_map\u001b[0m\u001b[0;34m,\u001b[0m\u001b[0;34m\u001b[0m\u001b[0;34m\u001b[0m\u001b[0m\n\u001b[1;32m   1090\u001b[0m                                                  \u001b[0;34m[\u001b[0m\u001b[0;34m]\u001b[0m\u001b[0;34m,\u001b[0m\u001b[0;34m\u001b[0m\u001b[0;34m\u001b[0m\u001b[0m\n\u001b[0;32m-> 1091\u001b[0;31m                                                  impl=impl))\n\u001b[0m\u001b[1;32m   1092\u001b[0m                 \u001b[0mlinker_make_thunk_time\u001b[0m\u001b[0;34m[\u001b[0m\u001b[0mnode\u001b[0m\u001b[0;34m]\u001b[0m \u001b[0;34m=\u001b[0m \u001b[0mtime\u001b[0m\u001b[0;34m.\u001b[0m\u001b[0mtime\u001b[0m\u001b[0;34m(\u001b[0m\u001b[0;34m)\u001b[0m \u001b[0;34m-\u001b[0m \u001b[0mthunk_start\u001b[0m\u001b[0;34m\u001b[0m\u001b[0;34m\u001b[0m\u001b[0m\n\u001b[1;32m   1093\u001b[0m                 \u001b[0;32mif\u001b[0m \u001b[0;32mnot\u001b[0m \u001b[0mhasattr\u001b[0m\u001b[0;34m(\u001b[0m\u001b[0mthunks\u001b[0m\u001b[0;34m[\u001b[0m\u001b[0;34m-\u001b[0m\u001b[0;36m1\u001b[0m\u001b[0;34m]\u001b[0m\u001b[0;34m,\u001b[0m \u001b[0;34m'lazy'\u001b[0m\u001b[0;34m)\u001b[0m\u001b[0;34m:\u001b[0m\u001b[0;34m\u001b[0m\u001b[0;34m\u001b[0m\u001b[0m\n",
      "\u001b[0;32m~/anaconda/envs/tike38/lib/python3.7/site-packages/theano/gof/op.py\u001b[0m in \u001b[0;36mmake_thunk\u001b[0;34m(self, node, storage_map, compute_map, no_recycling, impl)\u001b[0m\n\u001b[1;32m    953\u001b[0m             \u001b[0;32mtry\u001b[0m\u001b[0;34m:\u001b[0m\u001b[0;34m\u001b[0m\u001b[0;34m\u001b[0m\u001b[0m\n\u001b[1;32m    954\u001b[0m                 return self.make_c_thunk(node, storage_map, compute_map,\n\u001b[0;32m--> 955\u001b[0;31m                                          no_recycling)\n\u001b[0m\u001b[1;32m    956\u001b[0m             \u001b[0;32mexcept\u001b[0m \u001b[0;34m(\u001b[0m\u001b[0mNotImplementedError\u001b[0m\u001b[0;34m,\u001b[0m \u001b[0mutils\u001b[0m\u001b[0;34m.\u001b[0m\u001b[0mMethodNotDefined\u001b[0m\u001b[0;34m)\u001b[0m\u001b[0;34m:\u001b[0m\u001b[0;34m\u001b[0m\u001b[0;34m\u001b[0m\u001b[0m\n\u001b[1;32m    957\u001b[0m                 \u001b[0;31m# We requested the c code, so don't catch the error.\u001b[0m\u001b[0;34m\u001b[0m\u001b[0;34m\u001b[0m\u001b[0;34m\u001b[0m\u001b[0m\n",
      "\u001b[0;32m~/anaconda/envs/tike38/lib/python3.7/site-packages/theano/gof/op.py\u001b[0m in \u001b[0;36mmake_c_thunk\u001b[0;34m(self, node, storage_map, compute_map, no_recycling)\u001b[0m\n\u001b[1;32m    856\u001b[0m         \u001b[0m_logger\u001b[0m\u001b[0;34m.\u001b[0m\u001b[0mdebug\u001b[0m\u001b[0;34m(\u001b[0m\u001b[0;34m'Trying CLinker.make_thunk'\u001b[0m\u001b[0;34m)\u001b[0m\u001b[0;34m\u001b[0m\u001b[0;34m\u001b[0m\u001b[0m\n\u001b[1;32m    857\u001b[0m         outputs = cl.make_thunk(input_storage=node_input_storage,\n\u001b[0;32m--> 858\u001b[0;31m                                 output_storage=node_output_storage)\n\u001b[0m\u001b[1;32m    859\u001b[0m         \u001b[0mthunk\u001b[0m\u001b[0;34m,\u001b[0m \u001b[0mnode_input_filters\u001b[0m\u001b[0;34m,\u001b[0m \u001b[0mnode_output_filters\u001b[0m \u001b[0;34m=\u001b[0m \u001b[0moutputs\u001b[0m\u001b[0;34m\u001b[0m\u001b[0;34m\u001b[0m\u001b[0m\n\u001b[1;32m    860\u001b[0m \u001b[0;34m\u001b[0m\u001b[0m\n",
      "\u001b[0;32m~/anaconda/envs/tike38/lib/python3.7/site-packages/theano/gof/cc.py\u001b[0m in \u001b[0;36mmake_thunk\u001b[0;34m(self, input_storage, output_storage, storage_map, keep_lock)\u001b[0m\n\u001b[1;32m   1215\u001b[0m         cthunk, module, in_storage, out_storage, error_storage = self.__compile__(\n\u001b[1;32m   1216\u001b[0m             \u001b[0minput_storage\u001b[0m\u001b[0;34m,\u001b[0m \u001b[0moutput_storage\u001b[0m\u001b[0;34m,\u001b[0m \u001b[0mstorage_map\u001b[0m\u001b[0;34m,\u001b[0m\u001b[0;34m\u001b[0m\u001b[0;34m\u001b[0m\u001b[0m\n\u001b[0;32m-> 1217\u001b[0;31m             keep_lock=keep_lock)\n\u001b[0m\u001b[1;32m   1218\u001b[0m \u001b[0;34m\u001b[0m\u001b[0m\n\u001b[1;32m   1219\u001b[0m         \u001b[0mres\u001b[0m \u001b[0;34m=\u001b[0m \u001b[0m_CThunk\u001b[0m\u001b[0;34m(\u001b[0m\u001b[0mcthunk\u001b[0m\u001b[0;34m,\u001b[0m \u001b[0minit_tasks\u001b[0m\u001b[0;34m,\u001b[0m \u001b[0mtasks\u001b[0m\u001b[0;34m,\u001b[0m \u001b[0merror_storage\u001b[0m\u001b[0;34m,\u001b[0m \u001b[0mmodule\u001b[0m\u001b[0;34m)\u001b[0m\u001b[0;34m\u001b[0m\u001b[0;34m\u001b[0m\u001b[0m\n",
      "\u001b[0;32m~/anaconda/envs/tike38/lib/python3.7/site-packages/theano/gof/cc.py\u001b[0m in \u001b[0;36m__compile__\u001b[0;34m(self, input_storage, output_storage, storage_map, keep_lock)\u001b[0m\n\u001b[1;32m   1155\u001b[0m                                             \u001b[0moutput_storage\u001b[0m\u001b[0;34m,\u001b[0m\u001b[0;34m\u001b[0m\u001b[0;34m\u001b[0m\u001b[0m\n\u001b[1;32m   1156\u001b[0m                                             \u001b[0mstorage_map\u001b[0m\u001b[0;34m,\u001b[0m\u001b[0;34m\u001b[0m\u001b[0;34m\u001b[0m\u001b[0m\n\u001b[0;32m-> 1157\u001b[0;31m                                             keep_lock=keep_lock)\n\u001b[0m\u001b[1;32m   1158\u001b[0m         return (thunk,\n\u001b[1;32m   1159\u001b[0m                 \u001b[0mmodule\u001b[0m\u001b[0;34m,\u001b[0m\u001b[0;34m\u001b[0m\u001b[0;34m\u001b[0m\u001b[0m\n",
      "\u001b[0;32m~/anaconda/envs/tike38/lib/python3.7/site-packages/theano/gof/cc.py\u001b[0m in \u001b[0;36mcthunk_factory\u001b[0;34m(self, error_storage, in_storage, out_storage, storage_map, keep_lock)\u001b[0m\n\u001b[1;32m   1622\u001b[0m                 \u001b[0mnode\u001b[0m\u001b[0;34m.\u001b[0m\u001b[0mop\u001b[0m\u001b[0;34m.\u001b[0m\u001b[0mprepare_node\u001b[0m\u001b[0;34m(\u001b[0m\u001b[0mnode\u001b[0m\u001b[0;34m,\u001b[0m \u001b[0mstorage_map\u001b[0m\u001b[0;34m,\u001b[0m \u001b[0;32mNone\u001b[0m\u001b[0;34m,\u001b[0m \u001b[0;34m'c'\u001b[0m\u001b[0;34m)\u001b[0m\u001b[0;34m\u001b[0m\u001b[0;34m\u001b[0m\u001b[0m\n\u001b[1;32m   1623\u001b[0m             module = get_module_cache().module_from_key(\n\u001b[0;32m-> 1624\u001b[0;31m                 key=key, lnk=self, keep_lock=keep_lock)\n\u001b[0m\u001b[1;32m   1625\u001b[0m \u001b[0;34m\u001b[0m\u001b[0m\n\u001b[1;32m   1626\u001b[0m         \u001b[0mvars\u001b[0m \u001b[0;34m=\u001b[0m \u001b[0mself\u001b[0m\u001b[0;34m.\u001b[0m\u001b[0minputs\u001b[0m \u001b[0;34m+\u001b[0m \u001b[0mself\u001b[0m\u001b[0;34m.\u001b[0m\u001b[0moutputs\u001b[0m \u001b[0;34m+\u001b[0m \u001b[0mself\u001b[0m\u001b[0;34m.\u001b[0m\u001b[0morphans\u001b[0m\u001b[0;34m\u001b[0m\u001b[0;34m\u001b[0m\u001b[0m\n",
      "\u001b[0;32m~/anaconda/envs/tike38/lib/python3.7/site-packages/theano/gof/cmodule.py\u001b[0m in \u001b[0;36mmodule_from_key\u001b[0;34m(self, key, lnk, keep_lock)\u001b[0m\n\u001b[1;32m   1187\u001b[0m             \u001b[0;32mtry\u001b[0m\u001b[0;34m:\u001b[0m\u001b[0;34m\u001b[0m\u001b[0;34m\u001b[0m\u001b[0m\n\u001b[1;32m   1188\u001b[0m                 \u001b[0mlocation\u001b[0m \u001b[0;34m=\u001b[0m \u001b[0mdlimport_workdir\u001b[0m\u001b[0;34m(\u001b[0m\u001b[0mself\u001b[0m\u001b[0;34m.\u001b[0m\u001b[0mdirname\u001b[0m\u001b[0;34m)\u001b[0m\u001b[0;34m\u001b[0m\u001b[0;34m\u001b[0m\u001b[0m\n\u001b[0;32m-> 1189\u001b[0;31m                 \u001b[0mmodule\u001b[0m \u001b[0;34m=\u001b[0m \u001b[0mlnk\u001b[0m\u001b[0;34m.\u001b[0m\u001b[0mcompile_cmodule\u001b[0m\u001b[0;34m(\u001b[0m\u001b[0mlocation\u001b[0m\u001b[0;34m)\u001b[0m\u001b[0;34m\u001b[0m\u001b[0;34m\u001b[0m\u001b[0m\n\u001b[0m\u001b[1;32m   1190\u001b[0m                 \u001b[0mname\u001b[0m \u001b[0;34m=\u001b[0m \u001b[0mmodule\u001b[0m\u001b[0;34m.\u001b[0m\u001b[0m__file__\u001b[0m\u001b[0;34m\u001b[0m\u001b[0;34m\u001b[0m\u001b[0m\n\u001b[1;32m   1191\u001b[0m                 \u001b[0;32massert\u001b[0m \u001b[0mname\u001b[0m\u001b[0;34m.\u001b[0m\u001b[0mstartswith\u001b[0m\u001b[0;34m(\u001b[0m\u001b[0mlocation\u001b[0m\u001b[0;34m)\u001b[0m\u001b[0;34m\u001b[0m\u001b[0;34m\u001b[0m\u001b[0m\n",
      "\u001b[0;32m~/anaconda/envs/tike38/lib/python3.7/site-packages/theano/gof/cc.py\u001b[0m in \u001b[0;36mcompile_cmodule\u001b[0;34m(self, location)\u001b[0m\n\u001b[1;32m   1525\u001b[0m                 \u001b[0mlib_dirs\u001b[0m\u001b[0;34m=\u001b[0m\u001b[0mself\u001b[0m\u001b[0;34m.\u001b[0m\u001b[0mlib_dirs\u001b[0m\u001b[0;34m(\u001b[0m\u001b[0;34m)\u001b[0m\u001b[0;34m,\u001b[0m\u001b[0;34m\u001b[0m\u001b[0;34m\u001b[0m\u001b[0m\n\u001b[1;32m   1526\u001b[0m                 \u001b[0mlibs\u001b[0m\u001b[0;34m=\u001b[0m\u001b[0mlibs\u001b[0m\u001b[0;34m,\u001b[0m\u001b[0;34m\u001b[0m\u001b[0;34m\u001b[0m\u001b[0m\n\u001b[0;32m-> 1527\u001b[0;31m                 preargs=preargs)\n\u001b[0m\u001b[1;32m   1528\u001b[0m         \u001b[0;32mexcept\u001b[0m \u001b[0mException\u001b[0m \u001b[0;32mas\u001b[0m \u001b[0me\u001b[0m\u001b[0;34m:\u001b[0m\u001b[0;34m\u001b[0m\u001b[0;34m\u001b[0m\u001b[0m\n\u001b[1;32m   1529\u001b[0m             \u001b[0me\u001b[0m\u001b[0;34m.\u001b[0m\u001b[0margs\u001b[0m \u001b[0;34m+=\u001b[0m \u001b[0;34m(\u001b[0m\u001b[0mstr\u001b[0m\u001b[0;34m(\u001b[0m\u001b[0mself\u001b[0m\u001b[0;34m.\u001b[0m\u001b[0mfgraph\u001b[0m\u001b[0;34m)\u001b[0m\u001b[0;34m,\u001b[0m\u001b[0;34m)\u001b[0m\u001b[0;34m\u001b[0m\u001b[0;34m\u001b[0m\u001b[0m\n",
      "\u001b[0;32m~/anaconda/envs/tike38/lib/python3.7/site-packages/theano/gof/cmodule.py\u001b[0m in \u001b[0;36mcompile_str\u001b[0;34m(module_name, src_code, location, include_dirs, lib_dirs, libs, preargs, py_module, hide_symbols)\u001b[0m\n\u001b[1;32m   2397\u001b[0m             \u001b[0;31m# difficult to read.\u001b[0m\u001b[0;34m\u001b[0m\u001b[0;34m\u001b[0m\u001b[0;34m\u001b[0m\u001b[0m\n\u001b[1;32m   2398\u001b[0m             raise Exception('Compilation failed (return status=%s): %s' %\n\u001b[0;32m-> 2399\u001b[0;31m                             (status, compile_stderr.replace('\\n', '. ')))\n\u001b[0m\u001b[1;32m   2400\u001b[0m         \u001b[0;32melif\u001b[0m \u001b[0mconfig\u001b[0m\u001b[0;34m.\u001b[0m\u001b[0mcmodule\u001b[0m\u001b[0;34m.\u001b[0m\u001b[0mcompilation_warning\u001b[0m \u001b[0;32mand\u001b[0m \u001b[0mcompile_stderr\u001b[0m\u001b[0;34m:\u001b[0m\u001b[0;34m\u001b[0m\u001b[0;34m\u001b[0m\u001b[0m\n\u001b[1;32m   2401\u001b[0m             \u001b[0;31m# Print errors just below the command line.\u001b[0m\u001b[0;34m\u001b[0m\u001b[0;34m\u001b[0m\u001b[0;34m\u001b[0m\u001b[0m\n",
      "\u001b[0;31mException\u001b[0m: ('The following error happened while compiling the node', Elemwise{second,no_inplace}(InplaceDimShuffle{x,0}.0, InplaceDimShuffle{0,x}.0), '\\n', \"Compilation failed (return status=1): /Users/smullally/.theano/compiledir_Darwin-18.7.0-x86_64-i386-64bit-i386-3.7.7-64/tmpor3kkgp1/mod.cpp:500:27: error: non-constant-expression cannot be narrowed from type 'npy_intp' (aka 'long') to 'int' in initializer list [-Wc++11-narrowing].     int init_totals[2] = {V5_n0, V3_n1};.                           ^~~~~. /Users/smullally/.theano/compiledir_Darwin-18.7.0-x86_64-i386-64bit-i386-3.7.7-64/tmpor3kkgp1/mod.cpp:500:27: note: insert an explicit cast to silence this issue.     int init_totals[2] = {V5_n0, V3_n1};.                           ^~~~~.                           static_cast<int>( ). /Users/smullally/.theano/compiledir_Darwin-18.7.0-x86_64-i386-64bit-i386-3.7.7-64/tmpor3kkgp1/mod.cpp:500:34: error: non-constant-expression cannot be narrowed from type 'npy_intp' (aka 'long') to 'int' in initializer list [-Wc++11-narrowing].     int init_totals[2] = {V5_n0, V3_n1};.                                  ^~~~~. /Users/smullally/.theano/compiledir_Darwin-18.7.0-x86_64-i386-64bit-i386-3.7.7-64/tmpor3kkgp1/mod.cpp:500:34: note: insert an explicit cast to silence this issue.     int init_totals[2] = {V5_n0, V3_n1};.                                  ^~~~~.                                  static_cast<int>( ). /Users/smullally/.theano/compiledir_Darwin-18.7.0-x86_64-i386-64bit-i386-3.7.7-64/tmpor3kkgp1/mod.cpp:512:12: error: non-constant-expression cannot be narrowed from type 'ssize_t' (aka 'long') to 'int' in initializer list [-Wc++11-narrowing].         0, V3_stride1, .            ^~~~~~~~~~. /Users/smullally/.theano/compiledir_Darwin-18.7.0-x86_64-i386-64bit-i386-3.7.7-64/tmpor3kkgp1/mod.cpp:512:12: note: insert an explicit cast to silence this issue.         0, V3_stride1, .            ^~~~~~~~~~.            static_cast<int>( ). /Users/smullally/.theano/compiledir_Darwin-18.7.0-x86_64-i386-64bit-i386-3.7.7-64/tmpor3kkgp1/mod.cpp:513:1: error: non-constant-expression cannot be narrowed from type 'ssize_t' (aka 'long') to 'int' in initializer list [-Wc++11-narrowing]. V5_stride0, 0, . ^~~~~~~~~~. /Users/smullally/.theano/compiledir_Darwin-18.7.0-x86_64-i386-64bit-i386-3.7.7-64/tmpor3kkgp1/mod.cpp:513:1: note: insert an explicit cast to silence this issue. V5_stride0, 0, . ^~~~~~~~~~. static_cast<int>( ). /Users/smullally/.theano/compiledir_Darwin-18.7.0-x86_64-i386-64bit-i386-3.7.7-64/tmpor3kkgp1/mod.cpp:514:1: error: non-constant-expression cannot be narrowed from type 'ssize_t' (aka 'long') to 'int' in initializer list [-Wc++11-narrowing]. V1_stride0, V1_stride1. ^~~~~~~~~~. /Users/smullally/.theano/compiledir_Darwin-18.7.0-x86_64-i386-64bit-i386-3.7.7-64/tmpor3kkgp1/mod.cpp:514:1: note: insert an explicit cast to silence this issue. V1_stride0, V1_stride1. ^~~~~~~~~~. static_cast<int>( ). /Users/smullally/.theano/compiledir_Darwin-18.7.0-x86_64-i386-64bit-i386-3.7.7-64/tmpor3kkgp1/mod.cpp:514:13: error: non-constant-expression cannot be narrowed from type 'ssize_t' (aka 'long') to 'int' in initializer list [-Wc++11-narrowing]. V1_stride0, V1_stride1.             ^~~~~~~~~~. /Users/smullally/.theano/compiledir_Darwin-18.7.0-x86_64-i386-64bit-i386-3.7.7-64/tmpor3kkgp1/mod.cpp:514:13: note: insert an explicit cast to silence this issue. V1_stride0, V1_stride1.             ^~~~~~~~~~.             static_cast<int>( ). 6 errors generated.. \", '[Elemwise{second,no_inplace}(<TensorType(float64, row)>, <TensorType(float64, col)>)]')"
     ]
    }
   ],
   "source": [
    "#starry -- same problem as exoplanet.  Exoplanet depends on starry.\n",
    "import starry\n",
    "\n",
    "starry.config.lazy = False\n",
    "\n",
    "map = starry.Map(ydeg=5)\n",
    "map.show()"
   ]
  },
  {
   "cell_type": "code",
   "execution_count": 26,
   "metadata": {},
   "outputs": [
    {
     "name": "stderr",
     "output_type": "stream",
     "text": [
      "Compiling `intensity`... INFO:starry.ops:Compiling `intensity`... \n",
      "\n",
      "! WARNING:\n",
      " The file scan_perform.c is not available. This donot happen normally. You are probably in a strangesetup. This mean Theano can not use the cython code for scan. If youwant to remove this warning, use the Theano flag'cxx=' (set to an empty string) to disable all ccode generation.\n",
      "type: <class 'UserWarning'>, file: /Users/smullally/anaconda/envs/tike38/lib/python3.7/site-packages/theano/scan_module/scan_perform_ext.py, line: 76\n",
      "\n",
      "! WARNING:\n",
      " The file scan_perform.c is not available. This donot happen normally. You are probably in a strangesetup. This mean Theano can not use the cython code for scan. If youwant to remove this warning, use the Theano flag'cxx=' (set to an empty string) to disable all ccode generation.\n",
      "type: <class 'UserWarning'>, file: /Users/smullally/anaconda/envs/tike38/lib/python3.7/site-packages/theano/scan_module/scan_perform_ext.py, line: 76\n",
      "Done.\n",
      "INFO:starry.ops:Done.\n"
     ]
    },
    {
     "data": {
      "text/plain": [
       "array([0.31830989])"
      ]
     },
     "execution_count": 26,
     "metadata": {},
     "output_type": "execute_result"
    }
   ],
   "source": [
    "map.intensity(lat=0, lon=0)"
   ]
  },
  {
   "cell_type": "code",
   "execution_count": null,
   "metadata": {},
   "outputs": [],
   "source": []
  }
 ],
 "metadata": {
  "kernelspec": {
   "display_name": "Python 3",
   "language": "python",
   "name": "python3"
  },
  "language_info": {
   "codemirror_mode": {
    "name": "ipython",
    "version": 3
   },
   "file_extension": ".py",
   "mimetype": "text/x-python",
   "name": "python",
   "nbconvert_exporter": "python",
   "pygments_lexer": "ipython3",
   "version": "3.7.7"
  }
 },
 "nbformat": 4,
 "nbformat_minor": 4
}
